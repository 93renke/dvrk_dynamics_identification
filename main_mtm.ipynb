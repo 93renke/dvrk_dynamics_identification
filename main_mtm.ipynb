{
 "cells": [
  {
   "cell_type": "markdown",
   "metadata": {
    "collapsed": true
   },
   "source": [
    "Robot Dynamic Model Identification\n",
    "=======\n",
    "---"
   ]
  },
  {
   "cell_type": "markdown",
   "metadata": {},
   "source": [
    "# 1 - Praparing work"
   ]
  },
  {
   "cell_type": "markdown",
   "metadata": {},
   "source": [
    "## Import libraries"
   ]
  },
  {
   "cell_type": "code",
   "execution_count": null,
   "metadata": {},
   "outputs": [],
   "source": [
    "# enable auto-reload modules\n",
    "%load_ext autoreload\n",
    "%autoreload 2\n",
    "#interactive plotting in separate window\n",
    "#%matplotlib qt \n",
    "%matplotlib inline\n",
    "\n",
    "from sympy import init_printing\n",
    "init_printing()\n",
    "    \n",
    "import matplotlib.pyplot as plt\n",
    "plt.rcParams['figure.figsize'] = [12, 8]\n",
    "plt.rcParams.update({'font.size': 12})\n",
    "\n",
    "import numpy as np\n",
    "import sympy\n",
    "from robot_def import RobotDef\n",
    "from kinematics import Geometry\n",
    "from dynamics import Dynamics\n",
    "from trajectory_optimization import TrajOptimizer\n",
    "from trajectory_optimization import TrajPlotter\n",
    "from utils import new_sym\n",
    "from utils import save_data, load_data\n",
    "import time"
   ]
  },
  {
   "cell_type": "markdown",
   "metadata": {},
   "source": [
    "## Folder dir for saving and loading files"
   ]
  },
  {
   "cell_type": "code",
   "execution_count": null,
   "metadata": {},
   "outputs": [],
   "source": [
    "#model_name = 'mtm_2spring_tendon'\n",
    "model_name = 'mtm'\n",
    "\n",
    "model_folder = 'data/' + model_name + '/model/'"
   ]
  },
  {
   "cell_type": "markdown",
   "metadata": {},
   "source": [
    "---\n",
    "# 2 - Robot modelling"
   ]
  },
  {
   "cell_type": "markdown",
   "metadata": {},
   "source": [
    "## Robot geometry definition in following order"
   ]
  },
  {
   "cell_type": "markdown",
   "metadata": {},
   "source": [
    "| Joint number | prev link | succ links | $a$ | $\\alpha$ | $d$ | $\\theta$ | link inertia | motor inertia | friction |\n",
    "|--------------|-----------|------------|-----|----------|-----|----------|--------------|---------------|---------|"
   ]
  },
  {
   "cell_type": "code",
   "execution_count": null,
   "metadata": {},
   "outputs": [],
   "source": [
    "q0, q1, q2, q3, q4, q5, q6, q7, q8, q9, q10 = new_sym('q:11')\n",
    "_pi = sympy.pi\n",
    "\n",
    "# define paralelogram coordinate relation\n",
    "# qd -> coordinate for dvrk_ros package\n",
    "# qmd -> coordinate for the modeling joints\n",
    "# q -> coordinate for motors\n",
    "qd2 = q2\n",
    "qd3 = -q2 + q3\n",
    "qd4 = 0.6697*q2 - 0.6697*q3 + q4\n",
    "\n",
    "\n",
    "qmd1 = q1\n",
    "qmd2 = qd2\n",
    "qmd30 = qd3\n",
    "qmd31 = qd3 + qd2 \n",
    "qmd32 = -qd3\n",
    "qmd33 = q3\n",
    "qmd4 = qd4\n",
    "qmd5 = q5\n",
    "qmd6 = q6\n",
    "qmd7 = q7\n",
    "\n",
    "# q31 = q3 + q2 \n",
    "# q32 = -q3\n",
    "\n",
    "l_b2p = 215.4 * 0.001\n",
    "l_arm = 279.4 * 0.001\n",
    "l_b2f = 100 * 0.001\n",
    "l_fa = 364.5 * 0.001\n",
    "h =105.6 * 0.001\n",
    "\n",
    "# define link number\n",
    "L_b = 0\n",
    "L_1 = 1\n",
    "L_2 = 2\n",
    "L_30 = 3\n",
    "L_31 = 4\n",
    "L_32 = 5\n",
    "L_4 = 6\n",
    "L_5 = 7\n",
    "L_6 = 8\n",
    "L_7 = 9\n",
    "\n",
    "M_4 = 10\n",
    "\n",
    "# define spring delta L\n",
    "dlN = None\n",
    "\n",
    "q = qmd5\n",
    "r_s = 0.0075\n",
    "h_s = 0.1035\n",
    "l_r = 0.0613\n",
    "q_o = 23.0/180.0*_pi\n",
    "l = sympy.sqrt(r_s**2 + h_s**2 - 2*r_s*h_s*sympy.cos(_pi + q_o - q))\n",
    "d_l = l - l_r\n",
    "r_f = r_s * h_s * sympy.sin(_pi + q_o - q) / l\n",
    "dl5 = r_f * d_l # * 27.86\n",
    "\n",
    "# DH\n",
    "dh = [(L_b,  -1,   [L_1, M_4],  0,     0,      0,       0,           False, False, False, dlN),\n",
    "      (L_1,  L_b,  [L_2, L_31], 0,     0,      -l_b2p,  qmd1,        True,  False, True, dlN),\n",
    "      (L_2,  L_1,  [L_30],      0,     -_pi/2, 0,       qmd2+_pi/2,  True,  False, True, dlN),\n",
    "      (L_30, L_2,  [L_4],       l_arm, 0,      0,       qmd30+_pi/2, True,  False, True, dlN),\n",
    "      (L_31, L_1,  [L_32],      0,     -_pi/2, 0,       qmd31+_pi,   True,  False, True, dlN),\n",
    "      (L_32, L_31, [],          l_b2f, 0,      0,       qmd32-_pi/2, True,  False, True, dlN),\n",
    "      (L_4,  L_30, [L_5],       l_fa,  -_pi/2, 0.151,   qmd4,        True,  False, True, dlN),\n",
    "      (L_5,  L_4,  [L_6],       0,     _pi/2,  0,       qmd5,        True,  False, True, dl5),\n",
    "      (L_6,  L_5,  [L_7],       0,     -_pi/2, 0,       qmd6+_pi/2,  True,  False, True, dlN),\n",
    "      (L_7,  L_6,  [],          0,     -_pi/2, 0,       qmd7+_pi,    True,  False, True, dlN),\n",
    "      (M_4,  L_b,  [],          0,     0,      0,       q4,          False, True,  True, dlN)]\n",
    "\n",
    "\n",
    "# Friction\n",
    "friction_type = ['Coulomb', 'viscous', 'offset']\n",
    "print(model_name)\n",
    "\n",
    "robot_def = RobotDef(dh, dh_convention='mdh', friction_type=friction_type)"
   ]
  },
  {
   "cell_type": "code",
   "execution_count": null,
   "metadata": {},
   "outputs": [],
   "source": [
    "robot_def.dq_for_frame"
   ]
  },
  {
   "cell_type": "code",
   "execution_count": null,
   "metadata": {},
   "outputs": [],
   "source": [
    "robot_def.coordinates_joint_type"
   ]
  },
  {
   "cell_type": "code",
   "execution_count": null,
   "metadata": {},
   "outputs": [],
   "source": [
    "robot_def.bary_params"
   ]
  },
  {
   "cell_type": "markdown",
   "metadata": {},
   "source": [
    "## Create kinematics chain"
   ]
  },
  {
   "cell_type": "code",
   "execution_count": null,
   "metadata": {
    "scrolled": true
   },
   "outputs": [],
   "source": [
    "%time geom = Geometry(robot_def)"
   ]
  },
  {
   "cell_type": "code",
   "execution_count": null,
   "metadata": {},
   "outputs": [],
   "source": [
    "angle = [0, 0.5, 0, 0, 0, 0, 0]\n",
    "geom.draw_geom(angle)"
   ]
  },
  {
   "cell_type": "markdown",
   "metadata": {},
   "source": [
    "## Create dynamics"
   ]
  },
  {
   "cell_type": "code",
   "execution_count": null,
   "metadata": {},
   "outputs": [],
   "source": [
    "%time dyn = Dynamics(robot_def, geom)"
   ]
  },
  {
   "cell_type": "code",
   "execution_count": null,
   "metadata": {},
   "outputs": [],
   "source": [
    "robot_def.bary_params"
   ]
  },
  {
   "cell_type": "code",
   "execution_count": null,
   "metadata": {
    "scrolled": true
   },
   "outputs": [],
   "source": [
    "sympy.Matrix(dyn.base_param)"
   ]
  },
  {
   "cell_type": "code",
   "execution_count": null,
   "metadata": {},
   "outputs": [],
   "source": [
    "from data import RobotModel\n",
    "\n",
    "# Data to be saved\n",
    "robot_model = RobotModel(dyn)\n",
    "\n",
    "# Save\n",
    "save_data(model_folder, model_name, robot_model)\n",
    "print('Saved {} parameters'.format(len(robot_model.base_param)))"
   ]
  },
  {
   "cell_type": "markdown",
   "metadata": {},
   "source": [
    "---\n",
    "# 3 - Excitation trajectory optimization"
   ]
  },
  {
   "cell_type": "code",
   "execution_count": null,
   "metadata": {},
   "outputs": [],
   "source": [
    "model_name = 'mtm'"
   ]
  },
  {
   "cell_type": "markdown",
   "metadata": {},
   "source": [
    "Load Data"
   ]
  },
  {
   "cell_type": "code",
   "execution_count": null,
   "metadata": {},
   "outputs": [],
   "source": [
    "from utils import load_data\n",
    "model_folder = 'data/' + model_name + '/model/'\n",
    "robot_model = load_data(model_folder, model_name)"
   ]
  },
  {
   "cell_type": "markdown",
   "metadata": {},
   "source": [
    "## Create trajectory optimizer object, with H matrix, foourier order, base frequency, joint constraints and cartisian constraints as input"
   ]
  },
  {
   "cell_type": "code",
   "execution_count": null,
   "metadata": {},
   "outputs": [],
   "source": [
    "#trajectory_name = 'one'\n",
    "trajectory_name = 'two'"
   ]
  },
  {
   "cell_type": "code",
   "execution_count": null,
   "metadata": {
    "scrolled": true
   },
   "outputs": [],
   "source": [
    "from numpy import deg2rad\n",
    "\n",
    "optimal_trajectory_folder = 'data/optimal_trajectory/'\n",
    "trajectory_folder = 'data/' + model_name +'/optimal_trajectory/'\n",
    "\n",
    "base_freq = 0.1\n",
    "fourier_order = 6\n",
    "\n",
    "cartesian_constraints = []\n",
    "\n",
    "\n",
    "joint_constraints = [(qmd1,  deg2rad(-57), deg2rad(29), deg2rad(-160), deg2rad(160)),\n",
    "                     (qmd2,  deg2rad(-10), deg2rad(60), deg2rad(-180), deg2rad(180)),\n",
    "                     (qmd30, deg2rad(-30), deg2rad(30), deg2rad(-180), deg2rad(180)),\n",
    "                     (qmd4,  deg2rad(-40), deg2rad(195), deg2rad(-360), deg2rad(360)),\n",
    "                     (qmd5,  deg2rad(-87), deg2rad(180), deg2rad(-360), deg2rad(360)),\n",
    "                     (qmd6,  deg2rad(-40), deg2rad(38), deg2rad(-360), deg2rad(360)),\n",
    "                     (qmd7,  deg2rad(-460), deg2rad(450), deg2rad(-720), deg2rad(720)),\n",
    "                     (qmd31, deg2rad(-9), deg2rad(39), deg2rad(-360), deg2rad(360))]\n",
    "\n",
    "    \n",
    "traj_optimizer = TrajOptimizer(robot_model, fourier_order, base_freq,\n",
    "                               joint_constraints=joint_constraints,\n",
    "                               cartesian_constraints = cartesian_constraints)\n",
    "                                                                                                 \n",
    "                                                                                                                     \n",
    "traj_optimizer.optimize()\n"
   ]
  },
  {
   "cell_type": "code",
   "execution_count": null,
   "metadata": {},
   "outputs": [],
   "source": [
    "robot_model.coordinates"
   ]
  },
  {
   "cell_type": "code",
   "execution_count": null,
   "metadata": {},
   "outputs": [],
   "source": [
    "reg_norm_mat = traj_optimizer.calc_normalize_mat()"
   ]
  },
  {
   "cell_type": "markdown",
   "metadata": {},
   "source": [
    "## Plot optimal excitation trajectory"
   ]
  },
  {
   "cell_type": "code",
   "execution_count": null,
   "metadata": {},
   "outputs": [],
   "source": [
    "traj_optimizer.calc_frame_traj()"
   ]
  },
  {
   "cell_type": "code",
   "execution_count": null,
   "metadata": {},
   "outputs": [],
   "source": [
    "traj_plotter = TrajPlotter(traj_optimizer.fourier_traj,traj_optimizer.frame_traj,\n",
    "                           traj_optimizer.const_frame_ind, robot_model.coordinates)\n",
    "traj_plotter.plot_desired_traj(traj_optimizer.x_result)\n",
    "\n",
    "# traj_plotter.plot_frame_traj(True)"
   ]
  },
  {
   "cell_type": "markdown",
   "metadata": {},
   "source": [
    "## Save trajectory for later use"
   ]
  },
  {
   "cell_type": "code",
   "execution_count": null,
   "metadata": {},
   "outputs": [],
   "source": [
    "dof_order_bf_x_norm = (traj_optimizer.fourier_traj.dof, fourier_order,\n",
    "                       base_freq, traj_optimizer.x_result, reg_norm_mat)\n",
    "save_data(trajectory_folder, trajectory_name, dof_order_bf_x_norm)"
   ]
  },
  {
   "cell_type": "code",
   "execution_count": null,
   "metadata": {
    "scrolled": false
   },
   "outputs": [],
   "source": [
    "from IPython.display import HTML, display\n",
    "import tabulate\n",
    "\n",
    "table = []\n",
    "table.append([\"joint\", 'qo'] +\n",
    "             [\"a\"+str(i+1) for i in range(fourier_order)] +\n",
    "             [\"b\"+str(i+1) for i in range(fourier_order)])\n",
    "for i in range(traj_optimizer.fourier_traj.dof):\n",
    "    line = []\n",
    "    line.append(robot_model.coordinates[i])\n",
    "    line += np.round(traj_optimizer.x_result[i*(1 + fourier_order*2): (i+1)*(1 + fourier_order*2)], 4).tolist()\n",
    "    table.append(line)\n",
    "\n",
    "display(HTML(tabulate.tabulate(table, tablefmt='html')))"
   ]
  },
  {
   "cell_type": "markdown",
   "metadata": {},
   "source": [
    "---\n",
    "# Data processing"
   ]
  },
  {
   "cell_type": "code",
   "execution_count": null,
   "metadata": {},
   "outputs": [],
   "source": [
    "from identification import load_trajectory_data, diff_and_filt_data, plot_trajectory_data, plot_meas_pred_tau, gen_regressor\n",
    "import copy"
   ]
  },
  {
   "cell_type": "markdown",
   "metadata": {},
   "source": [
    "## Load data"
   ]
  },
  {
   "cell_type": "markdown",
   "metadata": {},
   "source": [
    "### Load robot model"
   ]
  },
  {
   "cell_type": "code",
   "execution_count": null,
   "metadata": {},
   "outputs": [],
   "source": [
    "# Names as Arguments\n",
    "model_name = 'mtm'\n",
    "#model_name = 'mtm_2spring_tendon'\n",
    "training_trajectory_name = 'one'\n",
    "\n",
    "\n",
    "model_folder = 'data/' + model_name + '/model/'\n",
    "robot_model = load_data(model_folder,model_name)\n",
    "\n",
    "\n",
    "trajectory_folder = 'data/' + model_name +'/optimal_trajectory/'\n",
    "dof, fourier_order, base_freq, traj_optimizer_result, reg_norm_mat = load_data(trajectory_folder,\n",
    "                                                                               training_trajectory_name)\n",
    "print(\"dof: {}\".format(dof))\n",
    "print(\"Fourier order: {}\".format(fourier_order))\n",
    "print(\"Base frequency: {}\".format(base_freq))"
   ]
  },
  {
   "cell_type": "markdown",
   "metadata": {},
   "source": [
    "### Load traning data set"
   ]
  },
  {
   "cell_type": "code",
   "execution_count": null,
   "metadata": {},
   "outputs": [],
   "source": [
    "# training_trajectory_name = 'one'\n",
    "\n",
    "results_folder = 'data/' + model_name +'/measured_trajectory/'\n",
    "training_results_data_file = results_folder + training_trajectory_name + '_results.csv'\n",
    "\n",
    "trajectory_sampling_rate = 200\n",
    "t_train, q_raw_train, dq_raw_train, tau_raw_train = load_trajectory_data(training_results_data_file,\n",
    "                                                                   trajectory_sampling_rate)\n",
    "# remove the cable part of the joint 4\n",
    "# from high to low\n",
    "p = np.array([0.0004877, -0.0037149, 0.0067497, 0.008519, -0.0201475, -0.025265, 0.048095, 0.00255])\n",
    "#p = p[::-1]\n",
    "\n",
    "qm4_raw_train = 0.6697*q_raw_train[:,1] - 0.6697*q_raw_train[:,2] + q_raw_train[:,3]\n",
    "tau_cable4_train = p[0]*qm4_raw_train**7 + p[1]*qm4_raw_train**6 + p[2]*qm4_raw_train**5\\\n",
    "+ p[3]*qm4_raw_train**4 + p[4]*qm4_raw_train**3 + p[5]*qm4_raw_train**2\\\n",
    "+ p[6]*qm4_raw_train + p[7]\n",
    "tau_raw_train[:,1] -= 0.6697*tau_cable4_train\n",
    "tau_raw_train[:,2] += 0.6697*tau_cable4_train\n",
    "tau_raw_train[:,3] -= tau_cable4_train"
   ]
  },
  {
   "cell_type": "code",
   "execution_count": null,
   "metadata": {},
   "outputs": [],
   "source": [
    "np.array([[1.0, 0, 0], [-1.0, 1.0, 0], [0.6697, -0.6697, 1.0]]).transpose()"
   ]
  },
  {
   "cell_type": "markdown",
   "metadata": {},
   "source": [
    "### Training trajectory"
   ]
  },
  {
   "cell_type": "code",
   "execution_count": null,
   "metadata": {},
   "outputs": [],
   "source": [
    "from trajectory_optimization import FourierTraj\n",
    "fourier_traj_train = FourierTraj(dof, fourier_order, base_freq, sample_num_per_period=20)\n",
    "traj_plotter_train = TrajPlotter(fourier_traj_train, coordinates=robot_model.coordinates)\n",
    "traj_plotter_train.plot_desired_traj(traj_optimizer_result)"
   ]
  },
  {
   "cell_type": "markdown",
   "metadata": {},
   "source": [
    "### Load test data set"
   ]
  },
  {
   "cell_type": "code",
   "execution_count": null,
   "metadata": {},
   "outputs": [],
   "source": [
    "test_trajectory_name = 'two'\n",
    "\n",
    "results_folder = 'data/' + model_name +'/measured_trajectory/'\n",
    "test_results_data_file = results_folder + test_trajectory_name + '_results.csv'\n",
    "\n",
    "trajectory_sampling_rate = 200\n",
    "t_test, q_raw_test, dq_raw_test, tau_raw_test = load_trajectory_data(test_results_data_file,\n",
    "                                                                trajectory_sampling_rate)\n",
    "# remove the cable part of the joint 4\n",
    "# from high to low\n",
    "p = np.array([0.0004877, -0.0037149, 0.0067497, 0.008519, -0.0201475, -0.025265, 0.048095, 0.00255])\n",
    "# p = p[::-1]\n",
    "\n",
    "qm4_raw_test = 0.6697*q_raw_test[:,1] - 0.6697*q_raw_test[:,2] + q_raw_test[:,3]\n",
    "tau_cable4_test = p[0]*qm4_raw_test**7 + p[1]*qm4_raw_test**6 + p[2]*qm4_raw_test**5\\\n",
    "+ p[3]*qm4_raw_test**4 + p[4]*qm4_raw_test**3 + p[5]*qm4_raw_test**2\\\n",
    "+ p[6]*qm4_raw_test + p[7]\n",
    "tau_raw_test[:,1] -= 0.6697*tau_cable4_test\n",
    "tau_raw_test[:,2] += 0.6697*tau_cable4_test\n",
    "tau_raw_test[:,3] -= tau_cable4_test\n",
    "\n",
    "plt.plot(qm4_raw_test, tau_cable4_test)"
   ]
  },
  {
   "cell_type": "markdown",
   "metadata": {},
   "source": [
    "## Calculate filter cut-off frequency"
   ]
  },
  {
   "cell_type": "code",
   "execution_count": null,
   "metadata": {},
   "outputs": [],
   "source": [
    "# times of the highest frequency in the Fourier series\n",
    "\n",
    "fc_mult = [3]\n",
    "#fc_mult = [5, 5, 5, 3, 4, 4, 4]\n",
    "\n",
    "#fc_mult = 4\n",
    "fc = np.array(fc_mult)*base_freq* fourier_order \n",
    "\n",
    "print(\"Cut frequency: {}\".format(fc))"
   ]
  },
  {
   "cell_type": "markdown",
   "metadata": {},
   "source": [
    "## Differentiation and filtering"
   ]
  },
  {
   "cell_type": "markdown",
   "metadata": {},
   "source": [
    "### Traning data"
   ]
  },
  {
   "cell_type": "code",
   "execution_count": null,
   "metadata": {},
   "outputs": [],
   "source": [
    "cut_num = 200\n",
    "t_cut_train, q_f_train, dq_f_train, ddq_f_train, tau_f_train, q_raw_cut_train, tau_raw_cut_train =\\\n",
    "    diff_and_filt_data(dof, 1.0/trajectory_sampling_rate,\n",
    "                       t_train, q_raw_train, dq_raw_train, tau_raw_train, fc, fc, fc, fc, cut_num)\n",
    "plot_trajectory_data(t_cut_train, q_raw_cut_train, q_f_train, dq_f_train, ddq_f_train,\n",
    "                     tau_raw_cut_train, tau_f_train)"
   ]
  },
  {
   "cell_type": "markdown",
   "metadata": {},
   "source": [
    "### Test data"
   ]
  },
  {
   "cell_type": "code",
   "execution_count": null,
   "metadata": {},
   "outputs": [],
   "source": [
    "t_cut_test, q_f_test, dq_f_test, ddq_f_test,tau_f_test, q_raw_cut_test, tau_raw_cut_test =\\\n",
    "    diff_and_filt_data(dof, 1.0/trajectory_sampling_rate,\n",
    "                       t_test, q_raw_test, dq_raw_test, tau_raw_test, fc, fc, fc, fc, cut_num)\n",
    "plot_trajectory_data(t_cut_test, q_raw_cut_test, q_f_test, dq_f_test, ddq_f_test,\n",
    "                     tau_raw_cut_test, tau_f_test)"
   ]
  },
  {
   "cell_type": "markdown",
   "metadata": {},
   "source": [
    "---\n",
    "# Regression"
   ]
  },
  {
   "cell_type": "markdown",
   "metadata": {},
   "source": [
    "## Ordinary Least Square (OLS)"
   ]
  },
  {
   "cell_type": "markdown",
   "metadata": {},
   "source": [
    "### Generate regressor matrix for base parameters"
   ]
  },
  {
   "cell_type": "code",
   "execution_count": null,
   "metadata": {},
   "outputs": [],
   "source": [
    "base_param_num = robot_model.base_num\n",
    "H_b_func = robot_model.H_b_func\n",
    "W_b_train, tau_s_train = gen_regressor(base_param_num, H_b_func, q_f_train,\n",
    "                                       dq_f_train, ddq_f_train, tau_f_train)"
   ]
  },
  {
   "cell_type": "code",
   "execution_count": null,
   "metadata": {},
   "outputs": [],
   "source": [
    "W_b_train.shape, tau_s_train.shape\n",
    "#print np.linalg.cond(W_b_train)"
   ]
  },
  {
   "cell_type": "code",
   "execution_count": null,
   "metadata": {},
   "outputs": [],
   "source": [
    "xb_ols = np.linalg.lstsq(W_b_train, tau_s_train)[0]"
   ]
  },
  {
   "cell_type": "code",
   "execution_count": null,
   "metadata": {
    "scrolled": true
   },
   "outputs": [],
   "source": [
    "#sympy.Matrix.hstack(sympy.Matrix(robot_model.base_param), sympy.Matrix(xb_ols))\n",
    "\n",
    "from IPython.display import HTML, display\n",
    "import tabulate\n",
    "\n",
    "table = [[\"Base Parameter\", \"Value\"]]\n",
    "\n",
    "for i in range(robot_model.base_num):\n",
    "    param_str = str(sympy.Matrix(robot_model.base_param)[i])\n",
    "    max_disp_len = 50\n",
    "    line = [param_str if len(param_str) <= max_disp_len \n",
    "            else param_str[:max_disp_len] + '...', xb_ols[i]]\n",
    "    #['%.7s ...'%b if len(str(b)) > 7 else str(b)\n",
    "    table.append(line)\n",
    "\n",
    "display(HTML(tabulate.tabulate(table, tablefmt='html')))"
   ]
  },
  {
   "cell_type": "markdown",
   "metadata": {},
   "source": [
    "## Compare measured torque and predicted torque on the training set"
   ]
  },
  {
   "cell_type": "markdown",
   "metadata": {},
   "source": [
    "### Generate predicted torque"
   ]
  },
  {
   "cell_type": "code",
   "execution_count": null,
   "metadata": {},
   "outputs": [],
   "source": [
    "tau_p_train = np.zeros(tau_f_train.shape)\n",
    "tau_ps_train = W_b_train.dot(xb_ols)\n",
    "for i in range(dof):\n",
    "    tau_p_train[:, i] = tau_ps_train[i::dof]\n",
    "\n",
    "# add cable torque back\n",
    "qm4_f_train = 0.6697*q_f_train[:,1] - 0.6697*q_f_train[:,2] + q_f_train[:,3]\n",
    "tau_cable4_f_train = p[0]*qm4_f_train**7 + p[1]*qm4_f_train**6 + p[2]*qm4_f_train**5\\\n",
    "+ p[3]*qm4_f_train**4 + p[4]*qm4_f_train**3 + p[5]*qm4_f_train**2\\\n",
    "+ p[6]*qm4_f_train + p[7]\n",
    "tau_f_with_cable_train = copy.deepcopy(tau_f_train);\n",
    "tau_f_with_cable_train[:,1] = tau_f_train[:,1] + 0.6697*tau_cable4_f_train\n",
    "tau_f_with_cable_train[:,2] = tau_f_train[:,2] - 0.6697*tau_cable4_f_train\n",
    "tau_f_with_cable_train[:,3] = tau_f_train[:,3] + tau_cable4_f_train\n",
    "tau_p_with_cable_train = copy.deepcopy(tau_p_train);\n",
    "tau_p_with_cable_train[:,1] = tau_p_train[:,1] + 0.6697*tau_cable4_f_train\n",
    "tau_p_with_cable_train[:,2] = tau_p_train[:,2] - 0.6697*tau_cable4_f_train\n",
    "tau_p_with_cable_train[:,3] = tau_p_train[:,3] + tau_cable4_f_train"
   ]
  },
  {
   "cell_type": "markdown",
   "metadata": {},
   "source": [
    "### Evaluate regression"
   ]
  },
  {
   "cell_type": "code",
   "execution_count": null,
   "metadata": {},
   "outputs": [],
   "source": [
    "var_regression_error_ols = np.linalg.norm(tau_ps_train - tau_s_train) / \\\n",
    "                        (tau_ps_train.size - base_param_num)\n",
    "print(\"variance of regression error using OLS:\")\n",
    "print(var_regression_error_ols)\n",
    "\n",
    "std_dev_xb_ols = np.sqrt(np.diag(var_regression_error_ols *\n",
    "                                 np.linalg.inv(W_b_train.transpose().dot(W_b_train))))\n",
    "print(\"standard deviation of xb using OLS:\")\n",
    "print(std_dev_xb_ols)\n",
    "\n",
    "pct_std_dev_xb_ols = std_dev_xb_ols / np.abs(xb_ols)\n",
    "print(\"percentage of standard deviation of xb using OLS: \")\n",
    "print(pct_std_dev_xb_ols)"
   ]
  },
  {
   "cell_type": "markdown",
   "metadata": {},
   "source": [
    "### Plot measured torque and predicted torque"
   ]
  },
  {
   "cell_type": "code",
   "execution_count": null,
   "metadata": {
    "scrolled": true
   },
   "outputs": [],
   "source": [
    "plot_data_num = int(1 / base_freq * trajectory_sampling_rate)\n",
    "plot_meas_pred_tau(t_cut_train[:plot_data_num], tau_f_with_cable_train[:plot_data_num, :],\n",
    "                   tau_p_with_cable_train[:plot_data_num, :],\n",
    "                   robot_def.coordinates_joint_type,\n",
    "                   robot_model.coordinates)"
   ]
  },
  {
   "cell_type": "markdown",
   "metadata": {},
   "source": [
    "## Compare measured torque and predicted torque on the test set"
   ]
  },
  {
   "cell_type": "code",
   "execution_count": null,
   "metadata": {},
   "outputs": [],
   "source": [
    "W_b_test, tau_s_test = gen_regressor(base_param_num, H_b_func, q_f_test,\n",
    "                                       dq_f_test, ddq_f_test, tau_f_test)"
   ]
  },
  {
   "cell_type": "code",
   "execution_count": null,
   "metadata": {},
   "outputs": [],
   "source": [
    "tau_p_test = np.zeros(tau_f_test.shape)\n",
    "tau_ps_test = W_b_test.dot(xb_ols)\n",
    "for i in range(dof):\n",
    "    tau_p_test[:, i] = tau_ps_test[i::dof]\n",
    "\n",
    "    # add cable torque back\n",
    "qm4_f_test = 0.6697*q_f_test[:,1] - 0.6697*q_f_test[:,2] + q_f_test[:,3]\n",
    "tau_cable4_f_test = p[0]*qm4_f_test**7 + p[1]*qm4_f_test**6 + p[2]*qm4_f_test**5\\\n",
    "+ p[3]*qm4_f_test**4 + p[4]*qm4_f_test**3 + p[5]*qm4_f_test**2\\\n",
    "+ p[6]*qm4_f_test + p[7]\n",
    "tau_f_with_cable_test = copy.deepcopy(tau_f_test);\n",
    "tau_f_with_cable_test[:,1] = tau_f_test[:,1] + 0.6697*tau_cable4_f_test\n",
    "tau_f_with_cable_test[:,2] = tau_f_test[:,2] - 0.6697*tau_cable4_f_test\n",
    "tau_f_with_cable_test[:,3] = tau_f_test[:,3] + tau_cable4_f_test\n",
    "tau_p_with_cable_test = copy.deepcopy(tau_p_test);\n",
    "tau_p_with_cable_test[:,1] = tau_p_test[:,1] + 0.6697*tau_cable4_f_test\n",
    "tau_p_with_cable_test[:,2] = tau_p_test[:,2] - 0.6697*tau_cable4_f_test\n",
    "tau_p_with_cable_test[:,3] = tau_p_test[:,3] + tau_cable4_f_test"
   ]
  },
  {
   "cell_type": "code",
   "execution_count": null,
   "metadata": {},
   "outputs": [],
   "source": [
    "plot_data_num = int(1 / base_freq * trajectory_sampling_rate)\n",
    "plot_meas_pred_tau(t_cut_test[:plot_data_num], tau_f_test[:plot_data_num, :],\n",
    "                   tau_p_test[:plot_data_num, :],\n",
    "                   robot_def.coordinates_joint_type,\n",
    "                   robot_model.coordinates)"
   ]
  },
  {
   "cell_type": "markdown",
   "metadata": {},
   "source": [
    "## Weighted Least Square (WLS)"
   ]
  },
  {
   "cell_type": "markdown",
   "metadata": {},
   "source": [
    "### Training data set"
   ]
  },
  {
   "cell_type": "code",
   "execution_count": null,
   "metadata": {},
   "outputs": [],
   "source": [
    "# weight = np.sqrt(np.linalg.norm(tau_f - tau_p, axis=0)/(tau_f.shape[0] - base_param_num))\n",
    "weight = np.max(tau_f_train, axis=0) - np.min(tau_f_train, axis=0)"
   ]
  },
  {
   "cell_type": "code",
   "execution_count": null,
   "metadata": {},
   "outputs": [],
   "source": [
    "W_b_train.shape, tau_s_train.shape"
   ]
  },
  {
   "cell_type": "code",
   "execution_count": null,
   "metadata": {},
   "outputs": [],
   "source": [
    "# repeat the weight to generate a large vecoter for all the data\n",
    "weights = 1.0/np.tile(weight, W_b_train.shape[0]/weight.shape[0])"
   ]
  },
  {
   "cell_type": "code",
   "execution_count": null,
   "metadata": {},
   "outputs": [],
   "source": [
    "weights.shape"
   ]
  },
  {
   "cell_type": "code",
   "execution_count": null,
   "metadata": {},
   "outputs": [],
   "source": [
    "W_b_wls_train = np.multiply(W_b_train, np.asmatrix(weights).transpose())\n",
    "tau_s_wls_train = np.multiply(tau_s_train, weights)"
   ]
  },
  {
   "cell_type": "code",
   "execution_count": null,
   "metadata": {},
   "outputs": [],
   "source": [
    "xb_wls = np.linalg.lstsq(W_b_wls_train, tau_s_wls_train)[0]"
   ]
  },
  {
   "cell_type": "code",
   "execution_count": null,
   "metadata": {},
   "outputs": [],
   "source": [
    "#np.set_printoptions(precision=2)\n",
    "sympy.Matrix.hstack(sympy.Matrix(robot_model.base_param), sympy.Matrix(xb_wls))"
   ]
  },
  {
   "cell_type": "code",
   "execution_count": null,
   "metadata": {},
   "outputs": [],
   "source": [
    "tau_p_wls_train = np.zeros(tau_f_train.shape)\n",
    "tau_ps_wls_train = W_b_train.dot(xb_wls)\n",
    "for i in range(dof):\n",
    "    tau_p_wls_train[:, i] = tau_ps_wls_train[i::dof]\n",
    "    \n",
    "tau_p_wls_with_cable_train = copy.deepcopy(tau_p_wls_train);\n",
    "tau_p_wls_with_cable_train[:,1] = tau_p_wls_train[:,1] + 0.6697*tau_cable4_f_train\n",
    "tau_p_wls_with_cable_train[:,2] = tau_p_wls_train[:,2] - 0.6697*tau_cable4_f_train\n",
    "tau_p_wls_with_cable_train[:,3] = tau_p_wls_train[:,3] + tau_cable4_f_train"
   ]
  },
  {
   "cell_type": "code",
   "execution_count": null,
   "metadata": {},
   "outputs": [],
   "source": [
    "plot_meas_pred_tau(t_cut_train[:plot_data_num], tau_f_with_cable_train[:plot_data_num, :],\n",
    "                   tau_p_wls_with_cable_train[:plot_data_num, :],\n",
    "                   robot_def.coordinates_joint_type, \n",
    "                   robot_model.coordinates)"
   ]
  },
  {
   "cell_type": "code",
   "execution_count": null,
   "metadata": {},
   "outputs": [],
   "source": [
    "np.linalg.norm(tau_f_with_cable_train[:plot_data_num, :] - tau_p_wls_with_cable_train[:plot_data_num, :], axis=0)\\\n",
    "    / np.linalg.norm(tau_f_with_cable_train[:plot_data_num, :], axis=0)"
   ]
  },
  {
   "cell_type": "markdown",
   "metadata": {},
   "source": [
    "### Test data set"
   ]
  },
  {
   "cell_type": "code",
   "execution_count": null,
   "metadata": {
    "scrolled": true
   },
   "outputs": [],
   "source": [
    "weight = np.max(tau_f_test, axis=0) - np.min(tau_f_test, axis=0)\n",
    "weight\n",
    "weight[1] /= 1\n",
    "weight[2] /= 1\n",
    "weight[3] /= 1\n",
    "weight\n",
    "# repeat the weight to generate a large vecoter for all the data\n",
    "weights = 1.0/np.tile(weight, W_b_test.shape[0]/weight.shape[0])\n",
    "\n",
    "W_b_wls_test = np.multiply(W_b_test, np.asmatrix(weights).transpose())\n",
    "tau_s_wls_test = np.multiply(tau_s_test, weights)\n",
    "\n",
    "tau_p_wls_test = np.zeros(tau_f_test.shape)\n",
    "tau_ps_wls_test = W_b_test.dot(xb_wls)\n",
    "for i in range(dof):\n",
    "    tau_p_wls_test[:, i] = tau_ps_wls_test[i::dof]\n",
    "\n",
    "# add cable torque back\n",
    "# qm4_f_test = 0.6697*q_f_test[:,1] - 0.6697*q_f_test[:,2] + q_f_test[:,3]\n",
    "# tau_cable4_f_test = p[0]*qm4_f_test**7 + p[1]*qm4_f_test**6 + p[2]*qm4_f_test**5\\\n",
    "# + p[3]*qm4_f_test**4 + p[4]*qm4_f_test**3 + p[5]*qm4_f_test**2\\\n",
    "# + p[6]*qm4_f_test + p[7]\n",
    "# tau_f_with_cable_test = copy.deepcopy(tau_f_test);\n",
    "# tau_f_with_cable_test[:,1] = tau_f_test[:,1] + 0.6697*tau_cable4_f_test\n",
    "# tau_f_with_cable_test[:,2] = tau_f_test[:,2] - 0.6697*tau_cable4_f_test\n",
    "# tau_f_with_cable_test[:,3] = tau_f_test[:,3] + tau_cable4_f_test\n",
    "tau_p_wls_with_cable_test = copy.deepcopy(tau_p_wls_test);\n",
    "tau_p_wls_with_cable_test[:,1] = tau_p_wls_test[:,1] + 0.6697*tau_cable4_f_test\n",
    "tau_p_wls_with_cable_test[:,2] = tau_p_wls_test[:,2] - 0.6697*tau_cable4_f_test\n",
    "tau_p_wls_with_cable_test[:,3] = tau_p_wls_test[:,3] + tau_cable4_f_test\n",
    "\n",
    "plot_meas_pred_tau(t_cut_test[:plot_data_num], tau_f_with_cable_test[:plot_data_num, :],\n",
    "                   tau_p_wls_with_cable_test[:plot_data_num, :],\n",
    "                   robot_def.coordinates_joint_type,\n",
    "                   robot_model.coordinates)"
   ]
  },
  {
   "cell_type": "code",
   "execution_count": null,
   "metadata": {},
   "outputs": [],
   "source": [
    "np.linalg.norm(tau_f_with_cable_test[:plot_data_num, :] - tau_p_wls_with_cable_test[:plot_data_num, :], axis=0)\\\n",
    "/ np.linalg.norm(tau_f_test[:plot_data_num, :], axis=0)"
   ]
  },
  {
   "cell_type": "markdown",
   "metadata": {},
   "source": [
    "## Convex optimization"
   ]
  },
  {
   "cell_type": "markdown",
   "metadata": {},
   "source": [
    "### Generate regressor matrix for barycentric parameters"
   ]
  },
  {
   "cell_type": "code",
   "execution_count": null,
   "metadata": {},
   "outputs": [],
   "source": [
    "from identification import SDPOpt\n",
    "\n",
    "bary_param_num = len(robot_model.bary_param)\n",
    "H_func = robot_model.H_func\n",
    "W_train, tau_s_train = gen_regressor(bary_param_num, H_func,\n",
    "                                     q_f_train, dq_f_train, ddq_f_train, tau_f_train)"
   ]
  },
  {
   "cell_type": "code",
   "execution_count": null,
   "metadata": {},
   "outputs": [],
   "source": [
    "weight = np.max(tau_f_train, axis=0) - np.min(tau_f_train, axis=0)\n",
    "# repeat the weight to generate a large vecoter for all the data\n",
    "weights = 1.0/np.tile(weight, W_train.shape[0]/weight.shape[0])\n",
    "W_w_train = np.multiply(W_train, np.asmatrix(weights).transpose())\n",
    "tau_w_s_train = np.multiply(tau_s_train, weights)"
   ]
  },
  {
   "cell_type": "code",
   "execution_count": null,
   "metadata": {},
   "outputs": [],
   "source": [
    "weight"
   ]
  },
  {
   "cell_type": "markdown",
   "metadata": {},
   "source": [
    "| min mass | max mass | min $r_x$ | max $r_x$ | min $r_y$ | max $r_y$ | min $r_z$ | max $r_z$ | max $F_c$ | max $F_v$ | max $F_o$ |\n",
    "|----------|----------|-----------|-----------|-----------|-----------|-----------|-----------|-----------|--------------|-----------|"
   ]
  },
  {
   "cell_type": "code",
   "execution_count": null,
   "metadata": {},
   "outputs": [],
   "source": [
    "sdp_constraints = [(2, 20, -0.1, 0.1, -0.1, 0.1, -0.1, 0.3, 0.2, 0.2, 0.2, 0, 0), #1\n",
    "                  (1, 15, -0.1, 0.15, -0.05, 0.05, -0.05, 0.05, 0.2, 0.2, 0.3, 0, 0), #2\n",
    "                  (0.5, 5, -0.0, 0.3, -0.03, 0.03, -0.03, 0.03, 0.2, 0.2, 0.2, 0, 0), # 3\n",
    "                  (1, 10, -0.1, 0.1, -0.05, 0.05, -0.1, 0.1, 0.2, 0.2, 0.3, 0, 0), # 3'\n",
    "                  (0.05, 2, 0.05, 0.2, -0.02, 0.02, 0.02, 0.1, 0.2, 0.2, 0.2, 0, 0), # 3''\n",
    "                  (0.05, 2, -0.03, 0.03, -0.00, 0.12, -0.15, 0.0, 0.2, 0.2, 0.2, 0, 0), # 4\n",
    "                  (0.05, 1, -0.02, 0.02, -0.1, 0.00, -0.1, 0.00, 0.2, 0.2, 0.2, 250, 300), # 5\n",
    "                  (0.05, 0.5, -0.02, 0.02, 0, 0.1, -0.1, 0.00, 0.2, 0.2, 0.2, 0, 0), # 6\n",
    "                  (0.02, 0.5, -0.01, 0.01, -0.01, 0.01, -0.00, 0.1, 0.2, 0.2, 0.2, 0, 0), #7\n",
    "                  (0.0, 0, 0.00, 0.00, -0.00, 0.00, 0.000, 0.00, 0.2, 0.2, 0.2, 0, 0)]"
   ]
  },
  {
   "cell_type": "code",
   "execution_count": null,
   "metadata": {},
   "outputs": [],
   "source": [
    "\n",
    "\n",
    "sdp_opt_std = SDPOpt(W_w_train, tau_w_s_train, robot_model,\n",
    "                     sdp_constraints)\n",
    "# sdp_opt_std = SDPOpt(W, tau_s, robot_model, sdp_constraints)\n",
    "%time sdp_opt_std.solve()"
   ]
  },
  {
   "cell_type": "markdown",
   "metadata": {},
   "source": [
    "## Compare measured torque and predicted torque on training set"
   ]
  },
  {
   "cell_type": "markdown",
   "metadata": {},
   "source": [
    "### Generate predicted torque"
   ]
  },
  {
   "cell_type": "code",
   "execution_count": null,
   "metadata": {},
   "outputs": [],
   "source": [
    "tau_p_sdp_train = np.zeros(tau_f_train.shape)\n",
    "tau_ps_sdp_train = W_train.dot(sdp_opt_std.x_result)\n",
    "for i in range(dof):\n",
    "    tau_p_sdp_train[:, i] = tau_ps_sdp_train[i::dof]\n",
    "\n",
    "# add cable torque back\n",
    "qm4_f_train = 0.6697*q_f_train[:,1] - 0.6697*q_f_train[:,2] + q_f_train[:,3]\n",
    "tau_cable4_f_train = p[0]*qm4_f_train**7 + p[1]*qm4_f_train**6 + p[2]*qm4_f_train**5\\\n",
    "+ p[3]*qm4_f_train**4 + p[4]*qm4_f_train**3 + p[5]*qm4_f_train**2\\\n",
    "+ p[6]*qm4_f_train + p[7]\n",
    "tau_f_with_cable_train = copy.deepcopy(tau_f_train);\n",
    "tau_f_with_cable_train[:,1] = tau_f_train[:,1] + 0.6697*tau_cable4_f_train\n",
    "tau_f_with_cable_train[:,2] = tau_f_train[:,2] - 0.6697*tau_cable4_f_train\n",
    "tau_f_with_cable_train[:,3] = tau_f_train[:,3] + tau_cable4_f_train\n",
    "tau_p_sdp_with_cable_train = copy.deepcopy(tau_p_sdp_train);\n",
    "tau_p_sdp_with_cable_train[:,1] = tau_p_sdp_train[:,1] + 0.6697*tau_cable4_f_train\n",
    "tau_p_sdp_with_cable_train[:,2] = tau_p_sdp_train[:,2] - 0.6697*tau_cable4_f_train\n",
    "tau_p_sdp_with_cable_train[:,3] = tau_p_sdp_train[:,3] + tau_cable4_f_train"
   ]
  },
  {
   "cell_type": "code",
   "execution_count": null,
   "metadata": {},
   "outputs": [],
   "source": [
    "np.linalg.norm(tau_f_with_cable_train[:plot_data_num, :] - tau_p_sdp_with_cable_train[:plot_data_num, :], axis=0)\\\n",
    "    / np.linalg.norm(tau_f_with_cable_train[:plot_data_num, :], axis=0)"
   ]
  },
  {
   "cell_type": "markdown",
   "metadata": {},
   "source": [
    "### Plot measured torque and predicted torque"
   ]
  },
  {
   "cell_type": "code",
   "execution_count": null,
   "metadata": {},
   "outputs": [],
   "source": [
    "plot_data_num = int(1.0 / base_freq * trajectory_sampling_rate)\n",
    "plot_meas_pred_tau(t_cut_train[:plot_data_num] - t_cut_train[0],\n",
    "                   tau_f_with_cable_train[:plot_data_num, :],\n",
    "                   tau_p_sdp_with_cable_train[:plot_data_num, :],\n",
    "                   robot_def.coordinates_joint_type,\n",
    "                   robot_model.coordinates)"
   ]
  },
  {
   "cell_type": "markdown",
   "metadata": {},
   "source": [
    "## Compare measured torque and predicted torque on test set"
   ]
  },
  {
   "cell_type": "code",
   "execution_count": null,
   "metadata": {},
   "outputs": [],
   "source": [
    "bary_param_num = len(robot_model.bary_param)\n",
    "H_func = robot_model.H_func\n",
    "W_test, tau_s_test = gen_regressor(bary_param_num, H_func,\n",
    "                                   q_f_test, dq_f_test, ddq_f_test, tau_f_test)"
   ]
  },
  {
   "cell_type": "code",
   "execution_count": null,
   "metadata": {},
   "outputs": [],
   "source": [
    "tau_p_sdp_test = np.zeros(tau_f_test.shape)\n",
    "tau_ps_sdp_test = W_test.dot(sdp_opt_std.x_result)\n",
    "for i in range(dof):\n",
    "    tau_p_sdp_test[:, i] = tau_ps_sdp_test[i::dof]\n",
    "    \n",
    "# add cable torque back\n",
    "qm4_f_test = 0.6697*q_f_test[:,1] - 0.6697*q_f_test[:,2] + q_f_test[:,3]\n",
    "tau_cable4_f_test = p[0]*qm4_f_test**7 + p[1]*qm4_f_test**6 + p[2]*qm4_f_test**5\\\n",
    "+ p[3]*qm4_f_test**4 + p[4]*qm4_f_test**3 + p[5]*qm4_f_test**2\\\n",
    "+ p[6]*qm4_f_test + p[7]\n",
    "tau_f_with_cable_test = copy.deepcopy(tau_f_test);\n",
    "tau_f_with_cable_test[:,1] = tau_f_test[:,1] + 0.6697*tau_cable4_f_test\n",
    "tau_f_with_cable_test[:,2] = tau_f_test[:,2] - 0.6697*tau_cable4_f_test\n",
    "tau_f_with_cable_test[:,3] = tau_f_test[:,3] + tau_cable4_f_test\n",
    "tau_p_sdp_with_cable_test = copy.deepcopy(tau_p_sdp_test);\n",
    "tau_p_sdp_with_cable_test[:,1] = tau_p_sdp_test[:,1] + 0.6697*tau_cable4_f_test\n",
    "tau_p_sdp_with_cable_test[:,2] = tau_p_sdp_test[:,2] - 0.6697*tau_cable4_f_test\n",
    "tau_p_sdp_with_cable_test[:,3] = tau_p_sdp_test[:,3] + tau_cable4_f_test\n",
    "\n",
    "plot_data_num = int(1 / base_freq * trajectory_sampling_rate)\n",
    "plot_meas_pred_tau(t_cut_test[:plot_data_num] - t_cut_test[0],\n",
    "                   tau_f_with_cable_test[:plot_data_num, :],\n",
    "                   tau_p_sdp_with_cable_test[:plot_data_num, :],\n",
    "                   robot_def.coordinates_joint_type,\n",
    "                   robot_model.coordinates)"
   ]
  },
  {
   "cell_type": "code",
   "execution_count": null,
   "metadata": {},
   "outputs": [],
   "source": [
    "np.linalg.norm(tau_f_test[:plot_data_num, :] - tau_p_sdp_test[:plot_data_num, :], axis=0)\\\n",
    "/ np.linalg.norm(tau_f_test[:plot_data_num, :], axis=0)"
   ]
  },
  {
   "cell_type": "code",
   "execution_count": null,
   "metadata": {
    "scrolled": false
   },
   "outputs": [],
   "source": [
    "sympy.Matrix.hstack(sympy.Matrix(robot_model.bary_param), sympy.Matrix(sdp_opt_std.x_result))"
   ]
  },
  {
   "cell_type": "code",
   "execution_count": null,
   "metadata": {},
   "outputs": [],
   "source": [
    "from identification import barycentric2standard_params"
   ]
  },
  {
   "cell_type": "code",
   "execution_count": null,
   "metadata": {
    "scrolled": true
   },
   "outputs": [],
   "source": [
    "x_std = barycentric2standard_params(sdp_opt_std.x_result, robot_model)"
   ]
  },
  {
   "cell_type": "code",
   "execution_count": null,
   "metadata": {},
   "outputs": [],
   "source": [
    "sympy.Matrix.hstack(sympy.Matrix(robot_model.std_param), sympy.Matrix(x_std))"
   ]
  },
  {
   "cell_type": "code",
   "execution_count": 113,
   "metadata": {},
   "outputs": [
    {
     "ename": "ImportError",
     "evalue": "cannot import name params_array2table",
     "output_type": "error",
     "traceback": [
      "\u001b[0;31m\u001b[0m",
      "\u001b[0;31mImportError\u001b[0mTraceback (most recent call last)",
      "\u001b[0;32m<ipython-input-113-2544f15dda5d>\u001b[0m in \u001b[0;36m<module>\u001b[0;34m()\u001b[0m\n\u001b[0;32m----> 1\u001b[0;31m \u001b[0;32mfrom\u001b[0m \u001b[0midentification\u001b[0m \u001b[0;32mimport\u001b[0m \u001b[0mparams_array2table\u001b[0m\u001b[0;34m\u001b[0m\u001b[0m\n\u001b[0m\u001b[1;32m      2\u001b[0m \u001b[0mparams_array2table\u001b[0m\u001b[0;34m(\u001b[0m\u001b[0mx_std\u001b[0m\u001b[0;34m,\u001b[0m \u001b[0mrobot_model\u001b[0m\u001b[0;34m)\u001b[0m\u001b[0;34m\u001b[0m\u001b[0m\n",
      "\u001b[0;31mImportError\u001b[0m: cannot import name params_array2table"
     ]
    }
   ],
   "source": [
    "from identification import params_array2table\n",
    "params_array2table(x_std, robot_model)"
   ]
  },
  {
   "cell_type": "code",
   "execution_count": 114,
   "metadata": {},
   "outputs": [
    {
     "data": {
      "text/latex": [
       "$$\\left[\\begin{array}{ccccccccccccccc}L_{xx} & L_{xy} & L_{xz} & L_{yy} & L_{yz} & L_{zz} & r_{x} & r_{y} & r_{z} & m & F_{c} & F_{v} & F_{o} & I_{m} & K\\\\0 & 0 & 0 & 0 & 0 & 0 & 0 & 0 & 0 & 0 & 0 & 0 & 0 & 0 & 0\\\\0 & 0 & 0 & 0 & 0 & 0 & 0 & 0 & 0 & 0 & 0 & 0 & 0 & 0 & 0\\\\0 & 0 & 0 & 0 & 0 & 0 & 0 & 0 & 0 & 0 & 0 & 0 & 0 & 0 & 0\\\\0 & 0 & 0 & 0 & 0 & 0 & 0 & 0 & 0 & 0 & 0 & 0 & 0 & 0 & 0\\\\0 & 0 & 0 & 0 & 0 & 0 & 0 & 0 & 0 & 0 & 0 & 0 & 0 & 0 & 0\\\\0 & 0 & 0 & 0 & 0 & 0 & 0 & 0 & 0 & 0 & 0 & 0 & 0 & 0 & 0\\\\0 & 0 & 0 & 0 & 0 & 0 & 0 & 0 & 0 & 0 & 0 & 0 & 0 & 0 & 0\\\\0 & 0 & 0 & 0 & 0 & 0 & 0 & 0 & 0 & 0 & 0 & 0 & 0 & 0 & 0\\\\0 & 0 & 0 & 0 & 0 & 0 & 0 & 0 & 0 & 0 & 0 & 0 & 0 & 0 & 0\\end{array}\\right]$$"
      ],
      "text/plain": [
       "⎡Lₓₓ  L_xy  L_xz  L_yy  L_yz  L_zz  rₓ  r_y  r_z  m  F_c  Fᵥ  Fₒ  I_m  K⎤\n",
       "⎢                                                                       ⎥\n",
       "⎢ 0    0     0     0     0     0    0    0    0   0   0   0   0    0   0⎥\n",
       "⎢                                                                       ⎥\n",
       "⎢ 0    0     0     0     0     0    0    0    0   0   0   0   0    0   0⎥\n",
       "⎢                                                                       ⎥\n",
       "⎢ 0    0     0     0     0     0    0    0    0   0   0   0   0    0   0⎥\n",
       "⎢                                                                       ⎥\n",
       "⎢ 0    0     0     0     0     0    0    0    0   0   0   0   0    0   0⎥\n",
       "⎢                                                                       ⎥\n",
       "⎢ 0    0     0     0     0     0    0    0    0   0   0   0   0    0   0⎥\n",
       "⎢                                                                       ⎥\n",
       "⎢ 0    0     0     0     0     0    0    0    0   0   0   0   0    0   0⎥\n",
       "⎢                                                                       ⎥\n",
       "⎢ 0    0     0     0     0     0    0    0    0   0   0   0   0    0   0⎥\n",
       "⎢                                                                       ⎥\n",
       "⎢ 0    0     0     0     0     0    0    0    0   0   0   0   0    0   0⎥\n",
       "⎢                                                                       ⎥\n",
       "⎣ 0    0     0     0     0     0    0    0    0   0   0   0   0    0   0⎦"
      ]
     },
     "execution_count": 114,
     "metadata": {},
     "output_type": "execute_result"
    }
   ],
   "source": [
    "table"
   ]
  },
  {
   "cell_type": "code",
   "execution_count": null,
   "metadata": {},
   "outputs": [],
   "source": []
  }
 ],
 "metadata": {
  "kernelspec": {
   "display_name": "Python 2",
   "language": "python",
   "name": "python2"
  },
  "language_info": {
   "codemirror_mode": {
    "name": "ipython",
    "version": 2
   },
   "file_extension": ".py",
   "mimetype": "text/x-python",
   "name": "python",
   "nbconvert_exporter": "python",
   "pygments_lexer": "ipython2",
   "version": "2.7.15"
  }
 },
 "nbformat": 4,
 "nbformat_minor": 1
}
