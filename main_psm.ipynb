{
 "cells": [
  {
   "cell_type": "markdown",
   "metadata": {
    "collapsed": true
   },
   "source": [
    "Robot Dynamic Model Identification\n",
    "=======\n",
    "---"
   ]
  },
  {
   "cell_type": "markdown",
   "metadata": {},
   "source": [
    "# 1 - Praparing work"
   ]
  },
  {
   "cell_type": "markdown",
   "metadata": {},
   "source": [
    "## Import libraries"
   ]
  },
  {
   "cell_type": "code",
   "execution_count": 111,
   "metadata": {},
   "outputs": [
    {
     "name": "stdout",
     "output_type": "stream",
     "text": [
      "The autoreload extension is already loaded. To reload it, use:\n",
      "  %reload_ext autoreload\n"
     ]
    }
   ],
   "source": [
    "# enable auto-reload modules\n",
    "%load_ext autoreload\n",
    "%autoreload 2\n",
    "#interactive plotting in separate window\n",
    "%matplotlib qt \n",
    "#%matplotlib inline\n",
    "\n",
    "from sympy import init_printing\n",
    "init_printing()\n",
    "    \n",
    "import matplotlib.pyplot as plt\n",
    "plt.rcParams['figure.figsize'] = [12, 8]\n",
    "\n",
    "import numpy as np\n",
    "import sympy\n",
    "from robot_def import RobotDef\n",
    "from kinematics import Geometry\n",
    "from dynamics import Dynamics\n",
    "from trajectory_optimization import TrajOptimizer\n",
    "from trajectory_optimization import TrajPlotter\n",
    "from utils import new_sym\n",
    "from utils import save_data, load_data\n",
    "import time"
   ]
  },
  {
   "cell_type": "markdown",
   "metadata": {},
   "source": [
    "## Folder dir for saving and loading files"
   ]
  },
  {
   "cell_type": "code",
   "execution_count": 112,
   "metadata": {},
   "outputs": [],
   "source": [
    "#model_name = 'psm'\n",
    "model_name = 'psm_simplified'\n",
    "\n",
    "model_folder = 'data/' + model_name + '/model/'"
   ]
  },
  {
   "cell_type": "markdown",
   "metadata": {},
   "source": [
    "---\n",
    "# 2 - Robot modelling"
   ]
  },
  {
   "cell_type": "markdown",
   "metadata": {},
   "source": [
    "## Robot geometry definition in following order"
   ]
  },
  {
   "cell_type": "markdown",
   "metadata": {},
   "source": [
    "| Joint number | prev link | succ links | $a$ | $\\alpha$ | $d$ | $\\theta$ | link inertia | motor inertia | friction |\n",
    "|--------------|-----------|------------|-----|----------|-----|----------|--------------|---------------|---------|"
   ]
  },
  {
   "cell_type": "code",
   "execution_count": 113,
   "metadata": {},
   "outputs": [
    {
     "name": "stdout",
     "output_type": "stream",
     "text": [
      "psm_simplified\n",
      "['Coulomb', 'viscous', 'offset']\n"
     ]
    }
   ],
   "source": [
    "q0, q1, q2, q3, q4, q5, q6, q7, q8, q9, q10 = new_sym('q:11')\n",
    "_pi = sympy.pi\n",
    "\n",
    "dh = []\n",
    "springs = []\n",
    "friction_type = []\n",
    "\n",
    "if (model_name == 'psm_simplified'):   \n",
    "    q8 = 1.0186 * q5\n",
    "    q9 = -0.8306 * q5 + 1.2178 * q6\n",
    "    q10 = -0.8306 *q5 + 1.2178 * q7\n",
    "    \n",
    "    l_2L1 = 96*0.001\n",
    "    l_2L2 = 516*0.001\n",
    "    l_2L3 = 40.09*0.001\n",
    "    \n",
    "    l_2H1 = 144.54*0.001\n",
    "    l_2H2 = 38.08*0.001\n",
    "    \n",
    "    l_3 = 40.09*0.001\n",
    "    \n",
    "    l_RCC = 431.8*0.001\n",
    "    l_tool = 416.2*0.001\n",
    "    l_pitch2yaw = 9.1*0.001\n",
    "    \n",
    "    M_motor2dvrk_q = np.matrix([[1.0186, 0, 0], [-0.8306, 0.6089, 0.6089], [0, -1.2177, 1.2177]])\n",
    "    M_model2dvrk_q = np.matrix([[1, 0, 0], [0, 0.5, 0.5], [0, -1, 1]])\n",
    "    \n",
    "    L_b = 0\n",
    "    L_1 = 1\n",
    "    L_20 = 2\n",
    "    L_21 = 3\n",
    "    L_22 = 4\n",
    "#     L_23 = 5\n",
    "    L_24 = 5\n",
    "#     L_25 = 6\n",
    "    L_30 = 6\n",
    "    L_31 = 7\n",
    "    L_4 = 8\n",
    "    L_5 = 9\n",
    "    L_6 = 10\n",
    "    L_7 = 11\n",
    "    M_6 = 12\n",
    "    M_7 = 13\n",
    "    F_67 = 14\n",
    "    \n",
    "    \n",
    "    x = [None]*15\n",
    "    x[0]  = (L_b,  -1,   [L_1, M_6, M_7, F_67], 0,           0,      0,              0,         False, False, False) # Base\n",
    "    \n",
    "    \n",
    "    x[1]  = (L_1,  L_b,  [L_20],                0,           _pi/2,  0,              q1+_pi/2,  True,  False, True) # Yaw\n",
    "    x[2]  = (L_20, L_1,  [L_21, L_31],          0,           -_pi/2, 0,              q2-_pi/2,  True,  False, True) # -- Intermediate\n",
    "    x[3]  = (L_21, L_20, [L_22],                l_2L3,       0,      0,              _pi/2,     False, False, False) # Pitch Back\n",
    "    x[4]  = (L_22, L_21, [L_24, L_30],          l_2H1,       0,      0,              -q2+_pi/2, True,  False, False) # Pitch Front                                    )\n",
    "    #x[5]  = (L_23, L_21, [],                    l_2H1+l_2H2, 0,      0,              -q2+_pi/2, True,  False, False)    # Intermediate\n",
    "    x[5]  = (L_24, L_22, [L_30],                l_2L2,       0,      0,              q2,        True,  False, False)    # Pitch Bottom\n",
    "    #x[7]  = (L_25, L_22, [],                    l_2L1,       0,      0,              q2+_pi,    True,  False, False)    # Pitch Top\n",
    "    x[6]  = (L_30, L_24, [L_4],                 l_3,         -_pi/2,  q3-l_RCC+l_2H1, 0,         True,  False, True)    # Pitch End\n",
    "    x[7]  = (L_31, L_20, [],                    l_2L3,       -_pi/2, q3,             0,         True,  False, False)    # Main Insertion\n",
    "    x[8] = (L_4,  L_30, [L_5],                  0,           0,      l_tool,         q4,        False, True,  True) # Intermediate Counterweight\n",
    "    x[9] = (L_5,  L_4,  [L_6, L_7],             0,           _pi/2,  0,              q8+_pi/2,  False, True,  True) # Counterweight\n",
    "    x[10] = (L_6,  L_5,  [],                    l_pitch2yaw, -_pi/2, 0,              q9+_pi/2,  False, False,  True) # Tool Roll \n",
    "    x[11] = (L_7,  L_5,  [],                    l_pitch2yaw, -_pi/2, 0,              q10+_pi/2,  False, False,  True) # Tool Pitch\n",
    "    \n",
    "    x[12] = (M_6,  L_b,  [],                    0,           0,      0,              q6,        False, True,  True) # Tool Yaw1 inert\n",
    "    x[13] = (M_7,  L_b,  [],                    0,           0,      0,              q7,        False, True,  True) # Tool Yaw2 inert\n",
    "    x[14] = (F_67, L_b,  [],                    0,           0,      0,              q10-q9,    False, False, True) # q6 q7 coupled friction\n",
    "    \n",
    "    dh = x\n",
    "    friction_type = ['Coulomb', 'viscous', 'offset']\n",
    "    springs = [-q4]\n",
    "    print(model_name)\n",
    "elif (model_name == 'psm'):\n",
    "    \n",
    "    q8 = 1.0186 * q5\n",
    "    q9 = -0.8306 * q5 + 1.2178 * q6\n",
    "    q10 = -0.8306 *q5 + 1.2178 * q7\n",
    "    \n",
    "    l_2L1 = 96*0.001\n",
    "    l_2L2 = 516*0.001\n",
    "    l_2L3 = 40.09*0.001\n",
    "    \n",
    "    l_2H1 = 144.54*0.001\n",
    "    l_2H2 = 38.08*0.001\n",
    "    \n",
    "    l_3 = 40.09*0.001\n",
    "    \n",
    "    l_RCC = 431.8*0.001\n",
    "    l_tool = 416.2*0.001\n",
    "    l_pitch2yaw = 9.1*0.001\n",
    "    \n",
    "    M_motor2dvrk_q = np.matrix([[1.0186, 0, 0], [-0.8306, 0.6089, 0.6089], [0, -1.2177, 1.2177]])\n",
    "    M_model2dvrk_q = np.matrix([[1, 0, 0], [0, 0.5, 0.5], [0, -1, 1]])\n",
    "    \n",
    "    L_b = 0\n",
    "    L_1 = 1\n",
    "    L_20 = 2\n",
    "    L_21 = 3\n",
    "    L_22 = 4\n",
    "    L_23 = 5\n",
    "    L_24 = 6\n",
    "    L_25 = 7\n",
    "    L_30 = 8\n",
    "    L_31 = 9\n",
    "    L_4 = 10\n",
    "    L_5 = 11\n",
    "    L_6 = 12\n",
    "    L_7 = 13\n",
    "    M_6 = 14\n",
    "    M_7 = 15\n",
    "    F_67 = 16\n",
    "    \n",
    "    \n",
    "    x = [None]*17\n",
    "    x[0]  = (L_b,  -1,   [L_1, M_6, M_7, F_67], 0,           0,      0,              0,         False, False, False) # Base\n",
    "    \n",
    "    \n",
    "    x[1]  = (L_1,  L_b,  [L_20],                0,           _pi/2,  0,              q1+_pi/2,  True,  False, True) # Yaw\n",
    "    x[2]  = (L_20, L_1,  [L_21, L_31],          0,           -_pi/2, 0,              q2-_pi/2,  True,  False, True) # -- Intermediate\n",
    "    x[3]  = (L_21, L_20, [L_22, L_23],          l_2L3,       0,      0,              _pi/2,     False, False, False) # Pitch Back\n",
    "    x[4]  = (L_22, L_21, [L_24, L_25, L_30],    l_2H1,       0,      0,              -q2+_pi/2, True,  False, False) # Pitch Front                                    )\n",
    "    x[5]  = (L_23, L_21, [],                    l_2H1+l_2H2, 0,      0,              -q2+_pi/2, True,  False, False)    # Intermediate\n",
    "    x[6]  = (L_24, L_22, [L_30],                l_2L2,       0,      0,              q2,        True,  False, False)    # Pitch Bottom\n",
    "    x[7]  = (L_25, L_22, [],                    l_2L1,       0,      0,              q2+_pi,    True,  False, False)    # Pitch Top\n",
    "    x[8]  = (L_30, L_24, [L_4],                 l_3,         -_pi/2,  q3-l_RCC+l_2H1, 0,         True,  False, True)    # Pitch End\n",
    "    x[9]  = (L_31, L_20, [],                    l_2L3,       -_pi/2, q3,             0,         True,  False, False)    # Main Insertion\n",
    "    x[10] = (L_4,  L_30, [L_5],                 0,           0,      l_tool,         q4,        False, True,  True) # Intermediate Counterweight\n",
    "    x[11] = (L_5,  L_4,  [L_6, L_7],            0,           _pi/2,  0,              q8+_pi/2,  False, True,  True) # Counterweight\n",
    "    x[12] = (L_6,  L_5,  [],                    l_pitch2yaw, -_pi/2, 0,              q9+_pi/2,  False, False,  True) # Tool Roll \n",
    "    x[13] = (L_7,  L_5,  [],                    l_pitch2yaw, -_pi/2, 0,              q10+_pi/2,  False, False,  True) # Tool Pitch\n",
    "    \n",
    "    x[14] = (M_6,  L_b,  [],                    0,           0,      0,              q6,        False, True,  True) # Tool Yaw1 inert\n",
    "    x[15] = (M_7,  L_b,  [],                    0,           0,      0,              q7,        False, True,  True) # Tool Yaw2 inert\n",
    "    x[16] = (F_67, L_b,  [],                    0,           0,      0,              q10-q9,    False, False, True) # q6 q7 coupled friction\n",
    "    \n",
    "    dh = x\n",
    "    friction_type = ['Coulomb', 'viscous', 'offset']\n",
    "    springs = [-q4]\n",
    "    print(model_name)\n",
    "else:\n",
    "    raise Exception(\"No robot name matches \" + name)\n",
    "print(friction_type)\n",
    "robot_def = RobotDef(dh,\n",
    "                     springs=springs,\n",
    "                     dh_convention='mdh',\n",
    "                     friction_type=friction_type)"
   ]
  },
  {
   "cell_type": "code",
   "execution_count": 26,
   "metadata": {},
   "outputs": [
    {
     "data": {
      "text/plain": [
       "matrix([[ 1.0186 ,  0.     ,  0.     ],\n",
       "        [-0.8306 ,  1.21775,  0.     ],\n",
       "        [-0.8306 ,  0.     ,  1.21775]])"
      ]
     },
     "execution_count": 26,
     "metadata": {},
     "output_type": "execute_result"
    }
   ],
   "source": [
    "M_motor2dvrk_q = np.matrix([[1.0186, 0, 0], [-0.8306, 0.6089, 0.6089], [0, -1.2177, 1.2177]])\n",
    "M_model2dvrk_q = np.matrix([[1, 0, 0], [0, 0.5, 0.5], [0, -1, 1]])\n",
    "M_motor2model_q = np.linalg.inv(M_model2dvrk_q)*M_motor2dvrk_q\n",
    "M_motor2model_q[np.abs(M_motor2model_q) < 0.0001] = 0\n",
    "M_motor2model_q"
   ]
  },
  {
   "cell_type": "code",
   "execution_count": 27,
   "metadata": {},
   "outputs": [
    {
     "data": {
      "text/plain": [
       "['R', 'R', 'P', 'R', 'R', 'R', 'R']"
      ]
     },
     "execution_count": 27,
     "metadata": {},
     "output_type": "execute_result"
    }
   ],
   "source": [
    "robot_def.coordinates_joint_type"
   ]
  },
  {
   "cell_type": "code",
   "execution_count": 28,
   "metadata": {},
   "outputs": [
    {
     "data": {
      "image/png": "[encoded data removed]",
      "text/latex": [
       "$$\\left [ L1xx, \\quad L1xy, \\quad L1xz, \\quad L1yy, \\quad L1yz, \\quad L1zz, \\quad l1x, \\quad l1y, \\quad l1z, \\quad m_{1}, \\quad Fc_{1}, \\quad Fv_{1}, \\quad Fo_{1}, \\quad L2xx, \\quad L2xy, \\quad L2xz, \\quad L2yy, \\quad L2yz, \\quad L2zz, \\quad l2x, \\quad l2y, \\quad l2z, \\quad m_{2}, \\quad Fc_{2}, \\quad Fv_{2}, \\quad Fo_{2}, \\quad L4xx, \\quad L4xy, \\quad L4xz, \\quad L4yy, \\quad L4yz, \\quad L4zz, \\quad l4x, \\quad l4y, \\quad l4z, \\quad m_{4}, \\quad L5xx, \\quad L5xy, \\quad L5xz, \\quad L5yy, \\quad L5yz, \\quad L5zz, \\quad l5x, \\quad l5y, \\quad l5z, \\quad m_{5}, \\quad L6xx, \\quad L6xy, \\quad L6xz, \\quad L6yy, \\quad L6yz, \\quad L6zz, \\quad l6x, \\quad l6y, \\quad l6z, \\quad m_{6}, \\quad Fc_{6}, \\quad Fv_{6}, \\quad Fo_{6}, \\quad L7xx, \\quad L7xy, \\quad L7xz, \\quad L7yy, \\quad L7yz, \\quad L7zz, \\quad l7x, \\quad l7y, \\quad l7z, \\quad m_{7}, \\quad Fc_{8}, \\quad Fv_{8}, \\quad Fo_{8}, \\quad Ia_{8}, \\quad Fc_{9}, \\quad Fv_{9}, \\quad Fo_{9}, \\quad Ia_{9}, \\quad Fc_{10}, \\quad Fv_{10}, \\quad Fo_{10}, \\quad Fc_{11}, \\quad Fv_{11}, \\quad Fo_{11}, \\quad Fc_{12}, \\quad Fv_{12}, \\quad Fo_{12}, \\quad Ia_{12}, \\quad Fc_{13}, \\quad Fv_{13}, \\quad Fo_{13}, \\quad Ia_{13}, \\quad Fc_{14}, \\quad Fv_{14}, \\quad Fo_{14}, \\quad K_{0}\\right ]$$"
      ],
      "text/plain": [
       "[L1xx, L1xy, L1xz, L1yy, L1yz, L1zz, l1x, l1y, l1z, m₁, Fc₁, Fv₁, Fo₁, L2xx, L\n",
       "2xy, L2xz, L2yy, L2yz, L2zz, l2x, l2y, l2z, m₂, Fc₂, Fv₂, Fo₂, L4xx, L4xy, L4x\n",
       "z, L4yy, L4yz, L4zz, l4x, l4y, l4z, m₄, L5xx, L5xy, L5xz, L5yy, L5yz, L5zz, l5\n",
       "x, l5y, l5z, m₅, L6xx, L6xy, L6xz, L6yy, L6yz, L6zz, l6x, l6y, l6z, m₆, Fc₆, F\n",
       "v₆, Fo₆, L7xx, L7xy, L7xz, L7yy, L7yz, L7zz, l7x, l7y, l7z, m₇, Fc₈, Fv₈, Fo₈,\n",
       " Ia₈, Fc₉, Fv₉, Fo₉, Ia₉, Fc₁₀, Fv₁₀, Fo₁₀, Fc₁₁, Fv₁₁, Fo₁₁, Fc₁₂, Fv₁₂, Fo₁₂\n",
       ", Ia₁₂, Fc₁₃, Fv₁₃, Fo₁₃, Ia₁₃, Fc₁₄, Fv₁₄, Fo₁₄, K₀]"
      ]
     },
     "execution_count": 28,
     "metadata": {},
     "output_type": "execute_result"
    }
   ],
   "source": [
    "robot_def.bary_params"
   ]
  },
  {
   "cell_type": "markdown",
   "metadata": {},
   "source": [
    "## Create kinematics chain"
   ]
  },
  {
   "cell_type": "code",
   "execution_count": 29,
   "metadata": {
    "scrolled": true
   },
   "outputs": [
    {
     "name": "stdout",
     "output_type": "stream",
     "text": [
      "Frame: 0\n",
      "Frame: 1\n",
      "Frame: 2\n",
      "Frame: 3\n",
      "Frame: 4\n",
      "Frame: 5\n",
      "Frame: 6\n",
      "Frame: 7\n",
      "Frame: 8\n",
      "Frame: 9\n",
      "Frame: 10\n",
      "Frame: 11\n",
      "Frame: 12\n",
      "Frame: 13\n",
      "Frame: 14\n",
      "CPU times: user 11min 9s, sys: 2.19 s, total: 11min 11s\n",
      "Wall time: 11min 9s\n"
     ]
    }
   ],
   "source": [
    "%time geom = Geometry(robot_def)"
   ]
  },
  {
   "cell_type": "code",
   "execution_count": 30,
   "metadata": {},
   "outputs": [],
   "source": [
    "angle = [0, 0.0, 0, 0, 0, 0.3, 0.4]\n",
    "geom.draw_geom(angle)"
   ]
  },
  {
   "cell_type": "markdown",
   "metadata": {},
   "source": [
    "## Create dynamics"
   ]
  },
  {
   "cell_type": "code",
   "execution_count": 31,
   "metadata": {},
   "outputs": [
    {
     "name": "stdout",
     "output_type": "stream",
     "text": [
      "Calculating Lagrangian...\n",
      "Calculating the link kinetic energy of 1/14\n",
      "Calculating the link kinetic energy of 2/14\n",
      "Calculating the link kinetic energy of 4/14\n",
      "Calculating the link kinetic energy of 5/14\n",
      "Calculating the link kinetic energy of 6/14\n",
      "Calculating the link kinetic energy of 7/14\n",
      "Calculating joint torques...\n",
      "tau of q1\n",
      "tau of q2\n",
      "tau of q3\n",
      "tau of q4\n",
      "tau of q5\n",
      "tau of q6\n",
      "tau of q7\n",
      "Adding frictions and springs...\n",
      "Add motor inertia...\n",
      "Calculating regressor...\n",
      "Calculating M, C and G...\n",
      "Calculating base parameter...\n",
      "base parameter number: 48\n",
      "Creating H_b function...\n",
      "Finished creating robot dynamics\n"
     ]
    }
   ],
   "source": [
    "dyn = Dynamics(robot_def, geom)"
   ]
  },
  {
   "cell_type": "code",
   "execution_count": 32,
   "metadata": {
    "scrolled": true
   },
   "outputs": [
    {
     "data": {
      "text/latex": [
       "$$\\left[\\begin{matrix}1.0 m_{6}\\\\1.0 m_{7}\\\\0.5 l2y - 0.5 l5y + 1.0 l7z + 0.07227 m_{4} + 0.07227 m_{5}\\\\- 0.5 l2x + 0.5 l5x + 1.0 l6x - 0.020045 m_{4} - 0.020045 m_{5}\\\\- 0.5 l2y + 0.5 l5y + 1.0 l6z - 0.07227 m_{4} - 0.07227 m_{5}\\\\0.5 l2x - 0.5 l5x + 1.0 l7x + 0.020045 m_{4} + 0.020045 m_{5}\\\\- 0.5 l1y - 0.5 l2z - 0.5 l4z - 0.5 l5z + 1.0 l6y\\\\- 0.5 l1y - 0.5 l2z - 0.5 l4z - 0.5 l5z + 1.0 l7y\\\\1.0 l4y\\\\1.0 Fv_{14}\\\\1.0 L2xy + 1.0 L5xy + 1.0 L6xz + 1.0 L7xz + 0.2159 l2x + 0.020045 l2y - 0.07136 l5x + 0.020045 l5y + 0.00575813 m_{4} + 0.00575813 m_{5}\\\\1.0 Fv_{10}\\\\1.0 Fv_{11}\\\\1.0 L2xz - 1.0 L5xz + 1.0 L6xy - 1.0 L7xy + 0.020045 l1y + 0.020045 l2z - 0.020045 l4z - 0.020045 l5z\\\\1.0 L2yz - 1.0 L5yz + 1.0 L6yz - 1.0 L7yz + 0.2159 l1y + 0.2159 l2z + 0.07136 l4z + 0.07136 l5z\\\\1.0 L1zz + 1.0 L2yy + 1.0 L4xx + 1.0 L5yy + 1.0 L6zz + 1.0 L7zz - 0.04009 l2x - 0.04009 l5x\\\\1.0 K_{0}\\\\1.0 Ia_{9}\\\\1.0 Ia_{8}\\\\1.0 Ia_{12}\\\\1.0 Fv_{1}\\\\1.0 Fv_{6}\\\\1.0 Ia_{13}\\\\1.0 Fv_{2}\\\\1.0 Fo_{11} + 0.8211529 Fo_{13} + 1.0 Fo_{14}\\\\1.0 Fv_{9}\\\\1.0 Fv_{8}\\\\1.0 L1zz + 1.0 L2xx + 1.0 L4xx + 1.0 L5xx + 1.0 L6xx + 1.0 L7xx - 0.4318 l2y + 0.14272 l5y - 0.04152056 m_{4} - 0.04152056 m_{5}\\\\1.0 L2zz + 1.0 L5zz + 1.0 L6yy + 1.0 L7yy - 0.04009 l2x - 0.4318 l2y - 0.04009 l5x + 0.14272 l5y - 0.04152056 m_{4} - 0.04152056 m_{5}\\\\1.0 Fo_{10} + 1.0 Fo_{11} + 0.8211529 Fo_{12} + 0.8211529 Fo_{13}\\\\1.0 Fv_{13}\\\\1.0 Fv_{12}\\\\1.0 Fo_{8}\\\\1.0 Fo_{2}\\\\1.0 Fo_{1}\\\\1.0 Fo_{6}\\\\1.0 Fc_{14}\\\\1.0 l1x\\\\1.0 Fc_{10}\\\\1.0 Fc_{11}\\\\0.66959513 Fo_{12} + 0.66959513 Fo_{13} + 1.0 Fo_{9}\\\\1.0 Fc_{12}\\\\1.0 Fc_{8}\\\\1.0 Fc_{6}\\\\1.0 Fc_{9}\\\\1.0 Fc_{2}\\\\1.0 Fc_{1}\\\\1.0 Fc_{13}\\end{matrix}\\right]$$"
      ],
      "text/plain": [
       "⎡                                                              1.0⋅m₆         \n",
       "⎢                                                                             \n",
       "⎢                                                              1.0⋅m₇         \n",
       "⎢                                                                             \n",
       "⎢                                      0.5⋅l2y - 0.5⋅l5y + 1.0⋅l7z + 0.07227⋅m\n",
       "⎢                                                                             \n",
       "⎢                                     -0.5⋅l2x + 0.5⋅l5x + 1.0⋅l6x - 0.020045⋅\n",
       "⎢                                                                             \n",
       "⎢                                      -0.5⋅l2y + 0.5⋅l5y + 1.0⋅l6z - 0.07227⋅\n",
       "⎢                                                                             \n",
       "⎢                                     0.5⋅l2x - 0.5⋅l5x + 1.0⋅l7x + 0.020045⋅m\n",
       "⎢                                                                             \n",
       "⎢                                         -0.5⋅l1y - 0.5⋅l2z - 0.5⋅l4z - 0.5⋅l\n",
       "⎢                                                                             \n",
       "⎢                                         -0.5⋅l1y - 0.5⋅l2z - 0.5⋅l4z - 0.5⋅l\n",
       "⎢                                                                             \n",
       "⎢                                                             1.0⋅l4y         \n",
       "⎢                                                                             \n",
       "⎢                                                             1.0⋅Fv₁₄        \n",
       "⎢                                                                             \n",
       "⎢1.0⋅L2xy + 1.0⋅L5xy + 1.0⋅L6xz + 1.0⋅L7xz + 0.2159⋅l2x + 0.020045⋅l2y - 0.071\n",
       "⎢                                                                             \n",
       "⎢                                                             1.0⋅Fv₁₀        \n",
       "⎢                                                                             \n",
       "⎢                                                             1.0⋅Fv₁₁        \n",
       "⎢                                                                             \n",
       "⎢              1.0⋅L2xz - 1.0⋅L5xz + 1.0⋅L6xy - 1.0⋅L7xy + 0.020045⋅l1y + 0.02\n",
       "⎢                                                                             \n",
       "⎢                 1.0⋅L2yz - 1.0⋅L5yz + 1.0⋅L6yz - 1.0⋅L7yz + 0.2159⋅l1y + 0.2\n",
       "⎢                                                                             \n",
       "⎢                   1.0⋅L1zz + 1.0⋅L2yy + 1.0⋅L4xx + 1.0⋅L5yy + 1.0⋅L6zz + 1.0\n",
       "⎢                                                                             \n",
       "⎢                                                              1.0⋅K₀         \n",
       "⎢                                                                             \n",
       "⎢                                                             1.0⋅Ia₉         \n",
       "⎢                                                                             \n",
       "⎢                                                             1.0⋅Ia₈         \n",
       "⎢                                                                             \n",
       "⎢                                                             1.0⋅Ia₁₂        \n",
       "⎢                                                                             \n",
       "⎢                                                             1.0⋅Fv₁         \n",
       "⎢                                                                             \n",
       "⎢                                                             1.0⋅Fv₆         \n",
       "⎢                                                                             \n",
       "⎢                                                             1.0⋅Ia₁₃        \n",
       "⎢                                                                             \n",
       "⎢                                                             1.0⋅Fv₂         \n",
       "⎢                                                                             \n",
       "⎢                                               1.0⋅Fo₁₁ + 0.8211529⋅Fo₁₃ + 1.\n",
       "⎢                                                                             \n",
       "⎢                                                             1.0⋅Fv₉         \n",
       "⎢                                                                             \n",
       "⎢                                                             1.0⋅Fv₈         \n",
       "⎢                                                                             \n",
       "⎢    1.0⋅L1zz + 1.0⋅L2xx + 1.0⋅L4xx + 1.0⋅L5xx + 1.0⋅L6xx + 1.0⋅L7xx - 0.4318⋅\n",
       "⎢                                                                             \n",
       "⎢ 1.0⋅L2zz + 1.0⋅L5zz + 1.0⋅L6yy + 1.0⋅L7yy - 0.04009⋅l2x - 0.4318⋅l2y - 0.040\n",
       "⎢                                                                             \n",
       "⎢                                      1.0⋅Fo₁₀ + 1.0⋅Fo₁₁ + 0.8211529⋅Fo₁₂ + \n",
       "⎢                                                                             \n",
       "⎢                                                             1.0⋅Fv₁₃        \n",
       "⎢                                                                             \n",
       "⎢                                                             1.0⋅Fv₁₂        \n",
       "⎢                                                                             \n",
       "⎢                                                             1.0⋅Fo₈         \n",
       "⎢                                                                             \n",
       "⎢                                                             1.0⋅Fo₂         \n",
       "⎢                                                                             \n",
       "⎢                                                             1.0⋅Fo₁         \n",
       "⎢                                                                             \n",
       "⎢                                                             1.0⋅Fo₆         \n",
       "⎢                                                                             \n",
       "⎢                                                             1.0⋅Fc₁₄        \n",
       "⎢                                                                             \n",
       "⎢                                                             1.0⋅l1x         \n",
       "⎢                                                                             \n",
       "⎢                                                             1.0⋅Fc₁₀        \n",
       "⎢                                                                             \n",
       "⎢                                                             1.0⋅Fc₁₁        \n",
       "⎢                                                                             \n",
       "⎢                                           0.66959513⋅Fo₁₂ + 0.66959513⋅Fo₁₃ \n",
       "⎢                                                                             \n",
       "⎢                                                             1.0⋅Fc₁₂        \n",
       "⎢                                                                             \n",
       "⎢                                                             1.0⋅Fc₈         \n",
       "⎢                                                                             \n",
       "⎢                                                             1.0⋅Fc₆         \n",
       "⎢                                                                             \n",
       "⎢                                                             1.0⋅Fc₉         \n",
       "⎢                                                                             \n",
       "⎢                                                             1.0⋅Fc₂         \n",
       "⎢                                                                             \n",
       "⎢                                                             1.0⋅Fc₁         \n",
       "⎢                                                                             \n",
       "⎣                                                             1.0⋅Fc₁₃        \n",
       "\n",
       "                                                     ⎤\n",
       "                                                     ⎥\n",
       "                                                     ⎥\n",
       "                                                     ⎥\n",
       "₄ + 0.07227⋅m₅                                       ⎥\n",
       "                                                     ⎥\n",
       "m₄ - 0.020045⋅m₅                                     ⎥\n",
       "                                                     ⎥\n",
       "m₄ - 0.07227⋅m₅                                      ⎥\n",
       "                                                     ⎥\n",
       "₄ + 0.020045⋅m₅                                      ⎥\n",
       "                                                     ⎥\n",
       "5z + 1.0⋅l6y                                         ⎥\n",
       "                                                     ⎥\n",
       "5z + 1.0⋅l7y                                         ⎥\n",
       "                                                     ⎥\n",
       "                                                     ⎥\n",
       "                                                     ⎥\n",
       "                                                     ⎥\n",
       "                                                     ⎥\n",
       "36⋅l5x + 0.020045⋅l5y + 0.00575813⋅m₄ + 0.00575813⋅m₅⎥\n",
       "                                                     ⎥\n",
       "                                                     ⎥\n",
       "                                                     ⎥\n",
       "                                                     ⎥\n",
       "                                                     ⎥\n",
       "0045⋅l2z - 0.020045⋅l4z - 0.020045⋅l5z               ⎥\n",
       "                                                     ⎥\n",
       "159⋅l2z + 0.07136⋅l4z + 0.07136⋅l5z                  ⎥\n",
       "                                                     ⎥\n",
       "⋅L7zz - 0.04009⋅l2x - 0.04009⋅l5x                    ⎥\n",
       "                                                     ⎥\n",
       "                                                     ⎥\n",
       "                                                     ⎥\n",
       "                                                     ⎥\n",
       "                                                     ⎥\n",
       "                                                     ⎥\n",
       "                                                     ⎥\n",
       "                                                     ⎥\n",
       "                                                     ⎥\n",
       "                                                     ⎥\n",
       "                                                     ⎥\n",
       "                                                     ⎥\n",
       "                                                     ⎥\n",
       "                                                     ⎥\n",
       "                                                     ⎥\n",
       "                                                     ⎥\n",
       "                                                     ⎥\n",
       "0⋅Fo₁₄                                               ⎥\n",
       "                                                     ⎥\n",
       "                                                     ⎥\n",
       "                                                     ⎥\n",
       "                                                     ⎥\n",
       "                                                     ⎥\n",
       "l2y + 0.14272⋅l5y - 0.04152056⋅m₄ - 0.04152056⋅m₅    ⎥\n",
       "                                                     ⎥\n",
       "09⋅l5x + 0.14272⋅l5y - 0.04152056⋅m₄ - 0.04152056⋅m₅ ⎥\n",
       "                                                     ⎥\n",
       "0.8211529⋅Fo₁₃                                       ⎥\n",
       "                                                     ⎥\n",
       "                                                     ⎥\n",
       "                                                     ⎥\n",
       "                                                     ⎥\n",
       "                                                     ⎥\n",
       "                                                     ⎥\n",
       "                                                     ⎥\n",
       "                                                     ⎥\n",
       "                                                     ⎥\n",
       "                                                     ⎥\n",
       "                                                     ⎥\n",
       "                                                     ⎥\n",
       "                                                     ⎥\n",
       "                                                     ⎥\n",
       "                                                     ⎥\n",
       "                                                     ⎥\n",
       "                                                     ⎥\n",
       "                                                     ⎥\n",
       "                                                     ⎥\n",
       "                                                     ⎥\n",
       "                                                     ⎥\n",
       "+ 1.0⋅Fo₉                                            ⎥\n",
       "                                                     ⎥\n",
       "                                                     ⎥\n",
       "                                                     ⎥\n",
       "                                                     ⎥\n",
       "                                                     ⎥\n",
       "                                                     ⎥\n",
       "                                                     ⎥\n",
       "                                                     ⎥\n",
       "                                                     ⎥\n",
       "                                                     ⎥\n",
       "                                                     ⎥\n",
       "                                                     ⎥\n",
       "                                                     ⎥\n",
       "                                                     ⎦"
      ]
     },
     "execution_count": 32,
     "metadata": {},
     "output_type": "execute_result"
    }
   ],
   "source": [
    "sympy.Matrix(dyn.base_param)"
   ]
  },
  {
   "cell_type": "code",
   "execution_count": 33,
   "metadata": {},
   "outputs": [
    {
     "name": "stdout",
     "output_type": "stream",
     "text": [
      "Saved 48 parameters\n"
     ]
    }
   ],
   "source": [
    "from data import RobotModel\n",
    "\n",
    "# Data to be saved\n",
    "robot_model = RobotModel(dyn)\n",
    "\n",
    "# Save\n",
    "save_data(model_folder, model_name, robot_model)\n",
    "print('Saved {} parameters'.format(len(robot_model.base_param)))"
   ]
  },
  {
   "cell_type": "markdown",
   "metadata": {},
   "source": [
    "---\n",
    "# 3 - Excitation trajectory optimization"
   ]
  },
  {
   "cell_type": "code",
   "execution_count": 487,
   "metadata": {},
   "outputs": [],
   "source": [
    "model_name = 'psm_simplified'\n",
    "#model_name = 'psm'"
   ]
  },
  {
   "cell_type": "markdown",
   "metadata": {},
   "source": [
    "Load Data"
   ]
  },
  {
   "cell_type": "code",
   "execution_count": 488,
   "metadata": {},
   "outputs": [],
   "source": [
    "from utils import load_data\n",
    "model_folder = 'data/' + model_name + '/model/'\n",
    "robot_model = load_data(model_folder, model_name)"
   ]
  },
  {
   "cell_type": "markdown",
   "metadata": {},
   "source": [
    "## Create trajectory optimizer object, with H matrix, foourier order, base frequency, joint constraints and cartisian constraints as input"
   ]
  },
  {
   "cell_type": "code",
   "execution_count": 518,
   "metadata": {},
   "outputs": [],
   "source": [
    "#trajectory_name = 'one'\n",
    "trajectory_name = 'three'\n",
    "#trajectory_name = 'three'"
   ]
  },
  {
   "cell_type": "code",
   "execution_count": 519,
   "metadata": {
    "scrolled": true
   },
   "outputs": [
    {
     "name": "stdout",
     "output_type": "stream",
     "text": [
      "joint constraint number: 8\n",
      "cartesian constraint number: 0\n",
      "constraint number: 32\n",
      "frames_constrained: []\n",
      "Condition number: 178.523802514\n",
      "Condition number: 178.523802513\n",
      "Condition number: 136.502885908\n",
      "Condition number: 69.1402156695\n",
      "Condition number: 68.0634056146\n",
      "Condition number: 81.887515054\n",
      "Condition number: 94.3410478764\n",
      "Condition number: 105.096610688\n",
      "Condition number: 111.016642049\n",
      "Condition number: 118.283346706\n",
      "Condition number: 126.524336364\n",
      "Condition number: 137.420569776\n",
      "Condition number: 217.082864709\n",
      "Condition number: 264.71653407\n",
      "Condition number: 284.305883976\n",
      "Condition number: 295.629849186\n",
      "Condition number: 305.69932195\n",
      "Condition number: 308.605939249\n",
      "Condition number: 309.301487923\n",
      "Condition number: 309.462334604\n",
      "Condition number: 326.367109877\n",
      "Condition number: 345.514268989\n",
      "Condition number: 359.839539866\n",
      "Condition number: 363.087879674\n",
      "Condition number: 386.421917011\n",
      "Condition number: 395.976387297\n",
      "Condition number: 397.641856949\n",
      "Condition number: 397.708481304\n",
      "Condition number: 402.703320094\n",
      "Condition number: 409.353241189\n",
      "Condition number: 413.372222619\n",
      "Condition number: 437.397642733\n",
      "Condition number: 438.466482943\n",
      "Condition number: 443.758243057\n",
      "Condition number: 444.534411823\n",
      "Condition number: 445.504383863\n",
      "Condition number: 447.900879842\n",
      "Condition number: 443.048930094\n",
      "Condition number: 431.396526236\n",
      "Condition number: 429.570351944\n",
      "Condition number: 738.613609284\n",
      "Condition number: 426.529956532\n",
      "Condition number: 424.173277441\n",
      "Condition number: 422.956960618\n",
      "Condition number: 422.88032595\n",
      "Condition number: 421.915213718\n",
      "Condition number: 421.29476075\n",
      "Condition number: 421.159253801\n",
      "Condition number: 420.690251862\n",
      "Condition number: 420.39103617\n",
      "Condition number: 420.153927222\n",
      "Condition number: 420.153927222\n",
      "x: [-0.22666113  0.03957694  0.09678771  0.0616674  -0.53296456  1.09454151\n",
      "  0.31198426 -0.02670849  0.13473313  0.04207806  0.32564185  0.38476998\n",
      "  0.46659898  0.03712586 -0.41340079  0.65588367  0.84251873  0.68380396\n",
      " -0.32921201  0.2138161   0.51846218 -0.08600277 -0.06738411  0.0258489\n",
      "  0.44098962 -0.17305188  0.15296674 -0.04130716  0.0307696   0.05535583\n",
      "  0.0121518   0.16081792  0.09737934  0.01942592  0.05875866 -0.03807484\n",
      "  0.02115768 -0.08221055  0.18136034  0.18930809 -0.14301712  0.39569409\n",
      " -0.57175941  0.60078038  0.8220012   0.27514657  0.01302536  0.12466608\n",
      "  0.24681878 -0.17774289  0.57137186 -0.16220556  0.12169403  0.03920114\n",
      "  0.47202371 -0.00689362 -0.48807736  0.19744879  0.43978471  0.09542299\n",
      "  0.11966782  0.94446708 -0.01757748  0.6779581  -0.50716948 -0.18088824\n",
      "  0.25364837  0.69655922 -0.01762257 -0.3348483  -0.26823556  1.2657229\n",
      "  0.3628827   0.23420903  1.10136211  0.62208374  0.69856999 -0.45703775\n",
      "  0.55315576  0.24652249  0.63103134  0.51066413  0.25307742 -0.00432915\n",
      "  0.15659143  0.03405475  0.21587653  1.19968484 -0.13288565  0.77706885\n",
      " -0.95217538]\n"
     ]
    }
   ],
   "source": [
    "from numpy import deg2rad\n",
    "\n",
    "optimal_trajectory_folder = 'data/optimal_trajectory/'\n",
    "trajectory_folder = 'data/' + model_name +'/optimal_trajectory/'\n",
    "\n",
    "base_freq = 0.18\n",
    "fourier_order = 6\n",
    "\n",
    "joint_constraints = []\n",
    "cartesian_constraints = []\n",
    "\n",
    "if model_name == 'psm_simplified':\n",
    "    q_dvrk7 = 1.2177*q7 - 1.2177*q6\n",
    "#     q_mod6 = (4871*q6)/4000 - (4153*q5)/5000\n",
    "#     q_mod7 = - (4153*q5)/5000 + (4871*q7)/4000\n",
    "    \n",
    "    q_dvrk5 = 1.0186 * q5\n",
    "    q_mod6 = -0.8306 * q5 + 1.2178 * q6\n",
    "    q_mod7 = -0.8306 * q5 + 1.2178 * q7\n",
    "    \n",
    "    joint_constraints = [(q1, -1.45, 1.45, -1.7, 1.7),\n",
    "                         (q2, -0.75, 0.8, -1.7, 1.7),\n",
    "                         (q3,0.07,0.235,-0.35,0.35),\n",
    "                         (q4,-1.5,1.5,-2,2),\n",
    "                         (q_dvrk5,-1.4,1.4,-2,2), \n",
    "                         (q_dvrk7, 0.15, 3,-3,3),\n",
    "                         (q_mod7, -1.5, 1.5,-2,2),\n",
    "                          (q_mod6, -1.5, 1.5,-2,2)]\n",
    "else:\n",
    "    raise Exception(\"No robot name matches \" + model_name)\n",
    "    \n",
    "traj_optimizer = TrajOptimizer(robot_model, fourier_order, base_freq,\n",
    "                               joint_constraints=joint_constraints,\n",
    "                               cartesian_constraints = cartesian_constraints)\n",
    "                                                                                                 \n",
    "                                                                                                                     \n",
    "traj_optimizer.optimize()\n"
   ]
  },
  {
   "cell_type": "code",
   "execution_count": 520,
   "metadata": {},
   "outputs": [],
   "source": [
    "reg_norm_mat = traj_optimizer.calc_normalize_mat()"
   ]
  },
  {
   "cell_type": "markdown",
   "metadata": {},
   "source": [
    "## Plot optimal excitation trajectory"
   ]
  },
  {
   "cell_type": "code",
   "execution_count": 521,
   "metadata": {},
   "outputs": [],
   "source": [
    "traj_optimizer.calc_frame_traj()"
   ]
  },
  {
   "cell_type": "code",
   "execution_count": 522,
   "metadata": {},
   "outputs": [],
   "source": [
    "traj_plotter = TrajPlotter(traj_optimizer.fourier_traj,traj_optimizer.frame_traj,\n",
    "                           traj_optimizer.const_frame_ind, robot_model.coordinates)\n",
    "traj_plotter.plot_desired_traj(traj_optimizer.x_result)\n",
    "\n",
    "traj_plotter.plot_frame_traj(True)"
   ]
  },
  {
   "cell_type": "markdown",
   "metadata": {},
   "source": [
    "## Save trajectory for later use"
   ]
  },
  {
   "cell_type": "code",
   "execution_count": 523,
   "metadata": {},
   "outputs": [],
   "source": [
    "dof_order_bf_x_norm = (traj_optimizer.fourier_traj.dof, fourier_order,\n",
    "                       base_freq, traj_optimizer.x_result, reg_norm_mat)\n",
    "save_data(trajectory_folder, trajectory_name, dof_order_bf_x_norm)"
   ]
  },
  {
   "cell_type": "code",
   "execution_count": 524,
   "metadata": {
    "scrolled": false
   },
   "outputs": [
    {
     "data": {
      "text/html": [
       "<table>\n",
       "<tbody>\n",
       "<tr><td>joint</td><td>qo     </td><td>a1     </td><td>a2    </td><td>a3     </td><td>a4     </td><td>a5     </td><td>a6    </td><td>b1     </td><td>b2    </td><td>b3     </td><td>b4     </td><td>b5     </td><td>b6     </td></tr>\n",
       "<tr><td>q1   </td><td>-0.2267</td><td>0.0396 </td><td>0.0968</td><td>0.0617 </td><td>-0.533 </td><td>1.0945 </td><td>0.312 </td><td>-0.0267</td><td>0.1347</td><td>0.0421 </td><td>0.3256 </td><td>0.3848 </td><td>0.4666 </td></tr>\n",
       "<tr><td>q2   </td><td>0.0371 </td><td>-0.4134</td><td>0.6559</td><td>0.8425 </td><td>0.6838 </td><td>-0.3292</td><td>0.2138</td><td>0.5185 </td><td>-0.086</td><td>-0.0674</td><td>0.0258 </td><td>0.441  </td><td>-0.1731</td></tr>\n",
       "<tr><td>q3   </td><td>0.153  </td><td>-0.0413</td><td>0.0308</td><td>0.0554 </td><td>0.0122 </td><td>0.1608 </td><td>0.0974</td><td>0.0194 </td><td>0.0588</td><td>-0.0381</td><td>0.0212 </td><td>-0.0822</td><td>0.1814 </td></tr>\n",
       "<tr><td>q4   </td><td>0.1893 </td><td>-0.143 </td><td>0.3957</td><td>-0.5718</td><td>0.6008 </td><td>0.822  </td><td>0.2751</td><td>0.013  </td><td>0.1247</td><td>0.2468 </td><td>-0.1777</td><td>0.5714 </td><td>-0.1622</td></tr>\n",
       "<tr><td>q5   </td><td>0.1217 </td><td>0.0392 </td><td>0.472 </td><td>-0.0069</td><td>-0.4881</td><td>0.1974 </td><td>0.4398</td><td>0.0954 </td><td>0.1197</td><td>0.9445 </td><td>-0.0176</td><td>0.678  </td><td>-0.5072</td></tr>\n",
       "<tr><td>q6   </td><td>-0.1809</td><td>0.2536 </td><td>0.6966</td><td>-0.0176</td><td>-0.3348</td><td>-0.2682</td><td>1.2657</td><td>0.3629 </td><td>0.2342</td><td>1.1014 </td><td>0.6221 </td><td>0.6986 </td><td>-0.457 </td></tr>\n",
       "<tr><td>q7   </td><td>0.5532 </td><td>0.2465 </td><td>0.631 </td><td>0.5107 </td><td>0.2531 </td><td>-0.0043</td><td>0.1566</td><td>0.0341 </td><td>0.2159</td><td>1.1997 </td><td>-0.1329</td><td>0.7771 </td><td>-0.9522</td></tr>\n",
       "</tbody>\n",
       "</table>"
      ],
      "text/plain": [
       "<IPython.core.display.HTML object>"
      ]
     },
     "metadata": {},
     "output_type": "display_data"
    }
   ],
   "source": [
    "from IPython.display import HTML, display\n",
    "import tabulate\n",
    "\n",
    "table = []\n",
    "table.append([\"joint\", 'qo'] +\n",
    "             [\"a\"+str(i+1) for i in range(fourier_order)] +\n",
    "             [\"b\"+str(i+1) for i in range(fourier_order)])\n",
    "for i in range(traj_optimizer.fourier_traj.dof):\n",
    "    line = []\n",
    "    line.append(robot_model.coordinates[i])\n",
    "    line += np.round(traj_optimizer.x_result[i*(1 + fourier_order*2): (i+1)*(1 + fourier_order*2)], 4).tolist()\n",
    "    table.append(line)\n",
    "\n",
    "display(HTML(tabulate.tabulate(table, tablefmt='html')))"
   ]
  },
  {
   "cell_type": "markdown",
   "metadata": {},
   "source": [
    "---\n",
    "# Data processing"
   ]
  },
  {
   "cell_type": "markdown",
   "metadata": {},
   "source": [
    "## Load data"
   ]
  },
  {
   "cell_type": "code",
   "execution_count": 497,
   "metadata": {},
   "outputs": [],
   "source": [
    "from identification import load_trajectory_data, diff_and_filt_data, plot_trajectory_data, plot_meas_pred_tau, gen_regressor"
   ]
  },
  {
   "cell_type": "markdown",
   "metadata": {},
   "source": [
    "### Load robot model"
   ]
  },
  {
   "cell_type": "code",
   "execution_count": 471,
   "metadata": {},
   "outputs": [
    {
     "name": "stdout",
     "output_type": "stream",
     "text": [
      "dof: 7\n",
      "Fourier order: 6\n",
      "Base frequency: 0.18\n"
     ]
    }
   ],
   "source": [
    "# Names as Arguments\n",
    "model_name = 'psm'\n",
    "\n",
    "training_trajectory_name = 'three'\n",
    "\n",
    "\n",
    "model_folder = 'data/' + model_name + '/model/'\n",
    "robot_model = load_data(model_folder,model_name)\n",
    "\n",
    "\n",
    "trajectory_folder = 'data/' + model_name +'/optimal_trajectory/'\n",
    "dof, fourier_order, base_freq, traj_optimizer_result, reg_norm_mat = load_data(trajectory_folder,\n",
    "                                                                          training_trajectory_name)\n",
    "#dof, fourier_order, base_freq, traj_optimizer_result = load_data(trajectory_folder,training_trajectory_name)\n",
    "     \n",
    "print(\"dof: {}\".format(dof))\n",
    "print(\"Fourier order: {}\".format(fourier_order))\n",
    "print(\"Base frequency: {}\".format(base_freq))"
   ]
  },
  {
   "cell_type": "markdown",
   "metadata": {},
   "source": [
    "### Load traning data set"
   ]
  },
  {
   "cell_type": "code",
   "execution_count": 472,
   "metadata": {},
   "outputs": [
    {
     "name": "stdout",
     "output_type": "stream",
     "text": [
      "(<type 'numpy.ndarray'>, (14999, 21))\n"
     ]
    }
   ],
   "source": [
    "# training_trajectory_name = 'one'\n",
    "\n",
    "results_folder = 'data/' + model_name +'/measured_trajectory/'\n",
    "training_results_data_file = results_folder + training_trajectory_name + '_results.csv'\n",
    "\n",
    "trajectory_sampling_rate = 500\n",
    "t_train, q_raw_train, dq_raw_train, tau_raw_train = load_trajectory_data(training_results_data_file,\n",
    "                                                                   trajectory_sampling_rate)"
   ]
  },
  {
   "cell_type": "markdown",
   "metadata": {},
   "source": [
    "### Load test data set"
   ]
  },
  {
   "cell_type": "code",
   "execution_count": 473,
   "metadata": {},
   "outputs": [
    {
     "name": "stdout",
     "output_type": "stream",
     "text": [
      "(<type 'numpy.ndarray'>, (14999, 21))\n"
     ]
    }
   ],
   "source": [
    "test_trajectory_name = 'one'\n",
    "\n",
    "results_folder = 'data/' + model_name +'/measured_trajectory/'\n",
    "test_results_data_file = results_folder + test_trajectory_name + '_results.csv'\n",
    "\n",
    "trajectory_sampling_rate = 500\n",
    "t_test, q_raw_test, dq_raw_test, tau_raw_test = load_trajectory_data(test_results_data_file,\n",
    "                                                                   trajectory_sampling_rate)"
   ]
  },
  {
   "cell_type": "markdown",
   "metadata": {},
   "source": [
    "## Calculate filter cut-off frequency"
   ]
  },
  {
   "cell_type": "code",
   "execution_count": 474,
   "metadata": {},
   "outputs": [
    {
     "name": "stdout",
     "output_type": "stream",
     "text": [
      "0.18\n",
      "[5.4]\n"
     ]
    }
   ],
   "source": [
    "# times of the highest frequency in the Fourier series\n",
    "#fc_mult = 4.0\n",
    "\n",
    "fc_mult = [5] #(good)\n",
    "#fc_mult = [8, 8, 5, 3, 4, 4, 4]\n",
    "\n",
    "#fc_mult = 4\n",
    "print(base_freq)\n",
    "fc = np.array(fc_mult)*base_freq* fourier_order \n",
    "\n",
    "print(fc)\n"
   ]
  },
  {
   "cell_type": "markdown",
   "metadata": {},
   "source": [
    "## Differentiation and filtering"
   ]
  },
  {
   "cell_type": "markdown",
   "metadata": {},
   "source": [
    "### Traning data"
   ]
  },
  {
   "cell_type": "code",
   "execution_count": 475,
   "metadata": {},
   "outputs": [
    {
     "name": "stdout",
     "output_type": "stream",
     "text": [
      "[0.06785840131753954, 0.06785840131753954, 0.06785840131753954, 0.06785840131753954, 0.06785840131753954, 0.06785840131753954, 0.06785840131753954]\n",
      "q_raw shape: (14999, 7)\n",
      "plot shape: 470\n"
     ]
    }
   ],
   "source": [
    "t_cut_train, q_f_train, dq_f_train, ddq_f_train, tau_f_train, q_raw_cut_train, tau_raw_cut_train =\\\n",
    "    diff_and_filt_data(dof, 1.0/trajectory_sampling_rate,\n",
    "                       t_train, q_raw_train, dq_raw_train, tau_raw_train, fc, fc, fc, fc)\n",
    "plot_trajectory_data(t_cut_train, q_raw_cut_train, q_f_train, dq_f_train, ddq_f_train,\n",
    "                     tau_raw_cut_train, tau_f_train)"
   ]
  },
  {
   "cell_type": "markdown",
   "metadata": {},
   "source": [
    "### Test data"
   ]
  },
  {
   "cell_type": "code",
   "execution_count": 476,
   "metadata": {
    "scrolled": true
   },
   "outputs": [
    {
     "name": "stdout",
     "output_type": "stream",
     "text": [
      "[0.06785840131753954, 0.06785840131753954, 0.06785840131753954, 0.06785840131753954, 0.06785840131753954, 0.06785840131753954, 0.06785840131753954]\n",
      "q_raw shape: (14999, 7)\n",
      "plot shape: 470\n"
     ]
    }
   ],
   "source": [
    "t_cut_test, q_f_test, dq_f_test, ddq_f_test,tau_f_test, q_raw_cut_test, tau_raw_cut_test =\\\n",
    "    diff_and_filt_data(dof, 1.0/trajectory_sampling_rate,\n",
    "                       t_test, q_raw_test, dq_raw_test, tau_raw_test, fc, fc, fc, fc)\n",
    "plot_trajectory_data(t_cut_test, q_raw_cut_test, q_f_test, dq_f_test, ddq_f_test,\n",
    "                     tau_raw_cut_test, tau_f_test)"
   ]
  },
  {
   "cell_type": "markdown",
   "metadata": {},
   "source": [
    "---\n",
    "# Regression"
   ]
  },
  {
   "cell_type": "markdown",
   "metadata": {},
   "source": [
    "## Ordinary Least Square (OLS)"
   ]
  },
  {
   "cell_type": "markdown",
   "metadata": {},
   "source": [
    "### Generate regressor matrix for base parameters"
   ]
  },
  {
   "cell_type": "code",
   "execution_count": 477,
   "metadata": {},
   "outputs": [],
   "source": [
    "base_param_num = robot_model.base_num\n",
    "H_b_func = robot_model.H_b_func\n",
    "W_b_train, tau_s_train = gen_regressor(base_param_num, H_b_func, q_f_train,\n",
    "                                       dq_f_train, ddq_f_train, tau_f_train)"
   ]
  },
  {
   "cell_type": "code",
   "execution_count": 478,
   "metadata": {},
   "outputs": [
    {
     "data": {
      "image/png": "[encoded data removed]",
      "text/latex": [
       "$$\\left ( \\left ( 102193, \\quad 49\\right ), \\quad \\left ( 102193\\right )\\right )$$"
      ],
      "text/plain": [
       "((102193, 49), (102193,))"
      ]
     },
     "execution_count": 478,
     "metadata": {},
     "output_type": "execute_result"
    }
   ],
   "source": [
    "W_b_train.shape, tau_s_train.shape\n",
    "#print np.linalg.cond(W_b_train)"
   ]
  },
  {
   "cell_type": "code",
   "execution_count": 479,
   "metadata": {},
   "outputs": [
    {
     "name": "stderr",
     "output_type": "stream",
     "text": [
      "/home/yan/anaconda2/envs/dynamics/lib/python2.7/site-packages/ipykernel_launcher.py:1: FutureWarning: `rcond` parameter will change to the default of machine precision times ``max(M, N)`` where M and N are the input matrix dimensions.\n",
      "To use the future default and silence this warning we advise to pass `rcond=None`, to keep using the old, explicitly pass `rcond=-1`.\n",
      "  \"\"\"Entry point for launching an IPython kernel.\n"
     ]
    }
   ],
   "source": [
    "xb_ols = np.linalg.lstsq(W_b_train, tau_s_train)[0]"
   ]
  },
  {
   "cell_type": "code",
   "execution_count": 480,
   "metadata": {
    "scrolled": true
   },
   "outputs": [
    {
     "data": {
      "text/html": [
       "<table>\n",
       "<tbody>\n",
       "<tr><td>Base Parameter                                       </td><td>Value                  </td></tr>\n",
       "<tr><td>1.0*m8                                               </td><td>0.3566370834117791     </td></tr>\n",
       "<tr><td>1.0*m9                                               </td><td>0.35797348933708       </td></tr>\n",
       "<tr><td>-0.5*l2y + 0.5*l6y - 0.5*l7y + 1.0*l8z - 0.07227*m...</td><td>0.04733406977261454    </td></tr>\n",
       "<tr><td>0.5*l2y - 0.5*l6y + 0.5*l7y + 1.0*l9z + 0.07227*m4...</td><td>-0.13940446327433945   </td></tr>\n",
       "<tr><td>-0.5*l2x + 0.5*l6x - 0.5*l7x + 1.0*l8x - 0.020045*...</td><td>0.010099278674932502   </td></tr>\n",
       "<tr><td>0.5*l2x - 0.5*l6x + 0.5*l7x + 1.0*l9x + 0.020045*m...</td><td>-0.016892090279345517  </td></tr>\n",
       "<tr><td>-0.5*l1y - 0.5*l2z - 0.5*l4z - 0.5*l5z - 0.5*l6z -...</td><td>0.037490061802717314   </td></tr>\n",
       "<tr><td>-0.5*l1y - 0.5*l2z - 0.5*l4z - 0.5*l5z - 0.5*l6z -...</td><td>0.04202570203379143    </td></tr>\n",
       "<tr><td>1.0*l5y                                              </td><td>-14.562281170969436    </td></tr>\n",
       "<tr><td>1.0*Fv16                                             </td><td>0.002635551235150161   </td></tr>\n",
       "<tr><td>1.0*L2xy + 1.0*L6xy + 1.0*L7xy + 1.0*L8xz + 1.0*L9...</td><td>-0.003582879619748347  </td></tr>\n",
       "<tr><td>1.0*Fv13                                             </td><td>0.0017862393286060879  </td></tr>\n",
       "<tr><td>1.0*Fv12                                             </td><td>0.0034977294863143236  </td></tr>\n",
       "<tr><td>1.0*L2yz - 1.0*L6yz + 1.0*L7yz + 1.0*L8yz - 1.0*L9...</td><td>-0.03509439669150349   </td></tr>\n",
       "<tr><td>1.0*L2xz - 1.0*L6xz + 1.0*L7xz + 1.0*L8xy - 1.0*L9...</td><td>0.00422730699467766    </td></tr>\n",
       "<tr><td>-1.0*L2xx + 1.0*L2yy - 1.0*L6xx + 1.0*L6yy - 1.0*L...</td><td>0.5770697226522001     </td></tr>\n",
       "<tr><td>1.0*Ia10                                             </td><td>-3.098672117905812e-05 </td></tr>\n",
       "<tr><td>1.0*Ia11                                             </td><td>-0.0008427366102467832 </td></tr>\n",
       "<tr><td>1.0*Fv8                                              </td><td>1.5037294187188484     </td></tr>\n",
       "<tr><td>1.0*Fv2                                              </td><td>0.1515205943637461     </td></tr>\n",
       "<tr><td>1.0*Ia15                                             </td><td>-0.00022033046915282862</td></tr>\n",
       "<tr><td>1.0*Fv10                                             </td><td>0.0014680663230070157  </td></tr>\n",
       "<tr><td>1.0*Ia14                                             </td><td>-0.00046663744650175896</td></tr>\n",
       "<tr><td>1.0*L2zz + 1.0*L6zz + 1.0*L7zz + 1.0*L8yy + 1.0*L9...</td><td>0.2351470487799152     </td></tr>\n",
       "<tr><td>1.0*Fo13 + 0.8211529*Fo15 + 1.0*Fo16                 </td><td>-0.003387486878723807  </td></tr>\n",
       "<tr><td>1.0*Fv1                                              </td><td>0.09531883903807445    </td></tr>\n",
       "<tr><td>1.0*K0                                               </td><td>0.0018846090818869501  </td></tr>\n",
       "<tr><td>1.0*Fv11                                             </td><td>0.006543987784125196   </td></tr>\n",
       "<tr><td>1.0*L1zz + 1.0*L2xx + 1.0*L4xx + 1.0*L5xx + 1.0*L6...</td><td>-1.144836969725576     </td></tr>\n",
       "<tr><td>1.0*Fo12 + 1.0*Fo13 + 0.8211529*Fo14 + 0.8211529*F...</td><td>-0.016000946286135423  </td></tr>\n",
       "<tr><td>1.0*Fv15                                             </td><td>0.003512018592577343   </td></tr>\n",
       "<tr><td>1.0*Fv14                                             </td><td>0.004162663029998804   </td></tr>\n",
       "<tr><td>1.0*l1x                                              </td><td>-0.9454953623083977    </td></tr>\n",
       "<tr><td>1.0*Fo10                                             </td><td>-0.0048411969733912945 </td></tr>\n",
       "<tr><td>1.0*Fo2                                              </td><td>0.03400447634387052    </td></tr>\n",
       "<tr><td>1.0*Fc16                                             </td><td>0.0004015123752721611  </td></tr>\n",
       "<tr><td>1.0*Fo1                                              </td><td>-0.7708018628844076    </td></tr>\n",
       "<tr><td>1.0*Fo8                                              </td><td>-0.14245429607817428   </td></tr>\n",
       "<tr><td>1.0*Fc12                                             </td><td>0.000810360593057033   </td></tr>\n",
       "<tr><td>1.0*Fc13                                             </td><td>0.0010163801120821655  </td></tr>\n",
       "<tr><td>1.0*Fo11 + 0.66959513*Fo14 + 0.66959513*Fo15         </td><td>0.009707878912266748   </td></tr>\n",
       "<tr><td>1.0*Fc14                                             </td><td>0.0059055371917785485  </td></tr>\n",
       "<tr><td>1.0*Fc1                                              </td><td>0.05411064571331711    </td></tr>\n",
       "<tr><td>1.0*Fc11                                             </td><td>0.012253277489635955   </td></tr>\n",
       "<tr><td>1.0*Fc8                                              </td><td>0.3989734401652324     </td></tr>\n",
       "<tr><td>1.0*Fc10                                             </td><td>0.002074933745915033   </td></tr>\n",
       "<tr><td>1.0*Fc15                                             </td><td>0.011044709483760332   </td></tr>\n",
       "<tr><td>1.0*Fc2                                              </td><td>0.1161403732457053     </td></tr>\n",
       "<tr><td>1.0*l4y                                              </td><td>13.601597974275261     </td></tr>\n",
       "</tbody>\n",
       "</table>"
      ],
      "text/plain": [
       "<IPython.core.display.HTML object>"
      ]
     },
     "metadata": {},
     "output_type": "display_data"
    }
   ],
   "source": [
    "#sympy.Matrix.hstack(sympy.Matrix(robot_model.base_param), sympy.Matrix(xb_ols))\n",
    "\n",
    "from IPython.display import HTML, display\n",
    "import tabulate\n",
    "\n",
    "table = [[\"Base Parameter\", \"Value\"]]\n",
    "\n",
    "for i in range(robot_model.base_num):\n",
    "    param_str = str(sympy.Matrix(robot_model.base_param)[i])\n",
    "    max_disp_len = 50\n",
    "    line = [param_str if len(param_str) <= max_disp_len \n",
    "            else param_str[:max_disp_len] + '...', xb_ols[i]]\n",
    "    #['%.7s ...'%b if len(str(b)) > 7 else str(b)\n",
    "    table.append(line)\n",
    "\n",
    "display(HTML(tabulate.tabulate(table, tablefmt='html')))"
   ]
  },
  {
   "cell_type": "markdown",
   "metadata": {},
   "source": [
    "## Compare measured torque and predicted torque on the training set"
   ]
  },
  {
   "cell_type": "markdown",
   "metadata": {},
   "source": [
    "### Generate predicted torque"
   ]
  },
  {
   "cell_type": "code",
   "execution_count": 481,
   "metadata": {},
   "outputs": [],
   "source": [
    "tau_p_train = np.zeros(tau_f_train.shape)\n",
    "tau_ps_train = W_b_train.dot(xb_ols)\n",
    "for i in range(dof):\n",
    "    tau_p_train[:, i] = tau_ps_train[i::dof]\n",
    "    "
   ]
  },
  {
   "cell_type": "markdown",
   "metadata": {},
   "source": [
    "### Evaluate regression"
   ]
  },
  {
   "cell_type": "code",
   "execution_count": 482,
   "metadata": {
    "scrolled": false
   },
   "outputs": [
    {
     "name": "stdout",
     "output_type": "stream",
     "text": [
      "variance of regression error using OLS:\n",
      "0.00022427429940576518\n",
      "standard deviation of xb using OLS:\n",
      "[1.09286929e-04 1.23827631e-04 7.57081409e-05 6.95444385e-05\n",
      " 6.41782555e-05 6.63582375e-05 4.14444117e-04 4.10824169e-04\n",
      " 9.02174927e-02 1.13904475e-04 3.72027178e-04 1.51976840e-04\n",
      " 1.62555358e-04 1.88284077e-04 7.02603321e-05 3.43835481e-03\n",
      " 2.97332186e-05 2.66000997e-05 1.54035039e-03 2.67909038e-04\n",
      " 2.17503599e-05 2.78446886e-04 1.93298196e-05 1.02203507e-04\n",
      " 1.01900335e-04 3.00324935e-04 4.74126972e-04 2.07402864e-04\n",
      " 6.08153702e-03 1.44225746e-04 2.15279517e-04 1.86791357e-04\n",
      " 7.83252267e-03 1.35361560e-04 9.92626415e-04 1.23915136e-04\n",
      " 7.98961638e-03 1.40150094e-03 1.80032757e-04 1.68705686e-04\n",
      " 1.69164648e-04 2.13921955e-04 2.62474717e-04 2.22581143e-04\n",
      " 2.31880791e-04 2.29708139e-04 2.35667879e-04 2.00606427e-04\n",
      " 9.44797990e-02]\n",
      "percentage of standard deviation of xb using OLS: \n",
      "[3.06437368e-04 3.45912853e-04 1.59944288e-03 4.98868091e-04\n",
      " 6.35473657e-03 3.92836152e-03 1.10547728e-02 9.77554565e-03\n",
      " 6.19528573e-03 4.32184637e-02 1.03834685e-01 8.50820142e-02\n",
      " 4.64745369e-02 5.36507519e-03 1.66205890e-02 5.95830049e-03\n",
      " 9.59547106e-01 3.15639542e-02 1.02435343e-03 1.76813613e-03\n",
      " 9.87169862e-02 1.89669146e-01 4.14236357e-02 4.34636573e-04\n",
      " 3.00813962e-02 3.15074059e-03 2.51578418e-01 3.16936509e-02\n",
      " 5.31214241e-03 9.01357606e-03 6.12979434e-02 4.48730429e-02\n",
      " 8.28404134e-03 2.79603497e-02 2.91910514e-02 3.08620964e-01\n",
      " 1.03653309e-02 9.83824974e-03 2.22163761e-01 1.65986803e-01\n",
      " 1.74255005e-02 3.62239621e-02 4.85070385e-03 1.81650292e-02\n",
      " 5.81193552e-04 1.10706252e-01 2.13376259e-02 1.72727555e-03\n",
      " 6.94622787e-03]\n"
     ]
    }
   ],
   "source": [
    "var_regression_error_ols = np.linalg.norm(tau_ps_train - tau_s_train) / \\\n",
    "                        (tau_ps_train.size - base_param_num)\n",
    "print(\"variance of regression error using OLS:\")\n",
    "print(var_regression_error_ols)\n",
    "\n",
    "std_dev_xb_ols = np.sqrt(np.diag(var_regression_error_ols *\n",
    "                                 np.linalg.inv(W_b_train.transpose().dot(W_b_train))))\n",
    "print(\"standard deviation of xb using OLS:\")\n",
    "print(std_dev_xb_ols)\n",
    "\n",
    "pct_std_dev_xb_ols = std_dev_xb_ols / np.abs(xb_ols)\n",
    "print(\"percentage of standard deviation of xb using OLS: \")\n",
    "print(pct_std_dev_xb_ols)"
   ]
  },
  {
   "cell_type": "markdown",
   "metadata": {},
   "source": [
    "### Plot measured torque and predicted torque"
   ]
  },
  {
   "cell_type": "code",
   "execution_count": 483,
   "metadata": {
    "scrolled": true
   },
   "outputs": [],
   "source": [
    "plot_data_num = int(1 / base_freq * trajectory_sampling_rate)\n",
    "plot_meas_pred_tau(t_cut_train[:plot_data_num], tau_f_train[:plot_data_num, :],\n",
    "                   tau_p_train[:plot_data_num, :],\n",
    "                   robot_model.coordinates_joint_type,\n",
    "                   robot_model.coordinates)"
   ]
  },
  {
   "cell_type": "markdown",
   "metadata": {},
   "source": [
    "## Compare measured torque and predicted torque on the test set"
   ]
  },
  {
   "cell_type": "code",
   "execution_count": 484,
   "metadata": {},
   "outputs": [],
   "source": [
    "W_b_test, tau_s_test = gen_regressor(base_param_num, H_b_func, q_f_test,\n",
    "                                       dq_f_test, ddq_f_test, tau_f_test)\n",
    "\n",
    "tau_p_test = np.zeros(tau_f_test.shape)\n",
    "tau_ps_test = W_b_test.dot(xb_ols)\n",
    "for i in range(dof):\n",
    "    tau_p_test[:, i] = tau_ps_test[i::dof]"
   ]
  },
  {
   "cell_type": "code",
   "execution_count": 485,
   "metadata": {
    "scrolled": false
   },
   "outputs": [],
   "source": [
    "plot_data_num = int(1 / base_freq * trajectory_sampling_rate)\n",
    "plot_meas_pred_tau(t_cut_test[:plot_data_num], tau_f_test[:plot_data_num, :],\n",
    "                   tau_p_test[:plot_data_num, :],\n",
    "                   robot_model.coordinates_joint_type,\n",
    "                   robot_model.coordinates)"
   ]
  },
  {
   "cell_type": "code",
   "execution_count": 486,
   "metadata": {},
   "outputs": [
    {
     "data": {
      "text/plain": [
       "array([0.15040851, 0.12872692, 0.19542664, 0.13372696, 0.21406309,\n",
       "       0.26837517, 0.27503933])"
      ]
     },
     "execution_count": 486,
     "metadata": {},
     "output_type": "execute_result"
    }
   ],
   "source": [
    "np.linalg.norm(tau_f_test[:plot_data_num, :] - tau_p_test[:plot_data_num, :], axis=0)\\\n",
    "    / np.linalg.norm(tau_f_test[:plot_data_num, :], axis=0)"
   ]
  },
  {
   "cell_type": "markdown",
   "metadata": {},
   "source": [
    "## Weighted Least Square (WLS)"
   ]
  },
  {
   "cell_type": "markdown",
   "metadata": {},
   "source": [
    "### Training data set"
   ]
  },
  {
   "cell_type": "code",
   "execution_count": 380,
   "metadata": {},
   "outputs": [
    {
     "data": {
      "text/plain": [
       "array([2.57695654, 2.71789991, 5.43655567, 0.0105095 , 0.07416296,\n",
       "       0.06182449, 0.06701412])"
      ]
     },
     "execution_count": 380,
     "metadata": {},
     "output_type": "execute_result"
    }
   ],
   "source": [
    "# weight = np.sqrt(np.linalg.norm(tau_f - tau_p, axis=0)/(tau_f.shape[0] - base_param_num))\n",
    "weight = np.max(tau_f_train, axis=0) - np.min(tau_f_train, axis=0)\n",
    "weight"
   ]
  },
  {
   "cell_type": "code",
   "execution_count": 381,
   "metadata": {},
   "outputs": [
    {
     "data": {
      "image/png": "[encoded data removed]",
      "text/latex": [
       "$$\\left ( \\left ( 102193, \\quad 49\\right ), \\quad \\left ( 102193\\right )\\right )$$"
      ],
      "text/plain": [
       "((102193, 49), (102193,))"
      ]
     },
     "execution_count": 381,
     "metadata": {},
     "output_type": "execute_result"
    }
   ],
   "source": [
    "W_b_train.shape, tau_s_train.shape"
   ]
  },
  {
   "cell_type": "code",
   "execution_count": 382,
   "metadata": {},
   "outputs": [],
   "source": [
    "# repeat the weight to generate a large vecoter for all the data\n",
    "weights = 1.0/np.tile(weight, W_b_train.shape[0]/weight.shape[0])"
   ]
  },
  {
   "cell_type": "code",
   "execution_count": 383,
   "metadata": {},
   "outputs": [],
   "source": [
    "W_b_wls_train = np.multiply(W_b_train, np.asmatrix(weights).transpose())\n",
    "tau_s_wls_train = np.multiply(tau_s_train, weights)"
   ]
  },
  {
   "cell_type": "code",
   "execution_count": 384,
   "metadata": {},
   "outputs": [
    {
     "name": "stderr",
     "output_type": "stream",
     "text": [
      "/home/yan/anaconda2/envs/dynamics/lib/python2.7/site-packages/ipykernel_launcher.py:1: FutureWarning: `rcond` parameter will change to the default of machine precision times ``max(M, N)`` where M and N are the input matrix dimensions.\n",
      "To use the future default and silence this warning we advise to pass `rcond=None`, to keep using the old, explicitly pass `rcond=-1`.\n",
      "  \"\"\"Entry point for launching an IPython kernel.\n"
     ]
    }
   ],
   "source": [
    "xb_wls = np.linalg.lstsq(W_b_wls_train, tau_s_wls_train)[0]"
   ]
  },
  {
   "cell_type": "code",
   "execution_count": 385,
   "metadata": {},
   "outputs": [
    {
     "data": {
      "text/latex": [
       "$$\\left[\\begin{matrix}1.0 m_{8} & 0.354630217562061\\\\1.0 m_{9} & 0.36261426006814\\\\- 0.5 l2y + 0.5 l6y - 0.5 l7y + 1.0 l8z - 0.07227 m_{4} - 0.09131 m_{5} - 0.07227 m_{6} - 0.07227 m_{7} & 0.0471762759781513\\\\0.5 l2y - 0.5 l6y + 0.5 l7y + 1.0 l9z + 0.07227 m_{4} + 0.09131 m_{5} + 0.07227 m_{6} + 0.07227 m_{7} & -0.140204121738755\\\\- 0.5 l2x + 0.5 l6x - 0.5 l7x + 1.0 l8x - 0.020045 m_{4} - 0.020045 m_{5} - 0.020045 m_{6} - 0.020045 m_{7} & 0.00968587648070772\\\\0.5 l2x - 0.5 l6x + 0.5 l7x + 1.0 l9x + 0.020045 m_{4} + 0.020045 m_{5} + 0.020045 m_{6} + 0.020045 m_{7} & -0.0150700063700837\\\\- 0.5 l1y - 0.5 l2z - 0.5 l4z - 0.5 l5z - 0.5 l6z - 0.5 l7z + 1.0 l9y & 0.0275374446232916\\\\- 0.5 l1y - 0.5 l2z - 0.5 l4z - 0.5 l5z - 0.5 l6z - 0.5 l7z + 1.0 l8y & 0.0301028059290041\\\\1.0 l5y & -8.81395230658004\\\\1.0 Fv_{16} & 0.00272947916349825\\\\1.0 L2xy + 1.0 L6xy + 1.0 L7xy + 1.0 L8xz + 1.0 L9xz + 0.2159 l2x + 0.020045 l2y - 0.07136 l6x + 0.020045 l6y + 0.07136 l7x - 0.020045 l7y + 0.00575813 m_{4} + 0.00499481 m_{5} + 0.00575813 m_{6} + 0.00575813 m_{7} & -0.0358671704189168\\\\1.0 Fv_{13} & 0.00212516540630991\\\\1.0 Fv_{12} & 0.00340441130904456\\\\1.0 L2yz - 1.0 L6yz + 1.0 L7yz + 1.0 L8yz - 1.0 L9yz + 0.2159 l1y + 0.2159 l2z + 0.07136 l4z + 0.03328 l5z + 0.07136 l6z + 0.07136 l7z & -0.0290938278838468\\\\1.0 L2xz - 1.0 L6xz + 1.0 L7xz + 1.0 L8xy - 1.0 L9xy + 0.020045 l1y + 0.020045 l2z - 0.020045 l4z - 0.020045 l5z - 0.020045 l6z - 0.020045 l7z & 0.00655467436901797\\\\- 1.0 L2xx + 1.0 L2yy - 1.0 L6xx + 1.0 L6yy - 1.0 L7xx + 1.0 L7yy - 1.0 L8xx + 1.0 L8zz - 1.0 L9xx + 1.0 L9zz - 0.04009 l2x + 0.4318 l2y - 0.04009 l6x - 0.14272 l6y + 0.04009 l7x + 0.14272 l7y + 0.04152056 m_{4} + 0.04550525 m_{5} + 0.04152056 m_{6} + 0.04152056 m_{7} & 0.23696968145236\\\\1.0 Ia_{10} & -6.41735846720094 \\cdot 10^{-5}\\\\1.0 Ia_{11} & -0.00098110931122621\\\\1.0 Fv_{8} & 1.55675660337789\\\\1.0 Fv_{2} & 0.148808024294265\\\\1.0 Ia_{15} & -0.000256340976845182\\\\1.0 Fv_{10} & 0.00156341650372926\\\\1.0 Ia_{14} & -0.000532994359078054\\\\1.0 L2zz + 1.0 L6zz + 1.0 L7zz + 1.0 L8yy + 1.0 L9yy - 0.04009 l2x - 0.4318 l2y - 0.04009 l6x + 0.14272 l6y + 0.04009 l7x - 0.14272 l7y - 0.04152056 m_{4} - 0.04550525 m_{5} - 0.04152056 m_{6} - 0.04152056 m_{7} & 0.231943610001693\\\\1.0 Fo_{13} + 0.8211529 Fo_{15} + 1.0 Fo_{16} & -0.00356583284205011\\\\1.0 Fv_{1} & 0.08695132177769\\\\1.0 K_{0} & 0.00171317557379204\\\\1.0 Fv_{11} & 0.00671771829404554\\\\1.0 L1zz + 1.0 L2xx + 1.0 L4xx + 1.0 L5xx + 1.0 L6xx + 1.0 L7xx + 1.0 L8xx + 1.0 L9xx - 0.4318 l2y + 0.14272 l6y - 0.14272 l7y - 0.04152056 m_{4} - 0.04550525 m_{5} - 0.04152056 m_{6} - 0.04152056 m_{7} & -0.506065574312448\\\\1.0 Fo_{12} + 1.0 Fo_{13} + 0.8211529 Fo_{14} + 0.8211529 Fo_{15} & -0.0163133720744345\\\\1.0 Fv_{15} & 0.00291108383401224\\\\1.0 Fv_{14} & 0.00469996949986197\\\\1.0 l1x & -0.231127007666415\\\\1.0 Fo_{10} & -0.00478458401493337\\\\1.0 Fo_{2} & 0.051961934519612\\\\1.0 Fc_{16} & 0.000453501244069898\\\\1.0 Fo_{1} & -0.566448783237722\\\\1.0 Fo_{8} & -0.184781964059212\\\\1.0 Fc_{12} & 0.000855648531862923\\\\1.0 Fc_{13} & 0.00100809627671732\\\\1.0 Fo_{11} + 0.66959513 Fo_{14} + 0.66959513 Fo_{15} & 0.00944169663359841\\\\1.0 Fc_{14} & 0.00585521607957626\\\\1.0 Fc_{1} & 0.058332698256046\\\\1.0 Fc_{11} & 0.0121439803330623\\\\1.0 Fc_{8} & 0.390374861660651\\\\1.0 Fc_{10} & 0.00195312760392419\\\\1.0 Fc_{15} & 0.0116970911261099\\\\1.0 Fc_{2} & 0.124865571092815\\\\1.0 l4y & 8.5638003174988\\end{matrix}\\right]$$"
      ],
      "text/plain": [
       "⎡                                                                             \n",
       "⎢                                                                             \n",
       "⎢                                                                             \n",
       "⎢                                                                             \n",
       "⎢                                                                             \n",
       "⎢                                                                             \n",
       "⎢                                                                             \n",
       "⎢                                                                             \n",
       "⎢                                                                             \n",
       "⎢                                                                             \n",
       "⎢                                                                             \n",
       "⎢                                                                             \n",
       "⎢                                                                             \n",
       "⎢                                                                             \n",
       "⎢                                                                             \n",
       "⎢                                                                             \n",
       "⎢                                                                             \n",
       "⎢                                                                             \n",
       "⎢                                                                             \n",
       "⎢                                                                             \n",
       "⎢                          1.0⋅L2xy + 1.0⋅L6xy + 1.0⋅L7xy + 1.0⋅L8xz + 1.0⋅L9x\n",
       "⎢                                                                             \n",
       "⎢                                                                             \n",
       "⎢                                                                             \n",
       "⎢                                                                             \n",
       "⎢                                                                             \n",
       "⎢                                                            1.0⋅L2yz - 1.0⋅L6\n",
       "⎢                                                                             \n",
       "⎢                                                        1.0⋅L2xz - 1.0⋅L6xz +\n",
       "⎢                                                                             \n",
       "⎢-1.0⋅L2xx + 1.0⋅L2yy - 1.0⋅L6xx + 1.0⋅L6yy - 1.0⋅L7xx + 1.0⋅L7yy - 1.0⋅L8xx +\n",
       "⎢                                                                             \n",
       "⎢                                                                             \n",
       "⎢                                                                             \n",
       "⎢                                                                             \n",
       "⎢                                                                             \n",
       "⎢                                                                             \n",
       "⎢                                                                             \n",
       "⎢                                                                             \n",
       "⎢                                                                             \n",
       "⎢                                                                             \n",
       "⎢                                                                             \n",
       "⎢                                                                             \n",
       "⎢                                                                             \n",
       "⎢                                                                             \n",
       "⎢                                                                             \n",
       "⎢                            1.0⋅L2zz + 1.0⋅L6zz + 1.0⋅L7zz + 1.0⋅L8yy + 1.0⋅L\n",
       "⎢                                                                             \n",
       "⎢                                                                             \n",
       "⎢                                                                             \n",
       "⎢                                                                             \n",
       "⎢                                                                             \n",
       "⎢                                                                             \n",
       "⎢                                                                             \n",
       "⎢                                                                             \n",
       "⎢                                                                             \n",
       "⎢                                1.0⋅L1zz + 1.0⋅L2xx + 1.0⋅L4xx + 1.0⋅L5xx + 1\n",
       "⎢                                                                             \n",
       "⎢                                                                             \n",
       "⎢                                                                             \n",
       "⎢                                                                             \n",
       "⎢                                                                             \n",
       "⎢                                                                             \n",
       "⎢                                                                             \n",
       "⎢                                                                             \n",
       "⎢                                                                             \n",
       "⎢                                                                             \n",
       "⎢                                                                             \n",
       "⎢                                                                             \n",
       "⎢                                                                             \n",
       "⎢                                                                             \n",
       "⎢                                                                             \n",
       "⎢                                                                             \n",
       "⎢                                                                             \n",
       "⎢                                                                             \n",
       "⎢                                                                             \n",
       "⎢                                                                             \n",
       "⎢                                                                             \n",
       "⎢                                                                             \n",
       "⎢                                                                             \n",
       "⎢                                                                             \n",
       "⎢                                                                             \n",
       "⎢                                                                             \n",
       "⎢                                                                             \n",
       "⎢                                                                             \n",
       "⎢                                                                             \n",
       "⎢                                                                             \n",
       "⎢                                                                             \n",
       "⎢                                                                             \n",
       "⎢                                                                             \n",
       "⎢                                                                             \n",
       "⎢                                                                             \n",
       "⎢                                                                             \n",
       "⎢                                                                             \n",
       "⎢                                                                             \n",
       "⎢                                                                             \n",
       "⎣                                                                             \n",
       "\n",
       "                                               1.0⋅m₈                         \n",
       "                                                                              \n",
       "                                               1.0⋅m₉                         \n",
       "                                                                              \n",
       "     -0.5⋅l2y + 0.5⋅l6y - 0.5⋅l7y + 1.0⋅l8z - 0.07227⋅m₄ - 0.09131⋅m₅ - 0.0722\n",
       "                                                                              \n",
       "      0.5⋅l2y - 0.5⋅l6y + 0.5⋅l7y + 1.0⋅l9z + 0.07227⋅m₄ + 0.09131⋅m₅ + 0.0722\n",
       "                                                                              \n",
       "   -0.5⋅l2x + 0.5⋅l6x - 0.5⋅l7x + 1.0⋅l8x - 0.020045⋅m₄ - 0.020045⋅m₅ - 0.0200\n",
       "                                                                              \n",
       "    0.5⋅l2x - 0.5⋅l6x + 0.5⋅l7x + 1.0⋅l9x + 0.020045⋅m₄ + 0.020045⋅m₅ + 0.0200\n",
       "                                                                              \n",
       "                -0.5⋅l1y - 0.5⋅l2z - 0.5⋅l4z - 0.5⋅l5z - 0.5⋅l6z - 0.5⋅l7z + 1\n",
       "                                                                              \n",
       "                -0.5⋅l1y - 0.5⋅l2z - 0.5⋅l4z - 0.5⋅l5z - 0.5⋅l6z - 0.5⋅l7z + 1\n",
       "                                                                              \n",
       "                                               1.0⋅l5y                        \n",
       "                                                                              \n",
       "                                              1.0⋅Fv₁₆                        \n",
       "                                                                              \n",
       "z + 0.2159⋅l2x + 0.020045⋅l2y - 0.07136⋅l6x + 0.020045⋅l6y + 0.07136⋅l7x - 0.0\n",
       "                                                                              \n",
       "                                              1.0⋅Fv₁₃                        \n",
       "                                                                              \n",
       "                                              1.0⋅Fv₁₂                        \n",
       "                                                                              \n",
       "yz + 1.0⋅L7yz + 1.0⋅L8yz - 1.0⋅L9yz + 0.2159⋅l1y + 0.2159⋅l2z + 0.07136⋅l4z + \n",
       "                                                                              \n",
       " 1.0⋅L7xz + 1.0⋅L8xy - 1.0⋅L9xy + 0.020045⋅l1y + 0.020045⋅l2z - 0.020045⋅l4z -\n",
       "                                                                              \n",
       " 1.0⋅L8zz - 1.0⋅L9xx + 1.0⋅L9zz - 0.04009⋅l2x + 0.4318⋅l2y - 0.04009⋅l6x - 0.1\n",
       "                                                                              \n",
       "                                              1.0⋅Ia₁₀                        \n",
       "                                                                              \n",
       "                                              1.0⋅Ia₁₁                        \n",
       "                                                                              \n",
       "                                               1.0⋅Fv₈                        \n",
       "                                                                              \n",
       "                                               1.0⋅Fv₂                        \n",
       "                                                                              \n",
       "                                              1.0⋅Ia₁₅                        \n",
       "                                                                              \n",
       "                                              1.0⋅Fv₁₀                        \n",
       "                                                                              \n",
       "                                              1.0⋅Ia₁₄                        \n",
       "                                                                              \n",
       "9yy - 0.04009⋅l2x - 0.4318⋅l2y - 0.04009⋅l6x + 0.14272⋅l6y + 0.04009⋅l7x - 0.1\n",
       "                                                                              \n",
       "                                1.0⋅Fo₁₃ + 0.8211529⋅Fo₁₅ + 1.0⋅Fo₁₆          \n",
       "                                                                              \n",
       "                                               1.0⋅Fv₁                        \n",
       "                                                                              \n",
       "                                               1.0⋅K₀                         \n",
       "                                                                              \n",
       "                                              1.0⋅Fv₁₁                        \n",
       "                                                                              \n",
       ".0⋅L6xx + 1.0⋅L7xx + 1.0⋅L8xx + 1.0⋅L9xx - 0.4318⋅l2y + 0.14272⋅l6y - 0.14272⋅\n",
       "                                                                              \n",
       "                        1.0⋅Fo₁₂ + 1.0⋅Fo₁₃ + 0.8211529⋅Fo₁₄ + 0.8211529⋅Fo₁₅ \n",
       "                                                                              \n",
       "                                              1.0⋅Fv₁₅                        \n",
       "                                                                              \n",
       "                                              1.0⋅Fv₁₄                        \n",
       "                                                                              \n",
       "                                               1.0⋅l1x                        \n",
       "                                                                              \n",
       "                                              1.0⋅Fo₁₀                        \n",
       "                                                                              \n",
       "                                               1.0⋅Fo₂                        \n",
       "                                                                              \n",
       "                                              1.0⋅Fc₁₆                        \n",
       "                                                                              \n",
       "                                               1.0⋅Fo₁                        \n",
       "                                                                              \n",
       "                                               1.0⋅Fo₈                        \n",
       "                                                                              \n",
       "                                              1.0⋅Fc₁₂                        \n",
       "                                                                              \n",
       "                                              1.0⋅Fc₁₃                        \n",
       "                                                                              \n",
       "                            1.0⋅Fo₁₁ + 0.66959513⋅Fo₁₄ + 0.66959513⋅Fo₁₅      \n",
       "                                                                              \n",
       "                                              1.0⋅Fc₁₄                        \n",
       "                                                                              \n",
       "                                               1.0⋅Fc₁                        \n",
       "                                                                              \n",
       "                                              1.0⋅Fc₁₁                        \n",
       "                                                                              \n",
       "                                               1.0⋅Fc₈                        \n",
       "                                                                              \n",
       "                                              1.0⋅Fc₁₀                        \n",
       "                                                                              \n",
       "                                              1.0⋅Fc₁₅                        \n",
       "                                                                              \n",
       "                                               1.0⋅Fc₂                        \n",
       "                                                                              \n",
       "                                               1.0⋅l4y                        \n",
       "\n",
       "                                                                              \n",
       "                                                                              \n",
       "                                                                              \n",
       "                                                                              \n",
       "7⋅m₆ - 0.07227⋅m₇                                                             \n",
       "                                                                              \n",
       "7⋅m₆ + 0.07227⋅m₇                                                             \n",
       "                                                                              \n",
       "45⋅m₆ - 0.020045⋅m₇                                                           \n",
       "                                                                              \n",
       "45⋅m₆ + 0.020045⋅m₇                                                           \n",
       "                                                                              \n",
       ".0⋅l9y                                                                        \n",
       "                                                                              \n",
       ".0⋅l8y                                                                        \n",
       "                                                                              \n",
       "                                                                              \n",
       "                                                                              \n",
       "                                                                              \n",
       "                                                                              \n",
       "20045⋅l7y + 0.00575813⋅m₄ + 0.00499481⋅m₅ + 0.00575813⋅m₆ + 0.00575813⋅m₇     \n",
       "                                                                              \n",
       "                                                                              \n",
       "                                                                              \n",
       "                                                                              \n",
       "                                                                              \n",
       "0.03328⋅l5z + 0.07136⋅l6z + 0.07136⋅l7z                                       \n",
       "                                                                              \n",
       " 0.020045⋅l5z - 0.020045⋅l6z - 0.020045⋅l7z                                   \n",
       "                                                                              \n",
       "4272⋅l6y + 0.04009⋅l7x + 0.14272⋅l7y + 0.04152056⋅m₄ + 0.04550525⋅m₅ + 0.04152\n",
       "                                                                              \n",
       "                                                                              \n",
       "                                                                              \n",
       "                                                                              \n",
       "                                                                              \n",
       "                                                                              \n",
       "                                                                              \n",
       "                                                                              \n",
       "                                                                              \n",
       "                                                                              \n",
       "                                                                              \n",
       "                                                                              \n",
       "                                                                              \n",
       "                                                                              \n",
       "                                                                              \n",
       "4272⋅l7y - 0.04152056⋅m₄ - 0.04550525⋅m₅ - 0.04152056⋅m₆ - 0.04152056⋅m₇      \n",
       "                                                                              \n",
       "                                                                              \n",
       "                                                                              \n",
       "                                                                              \n",
       "                                                                              \n",
       "                                                                              \n",
       "                                                                              \n",
       "                                                                              \n",
       "                                                                              \n",
       "l7y - 0.04152056⋅m₄ - 0.04550525⋅m₅ - 0.04152056⋅m₆ - 0.04152056⋅m₇           \n",
       "                                                                              \n",
       "                                                                              \n",
       "                                                                              \n",
       "                                                                              \n",
       "                                                                              \n",
       "                                                                              \n",
       "                                                                              \n",
       "                                                                              \n",
       "                                                                              \n",
       "                                                                              \n",
       "                                                                              \n",
       "                                                                              \n",
       "                                                                              \n",
       "                                                                              \n",
       "                                                                              \n",
       "                                                                              \n",
       "                                                                              \n",
       "                                                                              \n",
       "                                                                              \n",
       "                                                                              \n",
       "                                                                              \n",
       "                                                                              \n",
       "                                                                              \n",
       "                                                                              \n",
       "                                                                              \n",
       "                                                                              \n",
       "                                                                              \n",
       "                                                                              \n",
       "                                                                              \n",
       "                                                                              \n",
       "                                                                              \n",
       "                                                                              \n",
       "                                                                              \n",
       "                                                                              \n",
       "                                                                              \n",
       "                                                                              \n",
       "                                                                              \n",
       "                                                                              \n",
       "                                                                              \n",
       "                                                                              \n",
       "\n",
       "                          0.354630217562061  ⎤\n",
       "                                             ⎥\n",
       "                          0.36261426006814   ⎥\n",
       "                                             ⎥\n",
       "                         0.0471762759781513  ⎥\n",
       "                                             ⎥\n",
       "                         -0.140204121738755  ⎥\n",
       "                                             ⎥\n",
       "                         0.00968587648070772 ⎥\n",
       "                                             ⎥\n",
       "                         -0.0150700063700837 ⎥\n",
       "                                             ⎥\n",
       "                         0.0275374446232916  ⎥\n",
       "                                             ⎥\n",
       "                         0.0301028059290041  ⎥\n",
       "                                             ⎥\n",
       "                          -8.81395230658004  ⎥\n",
       "                                             ⎥\n",
       "                         0.00272947916349825 ⎥\n",
       "                                             ⎥\n",
       "                         -0.0358671704189168 ⎥\n",
       "                                             ⎥\n",
       "                         0.00212516540630991 ⎥\n",
       "                                             ⎥\n",
       "                         0.00340441130904456 ⎥\n",
       "                                             ⎥\n",
       "                         -0.0290938278838468 ⎥\n",
       "                                             ⎥\n",
       "                         0.00655467436901797 ⎥\n",
       "                                             ⎥\n",
       "056⋅m₆ + 0.04152056⋅m₇    0.23696968145236   ⎥\n",
       "                                             ⎥\n",
       "                        -6.41735846720094e-5 ⎥\n",
       "                                             ⎥\n",
       "                        -0.00098110931122621 ⎥\n",
       "                                             ⎥\n",
       "                          1.55675660337789   ⎥\n",
       "                                             ⎥\n",
       "                          0.148808024294265  ⎥\n",
       "                                             ⎥\n",
       "                        -0.000256340976845182⎥\n",
       "                                             ⎥\n",
       "                         0.00156341650372926 ⎥\n",
       "                                             ⎥\n",
       "                        -0.000532994359078054⎥\n",
       "                                             ⎥\n",
       "                          0.231943610001693  ⎥\n",
       "                                             ⎥\n",
       "                        -0.00356583284205011 ⎥\n",
       "                                             ⎥\n",
       "                          0.08695132177769   ⎥\n",
       "                                             ⎥\n",
       "                         0.00171317557379204 ⎥\n",
       "                                             ⎥\n",
       "                         0.00671771829404554 ⎥\n",
       "                                             ⎥\n",
       "                         -0.506065574312448  ⎥\n",
       "                                             ⎥\n",
       "                         -0.0163133720744345 ⎥\n",
       "                                             ⎥\n",
       "                         0.00291108383401224 ⎥\n",
       "                                             ⎥\n",
       "                         0.00469996949986197 ⎥\n",
       "                                             ⎥\n",
       "                         -0.231127007666415  ⎥\n",
       "                                             ⎥\n",
       "                        -0.00478458401493337 ⎥\n",
       "                                             ⎥\n",
       "                          0.051961934519612  ⎥\n",
       "                                             ⎥\n",
       "                        0.000453501244069898 ⎥\n",
       "                                             ⎥\n",
       "                         -0.566448783237722  ⎥\n",
       "                                             ⎥\n",
       "                         -0.184781964059212  ⎥\n",
       "                                             ⎥\n",
       "                        0.000855648531862923 ⎥\n",
       "                                             ⎥\n",
       "                         0.00100809627671732 ⎥\n",
       "                                             ⎥\n",
       "                         0.00944169663359841 ⎥\n",
       "                                             ⎥\n",
       "                         0.00585521607957626 ⎥\n",
       "                                             ⎥\n",
       "                          0.058332698256046  ⎥\n",
       "                                             ⎥\n",
       "                         0.0121439803330623  ⎥\n",
       "                                             ⎥\n",
       "                          0.390374861660651  ⎥\n",
       "                                             ⎥\n",
       "                         0.00195312760392419 ⎥\n",
       "                                             ⎥\n",
       "                         0.0116970911261099  ⎥\n",
       "                                             ⎥\n",
       "                          0.124865571092815  ⎥\n",
       "                                             ⎥\n",
       "                           8.5638003174988   ⎦"
      ]
     },
     "execution_count": 385,
     "metadata": {},
     "output_type": "execute_result"
    }
   ],
   "source": [
    "#np.set_printoptions(precision=2)\n",
    "sympy.Matrix.hstack(sympy.Matrix(robot_model.base_param), sympy.Matrix(xb_wls))"
   ]
  },
  {
   "cell_type": "code",
   "execution_count": 386,
   "metadata": {},
   "outputs": [],
   "source": [
    "tau_p_wls_train = np.zeros(tau_f_train.shape)\n",
    "tau_ps_wls_train = W_b_train.dot(xb_wls)\n",
    "for i in range(dof):\n",
    "    tau_p_wls_train[:, i] = tau_ps_wls_train[i::dof]"
   ]
  },
  {
   "cell_type": "code",
   "execution_count": 387,
   "metadata": {},
   "outputs": [],
   "source": [
    "plot_meas_pred_tau(t_cut_train[:plot_data_num], tau_f_train[:plot_data_num, :],\n",
    "                   tau_p_wls_train[:plot_data_num, :],\n",
    "                   robot_def.coordinates_joint_type, \n",
    "                   robot_model.coordinates)"
   ]
  },
  {
   "cell_type": "code",
   "execution_count": 388,
   "metadata": {},
   "outputs": [
    {
     "data": {
      "text/plain": [
       "array([0.09996978, 0.19030765, 0.19882929, 0.12955701, 0.24520925,\n",
       "       0.23180887, 0.24064183])"
      ]
     },
     "execution_count": 388,
     "metadata": {},
     "output_type": "execute_result"
    }
   ],
   "source": [
    "np.linalg.norm(tau_f_train[:plot_data_num, :] - tau_p_wls_train[:plot_data_num, :], axis=0)\\\n",
    "    / np.linalg.norm(tau_f_train[:plot_data_num, :], axis=0)"
   ]
  },
  {
   "cell_type": "markdown",
   "metadata": {},
   "source": [
    "### Test data set"
   ]
  },
  {
   "cell_type": "code",
   "execution_count": 389,
   "metadata": {},
   "outputs": [],
   "source": [
    "weight = np.max(tau_f_test, axis=0) - np.min(tau_f_test, axis=0)\n",
    "\n",
    "# repeat the weight to generate a large vecoter for all the data\n",
    "weights = 1.0/np.tile(weight, W_b_test.shape[0]/weight.shape[0])\n",
    "\n",
    "W_b_wls_test = np.multiply(W_b_test, np.asmatrix(weights).transpose())\n",
    "tau_s_wls_test = np.multiply(tau_s_test, weights)\n",
    "\n",
    "tau_p_wls_test = np.zeros(tau_f_test.shape)\n",
    "tau_ps_wls_test = W_b_test.dot(xb_wls)\n",
    "for i in range(dof):\n",
    "    tau_p_wls_test[:, i] = tau_ps_wls_test[i::dof]\n",
    "\n",
    "plot_meas_pred_tau(t_cut_test[:plot_data_num], tau_f_test[:plot_data_num, :],\n",
    "                   tau_p_wls_test[:plot_data_num, :],\n",
    "                   robot_def.coordinates_joint_type,\n",
    "                   robot_model.coordinates)"
   ]
  },
  {
   "cell_type": "code",
   "execution_count": 390,
   "metadata": {},
   "outputs": [
    {
     "data": {
      "text/plain": [
       "array([0.11482796, 0.14561818, 0.21321255, 0.14612957, 0.22270299,\n",
       "       0.26305672, 0.28077592])"
      ]
     },
     "execution_count": 390,
     "metadata": {},
     "output_type": "execute_result"
    }
   ],
   "source": [
    "np.linalg.norm(tau_f_test[:plot_data_num, :] - tau_p_wls_test[:plot_data_num, :], axis=0)\\\n",
    "/ np.linalg.norm(tau_f_test[:plot_data_num, :], axis=0)"
   ]
  },
  {
   "cell_type": "markdown",
   "metadata": {},
   "source": [
    "## Convex optimization"
   ]
  },
  {
   "cell_type": "markdown",
   "metadata": {},
   "source": [
    "### Generate regressor matrix for barycentric parameters"
   ]
  },
  {
   "cell_type": "code",
   "execution_count": 74,
   "metadata": {},
   "outputs": [],
   "source": [
    "from identification import SDPOpt\n",
    "\n",
    "bary_param_num = len(robot_model.bary_param)\n",
    "H_func = robot_model.H_func\n",
    "W_train, tau_s_train = gen_regressor(bary_param_num, H_func,\n",
    "                                     q_f_train, dq_f_train, ddq_f_train, tau_f_train)"
   ]
  },
  {
   "cell_type": "code",
   "execution_count": 75,
   "metadata": {},
   "outputs": [],
   "source": [
    "W_w_train = np.multiply(W_train, np.asmatrix(weights).transpose())\n",
    "tau_w_s_train = np.multiply(tau_s_train, weights)"
   ]
  },
  {
   "cell_type": "markdown",
   "metadata": {},
   "source": [
    "| min mass | max mass | min $r_x$ | max $r_x$ | min $r_y$ | max $r_y$ | min $r_z$ | max $r_z$ | max $F_c$ | max $F_v$ | max $F_o$ |\n",
    "|----------|----------|-----------|-----------|-----------|-----------|-----------|-----------|-----------|--------------|-----------|"
   ]
  },
  {
   "cell_type": "code",
   "execution_count": 76,
   "metadata": {},
   "outputs": [],
   "source": [
    "sdp_constraints = []\n",
    "spring_constraints = []\n",
    "\n",
    "if model_name == 'psm_new_dh':\n",
    "    sdp_constraints = [(0.3, 10, -0.1, 0.1, -0.1, 0.1, -0.1, 0.1, 1, 1, 0.2), #yaw_link\n",
    "                      (0.3, 10, -0.1, 0.1, -0.2, 0.1, -0.05, 0.05, 1, 1, 0.2),    #Pitch Back\n",
    "                      (0, 0, 0, 0, 0, 0, 0, 0, 0, 0, 0), #Intermediate\n",
    "                      (0.1, 5, 0.1, 0.4, -0.06, 0.02, -0.03, 0.03, 1, 1, 0.2), #Pitch Bottom\n",
    "                      (0.02, 2, 0.1, 0.4, -0.03, 0.03, -0.03, 0.03, 1, 1, 0.2), #Pitch Top\n",
    "                      (0.1, 5, 0.0, 0.05, -0.40, 0.05, -0.03, 0.03, 1, 1, 0.2), #Pitch End\n",
    "                      (0.01, 0.5, -0.05, 0.0, -0.14, 0.0, 0.02, 0.08, 1, 1, 0.2),  #Pitch Front\n",
    "                      (0.1, 2, -0.02, 0.02, -0.02, 0.02, -0.1, 0.15, 1, 1, 1), #Main Insertion\n",
    "                      (0.1, 2, -0.05, 0.05, -0.03, 0.03, -0.1, 0.1, 1, 1, 1), #Counterweight\n",
    "                      (0, 0, 0, 0, 0, 0, 0, 0, 1, 1, 1), # Wrist Roll\n",
    "                      (0, 0, 0, 0, 0, 0, 0, 0, 1, 1, 1), # Wrist Pitch\n",
    "                      (0, 0, 0, 0, 0, 0, 0, 0, 1, 1, 1), # Wrist Yaw1\n",
    "                      (0, 0, 0, 0, 0, 0, 0, 0, 1, 1, 1), # Wrist Yaw2\n",
    "                      (0, 0, 0, 0, 0, 0, 0, 0, 1, 1, 1), # M6\n",
    "                      (0, 0, 0, 0, 0, 0, 0, 0, 1, 1, 1), # M7\n",
    "                      (0, 0, 0, 0, 0, 0, 0, 0, 1, 1, 1)] # F67\n",
    "                       \n",
    "    spring_constraints = [(0.0001, 1)]\n",
    "    pass\n",
    "else:\n",
    "    raise Exception(\"No robot name matches \" + model_name)"
   ]
  },
  {
   "cell_type": "code",
   "execution_count": 77,
   "metadata": {},
   "outputs": [
    {
     "name": "stdout",
     "output_type": "stream",
     "text": [
      "Regressor shape: (102193, 115)\n",
      "Regressand shape: (102193,)\n",
      "Creating variables...\n",
      "Creating optimization objective...\n",
      "Creating constraints...\n",
      "Solving problem...\n",
      "----------------------------------------------------------------------------\n",
      "\tSCS v1.2.6 - Splitting Conic Solver\n",
      "\t(c) Brendan O'Donoghue, Stanford University, 2012-2016\n",
      "----------------------------------------------------------------------------\n",
      "Lin-sys: sparse-indirect, nnz in A = 2350736, CG tol ~ 1/iter^(2.00)\n",
      "eps = 1.00e-03, alpha = 1.50, max_iters = 2000, normalize = 1, scale = 1.00\n",
      "Variables n = 116, constraints m = 102494\n",
      "Cones:\tlinear vars: 131\n",
      "\tsoc vars: 102195, soc blks: 1\n",
      "\tsd vars: 168, sd blks: 8\n",
      "Setup time: 8.29e-02s\n",
      "----------------------------------------------------------------------------\n",
      " Iter | pri res | dua res | rel gap | pri obj | dua obj | kap/tau | time (s)\n",
      "----------------------------------------------------------------------------\n",
      "     0|      inf       inf      -nan      -inf      -inf       inf  3.26e-01 \n",
      "   100| 1.99e-01  3.27e-02  7.41e-02  2.31e+01  2.68e+01  3.63e-14  7.77e+00 \n",
      "   200| 1.93e-01  2.80e-02  4.52e-02  4.73e+01  5.19e+01  5.88e-14  1.73e+01 \n",
      "   300| 1.99e-01  3.29e-02  2.82e-02  7.31e+01  7.74e+01  4.86e-14  2.87e+01 \n",
      "   400| 2.06e-01  4.25e-02  1.84e-02  1.00e+02  1.04e+02  7.67e-14  4.16e+01 \n",
      "   500| 2.13e-01  4.49e-02  1.26e-02  1.29e+02  1.32e+02  5.73e-14  5.68e+01 \n",
      "   600| 2.19e-01  2.73e-02  8.97e-03  1.58e+02  1.61e+02  4.07e-14  7.20e+01 \n",
      "   700| 2.24e-01  2.07e-02  6.66e-03  1.89e+02  1.92e+02  5.56e-14  8.77e+01 \n",
      "   800| 2.23e-01  1.36e-01  4.96e-03  2.18e+02  2.20e+02  7.32e-14  1.04e+02 \n",
      "   900| 2.31e-01  9.64e-02  3.36e-03  2.52e+02  2.54e+02  4.69e-14  1.20e+02 \n",
      "  1000| 2.36e-01  8.85e-02  2.70e-03  2.86e+02  2.88e+02  5.88e-14  1.38e+02 \n",
      "  1100| 2.40e-01  7.79e-02  2.20e-03  3.21e+02  3.22e+02  7.23e-14  1.57e+02 \n",
      "  1200| 2.45e-01  7.16e-02  1.83e-03  3.57e+02  3.58e+02  4.37e-14  1.77e+02 \n",
      "  1300| 2.49e-01  7.00e-02  1.53e-03  3.95e+02  3.96e+02  5.23e-14  1.97e+02 \n",
      "  1400| 2.53e-01  6.95e-02  1.30e-03  4.33e+02  4.34e+02  6.17e-14  2.19e+02 \n",
      "  1500| 2.58e-01  6.59e-02  1.11e-03  4.73e+02  4.74e+02  7.22e-14  2.39e+02 \n",
      "  1600| 2.62e-01  5.79e-02  9.57e-04  5.14e+02  5.15e+02  4.18e-14  2.57e+02 \n",
      "  1700| 2.67e-01  5.33e-02  8.36e-04  5.57e+02  5.57e+02  4.81e-14  2.74e+02 \n",
      "  1800| 2.71e-01  5.45e-02  7.33e-04  6.00e+02  6.01e+02  5.49e-14  2.90e+02 \n",
      "  1900| 2.75e-01  5.69e-02  6.45e-04  6.45e+02  6.46e+02  6.24e-14  3.06e+02 \n",
      "  2000| 2.80e-01  5.56e-02  5.66e-04  6.91e+02  6.92e+02  7.03e-14  3.22e+02 \n",
      "----------------------------------------------------------------------------\n",
      "Status: Solved/Inaccurate\n",
      "Hit max_iters, solution may be inaccurate\n",
      "Timing: Solve time: 3.22e+02s\n",
      "\tLin-sys: avg # CG iterations: 54.71, avg solve time: 1.59e-01s\n",
      "\tCones: avg projection time: 2.46e-04s\n",
      "----------------------------------------------------------------------------\n",
      "Error metrics:\n",
      "dist(s, K) = 5.2253e-08, dist(y, K*) = 2.3117e-09, s'y/|s||y| = -1.5225e-15\n",
      "|Ax + s - b|_2 / (1 + |b|_2) = 2.7955e-01\n",
      "|A'y + c|_2 / (1 + |c|_2) = 5.5606e-02\n",
      "|c'x + b'y| / (1 + |c'x| + |b'y|) = 5.6571e-04\n",
      "----------------------------------------------------------------------------\n",
      "c'x = 691.4887, -b'y = 692.2721\n",
      "============================================================================\n",
      "CPU times: user 40min 46s, sys: 14 s, total: 41min\n",
      "Wall time: 5min 22s\n"
     ]
    }
   ],
   "source": [
    "\n",
    "\n",
    "sdp_opt_std = SDPOpt(W_w_train, tau_w_s_train, robot_model,\n",
    "                     sdp_constraints, spring_constraints)\n",
    "# sdp_opt_std = SDPOpt(W, tau_s, robot_model, sdp_constraints)\n",
    "%time sdp_opt_std.solve()"
   ]
  },
  {
   "cell_type": "markdown",
   "metadata": {},
   "source": [
    "## Compare measured torque and predicted torque on training set"
   ]
  },
  {
   "cell_type": "markdown",
   "metadata": {},
   "source": [
    "### Generate predicted torque"
   ]
  },
  {
   "cell_type": "code",
   "execution_count": 82,
   "metadata": {},
   "outputs": [],
   "source": [
    "tau_p_sdp_train = np.zeros(tau_f_train.shape)\n",
    "tau_ps_sdp_train = W_train.dot(sdp_opt_std.x_result)\n",
    "for i in range(dof):\n",
    "    tau_p_sdp_train[:, i] = tau_ps_sdp_train[i::dof]"
   ]
  },
  {
   "cell_type": "code",
   "execution_count": 83,
   "metadata": {},
   "outputs": [
    {
     "data": {
      "text/plain": [
       "array([0.08659712, 0.20579402, 0.18161709, 0.17692534, 0.26558982,\n",
       "       0.20298568, 0.38449653])"
      ]
     },
     "execution_count": 83,
     "metadata": {},
     "output_type": "execute_result"
    }
   ],
   "source": [
    "np.linalg.norm(tau_f_train[:plot_data_num, :] - tau_p_sdp_train[:plot_data_num, :], axis=0)\\\n",
    "    / np.linalg.norm(tau_f_train[:plot_data_num, :], axis=0)"
   ]
  },
  {
   "cell_type": "markdown",
   "metadata": {},
   "source": [
    "### Plot measured torque and predicted torque"
   ]
  },
  {
   "cell_type": "code",
   "execution_count": 84,
   "metadata": {},
   "outputs": [
    {
     "data": {
      "image/png": "[encoded data removed]",
      "text/plain": [
       "<Figure size 864x576 with 7 Axes>"
      ]
     },
     "metadata": {
      "needs_background": "light"
     },
     "output_type": "display_data"
    }
   ],
   "source": [
    "plot_data_num = int(1 / base_freq * trajectory_sampling_rate)\n",
    "plot_meas_pred_tau(t_cut_train[:plot_data_num] - t_cut_train[0],\n",
    "                   tau_f_train[:plot_data_num, :],\n",
    "                   tau_p_sdp_train[:plot_data_num, :],\n",
    "                   robot_def.coordinates_joint_type,\n",
    "                   robot_model.coordinates)"
   ]
  },
  {
   "cell_type": "markdown",
   "metadata": {},
   "source": [
    "## Compare measured torque and predicted torque on test set"
   ]
  },
  {
   "cell_type": "code",
   "execution_count": 85,
   "metadata": {},
   "outputs": [],
   "source": [
    "bary_param_num = len(robot_model.bary_param)\n",
    "H_func = robot_model.H_func\n",
    "W_test, tau_s_test = gen_regressor(bary_param_num, H_func,\n",
    "                                   q_f_test, dq_f_test, ddq_f_test, tau_f_test)"
   ]
  },
  {
   "cell_type": "code",
   "execution_count": 104,
   "metadata": {},
   "outputs": [],
   "source": [
    "tau_p_sdp_test = np.zeros(tau_f_test.shape)\n",
    "tau_ps_sdp_test = W_test.dot(sdp_opt_std.x_result)\n",
    "for i in range(dof):\n",
    "    tau_p_sdp_test[:, i] = tau_ps_sdp_test[i::dof]\n",
    "plot_data_num = int(1 / base_freq * trajectory_sampling_rate)\n",
    "plot_meas_pred_tau(t_cut_test[:plot_data_num] - t_cut_test[0],\n",
    "                   tau_f_test[:plot_data_num, :],\n",
    "                   tau_p_sdp_test[:plot_data_num, :],\n",
    "                   robot_def.coordinates_joint_type,\n",
    "                   robot_model.coordinates)"
   ]
  },
  {
   "cell_type": "code",
   "execution_count": 87,
   "metadata": {},
   "outputs": [
    {
     "data": {
      "text/plain": [
       "array([0.16453677, 0.24382768, 0.15751331, 0.20588095, 0.29879068,\n",
       "       0.26129296, 0.35815597])"
      ]
     },
     "execution_count": 87,
     "metadata": {},
     "output_type": "execute_result"
    }
   ],
   "source": [
    "np.linalg.norm(tau_f_test[:plot_data_num, :] - tau_p_sdp_test[:plot_data_num, :], axis=0)\\\n",
    "/ np.linalg.norm(tau_f_test[:plot_data_num, :], axis=0)"
   ]
  },
  {
   "cell_type": "code",
   "execution_count": 88,
   "metadata": {},
   "outputs": [],
   "source": [
    "from identification import barycentric2standard_params"
   ]
  },
  {
   "cell_type": "code",
   "execution_count": 89,
   "metadata": {
    "scrolled": true
   },
   "outputs": [],
   "source": [
    "x_std = barycentric2standard_params(sdp_opt_std.x_result, robot_model)"
   ]
  },
  {
   "cell_type": "code",
   "execution_count": 90,
   "metadata": {},
   "outputs": [
    {
     "data": {
      "text/latex": [
       "$$\\left[\\begin{matrix}I1xx & 0.290559039718859\\\\I1xy & -0.0204781877447245\\\\I1xz & 2.02841290127503 \\cdot 10^{-19}\\\\I1yy & 0.462573062686208\\\\I1yz & 1.66160245432329 \\cdot 10^{-17}\\\\I1zz & 0.000252140883720293\\\\r1x & 0.0482036228684517\\\\r1y & -0.0703800044637699\\\\r1z & -5.29095265265752 \\cdot 10^{-19}\\\\m_{1} & 2.25833457191799\\\\Fc_{1} & 0.0556683040846012\\\\Fv_{1} & 0.106785591665255\\\\Fo_{1} & -0.200062541743711\\\\I2xx & 0.000343889808986614\\\\I2xy & 0.00012892518376155\\\\I2xz & -0.000798414555285075\\\\I2yy & 0.000460481083087664\\\\I2yz & -0.00213607990133723\\\\I2zz & 0.0202341759431254\\\\r2x & -0.0161965987353586\\\\r2y & -0.071413022223637\\\\r2z & 0.014959744373687\\\\m_{2} & 10.0038781547842\\\\Fc_{2} & 0.16159073052532\\\\Fv_{2} & 0.0962819967561651\\\\Fo_{2} & 0.199413602020395\\\\I4xx & 0.000249980337586059\\\\I4xy & -0.000236624868545842\\\\I4xz & 0.00103098772971408\\\\I4yy & 6.0426071463612\\\\I4yz & -0.0560936328675679\\\\I4zz & 6.05343894484663\\\\r4x & 0.313556221745474\\\\r4y & 0.0201082265811408\\\\r4z & -0.00582166686010632\\\\m_{4} & 0.200345869666054\\\\I5xx & 0.000250629740514868\\\\I5xy & 0.000429037791095412\\\\I5xz & 0.000636417529818196\\\\I5yy & 3.35271807000343\\\\I5yz & -0.188065875536343\\\\I5zz & 3.73223688553439\\\\r5x & 0.103231067190351\\\\r5y & 0.0300094064271511\\\\r5z & -0.0102836586426785\\\\m_{5} & 2.00081235751794\\\\I6xx & 4.10451833236531 \\cdot 10^{-5}\\\\I6xy & 3.9944923788269 \\cdot 10^{-5}\\\\I6xz & -9.15771230961813 \\cdot 10^{-6}\\\\I6yy & 0.000228433589392339\\\\I6yz & -2.92519847737572 \\cdot 10^{-5}\\\\I6zz & 1.25333856588238 \\cdot 10^{-5}\\\\r6x & 0.00443217907297544\\\\r6y & -0.24951037595692\\\\r6z & 0.0179361119946073\\\\m_{6} & 0.100046809136278\\\\I7xx & 0.000112491844917412\\\\I7xy & 3.83899685903102 \\cdot 10^{-5}\\\\I7xz & 2.16917833233387 \\cdot 10^{-5}\\\\I7yy & 0.000228454046944559\\\\I7yz & 2.94490970651609 \\cdot 10^{-5}\\\\I7zz & 1.31719587574826 \\cdot 10^{-5}\\\\r7x & -0.00311920896121882\\\\r7y & -0.000170617283064524\\\\r7z & 0.0200198503302454\\\\m_{7} & 0.500182116697339\\\\I8xx & 0.000277826912341791\\\\I8xy & 3.31354035148454 \\cdot 10^{-5}\\\\I8xz & 3.94752964041858 \\cdot 10^{-5}\\\\I8yy & 1.11022486876102 \\cdot 10^{-5}\\\\I8yz & 2.9758492174527 \\cdot 10^{-5}\\\\I8zz & 0.000228619688679728\\\\r8x & -0.0203311959687957\\\\r8y & -0.000850279865890454\\\\r8z & -0.0979097000192376\\\\m_{8} & 0.343963027851043\\\\Fc_{8} & 0.474611731125286\\\\Fv_{8} & 1.00029025860371\\\\Fo_{8} & -0.0672015317128223\\\\I9xx & 0.000105594867894375\\\\I9xy & -2.03146430213564 \\cdot 10^{-5}\\\\I9xz & 3.96874098842981 \\cdot 10^{-5}\\\\I9yy & 1.30811079439683 \\cdot 10^{-5}\\\\I9yz & -3.01109438306622 \\cdot 10^{-5}\\\\I9zz & 0.000228711684362658\\\\r9x & 0.0149098974650616\\\\r9y & -0.00739651043706355\\\\r9z & -0.098377355147897\\\\m_{9} & 0.336257400323842\\\\Fc_{10} & 0.00256116948370947\\\\Fv_{10} & 0.00184505766225069\\\\Fo_{10} & -0.00449878581244377\\\\Ia_{10} & -5.50500683122949 \\cdot 10^{-5}\\\\Fc_{11} & 0.010393128205955\\\\Fv_{11} & 0.0105380308045234\\\\Fo_{11} & -0.125579228955245\\\\Ia_{11} & -0.000692732823704457\\\\Fc_{12} & 0.000674247535685994\\\\Fv_{12} & 0.00458346470251569\\\\Fo_{12} & -0.114315950235268\\\\Fc_{13} & 0.00209245812349722\\\\Fv_{13} & 0.000211378286012052\\\\Fo_{13} & -0.0693300078081866\\\\Fc_{14} & 0.00668747443911904\\\\Fv_{14} & 0.00289407887687871\\\\Fo_{14} & 0.149602586770175\\\\Ia_{14} & -0.000465637023795149\\\\Fc_{15} & 0.00503492745619089\\\\Fv_{15} & 0.0128936160954212\\\\Fo_{15} & 0.0534366142436828\\\\Ia_{15} & -0.000296171372166022\\\\Fc_{16} & 0.00108896207995565\\\\Fv_{16} & 0.00191698633881712\\\\Fo_{16} & 0.0218144702062681\\\\K_{0} & 0.00182427189273576\\end{matrix}\\right]$$"
      ],
      "text/plain": [
       "⎡I1xx    0.290559039718859  ⎤\n",
       "⎢                           ⎥\n",
       "⎢I1xy   -0.0204781877447245 ⎥\n",
       "⎢                           ⎥\n",
       "⎢I1xz  2.02841290127503e-19 ⎥\n",
       "⎢                           ⎥\n",
       "⎢I1yy    0.462573062686208  ⎥\n",
       "⎢                           ⎥\n",
       "⎢I1yz  1.66160245432329e-17 ⎥\n",
       "⎢                           ⎥\n",
       "⎢I1zz  0.000252140883720293 ⎥\n",
       "⎢                           ⎥\n",
       "⎢r1x    0.0482036228684517  ⎥\n",
       "⎢                           ⎥\n",
       "⎢r1y    -0.0703800044637699 ⎥\n",
       "⎢                           ⎥\n",
       "⎢r1z   -5.29095265265752e-19⎥\n",
       "⎢                           ⎥\n",
       "⎢ m₁     2.25833457191799   ⎥\n",
       "⎢                           ⎥\n",
       "⎢Fc₁    0.0556683040846012  ⎥\n",
       "⎢                           ⎥\n",
       "⎢Fv₁     0.106785591665255  ⎥\n",
       "⎢                           ⎥\n",
       "⎢Fo₁    -0.200062541743711  ⎥\n",
       "⎢                           ⎥\n",
       "⎢I2xx  0.000343889808986614 ⎥\n",
       "⎢                           ⎥\n",
       "⎢I2xy   0.00012892518376155 ⎥\n",
       "⎢                           ⎥\n",
       "⎢I2xz  -0.000798414555285075⎥\n",
       "⎢                           ⎥\n",
       "⎢I2yy  0.000460481083087664 ⎥\n",
       "⎢                           ⎥\n",
       "⎢I2yz  -0.00213607990133723 ⎥\n",
       "⎢                           ⎥\n",
       "⎢I2zz   0.0202341759431254  ⎥\n",
       "⎢                           ⎥\n",
       "⎢r2x    -0.0161965987353586 ⎥\n",
       "⎢                           ⎥\n",
       "⎢r2y    -0.071413022223637  ⎥\n",
       "⎢                           ⎥\n",
       "⎢r2z     0.014959744373687  ⎥\n",
       "⎢                           ⎥\n",
       "⎢ m₂     10.0038781547842   ⎥\n",
       "⎢                           ⎥\n",
       "⎢Fc₂     0.16159073052532   ⎥\n",
       "⎢                           ⎥\n",
       "⎢Fv₂    0.0962819967561651  ⎥\n",
       "⎢                           ⎥\n",
       "⎢Fo₂     0.199413602020395  ⎥\n",
       "⎢                           ⎥\n",
       "⎢I4xx  0.000249980337586059 ⎥\n",
       "⎢                           ⎥\n",
       "⎢I4xy  -0.000236624868545842⎥\n",
       "⎢                           ⎥\n",
       "⎢I4xz   0.00103098772971408 ⎥\n",
       "⎢                           ⎥\n",
       "⎢I4yy     6.0426071463612   ⎥\n",
       "⎢                           ⎥\n",
       "⎢I4yz   -0.0560936328675679 ⎥\n",
       "⎢                           ⎥\n",
       "⎢I4zz    6.05343894484663   ⎥\n",
       "⎢                           ⎥\n",
       "⎢r4x     0.313556221745474  ⎥\n",
       "⎢                           ⎥\n",
       "⎢r4y    0.0201082265811408  ⎥\n",
       "⎢                           ⎥\n",
       "⎢r4z   -0.00582166686010632 ⎥\n",
       "⎢                           ⎥\n",
       "⎢ m₄     0.200345869666054  ⎥\n",
       "⎢                           ⎥\n",
       "⎢I5xx  0.000250629740514868 ⎥\n",
       "⎢                           ⎥\n",
       "⎢I5xy  0.000429037791095412 ⎥\n",
       "⎢                           ⎥\n",
       "⎢I5xz  0.000636417529818196 ⎥\n",
       "⎢                           ⎥\n",
       "⎢I5yy    3.35271807000343   ⎥\n",
       "⎢                           ⎥\n",
       "⎢I5yz   -0.188065875536343  ⎥\n",
       "⎢                           ⎥\n",
       "⎢I5zz    3.73223688553439   ⎥\n",
       "⎢                           ⎥\n",
       "⎢r5x     0.103231067190351  ⎥\n",
       "⎢                           ⎥\n",
       "⎢r5y    0.0300094064271511  ⎥\n",
       "⎢                           ⎥\n",
       "⎢r5z    -0.0102836586426785 ⎥\n",
       "⎢                           ⎥\n",
       "⎢ m₅     2.00081235751794   ⎥\n",
       "⎢                           ⎥\n",
       "⎢I6xx   4.10451833236531e-5 ⎥\n",
       "⎢                           ⎥\n",
       "⎢I6xy   3.9944923788269e-5  ⎥\n",
       "⎢                           ⎥\n",
       "⎢I6xz  -9.15771230961813e-6 ⎥\n",
       "⎢                           ⎥\n",
       "⎢I6yy  0.000228433589392339 ⎥\n",
       "⎢                           ⎥\n",
       "⎢I6yz  -2.92519847737572e-5 ⎥\n",
       "⎢                           ⎥\n",
       "⎢I6zz   1.25333856588238e-5 ⎥\n",
       "⎢                           ⎥\n",
       "⎢r6x    0.00443217907297544 ⎥\n",
       "⎢                           ⎥\n",
       "⎢r6y     -0.24951037595692  ⎥\n",
       "⎢                           ⎥\n",
       "⎢r6z    0.0179361119946073  ⎥\n",
       "⎢                           ⎥\n",
       "⎢ m₆     0.100046809136278  ⎥\n",
       "⎢                           ⎥\n",
       "⎢I7xx  0.000112491844917412 ⎥\n",
       "⎢                           ⎥\n",
       "⎢I7xy   3.83899685903102e-5 ⎥\n",
       "⎢                           ⎥\n",
       "⎢I7xz   2.16917833233387e-5 ⎥\n",
       "⎢                           ⎥\n",
       "⎢I7yy  0.000228454046944559 ⎥\n",
       "⎢                           ⎥\n",
       "⎢I7yz   2.94490970651609e-5 ⎥\n",
       "⎢                           ⎥\n",
       "⎢I7zz   1.31719587574826e-5 ⎥\n",
       "⎢                           ⎥\n",
       "⎢r7x   -0.00311920896121882 ⎥\n",
       "⎢                           ⎥\n",
       "⎢r7y   -0.000170617283064524⎥\n",
       "⎢                           ⎥\n",
       "⎢r7z    0.0200198503302454  ⎥\n",
       "⎢                           ⎥\n",
       "⎢ m₇     0.500182116697339  ⎥\n",
       "⎢                           ⎥\n",
       "⎢I8xx  0.000277826912341791 ⎥\n",
       "⎢                           ⎥\n",
       "⎢I8xy   3.31354035148454e-5 ⎥\n",
       "⎢                           ⎥\n",
       "⎢I8xz   3.94752964041858e-5 ⎥\n",
       "⎢                           ⎥\n",
       "⎢I8yy   1.11022486876102e-5 ⎥\n",
       "⎢                           ⎥\n",
       "⎢I8yz   2.9758492174527e-5  ⎥\n",
       "⎢                           ⎥\n",
       "⎢I8zz  0.000228619688679728 ⎥\n",
       "⎢                           ⎥\n",
       "⎢r8x    -0.0203311959687957 ⎥\n",
       "⎢                           ⎥\n",
       "⎢r8y   -0.000850279865890454⎥\n",
       "⎢                           ⎥\n",
       "⎢r8z    -0.0979097000192376 ⎥\n",
       "⎢                           ⎥\n",
       "⎢ m₈     0.343963027851043  ⎥\n",
       "⎢                           ⎥\n",
       "⎢Fc₈     0.474611731125286  ⎥\n",
       "⎢                           ⎥\n",
       "⎢Fv₈     1.00029025860371   ⎥\n",
       "⎢                           ⎥\n",
       "⎢Fo₈    -0.0672015317128223 ⎥\n",
       "⎢                           ⎥\n",
       "⎢I9xx  0.000105594867894375 ⎥\n",
       "⎢                           ⎥\n",
       "⎢I9xy  -2.03146430213564e-5 ⎥\n",
       "⎢                           ⎥\n",
       "⎢I9xz   3.96874098842981e-5 ⎥\n",
       "⎢                           ⎥\n",
       "⎢I9yy   1.30811079439683e-5 ⎥\n",
       "⎢                           ⎥\n",
       "⎢I9yz  -3.01109438306622e-5 ⎥\n",
       "⎢                           ⎥\n",
       "⎢I9zz  0.000228711684362658 ⎥\n",
       "⎢                           ⎥\n",
       "⎢r9x    0.0149098974650616  ⎥\n",
       "⎢                           ⎥\n",
       "⎢r9y   -0.00739651043706355 ⎥\n",
       "⎢                           ⎥\n",
       "⎢r9z    -0.098377355147897  ⎥\n",
       "⎢                           ⎥\n",
       "⎢ m₉     0.336257400323842  ⎥\n",
       "⎢                           ⎥\n",
       "⎢Fc₁₀   0.00256116948370947 ⎥\n",
       "⎢                           ⎥\n",
       "⎢Fv₁₀   0.00184505766225069 ⎥\n",
       "⎢                           ⎥\n",
       "⎢Fo₁₀  -0.00449878581244377 ⎥\n",
       "⎢                           ⎥\n",
       "⎢Ia₁₀  -5.50500683122949e-5 ⎥\n",
       "⎢                           ⎥\n",
       "⎢Fc₁₁    0.010393128205955  ⎥\n",
       "⎢                           ⎥\n",
       "⎢Fv₁₁   0.0105380308045234  ⎥\n",
       "⎢                           ⎥\n",
       "⎢Fo₁₁   -0.125579228955245  ⎥\n",
       "⎢                           ⎥\n",
       "⎢Ia₁₁  -0.000692732823704457⎥\n",
       "⎢                           ⎥\n",
       "⎢Fc₁₂  0.000674247535685994 ⎥\n",
       "⎢                           ⎥\n",
       "⎢Fv₁₂   0.00458346470251569 ⎥\n",
       "⎢                           ⎥\n",
       "⎢Fo₁₂   -0.114315950235268  ⎥\n",
       "⎢                           ⎥\n",
       "⎢Fc₁₃   0.00209245812349722 ⎥\n",
       "⎢                           ⎥\n",
       "⎢Fv₁₃  0.000211378286012052 ⎥\n",
       "⎢                           ⎥\n",
       "⎢Fo₁₃   -0.0693300078081866 ⎥\n",
       "⎢                           ⎥\n",
       "⎢Fc₁₄   0.00668747443911904 ⎥\n",
       "⎢                           ⎥\n",
       "⎢Fv₁₄   0.00289407887687871 ⎥\n",
       "⎢                           ⎥\n",
       "⎢Fo₁₄    0.149602586770175  ⎥\n",
       "⎢                           ⎥\n",
       "⎢Ia₁₄  -0.000465637023795149⎥\n",
       "⎢                           ⎥\n",
       "⎢Fc₁₅   0.00503492745619089 ⎥\n",
       "⎢                           ⎥\n",
       "⎢Fv₁₅   0.0128936160954212  ⎥\n",
       "⎢                           ⎥\n",
       "⎢Fo₁₅   0.0534366142436828  ⎥\n",
       "⎢                           ⎥\n",
       "⎢Ia₁₅  -0.000296171372166022⎥\n",
       "⎢                           ⎥\n",
       "⎢Fc₁₆   0.00108896207995565 ⎥\n",
       "⎢                           ⎥\n",
       "⎢Fv₁₆   0.00191698633881712 ⎥\n",
       "⎢                           ⎥\n",
       "⎢Fo₁₆   0.0218144702062681  ⎥\n",
       "⎢                           ⎥\n",
       "⎣ K₀    0.00182427189273576 ⎦"
      ]
     },
     "execution_count": 90,
     "metadata": {},
     "output_type": "execute_result"
    }
   ],
   "source": [
    "sympy.Matrix.hstack(sympy.Matrix(robot_model.std_param), sympy.Matrix(x_std))"
   ]
  }
 ],
 "metadata": {
  "kernelspec": {
   "display_name": "Python 2",
   "language": "python",
   "name": "python2"
  },
  "language_info": {
   "codemirror_mode": {
    "name": "ipython",
    "version": 2
   },
   "file_extension": ".py",
   "mimetype": "text/x-python",
   "name": "python",
   "nbconvert_exporter": "python",
   "pygments_lexer": "ipython2",
   "version": "2.7.15"
  }
 },
 "nbformat": 4,
 "nbformat_minor": 1
}
