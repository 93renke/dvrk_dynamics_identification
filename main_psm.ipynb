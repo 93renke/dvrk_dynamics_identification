{
 "cells": [
  {
   "cell_type": "markdown",
   "metadata": {
    "collapsed": true
   },
   "source": [
    "Robot Dynamic Model Identification\n",
    "=======\n",
    "---"
   ]
  },
  {
   "cell_type": "markdown",
   "metadata": {},
   "source": [
    "# 1 - Praparing work"
   ]
  },
  {
   "cell_type": "markdown",
   "metadata": {},
   "source": [
    "## Import libraries"
   ]
  },
  {
   "cell_type": "code",
   "execution_count": 1,
   "metadata": {},
   "outputs": [],
   "source": [
    "# enable auto-reload modules\n",
    "%load_ext autoreload\n",
    "%autoreload 2\n",
    "#interactive plotting in separate window\n",
    "%matplotlib qt \n",
    "#%matplotlib inline\n",
    "\n",
    "from sympy import init_printing\n",
    "init_printing()\n",
    "    \n",
    "import matplotlib.pyplot as plt\n",
    "plt.rcParams['figure.figsize'] = [12, 8]\n",
    "\n",
    "import numpy as np\n",
    "import sympy\n",
    "from robot_def import RobotDef\n",
    "from kinematics import Geometry\n",
    "from dynamics import Dynamics\n",
    "from trajectory_optimization import TrajOptimizer\n",
    "from trajectory_optimization import TrajPlotter\n",
    "from utils import new_sym\n",
    "from utils import save_data, load_data\n",
    "import time"
   ]
  },
  {
   "cell_type": "markdown",
   "metadata": {},
   "source": [
    "## Folder dir for saving and loading files"
   ]
  },
  {
   "cell_type": "code",
   "execution_count": 2,
   "metadata": {},
   "outputs": [],
   "source": [
    "model_name = 'psm'\n",
    "#model_name = 'psm_simplified'\n",
    "\n",
    "model_folder = 'data/' + model_name + '/model/'"
   ]
  },
  {
   "cell_type": "markdown",
   "metadata": {},
   "source": [
    "---\n",
    "# 2 - Robot modelling"
   ]
  },
  {
   "cell_type": "markdown",
   "metadata": {},
   "source": [
    "## Robot geometry definition in following order"
   ]
  },
  {
   "cell_type": "markdown",
   "metadata": {},
   "source": [
    "| Joint number | prev link | succ links | $a$ | $\\alpha$ | $d$ | $\\theta$ | link inertia | motor inertia | friction |\n",
    "|--------------|-----------|------------|-----|----------|-----|----------|--------------|---------------|---------|"
   ]
  },
  {
   "cell_type": "code",
   "execution_count": 3,
   "metadata": {},
   "outputs": [
    {
     "name": "stdout",
     "output_type": "stream",
     "text": [
      "psm\n",
      "['Coulomb', 'viscous', 'offset']\n"
     ]
    }
   ],
   "source": [
    "q0, q1, q2, q3, q4, q5, q6, q7, q8, q9, q10 = new_sym('q:11')\n",
    "_pi = sympy.pi\n",
    "\n",
    "dh = []\n",
    "springs = []\n",
    "friction_type = []\n",
    "\n",
    "if (model_name == 'psm_simplified'):   \n",
    "    q8 = 1.0186 * q5\n",
    "    q9 = -0.8306 * q5 + 1.2178 * q6\n",
    "    q10 = -0.8306 *q5 + 1.2178 * q7\n",
    "    \n",
    "    l_2L1 = 96*0.001\n",
    "    l_2L2 = 516*0.001\n",
    "    l_2L3 = 40.09*0.001\n",
    "    \n",
    "    l_2H1 = 144.54*0.001\n",
    "    l_2H2 = 38.08*0.001\n",
    "    \n",
    "    l_3 = 40.09*0.001\n",
    "    \n",
    "    l_RCC = 431.8*0.001\n",
    "    l_tool = 416.2*0.001\n",
    "    l_pitch2yaw = 9.1*0.001\n",
    "    \n",
    "    M_motor2dvrk_q = np.matrix([[1.0186, 0, 0], [-0.8306, 0.6089, 0.6089], [0, -1.2177, 1.2177]])\n",
    "    M_model2dvrk_q = np.matrix([[1, 0, 0], [0, 0.5, 0.5], [0, -1, 1]])\n",
    "    \n",
    "    L_b = 0\n",
    "    L_1 = 1\n",
    "    L_20 = 2\n",
    "    L_21 = 3\n",
    "    L_22 = 4\n",
    "#     L_23 = 5\n",
    "    L_24 = 5\n",
    "#     L_25 = 6\n",
    "    L_30 = 6\n",
    "    L_31 = 7\n",
    "    L_4 = 8\n",
    "    L_5 = 9\n",
    "    L_6 = 10\n",
    "    L_7 = 11\n",
    "    M_6 = 12\n",
    "    M_7 = 13\n",
    "    F_67 = 14\n",
    "    \n",
    "    \n",
    "    x = [None]*15\n",
    "    x[0]  = (L_b,  -1,   [L_1, M_6, M_7, F_67], 0,           0,      0,              0,         False, False, False) # Base\n",
    "    \n",
    "    \n",
    "    x[1]  = (L_1,  L_b,  [L_20],                0,           _pi/2,  0,              q1+_pi/2,  True,  False, True) # Yaw\n",
    "    x[2]  = (L_20, L_1,  [L_21, L_31],          0,           -_pi/2, 0,              q2-_pi/2,  True,  False, True) # -- Intermediate\n",
    "    x[3]  = (L_21, L_20, [L_22],                l_2L3,       0,      0,              _pi/2,     False, False, False) # Pitch Back\n",
    "    x[4]  = (L_22, L_21, [L_24, L_30],          l_2H1,       0,      0,              -q2+_pi/2, True,  False, False) # Pitch Front                                    )\n",
    "    #x[5]  = (L_23, L_21, [],                    l_2H1+l_2H2, 0,      0,              -q2+_pi/2, True,  False, False)    # Intermediate\n",
    "    x[5]  = (L_24, L_22, [L_30],                l_2L2,       0,      0,              q2,        True,  False, False)    # Pitch Bottom\n",
    "    #x[7]  = (L_25, L_22, [],                    l_2L1,       0,      0,              q2+_pi,    True,  False, False)    # Pitch Top\n",
    "    x[6]  = (L_30, L_24, [L_4],                 l_3,         -_pi/2,  q3-l_RCC+l_2H1, 0,         True,  False, True)    # Pitch End\n",
    "    x[7]  = (L_31, L_20, [],                    l_2L3,       -_pi/2, q3,             0,         True,  False, False)    # Main Insertion\n",
    "    x[8] = (L_4,  L_30, [L_5],                  0,           0,      l_tool,         q4,        False, True,  True) # Intermediate Counterweight\n",
    "    x[9] = (L_5,  L_4,  [L_6, L_7],             0,           _pi/2,  0,              q8+_pi/2,  False, True,  True) # Counterweight\n",
    "    x[10] = (L_6,  L_5,  [],                    l_pitch2yaw, -_pi/2, 0,              q9+_pi/2,  False, False,  True) # Tool Roll \n",
    "    x[11] = (L_7,  L_5,  [],                    l_pitch2yaw, -_pi/2, 0,              q10+_pi/2,  False, False,  True) # Tool Pitch\n",
    "    \n",
    "    x[12] = (M_6,  L_b,  [],                    0,           0,      0,              q6,        False, True,  True) # Tool Yaw1 inert\n",
    "    x[13] = (M_7,  L_b,  [],                    0,           0,      0,              q7,        False, True,  True) # Tool Yaw2 inert\n",
    "    x[14] = (F_67, L_b,  [],                    0,           0,      0,              q10-q9,    False, False, True) # q6 q7 coupled friction\n",
    "    \n",
    "    dh = x\n",
    "    friction_type = ['Coulomb', 'viscous', 'offset']\n",
    "    springs = [-q4]\n",
    "    print(model_name)\n",
    "elif (model_name == 'psm'):\n",
    "    \n",
    "    q8 = 1.0186 * q5\n",
    "    q9 = -0.8306 * q5 + 1.2178 * q6\n",
    "    q10 = -0.8306 *q5 + 1.2178 * q7\n",
    "    \n",
    "    l_2L1 = 96*0.001\n",
    "    l_2L2 = 516*0.001\n",
    "    l_2L3 = 40.09*0.001\n",
    "    \n",
    "    l_2H1 = 144.54*0.001\n",
    "    l_2H2 = 38.08*0.001\n",
    "    \n",
    "    l_3 = 40.09*0.001\n",
    "    \n",
    "    l_RCC = 431.8*0.001\n",
    "    l_tool = 416.2*0.001\n",
    "    l_pitch2yaw = 9.1*0.001\n",
    "    \n",
    "    M_motor2dvrk_q = np.matrix([[1.0186, 0, 0], [-0.8306, 0.6089, 0.6089], [0, -1.2177, 1.2177]])\n",
    "    M_model2dvrk_q = np.matrix([[1, 0, 0], [0, 0.5, 0.5], [0, -1, 1]])\n",
    "    \n",
    "    L_b = 0\n",
    "    L_1 = 1\n",
    "    L_20 = 2\n",
    "    L_21 = 3\n",
    "    L_22 = 4\n",
    "    L_23 = 5\n",
    "    L_24 = 6\n",
    "    L_25 = 7\n",
    "    L_30 = 8\n",
    "    L_31 = 9\n",
    "    L_4 = 10\n",
    "    L_5 = 11\n",
    "    L_6 = 12\n",
    "    L_7 = 13\n",
    "    M_6 = 14\n",
    "    M_7 = 15\n",
    "    F_67 = 16\n",
    "    \n",
    "    \n",
    "    x = [None]*17\n",
    "    x[0]  = (L_b,  -1,   [L_1, M_6, M_7, F_67], 0,           0,      0,              0,         False, False, False) # Base\n",
    "    \n",
    "    \n",
    "    x[1]  = (L_1,  L_b,  [L_20],                0,           _pi/2,  0,              q1+_pi/2,  True,  False, True) # Yaw\n",
    "    x[2]  = (L_20, L_1,  [L_21, L_31],          0,           -_pi/2, 0,              q2-_pi/2,  True,  False, True) # -- Intermediate\n",
    "    x[3]  = (L_21, L_20, [L_22, L_23],          l_2L3,       0,      0,              _pi/2,     False, False, False) # Pitch Back\n",
    "    x[4]  = (L_22, L_21, [L_24, L_25, L_30],    l_2H1,       0,      0,              -q2+_pi/2, True,  False, False) # Pitch Front                                    )\n",
    "    x[5]  = (L_23, L_21, [],                    l_2H1+l_2H2, 0,      0,              -q2+_pi/2, True,  False, False)    # Intermediate\n",
    "    x[6]  = (L_24, L_22, [L_30],                l_2L2,       0,      0,              q2,        True,  False, False)    # Pitch Bottom\n",
    "    x[7]  = (L_25, L_22, [],                    l_2L1,       0,      0,              q2+_pi,    True,  False, False)    # Pitch Top\n",
    "    x[8]  = (L_30, L_24, [L_4],                 l_3,         -_pi/2,  q3-l_RCC+l_2H1, 0,         True,  False, True)    # Pitch End\n",
    "    x[9]  = (L_31, L_20, [],                    l_2L3,       -_pi/2, q3,             0,         True,  False, False)    # Main Insertion\n",
    "    x[10] = (L_4,  L_30, [L_5],                 0,           0,      l_tool,         q4,        False, True,  True) # Intermediate Counterweight\n",
    "    x[11] = (L_5,  L_4,  [L_6, L_7],            0,           _pi/2,  0,              q8+_pi/2,  False, True,  True) # Counterweight\n",
    "    x[12] = (L_6,  L_5,  [],                    l_pitch2yaw, -_pi/2, 0,              q9+_pi/2,  False, False,  True) # Tool Roll \n",
    "    x[13] = (L_7,  L_5,  [],                    l_pitch2yaw, -_pi/2, 0,              q10+_pi/2,  False, False,  True) # Tool Pitch\n",
    "    \n",
    "    x[14] = (M_6,  L_b,  [],                    0,           0,      0,              q6,        False, True,  True) # Tool Yaw1 inert\n",
    "    x[15] = (M_7,  L_b,  [],                    0,           0,      0,              q7,        False, True,  True) # Tool Yaw2 inert\n",
    "    x[16] = (F_67, L_b,  [],                    0,           0,      0,              q10-q9,    False, False, True) # q6 q7 coupled friction\n",
    "    \n",
    "    dh = x\n",
    "    friction_type = ['Coulomb', 'viscous', 'offset']\n",
    "    springs = [-q4]\n",
    "    print(model_name)\n",
    "else:\n",
    "    raise Exception(\"No robot name matches \" + name)\n",
    "print(friction_type)\n",
    "robot_def = RobotDef(dh,\n",
    "                     springs=springs,\n",
    "                     dh_convention='mdh',\n",
    "                     friction_type=friction_type)"
   ]
  },
  {
   "cell_type": "code",
   "execution_count": 26,
   "metadata": {},
   "outputs": [
    {
     "data": {
      "text/plain": [
       "matrix([[ 1.0186 ,  0.     ,  0.     ],\n",
       "        [-0.8306 ,  1.21775,  0.     ],\n",
       "        [-0.8306 ,  0.     ,  1.21775]])"
      ]
     },
     "execution_count": 26,
     "metadata": {},
     "output_type": "execute_result"
    }
   ],
   "source": [
    "M_motor2dvrk_q = np.matrix([[1.0186, 0, 0], [-0.8306, 0.6089, 0.6089], [0, -1.2177, 1.2177]])\n",
    "M_model2dvrk_q = np.matrix([[1, 0, 0], [0, 0.5, 0.5], [0, -1, 1]])\n",
    "M_motor2model_q = np.linalg.inv(M_model2dvrk_q)*M_motor2dvrk_q\n",
    "M_motor2model_q[np.abs(M_motor2model_q) < 0.0001] = 0\n",
    "M_motor2model_q"
   ]
  },
  {
   "cell_type": "code",
   "execution_count": 27,
   "metadata": {},
   "outputs": [
    {
     "data": {
      "text/plain": [
       "['R', 'R', 'P', 'R', 'R', 'R', 'R']"
      ]
     },
     "execution_count": 27,
     "metadata": {},
     "output_type": "execute_result"
    }
   ],
   "source": [
    "robot_def.coordinates_joint_type"
   ]
  },
  {
   "cell_type": "code",
   "execution_count": 28,
   "metadata": {},
   "outputs": [
    {
     "data": {
      "image/png": "[encoded data removed]",
      "text/latex": [
       "$$\\left [ L1xx, \\quad L1xy, \\quad L1xz, \\quad L1yy, \\quad L1yz, \\quad L1zz, \\quad l1x, \\quad l1y, \\quad l1z, \\quad m_{1}, \\quad Fc_{1}, \\quad Fv_{1}, \\quad Fo_{1}, \\quad L2xx, \\quad L2xy, \\quad L2xz, \\quad L2yy, \\quad L2yz, \\quad L2zz, \\quad l2x, \\quad l2y, \\quad l2z, \\quad m_{2}, \\quad Fc_{2}, \\quad Fv_{2}, \\quad Fo_{2}, \\quad L4xx, \\quad L4xy, \\quad L4xz, \\quad L4yy, \\quad L4yz, \\quad L4zz, \\quad l4x, \\quad l4y, \\quad l4z, \\quad m_{4}, \\quad L5xx, \\quad L5xy, \\quad L5xz, \\quad L5yy, \\quad L5yz, \\quad L5zz, \\quad l5x, \\quad l5y, \\quad l5z, \\quad m_{5}, \\quad L6xx, \\quad L6xy, \\quad L6xz, \\quad L6yy, \\quad L6yz, \\quad L6zz, \\quad l6x, \\quad l6y, \\quad l6z, \\quad m_{6}, \\quad Fc_{6}, \\quad Fv_{6}, \\quad Fo_{6}, \\quad L7xx, \\quad L7xy, \\quad L7xz, \\quad L7yy, \\quad L7yz, \\quad L7zz, \\quad l7x, \\quad l7y, \\quad l7z, \\quad m_{7}, \\quad Fc_{8}, \\quad Fv_{8}, \\quad Fo_{8}, \\quad Ia_{8}, \\quad Fc_{9}, \\quad Fv_{9}, \\quad Fo_{9}, \\quad Ia_{9}, \\quad Fc_{10}, \\quad Fv_{10}, \\quad Fo_{10}, \\quad Fc_{11}, \\quad Fv_{11}, \\quad Fo_{11}, \\quad Fc_{12}, \\quad Fv_{12}, \\quad Fo_{12}, \\quad Ia_{12}, \\quad Fc_{13}, \\quad Fv_{13}, \\quad Fo_{13}, \\quad Ia_{13}, \\quad Fc_{14}, \\quad Fv_{14}, \\quad Fo_{14}, \\quad K_{0}\\right ]$$"
      ],
      "text/plain": [
       "[L1xx, L1xy, L1xz, L1yy, L1yz, L1zz, l1x, l1y, l1z, m₁, Fc₁, Fv₁, Fo₁, L2xx, L\n",
       "2xy, L2xz, L2yy, L2yz, L2zz, l2x, l2y, l2z, m₂, Fc₂, Fv₂, Fo₂, L4xx, L4xy, L4x\n",
       "z, L4yy, L4yz, L4zz, l4x, l4y, l4z, m₄, L5xx, L5xy, L5xz, L5yy, L5yz, L5zz, l5\n",
       "x, l5y, l5z, m₅, L6xx, L6xy, L6xz, L6yy, L6yz, L6zz, l6x, l6y, l6z, m₆, Fc₆, F\n",
       "v₆, Fo₆, L7xx, L7xy, L7xz, L7yy, L7yz, L7zz, l7x, l7y, l7z, m₇, Fc₈, Fv₈, Fo₈,\n",
       " Ia₈, Fc₉, Fv₉, Fo₉, Ia₉, Fc₁₀, Fv₁₀, Fo₁₀, Fc₁₁, Fv₁₁, Fo₁₁, Fc₁₂, Fv₁₂, Fo₁₂\n",
       ", Ia₁₂, Fc₁₃, Fv₁₃, Fo₁₃, Ia₁₃, Fc₁₄, Fv₁₄, Fo₁₄, K₀]"
      ]
     },
     "execution_count": 28,
     "metadata": {},
     "output_type": "execute_result"
    }
   ],
   "source": [
    "robot_def.bary_params"
   ]
  },
  {
   "cell_type": "markdown",
   "metadata": {},
   "source": [
    "## Create kinematics chain"
   ]
  },
  {
   "cell_type": "code",
   "execution_count": 29,
   "metadata": {
    "scrolled": true
   },
   "outputs": [
    {
     "name": "stdout",
     "output_type": "stream",
     "text": [
      "Frame: 0\n",
      "Frame: 1\n",
      "Frame: 2\n",
      "Frame: 3\n",
      "Frame: 4\n",
      "Frame: 5\n",
      "Frame: 6\n",
      "Frame: 7\n",
      "Frame: 8\n",
      "Frame: 9\n",
      "Frame: 10\n",
      "Frame: 11\n",
      "Frame: 12\n",
      "Frame: 13\n",
      "Frame: 14\n",
      "CPU times: user 11min 9s, sys: 2.19 s, total: 11min 11s\n",
      "Wall time: 11min 9s\n"
     ]
    }
   ],
   "source": [
    "%time geom = Geometry(robot_def)"
   ]
  },
  {
   "cell_type": "code",
   "execution_count": 30,
   "metadata": {},
   "outputs": [],
   "source": [
    "angle = [0, 0.0, 0, 0, 0, 0.3, 0.4]\n",
    "geom.draw_geom(angle)"
   ]
  },
  {
   "cell_type": "markdown",
   "metadata": {},
   "source": [
    "## Create dynamics"
   ]
  },
  {
   "cell_type": "code",
   "execution_count": 31,
   "metadata": {},
   "outputs": [
    {
     "name": "stdout",
     "output_type": "stream",
     "text": [
      "Calculating Lagrangian...\n",
      "Calculating the link kinetic energy of 1/14\n",
      "Calculating the link kinetic energy of 2/14\n",
      "Calculating the link kinetic energy of 4/14\n",
      "Calculating the link kinetic energy of 5/14\n",
      "Calculating the link kinetic energy of 6/14\n",
      "Calculating the link kinetic energy of 7/14\n",
      "Calculating joint torques...\n",
      "tau of q1\n",
      "tau of q2\n",
      "tau of q3\n",
      "tau of q4\n",
      "tau of q5\n",
      "tau of q6\n",
      "tau of q7\n",
      "Adding frictions and springs...\n",
      "Add motor inertia...\n",
      "Calculating regressor...\n",
      "Calculating M, C and G...\n",
      "Calculating base parameter...\n",
      "base parameter number: 48\n",
      "Creating H_b function...\n",
      "Finished creating robot dynamics\n"
     ]
    }
   ],
   "source": [
    "dyn = Dynamics(robot_def, geom)"
   ]
  },
  {
   "cell_type": "code",
   "execution_count": 32,
   "metadata": {
    "scrolled": true
   },
   "outputs": [
    {
     "data": {
      "text/latex": [
       "$$\\left[\\begin{matrix}1.0 m_{6}\\\\1.0 m_{7}\\\\0.5 l2y - 0.5 l5y + 1.0 l7z + 0.07227 m_{4} + 0.07227 m_{5}\\\\- 0.5 l2x + 0.5 l5x + 1.0 l6x - 0.020045 m_{4} - 0.020045 m_{5}\\\\- 0.5 l2y + 0.5 l5y + 1.0 l6z - 0.07227 m_{4} - 0.07227 m_{5}\\\\0.5 l2x - 0.5 l5x + 1.0 l7x + 0.020045 m_{4} + 0.020045 m_{5}\\\\- 0.5 l1y - 0.5 l2z - 0.5 l4z - 0.5 l5z + 1.0 l6y\\\\- 0.5 l1y - 0.5 l2z - 0.5 l4z - 0.5 l5z + 1.0 l7y\\\\1.0 l4y\\\\1.0 Fv_{14}\\\\1.0 L2xy + 1.0 L5xy + 1.0 L6xz + 1.0 L7xz + 0.2159 l2x + 0.020045 l2y - 0.07136 l5x + 0.020045 l5y + 0.00575813 m_{4} + 0.00575813 m_{5}\\\\1.0 Fv_{10}\\\\1.0 Fv_{11}\\\\1.0 L2xz - 1.0 L5xz + 1.0 L6xy - 1.0 L7xy + 0.020045 l1y + 0.020045 l2z - 0.020045 l4z - 0.020045 l5z\\\\1.0 L2yz - 1.0 L5yz + 1.0 L6yz - 1.0 L7yz + 0.2159 l1y + 0.2159 l2z + 0.07136 l4z + 0.07136 l5z\\\\1.0 L1zz + 1.0 L2yy + 1.0 L4xx + 1.0 L5yy + 1.0 L6zz + 1.0 L7zz - 0.04009 l2x - 0.04009 l5x\\\\1.0 K_{0}\\\\1.0 Ia_{9}\\\\1.0 Ia_{8}\\\\1.0 Ia_{12}\\\\1.0 Fv_{1}\\\\1.0 Fv_{6}\\\\1.0 Ia_{13}\\\\1.0 Fv_{2}\\\\1.0 Fo_{11} + 0.8211529 Fo_{13} + 1.0 Fo_{14}\\\\1.0 Fv_{9}\\\\1.0 Fv_{8}\\\\1.0 L1zz + 1.0 L2xx + 1.0 L4xx + 1.0 L5xx + 1.0 L6xx + 1.0 L7xx - 0.4318 l2y + 0.14272 l5y - 0.04152056 m_{4} - 0.04152056 m_{5}\\\\1.0 L2zz + 1.0 L5zz + 1.0 L6yy + 1.0 L7yy - 0.04009 l2x - 0.4318 l2y - 0.04009 l5x + 0.14272 l5y - 0.04152056 m_{4} - 0.04152056 m_{5}\\\\1.0 Fo_{10} + 1.0 Fo_{11} + 0.8211529 Fo_{12} + 0.8211529 Fo_{13}\\\\1.0 Fv_{13}\\\\1.0 Fv_{12}\\\\1.0 Fo_{8}\\\\1.0 Fo_{2}\\\\1.0 Fo_{1}\\\\1.0 Fo_{6}\\\\1.0 Fc_{14}\\\\1.0 l1x\\\\1.0 Fc_{10}\\\\1.0 Fc_{11}\\\\0.66959513 Fo_{12} + 0.66959513 Fo_{13} + 1.0 Fo_{9}\\\\1.0 Fc_{12}\\\\1.0 Fc_{8}\\\\1.0 Fc_{6}\\\\1.0 Fc_{9}\\\\1.0 Fc_{2}\\\\1.0 Fc_{1}\\\\1.0 Fc_{13}\\end{matrix}\\right]$$"
      ],
      "text/plain": [
       "⎡                                                              1.0⋅m₆         \n",
       "⎢                                                                             \n",
       "⎢                                                              1.0⋅m₇         \n",
       "⎢                                                                             \n",
       "⎢                                      0.5⋅l2y - 0.5⋅l5y + 1.0⋅l7z + 0.07227⋅m\n",
       "⎢                                                                             \n",
       "⎢                                     -0.5⋅l2x + 0.5⋅l5x + 1.0⋅l6x - 0.020045⋅\n",
       "⎢                                                                             \n",
       "⎢                                      -0.5⋅l2y + 0.5⋅l5y + 1.0⋅l6z - 0.07227⋅\n",
       "⎢                                                                             \n",
       "⎢                                     0.5⋅l2x - 0.5⋅l5x + 1.0⋅l7x + 0.020045⋅m\n",
       "⎢                                                                             \n",
       "⎢                                         -0.5⋅l1y - 0.5⋅l2z - 0.5⋅l4z - 0.5⋅l\n",
       "⎢                                                                             \n",
       "⎢                                         -0.5⋅l1y - 0.5⋅l2z - 0.5⋅l4z - 0.5⋅l\n",
       "⎢                                                                             \n",
       "⎢                                                             1.0⋅l4y         \n",
       "⎢                                                                             \n",
       "⎢                                                             1.0⋅Fv₁₄        \n",
       "⎢                                                                             \n",
       "⎢1.0⋅L2xy + 1.0⋅L5xy + 1.0⋅L6xz + 1.0⋅L7xz + 0.2159⋅l2x + 0.020045⋅l2y - 0.071\n",
       "⎢                                                                             \n",
       "⎢                                                             1.0⋅Fv₁₀        \n",
       "⎢                                                                             \n",
       "⎢                                                             1.0⋅Fv₁₁        \n",
       "⎢                                                                             \n",
       "⎢              1.0⋅L2xz - 1.0⋅L5xz + 1.0⋅L6xy - 1.0⋅L7xy + 0.020045⋅l1y + 0.02\n",
       "⎢                                                                             \n",
       "⎢                 1.0⋅L2yz - 1.0⋅L5yz + 1.0⋅L6yz - 1.0⋅L7yz + 0.2159⋅l1y + 0.2\n",
       "⎢                                                                             \n",
       "⎢                   1.0⋅L1zz + 1.0⋅L2yy + 1.0⋅L4xx + 1.0⋅L5yy + 1.0⋅L6zz + 1.0\n",
       "⎢                                                                             \n",
       "⎢                                                              1.0⋅K₀         \n",
       "⎢                                                                             \n",
       "⎢                                                             1.0⋅Ia₉         \n",
       "⎢                                                                             \n",
       "⎢                                                             1.0⋅Ia₈         \n",
       "⎢                                                                             \n",
       "⎢                                                             1.0⋅Ia₁₂        \n",
       "⎢                                                                             \n",
       "⎢                                                             1.0⋅Fv₁         \n",
       "⎢                                                                             \n",
       "⎢                                                             1.0⋅Fv₆         \n",
       "⎢                                                                             \n",
       "⎢                                                             1.0⋅Ia₁₃        \n",
       "⎢                                                                             \n",
       "⎢                                                             1.0⋅Fv₂         \n",
       "⎢                                                                             \n",
       "⎢                                               1.0⋅Fo₁₁ + 0.8211529⋅Fo₁₃ + 1.\n",
       "⎢                                                                             \n",
       "⎢                                                             1.0⋅Fv₉         \n",
       "⎢                                                                             \n",
       "⎢                                                             1.0⋅Fv₈         \n",
       "⎢                                                                             \n",
       "⎢    1.0⋅L1zz + 1.0⋅L2xx + 1.0⋅L4xx + 1.0⋅L5xx + 1.0⋅L6xx + 1.0⋅L7xx - 0.4318⋅\n",
       "⎢                                                                             \n",
       "⎢ 1.0⋅L2zz + 1.0⋅L5zz + 1.0⋅L6yy + 1.0⋅L7yy - 0.04009⋅l2x - 0.4318⋅l2y - 0.040\n",
       "⎢                                                                             \n",
       "⎢                                      1.0⋅Fo₁₀ + 1.0⋅Fo₁₁ + 0.8211529⋅Fo₁₂ + \n",
       "⎢                                                                             \n",
       "⎢                                                             1.0⋅Fv₁₃        \n",
       "⎢                                                                             \n",
       "⎢                                                             1.0⋅Fv₁₂        \n",
       "⎢                                                                             \n",
       "⎢                                                             1.0⋅Fo₈         \n",
       "⎢                                                                             \n",
       "⎢                                                             1.0⋅Fo₂         \n",
       "⎢                                                                             \n",
       "⎢                                                             1.0⋅Fo₁         \n",
       "⎢                                                                             \n",
       "⎢                                                             1.0⋅Fo₆         \n",
       "⎢                                                                             \n",
       "⎢                                                             1.0⋅Fc₁₄        \n",
       "⎢                                                                             \n",
       "⎢                                                             1.0⋅l1x         \n",
       "⎢                                                                             \n",
       "⎢                                                             1.0⋅Fc₁₀        \n",
       "⎢                                                                             \n",
       "⎢                                                             1.0⋅Fc₁₁        \n",
       "⎢                                                                             \n",
       "⎢                                           0.66959513⋅Fo₁₂ + 0.66959513⋅Fo₁₃ \n",
       "⎢                                                                             \n",
       "⎢                                                             1.0⋅Fc₁₂        \n",
       "⎢                                                                             \n",
       "⎢                                                             1.0⋅Fc₈         \n",
       "⎢                                                                             \n",
       "⎢                                                             1.0⋅Fc₆         \n",
       "⎢                                                                             \n",
       "⎢                                                             1.0⋅Fc₉         \n",
       "⎢                                                                             \n",
       "⎢                                                             1.0⋅Fc₂         \n",
       "⎢                                                                             \n",
       "⎢                                                             1.0⋅Fc₁         \n",
       "⎢                                                                             \n",
       "⎣                                                             1.0⋅Fc₁₃        \n",
       "\n",
       "                                                     ⎤\n",
       "                                                     ⎥\n",
       "                                                     ⎥\n",
       "                                                     ⎥\n",
       "₄ + 0.07227⋅m₅                                       ⎥\n",
       "                                                     ⎥\n",
       "m₄ - 0.020045⋅m₅                                     ⎥\n",
       "                                                     ⎥\n",
       "m₄ - 0.07227⋅m₅                                      ⎥\n",
       "                                                     ⎥\n",
       "₄ + 0.020045⋅m₅                                      ⎥\n",
       "                                                     ⎥\n",
       "5z + 1.0⋅l6y                                         ⎥\n",
       "                                                     ⎥\n",
       "5z + 1.0⋅l7y                                         ⎥\n",
       "                                                     ⎥\n",
       "                                                     ⎥\n",
       "                                                     ⎥\n",
       "                                                     ⎥\n",
       "                                                     ⎥\n",
       "36⋅l5x + 0.020045⋅l5y + 0.00575813⋅m₄ + 0.00575813⋅m₅⎥\n",
       "                                                     ⎥\n",
       "                                                     ⎥\n",
       "                                                     ⎥\n",
       "                                                     ⎥\n",
       "                                                     ⎥\n",
       "0045⋅l2z - 0.020045⋅l4z - 0.020045⋅l5z               ⎥\n",
       "                                                     ⎥\n",
       "159⋅l2z + 0.07136⋅l4z + 0.07136⋅l5z                  ⎥\n",
       "                                                     ⎥\n",
       "⋅L7zz - 0.04009⋅l2x - 0.04009⋅l5x                    ⎥\n",
       "                                                     ⎥\n",
       "                                                     ⎥\n",
       "                                                     ⎥\n",
       "                                                     ⎥\n",
       "                                                     ⎥\n",
       "                                                     ⎥\n",
       "                                                     ⎥\n",
       "                                                     ⎥\n",
       "                                                     ⎥\n",
       "                                                     ⎥\n",
       "                                                     ⎥\n",
       "                                                     ⎥\n",
       "                                                     ⎥\n",
       "                                                     ⎥\n",
       "                                                     ⎥\n",
       "                                                     ⎥\n",
       "                                                     ⎥\n",
       "0⋅Fo₁₄                                               ⎥\n",
       "                                                     ⎥\n",
       "                                                     ⎥\n",
       "                                                     ⎥\n",
       "                                                     ⎥\n",
       "                                                     ⎥\n",
       "l2y + 0.14272⋅l5y - 0.04152056⋅m₄ - 0.04152056⋅m₅    ⎥\n",
       "                                                     ⎥\n",
       "09⋅l5x + 0.14272⋅l5y - 0.04152056⋅m₄ - 0.04152056⋅m₅ ⎥\n",
       "                                                     ⎥\n",
       "0.8211529⋅Fo₁₃                                       ⎥\n",
       "                                                     ⎥\n",
       "                                                     ⎥\n",
       "                                                     ⎥\n",
       "                                                     ⎥\n",
       "                                                     ⎥\n",
       "                                                     ⎥\n",
       "                                                     ⎥\n",
       "                                                     ⎥\n",
       "                                                     ⎥\n",
       "                                                     ⎥\n",
       "                                                     ⎥\n",
       "                                                     ⎥\n",
       "                                                     ⎥\n",
       "                                                     ⎥\n",
       "                                                     ⎥\n",
       "                                                     ⎥\n",
       "                                                     ⎥\n",
       "                                                     ⎥\n",
       "                                                     ⎥\n",
       "                                                     ⎥\n",
       "                                                     ⎥\n",
       "+ 1.0⋅Fo₉                                            ⎥\n",
       "                                                     ⎥\n",
       "                                                     ⎥\n",
       "                                                     ⎥\n",
       "                                                     ⎥\n",
       "                                                     ⎥\n",
       "                                                     ⎥\n",
       "                                                     ⎥\n",
       "                                                     ⎥\n",
       "                                                     ⎥\n",
       "                                                     ⎥\n",
       "                                                     ⎥\n",
       "                                                     ⎥\n",
       "                                                     ⎥\n",
       "                                                     ⎦"
      ]
     },
     "execution_count": 32,
     "metadata": {},
     "output_type": "execute_result"
    }
   ],
   "source": [
    "sympy.Matrix(dyn.base_param)"
   ]
  },
  {
   "cell_type": "code",
   "execution_count": 33,
   "metadata": {},
   "outputs": [
    {
     "name": "stdout",
     "output_type": "stream",
     "text": [
      "Saved 48 parameters\n"
     ]
    }
   ],
   "source": [
    "from data import RobotModel\n",
    "\n",
    "# Data to be saved\n",
    "robot_model = RobotModel(dyn)\n",
    "\n",
    "# Save\n",
    "save_data(model_folder, model_name, robot_model)\n",
    "print('Saved {} parameters'.format(len(robot_model.base_param)))"
   ]
  },
  {
   "cell_type": "markdown",
   "metadata": {},
   "source": [
    "---\n",
    "# 3 - Excitation trajectory optimization"
   ]
  },
  {
   "cell_type": "code",
   "execution_count": 487,
   "metadata": {},
   "outputs": [],
   "source": [
    "model_name = 'psm_simplified'\n",
    "#model_name = 'psm'"
   ]
  },
  {
   "cell_type": "markdown",
   "metadata": {},
   "source": [
    "Load Data"
   ]
  },
  {
   "cell_type": "code",
   "execution_count": 488,
   "metadata": {},
   "outputs": [],
   "source": [
    "from utils import load_data\n",
    "model_folder = 'data/' + model_name + '/model/'\n",
    "robot_model = load_data(model_folder, model_name)"
   ]
  },
  {
   "cell_type": "markdown",
   "metadata": {},
   "source": [
    "## Create trajectory optimizer object, with H matrix, foourier order, base frequency, joint constraints and cartisian constraints as input"
   ]
  },
  {
   "cell_type": "code",
   "execution_count": 518,
   "metadata": {},
   "outputs": [],
   "source": [
    "#trajectory_name = 'one'\n",
    "trajectory_name = 'three'\n",
    "#trajectory_name = 'three'"
   ]
  },
  {
   "cell_type": "code",
   "execution_count": 519,
   "metadata": {
    "scrolled": true
   },
   "outputs": [
    {
     "name": "stdout",
     "output_type": "stream",
     "text": [
      "joint constraint number: 8\n",
      "cartesian constraint number: 0\n",
      "constraint number: 32\n",
      "frames_constrained: []\n",
      "Condition number: 178.523802514\n",
      "Condition number: 178.523802513\n",
      "Condition number: 136.502885908\n",
      "Condition number: 69.1402156695\n",
      "Condition number: 68.0634056146\n",
      "Condition number: 81.887515054\n",
      "Condition number: 94.3410478764\n",
      "Condition number: 105.096610688\n",
      "Condition number: 111.016642049\n",
      "Condition number: 118.283346706\n",
      "Condition number: 126.524336364\n",
      "Condition number: 137.420569776\n",
      "Condition number: 217.082864709\n",
      "Condition number: 264.71653407\n",
      "Condition number: 284.305883976\n",
      "Condition number: 295.629849186\n",
      "Condition number: 305.69932195\n",
      "Condition number: 308.605939249\n",
      "Condition number: 309.301487923\n",
      "Condition number: 309.462334604\n",
      "Condition number: 326.367109877\n",
      "Condition number: 345.514268989\n",
      "Condition number: 359.839539866\n",
      "Condition number: 363.087879674\n",
      "Condition number: 386.421917011\n",
      "Condition number: 395.976387297\n",
      "Condition number: 397.641856949\n",
      "Condition number: 397.708481304\n",
      "Condition number: 402.703320094\n",
      "Condition number: 409.353241189\n",
      "Condition number: 413.372222619\n",
      "Condition number: 437.397642733\n",
      "Condition number: 438.466482943\n",
      "Condition number: 443.758243057\n",
      "Condition number: 444.534411823\n",
      "Condition number: 445.504383863\n",
      "Condition number: 447.900879842\n",
      "Condition number: 443.048930094\n",
      "Condition number: 431.396526236\n",
      "Condition number: 429.570351944\n",
      "Condition number: 738.613609284\n",
      "Condition number: 426.529956532\n",
      "Condition number: 424.173277441\n",
      "Condition number: 422.956960618\n",
      "Condition number: 422.88032595\n",
      "Condition number: 421.915213718\n",
      "Condition number: 421.29476075\n",
      "Condition number: 421.159253801\n",
      "Condition number: 420.690251862\n",
      "Condition number: 420.39103617\n",
      "Condition number: 420.153927222\n",
      "Condition number: 420.153927222\n",
      "x: [-0.22666113  0.03957694  0.09678771  0.0616674  -0.53296456  1.09454151\n",
      "  0.31198426 -0.02670849  0.13473313  0.04207806  0.32564185  0.38476998\n",
      "  0.46659898  0.03712586 -0.41340079  0.65588367  0.84251873  0.68380396\n",
      " -0.32921201  0.2138161   0.51846218 -0.08600277 -0.06738411  0.0258489\n",
      "  0.44098962 -0.17305188  0.15296674 -0.04130716  0.0307696   0.05535583\n",
      "  0.0121518   0.16081792  0.09737934  0.01942592  0.05875866 -0.03807484\n",
      "  0.02115768 -0.08221055  0.18136034  0.18930809 -0.14301712  0.39569409\n",
      " -0.57175941  0.60078038  0.8220012   0.27514657  0.01302536  0.12466608\n",
      "  0.24681878 -0.17774289  0.57137186 -0.16220556  0.12169403  0.03920114\n",
      "  0.47202371 -0.00689362 -0.48807736  0.19744879  0.43978471  0.09542299\n",
      "  0.11966782  0.94446708 -0.01757748  0.6779581  -0.50716948 -0.18088824\n",
      "  0.25364837  0.69655922 -0.01762257 -0.3348483  -0.26823556  1.2657229\n",
      "  0.3628827   0.23420903  1.10136211  0.62208374  0.69856999 -0.45703775\n",
      "  0.55315576  0.24652249  0.63103134  0.51066413  0.25307742 -0.00432915\n",
      "  0.15659143  0.03405475  0.21587653  1.19968484 -0.13288565  0.77706885\n",
      " -0.95217538]\n"
     ]
    }
   ],
   "source": [
    "from numpy import deg2rad\n",
    "\n",
    "optimal_trajectory_folder = 'data/optimal_trajectory/'\n",
    "trajectory_folder = 'data/' + model_name +'/optimal_trajectory/'\n",
    "\n",
    "base_freq = 0.18\n",
    "fourier_order = 6\n",
    "\n",
    "joint_constraints = []\n",
    "cartesian_constraints = []\n",
    "\n",
    "if model_name == 'psm_simplified':\n",
    "    q_dvrk7 = 1.2177*q7 - 1.2177*q6\n",
    "#     q_mod6 = (4871*q6)/4000 - (4153*q5)/5000\n",
    "#     q_mod7 = - (4153*q5)/5000 + (4871*q7)/4000\n",
    "    \n",
    "    q_dvrk5 = 1.0186 * q5\n",
    "    q_mod6 = -0.8306 * q5 + 1.2178 * q6\n",
    "    q_mod7 = -0.8306 * q5 + 1.2178 * q7\n",
    "    \n",
    "    joint_constraints = [(q1, -1.45, 1.45, -1.7, 1.7),\n",
    "                         (q2, -0.75, 0.8, -1.7, 1.7),\n",
    "                         (q3,0.07,0.235,-0.35,0.35),\n",
    "                         (q4,-1.5,1.5,-2,2),\n",
    "                         (q_dvrk5,-1.4,1.4,-2,2), \n",
    "                         (q_dvrk7, 0.15, 3,-3,3),\n",
    "                         (q_mod7, -1.5, 1.5,-2,2),\n",
    "                          (q_mod6, -1.5, 1.5,-2,2)]\n",
    "else:\n",
    "    raise Exception(\"No robot name matches \" + model_name)\n",
    "    \n",
    "traj_optimizer = TrajOptimizer(robot_model, fourier_order, base_freq,\n",
    "                               joint_constraints=joint_constraints,\n",
    "                               cartesian_constraints = cartesian_constraints)\n",
    "                                                                                                 \n",
    "                                                                                                                     \n",
    "traj_optimizer.optimize()\n"
   ]
  },
  {
   "cell_type": "code",
   "execution_count": 520,
   "metadata": {},
   "outputs": [],
   "source": [
    "reg_norm_mat = traj_optimizer.calc_normalize_mat()"
   ]
  },
  {
   "cell_type": "markdown",
   "metadata": {},
   "source": [
    "## Plot optimal excitation trajectory"
   ]
  },
  {
   "cell_type": "code",
   "execution_count": 521,
   "metadata": {},
   "outputs": [],
   "source": [
    "traj_optimizer.calc_frame_traj()"
   ]
  },
  {
   "cell_type": "code",
   "execution_count": 522,
   "metadata": {},
   "outputs": [],
   "source": [
    "traj_plotter = TrajPlotter(traj_optimizer.fourier_traj,traj_optimizer.frame_traj,\n",
    "                           traj_optimizer.const_frame_ind, robot_model.coordinates)\n",
    "traj_plotter.plot_desired_traj(traj_optimizer.x_result)\n",
    "\n",
    "traj_plotter.plot_frame_traj(True)"
   ]
  },
  {
   "cell_type": "markdown",
   "metadata": {},
   "source": [
    "## Save trajectory for later use"
   ]
  },
  {
   "cell_type": "code",
   "execution_count": 523,
   "metadata": {},
   "outputs": [],
   "source": [
    "dof_order_bf_x_norm = (traj_optimizer.fourier_traj.dof, fourier_order,\n",
    "                       base_freq, traj_optimizer.x_result, reg_norm_mat)\n",
    "save_data(trajectory_folder, trajectory_name, dof_order_bf_x_norm)"
   ]
  },
  {
   "cell_type": "code",
   "execution_count": 524,
   "metadata": {
    "scrolled": false
   },
   "outputs": [
    {
     "data": {
      "text/html": [
       "<table>\n",
       "<tbody>\n",
       "<tr><td>joint</td><td>qo     </td><td>a1     </td><td>a2    </td><td>a3     </td><td>a4     </td><td>a5     </td><td>a6    </td><td>b1     </td><td>b2    </td><td>b3     </td><td>b4     </td><td>b5     </td><td>b6     </td></tr>\n",
       "<tr><td>q1   </td><td>-0.2267</td><td>0.0396 </td><td>0.0968</td><td>0.0617 </td><td>-0.533 </td><td>1.0945 </td><td>0.312 </td><td>-0.0267</td><td>0.1347</td><td>0.0421 </td><td>0.3256 </td><td>0.3848 </td><td>0.4666 </td></tr>\n",
       "<tr><td>q2   </td><td>0.0371 </td><td>-0.4134</td><td>0.6559</td><td>0.8425 </td><td>0.6838 </td><td>-0.3292</td><td>0.2138</td><td>0.5185 </td><td>-0.086</td><td>-0.0674</td><td>0.0258 </td><td>0.441  </td><td>-0.1731</td></tr>\n",
       "<tr><td>q3   </td><td>0.153  </td><td>-0.0413</td><td>0.0308</td><td>0.0554 </td><td>0.0122 </td><td>0.1608 </td><td>0.0974</td><td>0.0194 </td><td>0.0588</td><td>-0.0381</td><td>0.0212 </td><td>-0.0822</td><td>0.1814 </td></tr>\n",
       "<tr><td>q4   </td><td>0.1893 </td><td>-0.143 </td><td>0.3957</td><td>-0.5718</td><td>0.6008 </td><td>0.822  </td><td>0.2751</td><td>0.013  </td><td>0.1247</td><td>0.2468 </td><td>-0.1777</td><td>0.5714 </td><td>-0.1622</td></tr>\n",
       "<tr><td>q5   </td><td>0.1217 </td><td>0.0392 </td><td>0.472 </td><td>-0.0069</td><td>-0.4881</td><td>0.1974 </td><td>0.4398</td><td>0.0954 </td><td>0.1197</td><td>0.9445 </td><td>-0.0176</td><td>0.678  </td><td>-0.5072</td></tr>\n",
       "<tr><td>q6   </td><td>-0.1809</td><td>0.2536 </td><td>0.6966</td><td>-0.0176</td><td>-0.3348</td><td>-0.2682</td><td>1.2657</td><td>0.3629 </td><td>0.2342</td><td>1.1014 </td><td>0.6221 </td><td>0.6986 </td><td>-0.457 </td></tr>\n",
       "<tr><td>q7   </td><td>0.5532 </td><td>0.2465 </td><td>0.631 </td><td>0.5107 </td><td>0.2531 </td><td>-0.0043</td><td>0.1566</td><td>0.0341 </td><td>0.2159</td><td>1.1997 </td><td>-0.1329</td><td>0.7771 </td><td>-0.9522</td></tr>\n",
       "</tbody>\n",
       "</table>"
      ],
      "text/plain": [
       "<IPython.core.display.HTML object>"
      ]
     },
     "metadata": {},
     "output_type": "display_data"
    }
   ],
   "source": [
    "from IPython.display import HTML, display\n",
    "import tabulate\n",
    "\n",
    "table = []\n",
    "table.append([\"joint\", 'qo'] +\n",
    "             [\"a\"+str(i+1) for i in range(fourier_order)] +\n",
    "             [\"b\"+str(i+1) for i in range(fourier_order)])\n",
    "for i in range(traj_optimizer.fourier_traj.dof):\n",
    "    line = []\n",
    "    line.append(robot_model.coordinates[i])\n",
    "    line += np.round(traj_optimizer.x_result[i*(1 + fourier_order*2): (i+1)*(1 + fourier_order*2)], 4).tolist()\n",
    "    table.append(line)\n",
    "\n",
    "display(HTML(tabulate.tabulate(table, tablefmt='html')))"
   ]
  },
  {
   "cell_type": "markdown",
   "metadata": {},
   "source": [
    "---\n",
    "# Data processing"
   ]
  },
  {
   "cell_type": "markdown",
   "metadata": {},
   "source": [
    "## Load data"
   ]
  },
  {
   "cell_type": "code",
   "execution_count": 4,
   "metadata": {},
   "outputs": [],
   "source": [
    "from identification import load_trajectory_data, diff_and_filt_data, plot_trajectory_data, plot_meas_pred_tau, gen_regressor"
   ]
  },
  {
   "cell_type": "markdown",
   "metadata": {},
   "source": [
    "### Load robot model"
   ]
  },
  {
   "cell_type": "code",
   "execution_count": 5,
   "metadata": {},
   "outputs": [
    {
     "name": "stdout",
     "output_type": "stream",
     "text": [
      "dof: 7\n",
      "Fourier order: 6\n",
      "Base frequency: 0.18\n"
     ]
    }
   ],
   "source": [
    "# Names as Arguments\n",
    "model_name = 'psm'\n",
    "\n",
    "training_trajectory_name = 'one'\n",
    "\n",
    "\n",
    "model_folder = 'data/' + model_name + '/model/'\n",
    "robot_model = load_data(model_folder,model_name)\n",
    "\n",
    "\n",
    "trajectory_folder = 'data/' + model_name +'/optimal_trajectory/'\n",
    "dof, fourier_order, base_freq, traj_optimizer_result, reg_norm_mat = load_data(trajectory_folder,\n",
    "                                                                          training_trajectory_name)\n",
    "#dof, fourier_order, base_freq, traj_optimizer_result = load_data(trajectory_folder,training_trajectory_name)\n",
    "     \n",
    "print(\"dof: {}\".format(dof))\n",
    "print(\"Fourier order: {}\".format(fourier_order))\n",
    "print(\"Base frequency: {}\".format(base_freq))"
   ]
  },
  {
   "cell_type": "markdown",
   "metadata": {},
   "source": [
    "### Load traning data set"
   ]
  },
  {
   "cell_type": "code",
   "execution_count": 6,
   "metadata": {},
   "outputs": [
    {
     "name": "stdout",
     "output_type": "stream",
     "text": [
      "(<type 'numpy.ndarray'>, (5999, 21))\n"
     ]
    }
   ],
   "source": [
    "# training_trajectory_name = 'one'\n",
    "\n",
    "results_folder = 'data/' + model_name +'/measured_trajectory/'\n",
    "training_results_data_file = results_folder + training_trajectory_name + '_results.csv'\n",
    "\n",
    "trajectory_sampling_rate = 200\n",
    "t_train, q_raw_train, dq_raw_train, tau_raw_train = load_trajectory_data(training_results_data_file,\n",
    "                                                                   trajectory_sampling_rate)"
   ]
  },
  {
   "cell_type": "markdown",
   "metadata": {},
   "source": [
    "### Load test data set"
   ]
  },
  {
   "cell_type": "code",
   "execution_count": 7,
   "metadata": {},
   "outputs": [
    {
     "name": "stdout",
     "output_type": "stream",
     "text": [
      "(<type 'numpy.ndarray'>, (5999, 21))\n"
     ]
    }
   ],
   "source": [
    "test_trajectory_name = 'two'\n",
    "\n",
    "results_folder = 'data/' + model_name +'/measured_trajectory/'\n",
    "test_results_data_file = results_folder + test_trajectory_name + '_results.csv'\n",
    "\n",
    "trajectory_sampling_rate = 200\n",
    "t_test, q_raw_test, dq_raw_test, tau_raw_test = load_trajectory_data(test_results_data_file,\n",
    "                                                                   trajectory_sampling_rate)"
   ]
  },
  {
   "cell_type": "markdown",
   "metadata": {},
   "source": [
    "## Calculate filter cut-off frequency"
   ]
  },
  {
   "cell_type": "code",
   "execution_count": 8,
   "metadata": {},
   "outputs": [
    {
     "name": "stdout",
     "output_type": "stream",
     "text": [
      "0.18\n",
      "[5.4]\n"
     ]
    }
   ],
   "source": [
    "# times of the highest frequency in the Fourier series\n",
    "#fc_mult = 4.0\n",
    "\n",
    "fc_mult = [5] #(good)\n",
    "#fc_mult = [8, 8, 5, 3, 4, 4, 4]\n",
    "\n",
    "#fc_mult = 4\n",
    "print(base_freq)\n",
    "fc = np.array(fc_mult)*base_freq* fourier_order \n",
    "\n",
    "print(fc)\n"
   ]
  },
  {
   "cell_type": "markdown",
   "metadata": {},
   "source": [
    "## Differentiation and filtering"
   ]
  },
  {
   "cell_type": "markdown",
   "metadata": {},
   "source": [
    "### Traning data"
   ]
  },
  {
   "cell_type": "code",
   "execution_count": 9,
   "metadata": {},
   "outputs": [
    {
     "name": "stdout",
     "output_type": "stream",
     "text": [
      "q_raw shape: (5999, 7)\n",
      "plot shape: 470\n"
     ]
    }
   ],
   "source": [
    "t_cut_train, q_f_train, dq_f_train, ddq_f_train, tau_f_train, q_raw_cut_train, tau_raw_cut_train =\\\n",
    "    diff_and_filt_data(dof, 1.0/trajectory_sampling_rate,\n",
    "                       t_train, q_raw_train, dq_raw_train, tau_raw_train, fc, fc, fc, fc)\n",
    "plot_trajectory_data(t_cut_train, q_raw_cut_train, q_f_train, dq_f_train, ddq_f_train,\n",
    "                     tau_raw_cut_train, tau_f_train)"
   ]
  },
  {
   "cell_type": "markdown",
   "metadata": {},
   "source": [
    "### Test data"
   ]
  },
  {
   "cell_type": "code",
   "execution_count": 10,
   "metadata": {
    "scrolled": true
   },
   "outputs": [
    {
     "name": "stdout",
     "output_type": "stream",
     "text": [
      "q_raw shape: (5999, 7)\n",
      "plot shape: 470\n"
     ]
    }
   ],
   "source": [
    "t_cut_test, q_f_test, dq_f_test, ddq_f_test,tau_f_test, q_raw_cut_test, tau_raw_cut_test =\\\n",
    "    diff_and_filt_data(dof, 1.0/trajectory_sampling_rate,\n",
    "                       t_test, q_raw_test, dq_raw_test, tau_raw_test, fc, fc, fc, fc)\n",
    "plot_trajectory_data(t_cut_test, q_raw_cut_test, q_f_test, dq_f_test, ddq_f_test,\n",
    "                     tau_raw_cut_test, tau_f_test)"
   ]
  },
  {
   "cell_type": "markdown",
   "metadata": {},
   "source": [
    "---\n",
    "# Regression"
   ]
  },
  {
   "cell_type": "markdown",
   "metadata": {},
   "source": [
    "## Ordinary Least Square (OLS)"
   ]
  },
  {
   "cell_type": "markdown",
   "metadata": {},
   "source": [
    "### Generate regressor matrix for base parameters"
   ]
  },
  {
   "cell_type": "code",
   "execution_count": 11,
   "metadata": {},
   "outputs": [],
   "source": [
    "base_param_num = robot_model.base_num\n",
    "H_b_func = robot_model.H_b_func\n",
    "W_b_train, tau_s_train = gen_regressor(base_param_num, H_b_func, q_f_train,\n",
    "                                       dq_f_train, ddq_f_train, tau_f_train)"
   ]
  },
  {
   "cell_type": "code",
   "execution_count": 12,
   "metadata": {},
   "outputs": [
    {
     "data": {
      "image/png": "[encoded data removed]",
      "text/latex": [
       "$$\\left ( \\left ( 39193, \\quad 49\\right ), \\quad \\left ( 39193\\right )\\right )$$"
      ],
      "text/plain": [
       "((39193, 49), (39193,))"
      ]
     },
     "execution_count": 12,
     "metadata": {},
     "output_type": "execute_result"
    }
   ],
   "source": [
    "W_b_train.shape, tau_s_train.shape\n",
    "#print np.linalg.cond(W_b_train)"
   ]
  },
  {
   "cell_type": "code",
   "execution_count": 13,
   "metadata": {},
   "outputs": [
    {
     "name": "stderr",
     "output_type": "stream",
     "text": [
      "/home/yan/anaconda2/envs/dynamics/lib/python2.7/site-packages/ipykernel_launcher.py:1: FutureWarning: `rcond` parameter will change to the default of machine precision times ``max(M, N)`` where M and N are the input matrix dimensions.\n",
      "To use the future default and silence this warning we advise to pass `rcond=None`, to keep using the old, explicitly pass `rcond=-1`.\n",
      "  \"\"\"Entry point for launching an IPython kernel.\n"
     ]
    }
   ],
   "source": [
    "xb_ols = np.linalg.lstsq(W_b_train, tau_s_train)[0]"
   ]
  },
  {
   "cell_type": "code",
   "execution_count": 14,
   "metadata": {
    "scrolled": true
   },
   "outputs": [
    {
     "data": {
      "text/html": [
       "<table>\n",
       "<tbody>\n",
       "<tr><td>Base Parameter                                       </td><td>Value                  </td></tr>\n",
       "<tr><td>1.0*m8                                               </td><td>0.36615618311934567    </td></tr>\n",
       "<tr><td>1.0*m9                                               </td><td>0.3529783877165197     </td></tr>\n",
       "<tr><td>-0.5*l2y + 0.5*l6y - 0.5*l7y + 1.0*l8z - 0.07227*m...</td><td>0.04304883467996893    </td></tr>\n",
       "<tr><td>0.5*l2y - 0.5*l6y + 0.5*l7y + 1.0*l9z + 0.07227*m4...</td><td>-0.1511613122370735    </td></tr>\n",
       "<tr><td>-0.5*l2x + 0.5*l6x - 0.5*l7x + 1.0*l8x - 0.020045*...</td><td>0.015011166189848768   </td></tr>\n",
       "<tr><td>0.5*l2x - 0.5*l6x + 0.5*l7x + 1.0*l9x + 0.020045*m...</td><td>-0.01800380290526865   </td></tr>\n",
       "<tr><td>-0.5*l1y - 0.5*l2z - 0.5*l4z - 0.5*l5z - 0.5*l6z -...</td><td>0.05266834785528339    </td></tr>\n",
       "<tr><td>-0.5*l1y - 0.5*l2z - 0.5*l4z - 0.5*l5z - 0.5*l6z -...</td><td>0.05056815042400331    </td></tr>\n",
       "<tr><td>1.0*l5y                                              </td><td>-4.691182303978982     </td></tr>\n",
       "<tr><td>1.0*Fv16                                             </td><td>0.0035247371297207016  </td></tr>\n",
       "<tr><td>1.0*L2xy + 1.0*L6xy + 1.0*L7xy + 1.0*L8xz + 1.0*L9...</td><td>-0.0866177008839692    </td></tr>\n",
       "<tr><td>1.0*Fv13                                             </td><td>0.0026089102651594706  </td></tr>\n",
       "<tr><td>1.0*Fv12                                             </td><td>0.002141687745308149   </td></tr>\n",
       "<tr><td>1.0*L2yz - 1.0*L6yz + 1.0*L7yz + 1.0*L8yz - 1.0*L9...</td><td>-0.039476230890884534  </td></tr>\n",
       "<tr><td>1.0*L2xz - 1.0*L6xz + 1.0*L7xz + 1.0*L8xy - 1.0*L9...</td><td>0.0011347145331692676  </td></tr>\n",
       "<tr><td>-1.0*L2xx + 1.0*L2yy - 1.0*L6xx + 1.0*L6yy - 1.0*L...</td><td>-0.11351863624568168   </td></tr>\n",
       "<tr><td>1.0*Ia10                                             </td><td>-3.3341824180435855e-06</td></tr>\n",
       "<tr><td>1.0*Ia11                                             </td><td>-0.000631890965655767  </td></tr>\n",
       "<tr><td>1.0*Fv8                                              </td><td>1.069497935038019      </td></tr>\n",
       "<tr><td>1.0*Fv2                                              </td><td>0.22563186280947545    </td></tr>\n",
       "<tr><td>1.0*Ia15                                             </td><td>-0.00036891354447190366</td></tr>\n",
       "<tr><td>1.0*Fv10                                             </td><td>0.001111332651341013   </td></tr>\n",
       "<tr><td>1.0*Ia14                                             </td><td>-0.0003021294449338306 </td></tr>\n",
       "<tr><td>1.0*L2zz + 1.0*L6zz + 1.0*L7zz + 1.0*L8yy + 1.0*L9...</td><td>0.23550806347955522    </td></tr>\n",
       "<tr><td>1.0*Fo13 + 0.8211529*Fo15 + 1.0*Fo16                 </td><td>-0.0035874057671917516 </td></tr>\n",
       "<tr><td>1.0*Fv1                                              </td><td>0.09791847433470491    </td></tr>\n",
       "<tr><td>1.0*K0                                               </td><td>0.0018726039782852378  </td></tr>\n",
       "<tr><td>1.0*Fv11                                             </td><td>0.012304378074578551   </td></tr>\n",
       "<tr><td>1.0*L1zz + 1.0*L2xx + 1.0*L4xx + 1.0*L5xx + 1.0*L6...</td><td>0.08964743463729574    </td></tr>\n",
       "<tr><td>1.0*Fo12 + 1.0*Fo13 + 0.8211529*Fo14 + 0.8211529*F...</td><td>-0.016458849333432817  </td></tr>\n",
       "<tr><td>1.0*Fv15                                             </td><td>0.00720390445989833    </td></tr>\n",
       "<tr><td>1.0*Fv14                                             </td><td>0.006239315718998827   </td></tr>\n",
       "<tr><td>1.0*l1x                                              </td><td>0.7948752033694697     </td></tr>\n",
       "<tr><td>1.0*Fo10                                             </td><td>-0.00489027702352859   </td></tr>\n",
       "<tr><td>1.0*Fo2                                              </td><td>0.08070929732638393    </td></tr>\n",
       "<tr><td>1.0*Fc16                                             </td><td>-9.533795919680594e-05 </td></tr>\n",
       "<tr><td>1.0*Fo1                                              </td><td>-1.0712465079384728    </td></tr>\n",
       "<tr><td>1.0*Fo8                                              </td><td>-0.04867432637809721   </td></tr>\n",
       "<tr><td>1.0*Fc12                                             </td><td>0.0004718378378214313  </td></tr>\n",
       "<tr><td>1.0*Fc13                                             </td><td>0.0019874597538670534  </td></tr>\n",
       "<tr><td>1.0*Fo11 + 0.66959513*Fo14 + 0.66959513*Fo15         </td><td>0.010352126450016265   </td></tr>\n",
       "<tr><td>1.0*Fc14                                             </td><td>0.006353496509108325   </td></tr>\n",
       "<tr><td>1.0*Fc1                                              </td><td>0.045163036789364036   </td></tr>\n",
       "<tr><td>1.0*Fc11                                             </td><td>0.006938556411476653   </td></tr>\n",
       "<tr><td>1.0*Fc8                                              </td><td>0.4578715082719025     </td></tr>\n",
       "<tr><td>1.0*Fc10                                             </td><td>0.0024650390677728898  </td></tr>\n",
       "<tr><td>1.0*Fc15                                             </td><td>0.006188260492587209   </td></tr>\n",
       "<tr><td>1.0*Fc2                                              </td><td>0.05953132116462331    </td></tr>\n",
       "<tr><td>1.0*l4y                                              </td><td>5.430325322493125      </td></tr>\n",
       "</tbody>\n",
       "</table>"
      ],
      "text/plain": [
       "<IPython.core.display.HTML object>"
      ]
     },
     "metadata": {},
     "output_type": "display_data"
    }
   ],
   "source": [
    "#sympy.Matrix.hstack(sympy.Matrix(robot_model.base_param), sympy.Matrix(xb_ols))\n",
    "\n",
    "from IPython.display import HTML, display\n",
    "import tabulate\n",
    "\n",
    "table = [[\"Base Parameter\", \"Value\"]]\n",
    "\n",
    "for i in range(robot_model.base_num):\n",
    "    param_str = str(sympy.Matrix(robot_model.base_param)[i])\n",
    "    max_disp_len = 50\n",
    "    line = [param_str if len(param_str) <= max_disp_len \n",
    "            else param_str[:max_disp_len] + '...', xb_ols[i]]\n",
    "    #['%.7s ...'%b if len(str(b)) > 7 else str(b)\n",
    "    table.append(line)\n",
    "\n",
    "display(HTML(tabulate.tabulate(table, tablefmt='html')))"
   ]
  },
  {
   "cell_type": "markdown",
   "metadata": {},
   "source": [
    "## Compare measured torque and predicted torque on the training set"
   ]
  },
  {
   "cell_type": "markdown",
   "metadata": {},
   "source": [
    "### Generate predicted torque"
   ]
  },
  {
   "cell_type": "code",
   "execution_count": 15,
   "metadata": {},
   "outputs": [],
   "source": [
    "tau_p_train = np.zeros(tau_f_train.shape)\n",
    "tau_ps_train = W_b_train.dot(xb_ols)\n",
    "for i in range(dof):\n",
    "    tau_p_train[:, i] = tau_ps_train[i::dof]\n",
    "    "
   ]
  },
  {
   "cell_type": "markdown",
   "metadata": {},
   "source": [
    "### Evaluate regression"
   ]
  },
  {
   "cell_type": "code",
   "execution_count": 16,
   "metadata": {
    "scrolled": false
   },
   "outputs": [
    {
     "name": "stdout",
     "output_type": "stream",
     "text": [
      "variance of regression error using OLS:\n",
      "0.00040354165300893305\n",
      "standard deviation of xb using OLS:\n",
      "[2.10558237e-04 3.33622550e-04 1.62254635e-04 1.71967875e-04\n",
      " 1.15719866e-04 1.32085838e-04 1.34671693e-03 1.34648248e-03\n",
      " 8.28318928e-02 2.63767897e-04 4.35919634e-04 5.16462660e-04\n",
      " 5.76291616e-04 5.93192486e-04 9.02891335e-05 3.61698769e-03\n",
      " 4.55984261e-05 5.69021792e-05 3.96858047e-03 6.46017356e-04\n",
      " 4.19364863e-05 5.47920648e-04 3.97173339e-05 1.27863522e-04\n",
      " 2.22992468e-04 6.74626588e-04 3.59624693e-04 7.08455370e-04\n",
      " 6.17585556e-03 3.14072011e-04 5.65298150e-04 6.12201281e-04\n",
      " 9.07760050e-03 2.70304307e-04 1.82559493e-03 2.00549498e-04\n",
      " 2.68076322e-02 2.71553210e-03 4.54604815e-04 4.69761535e-04\n",
      " 3.71673747e-04 5.72218285e-04 6.07688733e-04 5.34353222e-04\n",
      " 5.49635238e-04 5.92324670e-04 6.07084778e-04 5.44042437e-04\n",
      " 8.57026406e-02]\n",
      "percentage of standard deviation of xb using OLS: \n",
      "[5.75050339e-04 9.45164241e-04 3.76908309e-03 1.13764476e-03\n",
      " 7.70891911e-03 7.33655208e-03 2.55697583e-02 2.66270858e-02\n",
      " 1.76569333e-02 7.48333528e-02 5.03268535e-03 1.97961067e-01\n",
      " 2.69082931e-01 1.50265735e-02 7.95699102e-02 3.18625012e-02\n",
      " 1.36760442e+01 9.00506294e-02 3.71069484e-03 2.86314773e-03\n",
      " 1.13675648e-01 4.93030280e-01 1.31458004e-01 5.42926300e-04\n",
      " 6.21598120e-02 6.88967626e-03 1.92045247e-01 5.75775033e-02\n",
      " 6.88904884e-02 1.90822581e-02 7.84710781e-02 9.81199396e-02\n",
      " 1.14201581e-02 5.52738231e-02 2.26193882e-02 2.10356399e+00\n",
      " 2.50247091e-02 5.57898239e-02 9.63476810e-01 2.36362791e-01\n",
      " 3.59031305e-02 9.00635240e-02 1.34554445e-02 7.70121608e-02\n",
      " 1.20041371e-03 2.40290176e-01 9.81026541e-02 9.13875967e-03\n",
      " 1.57822295e-02]\n"
     ]
    }
   ],
   "source": [
    "var_regression_error_ols = np.linalg.norm(tau_ps_train - tau_s_train) / \\\n",
    "                        (tau_ps_train.size - base_param_num)\n",
    "print(\"variance of regression error using OLS:\")\n",
    "print(var_regression_error_ols)\n",
    "\n",
    "std_dev_xb_ols = np.sqrt(np.diag(var_regression_error_ols *\n",
    "                                 np.linalg.inv(W_b_train.transpose().dot(W_b_train))))\n",
    "print(\"standard deviation of xb using OLS:\")\n",
    "print(std_dev_xb_ols)\n",
    "\n",
    "pct_std_dev_xb_ols = std_dev_xb_ols / np.abs(xb_ols)\n",
    "print(\"percentage of standard deviation of xb using OLS: \")\n",
    "print(pct_std_dev_xb_ols)"
   ]
  },
  {
   "cell_type": "markdown",
   "metadata": {},
   "source": [
    "### Plot measured torque and predicted torque"
   ]
  },
  {
   "cell_type": "code",
   "execution_count": 17,
   "metadata": {
    "scrolled": true
   },
   "outputs": [],
   "source": [
    "plot_data_num = int(1 / base_freq * trajectory_sampling_rate)\n",
    "plot_meas_pred_tau(t_cut_train[:plot_data_num], tau_f_train[:plot_data_num, :],\n",
    "                   tau_p_train[:plot_data_num, :],\n",
    "                   robot_model.coordinates_joint_type,\n",
    "                   robot_model.coordinates)"
   ]
  },
  {
   "cell_type": "markdown",
   "metadata": {},
   "source": [
    "## Compare measured torque and predicted torque on the test set"
   ]
  },
  {
   "cell_type": "code",
   "execution_count": 18,
   "metadata": {},
   "outputs": [],
   "source": [
    "W_b_test, tau_s_test = gen_regressor(base_param_num, H_b_func, q_f_test,\n",
    "                                       dq_f_test, ddq_f_test, tau_f_test)\n",
    "\n",
    "tau_p_test = np.zeros(tau_f_test.shape)\n",
    "tau_ps_test = W_b_test.dot(xb_ols)\n",
    "for i in range(dof):\n",
    "    tau_p_test[:, i] = tau_ps_test[i::dof]"
   ]
  },
  {
   "cell_type": "code",
   "execution_count": 19,
   "metadata": {
    "scrolled": false
   },
   "outputs": [],
   "source": [
    "plot_data_num = int(1 / base_freq * trajectory_sampling_rate)\n",
    "plot_meas_pred_tau(t_cut_test[:plot_data_num], tau_f_test[:plot_data_num, :],\n",
    "                   tau_p_test[:plot_data_num, :],\n",
    "                   robot_model.coordinates_joint_type,\n",
    "                   robot_model.coordinates)"
   ]
  },
  {
   "cell_type": "code",
   "execution_count": 20,
   "metadata": {},
   "outputs": [
    {
     "data": {
      "text/plain": [
       "array([0.10271958, 0.18394008, 0.19826131, 0.13442613, 0.24024134,\n",
       "       0.21187137, 0.26383741])"
      ]
     },
     "execution_count": 20,
     "metadata": {},
     "output_type": "execute_result"
    }
   ],
   "source": [
    "np.linalg.norm(tau_f_test[:plot_data_num, :] - tau_p_test[:plot_data_num, :], axis=0)\\\n",
    "    / np.linalg.norm(tau_f_test[:plot_data_num, :], axis=0)"
   ]
  },
  {
   "cell_type": "markdown",
   "metadata": {},
   "source": [
    "## Weighted Least Square (WLS)"
   ]
  },
  {
   "cell_type": "markdown",
   "metadata": {},
   "source": [
    "### Training data set"
   ]
  },
  {
   "cell_type": "code",
   "execution_count": 21,
   "metadata": {},
   "outputs": [
    {
     "data": {
      "text/plain": [
       "array([2.93727204, 3.01785995, 5.54867759, 0.01335894, 0.05668865,\n",
       "       0.0581864 , 0.06459421])"
      ]
     },
     "execution_count": 21,
     "metadata": {},
     "output_type": "execute_result"
    }
   ],
   "source": [
    "# weight = np.sqrt(np.linalg.norm(tau_f - tau_p, axis=0)/(tau_f.shape[0] - base_param_num))\n",
    "weight = np.max(tau_f_train, axis=0) - np.min(tau_f_train, axis=0)\n",
    "weight"
   ]
  },
  {
   "cell_type": "code",
   "execution_count": 22,
   "metadata": {},
   "outputs": [
    {
     "data": {
      "image/png": "[encoded data removed]",
      "text/latex": [
       "$$\\left ( \\left ( 39193, \\quad 49\\right ), \\quad \\left ( 39193\\right )\\right )$$"
      ],
      "text/plain": [
       "((39193, 49), (39193,))"
      ]
     },
     "execution_count": 22,
     "metadata": {},
     "output_type": "execute_result"
    }
   ],
   "source": [
    "W_b_train.shape, tau_s_train.shape"
   ]
  },
  {
   "cell_type": "code",
   "execution_count": 23,
   "metadata": {},
   "outputs": [],
   "source": [
    "# repeat the weight to generate a large vecoter for all the data\n",
    "weights = 1.0/np.tile(weight, W_b_train.shape[0]/weight.shape[0])"
   ]
  },
  {
   "cell_type": "code",
   "execution_count": 24,
   "metadata": {},
   "outputs": [],
   "source": [
    "W_b_wls_train = np.multiply(W_b_train, np.asmatrix(weights).transpose())\n",
    "tau_s_wls_train = np.multiply(tau_s_train, weights)"
   ]
  },
  {
   "cell_type": "code",
   "execution_count": 25,
   "metadata": {},
   "outputs": [
    {
     "name": "stderr",
     "output_type": "stream",
     "text": [
      "/home/yan/anaconda2/envs/dynamics/lib/python2.7/site-packages/ipykernel_launcher.py:1: FutureWarning: `rcond` parameter will change to the default of machine precision times ``max(M, N)`` where M and N are the input matrix dimensions.\n",
      "To use the future default and silence this warning we advise to pass `rcond=None`, to keep using the old, explicitly pass `rcond=-1`.\n",
      "  \"\"\"Entry point for launching an IPython kernel.\n"
     ]
    }
   ],
   "source": [
    "xb_wls = np.linalg.lstsq(W_b_wls_train, tau_s_wls_train)[0]"
   ]
  },
  {
   "cell_type": "code",
   "execution_count": 26,
   "metadata": {},
   "outputs": [
    {
     "data": {
      "text/latex": [
       "$$\\left[\\begin{matrix}1.0 m_{8} & 0.361831129307206\\\\1.0 m_{9} & 0.352025357792815\\\\- 0.5 l2y + 0.5 l6y - 0.5 l7y + 1.0 l8z - 0.07227 m_{4} - 0.09131 m_{5} - 0.07227 m_{6} - 0.07227 m_{7} & 0.0442204623912926\\\\0.5 l2y - 0.5 l6y + 0.5 l7y + 1.0 l9z + 0.07227 m_{4} + 0.09131 m_{5} + 0.07227 m_{6} + 0.07227 m_{7} & -0.148764818875726\\\\- 0.5 l2x + 0.5 l6x - 0.5 l7x + 1.0 l8x - 0.020045 m_{4} - 0.020045 m_{5} - 0.020045 m_{6} - 0.020045 m_{7} & 0.0162921429951351\\\\0.5 l2x - 0.5 l6x + 0.5 l7x + 1.0 l9x + 0.020045 m_{4} + 0.020045 m_{5} + 0.020045 m_{6} + 0.020045 m_{7} & -0.0162213960300417\\\\- 0.5 l1y - 0.5 l2z - 0.5 l4z - 0.5 l5z - 0.5 l6z - 0.5 l7z + 1.0 l9y & 0.0556365965695385\\\\- 0.5 l1y - 0.5 l2z - 0.5 l4z - 0.5 l5z - 0.5 l6z - 0.5 l7z + 1.0 l8y & 0.0529224276731459\\\\1.0 l5y & -4.38878988393519\\\\1.0 Fv_{16} & 0.00358541133037597\\\\1.0 L2xy + 1.0 L6xy + 1.0 L7xy + 1.0 L8xz + 1.0 L9xz + 0.2159 l2x + 0.020045 l2y - 0.07136 l6x + 0.020045 l6y + 0.07136 l7x - 0.020045 l7y + 0.00575813 m_{4} + 0.00499481 m_{5} + 0.00575813 m_{6} + 0.00575813 m_{7} & -0.0854114338772057\\\\1.0 Fv_{13} & 0.00236309365933381\\\\1.0 Fv_{12} & 0.00224169432339541\\\\1.0 L2yz - 1.0 L6yz + 1.0 L7yz + 1.0 L8yz - 1.0 L9yz + 0.2159 l1y + 0.2159 l2z + 0.07136 l4z + 0.03328 l5z + 0.07136 l6z + 0.07136 l7z & -0.0405683451489511\\\\1.0 L2xz - 1.0 L6xz + 1.0 L7xz + 1.0 L8xy - 1.0 L9xy + 0.020045 l1y + 0.020045 l2z - 0.020045 l4z - 0.020045 l5z - 0.020045 l6z - 0.020045 l7z & 0.00136769668149045\\\\- 1.0 L2xx + 1.0 L2yy - 1.0 L6xx + 1.0 L6yy - 1.0 L7xx + 1.0 L7yy - 1.0 L8xx + 1.0 L8zz - 1.0 L9xx + 1.0 L9zz - 0.04009 l2x + 0.4318 l2y - 0.04009 l6x - 0.14272 l6y + 0.04009 l7x + 0.14272 l7y + 0.04152056 m_{4} + 0.04550525 m_{5} + 0.04152056 m_{6} + 0.04152056 m_{7} & -0.124226664048225\\\\1.0 Ia_{10} & -3.33418241754702 \\cdot 10^{-6}\\\\1.0 Ia_{11} & -0.000630494148297911\\\\1.0 Fv_{8} & 1.11040170286212\\\\1.0 Fv_{2} & 0.223540691913833\\\\1.0 Ia_{15} & -0.000372101516712409\\\\1.0 Fv_{10} & 0.00111133265134256\\\\1.0 Ia_{14} & -0.000299912894226928\\\\1.0 L2zz + 1.0 L6zz + 1.0 L7zz + 1.0 L8yy + 1.0 L9yy - 0.04009 l2x - 0.4318 l2y - 0.04009 l6x + 0.14272 l6y + 0.04009 l7x - 0.14272 l7y - 0.04152056 m_{4} - 0.04550525 m_{5} - 0.04152056 m_{6} - 0.04152056 m_{7} & 0.234915390966571\\\\1.0 Fo_{13} + 0.8211529 Fo_{15} + 1.0 Fo_{16} & -0.00359391449073765\\\\1.0 Fv_{1} & 0.0968224652802253\\\\1.0 K_{0} & 0.00187260397828617\\\\1.0 Fv_{11} & 0.012247619103383\\\\1.0 L1zz + 1.0 L2xx + 1.0 L4xx + 1.0 L5xx + 1.0 L6xx + 1.0 L7xx + 1.0 L8xx + 1.0 L9xx - 0.4318 l2y + 0.14272 l6y - 0.14272 l7y - 0.04152056 m_{4} - 0.04550525 m_{5} - 0.04152056 m_{6} - 0.04152056 m_{7} & 0.107824959165855\\\\1.0 Fo_{12} + 1.0 Fo_{13} + 0.8211529 Fo_{14} + 0.8211529 Fo_{15} & -0.016465149915015\\\\1.0 Fv_{15} & 0.00735690588123912\\\\1.0 Fv_{14} & 0.00613133358637314\\\\1.0 l1x & 0.779531594999022\\\\1.0 Fo_{10} & -0.0048902770235304\\\\1.0 Fo_{2} & 0.0772562622832713\\\\1.0 Fc_{16} & -3.66782016164996 \\cdot 10^{-5}\\\\1.0 Fo_{1} & -1.12488425172431\\\\1.0 Fo_{8} & -0.0701489573921375\\\\1.0 Fc_{12} & 0.000452892358335064\\\\1.0 Fc_{13} & 0.00211512282288593\\\\1.0 Fo_{11} + 0.66959513 Fo_{14} + 0.66959513 Fo_{15} & 0.0103490409017249\\\\1.0 Fc_{14} & 0.00636243443558651\\\\1.0 Fc_{1} & 0.045197829103129\\\\1.0 Fc_{11} & 0.00696522602374489\\\\1.0 Fc_{8} & 0.4587730384782\\\\1.0 Fc_{10} & 0.00246503906777273\\\\1.0 Fc_{15} & 0.00614266861074333\\\\1.0 Fc_{2} & 0.0610340698496714\\\\1.0 l4y & 5.11097815255056\\end{matrix}\\right]$$"
      ],
      "text/plain": [
       "⎡                                                                             \n",
       "⎢                                                                             \n",
       "⎢                                                                             \n",
       "⎢                                                                             \n",
       "⎢                                                                             \n",
       "⎢                                                                             \n",
       "⎢                                                                             \n",
       "⎢                                                                             \n",
       "⎢                                                                             \n",
       "⎢                                                                             \n",
       "⎢                                                                             \n",
       "⎢                                                                             \n",
       "⎢                                                                             \n",
       "⎢                                                                             \n",
       "⎢                                                                             \n",
       "⎢                                                                             \n",
       "⎢                                                                             \n",
       "⎢                                                                             \n",
       "⎢                                                                             \n",
       "⎢                                                                             \n",
       "⎢                          1.0⋅L2xy + 1.0⋅L6xy + 1.0⋅L7xy + 1.0⋅L8xz + 1.0⋅L9x\n",
       "⎢                                                                             \n",
       "⎢                                                                             \n",
       "⎢                                                                             \n",
       "⎢                                                                             \n",
       "⎢                                                                             \n",
       "⎢                                                            1.0⋅L2yz - 1.0⋅L6\n",
       "⎢                                                                             \n",
       "⎢                                                        1.0⋅L2xz - 1.0⋅L6xz +\n",
       "⎢                                                                             \n",
       "⎢-1.0⋅L2xx + 1.0⋅L2yy - 1.0⋅L6xx + 1.0⋅L6yy - 1.0⋅L7xx + 1.0⋅L7yy - 1.0⋅L8xx +\n",
       "⎢                                                                             \n",
       "⎢                                                                             \n",
       "⎢                                                                             \n",
       "⎢                                                                             \n",
       "⎢                                                                             \n",
       "⎢                                                                             \n",
       "⎢                                                                             \n",
       "⎢                                                                             \n",
       "⎢                                                                             \n",
       "⎢                                                                             \n",
       "⎢                                                                             \n",
       "⎢                                                                             \n",
       "⎢                                                                             \n",
       "⎢                                                                             \n",
       "⎢                                                                             \n",
       "⎢                            1.0⋅L2zz + 1.0⋅L6zz + 1.0⋅L7zz + 1.0⋅L8yy + 1.0⋅L\n",
       "⎢                                                                             \n",
       "⎢                                                                             \n",
       "⎢                                                                             \n",
       "⎢                                                                             \n",
       "⎢                                                                             \n",
       "⎢                                                                             \n",
       "⎢                                                                             \n",
       "⎢                                                                             \n",
       "⎢                                                                             \n",
       "⎢                                1.0⋅L1zz + 1.0⋅L2xx + 1.0⋅L4xx + 1.0⋅L5xx + 1\n",
       "⎢                                                                             \n",
       "⎢                                                                             \n",
       "⎢                                                                             \n",
       "⎢                                                                             \n",
       "⎢                                                                             \n",
       "⎢                                                                             \n",
       "⎢                                                                             \n",
       "⎢                                                                             \n",
       "⎢                                                                             \n",
       "⎢                                                                             \n",
       "⎢                                                                             \n",
       "⎢                                                                             \n",
       "⎢                                                                             \n",
       "⎢                                                                             \n",
       "⎢                                                                             \n",
       "⎢                                                                             \n",
       "⎢                                                                             \n",
       "⎢                                                                             \n",
       "⎢                                                                             \n",
       "⎢                                                                             \n",
       "⎢                                                                             \n",
       "⎢                                                                             \n",
       "⎢                                                                             \n",
       "⎢                                                                             \n",
       "⎢                                                                             \n",
       "⎢                                                                             \n",
       "⎢                                                                             \n",
       "⎢                                                                             \n",
       "⎢                                                                             \n",
       "⎢                                                                             \n",
       "⎢                                                                             \n",
       "⎢                                                                             \n",
       "⎢                                                                             \n",
       "⎢                                                                             \n",
       "⎢                                                                             \n",
       "⎢                                                                             \n",
       "⎢                                                                             \n",
       "⎢                                                                             \n",
       "⎢                                                                             \n",
       "⎣                                                                             \n",
       "\n",
       "                                               1.0⋅m₈                         \n",
       "                                                                              \n",
       "                                               1.0⋅m₉                         \n",
       "                                                                              \n",
       "     -0.5⋅l2y + 0.5⋅l6y - 0.5⋅l7y + 1.0⋅l8z - 0.07227⋅m₄ - 0.09131⋅m₅ - 0.0722\n",
       "                                                                              \n",
       "      0.5⋅l2y - 0.5⋅l6y + 0.5⋅l7y + 1.0⋅l9z + 0.07227⋅m₄ + 0.09131⋅m₅ + 0.0722\n",
       "                                                                              \n",
       "   -0.5⋅l2x + 0.5⋅l6x - 0.5⋅l7x + 1.0⋅l8x - 0.020045⋅m₄ - 0.020045⋅m₅ - 0.0200\n",
       "                                                                              \n",
       "    0.5⋅l2x - 0.5⋅l6x + 0.5⋅l7x + 1.0⋅l9x + 0.020045⋅m₄ + 0.020045⋅m₅ + 0.0200\n",
       "                                                                              \n",
       "                -0.5⋅l1y - 0.5⋅l2z - 0.5⋅l4z - 0.5⋅l5z - 0.5⋅l6z - 0.5⋅l7z + 1\n",
       "                                                                              \n",
       "                -0.5⋅l1y - 0.5⋅l2z - 0.5⋅l4z - 0.5⋅l5z - 0.5⋅l6z - 0.5⋅l7z + 1\n",
       "                                                                              \n",
       "                                               1.0⋅l5y                        \n",
       "                                                                              \n",
       "                                              1.0⋅Fv₁₆                        \n",
       "                                                                              \n",
       "z + 0.2159⋅l2x + 0.020045⋅l2y - 0.07136⋅l6x + 0.020045⋅l6y + 0.07136⋅l7x - 0.0\n",
       "                                                                              \n",
       "                                              1.0⋅Fv₁₃                        \n",
       "                                                                              \n",
       "                                              1.0⋅Fv₁₂                        \n",
       "                                                                              \n",
       "yz + 1.0⋅L7yz + 1.0⋅L8yz - 1.0⋅L9yz + 0.2159⋅l1y + 0.2159⋅l2z + 0.07136⋅l4z + \n",
       "                                                                              \n",
       " 1.0⋅L7xz + 1.0⋅L8xy - 1.0⋅L9xy + 0.020045⋅l1y + 0.020045⋅l2z - 0.020045⋅l4z -\n",
       "                                                                              \n",
       " 1.0⋅L8zz - 1.0⋅L9xx + 1.0⋅L9zz - 0.04009⋅l2x + 0.4318⋅l2y - 0.04009⋅l6x - 0.1\n",
       "                                                                              \n",
       "                                              1.0⋅Ia₁₀                        \n",
       "                                                                              \n",
       "                                              1.0⋅Ia₁₁                        \n",
       "                                                                              \n",
       "                                               1.0⋅Fv₈                        \n",
       "                                                                              \n",
       "                                               1.0⋅Fv₂                        \n",
       "                                                                              \n",
       "                                              1.0⋅Ia₁₅                        \n",
       "                                                                              \n",
       "                                              1.0⋅Fv₁₀                        \n",
       "                                                                              \n",
       "                                              1.0⋅Ia₁₄                        \n",
       "                                                                              \n",
       "9yy - 0.04009⋅l2x - 0.4318⋅l2y - 0.04009⋅l6x + 0.14272⋅l6y + 0.04009⋅l7x - 0.1\n",
       "                                                                              \n",
       "                                1.0⋅Fo₁₃ + 0.8211529⋅Fo₁₅ + 1.0⋅Fo₁₆          \n",
       "                                                                              \n",
       "                                               1.0⋅Fv₁                        \n",
       "                                                                              \n",
       "                                               1.0⋅K₀                         \n",
       "                                                                              \n",
       "                                              1.0⋅Fv₁₁                        \n",
       "                                                                              \n",
       ".0⋅L6xx + 1.0⋅L7xx + 1.0⋅L8xx + 1.0⋅L9xx - 0.4318⋅l2y + 0.14272⋅l6y - 0.14272⋅\n",
       "                                                                              \n",
       "                        1.0⋅Fo₁₂ + 1.0⋅Fo₁₃ + 0.8211529⋅Fo₁₄ + 0.8211529⋅Fo₁₅ \n",
       "                                                                              \n",
       "                                              1.0⋅Fv₁₅                        \n",
       "                                                                              \n",
       "                                              1.0⋅Fv₁₄                        \n",
       "                                                                              \n",
       "                                               1.0⋅l1x                        \n",
       "                                                                              \n",
       "                                              1.0⋅Fo₁₀                        \n",
       "                                                                              \n",
       "                                               1.0⋅Fo₂                        \n",
       "                                                                              \n",
       "                                              1.0⋅Fc₁₆                        \n",
       "                                                                              \n",
       "                                               1.0⋅Fo₁                        \n",
       "                                                                              \n",
       "                                               1.0⋅Fo₈                        \n",
       "                                                                              \n",
       "                                              1.0⋅Fc₁₂                        \n",
       "                                                                              \n",
       "                                              1.0⋅Fc₁₃                        \n",
       "                                                                              \n",
       "                            1.0⋅Fo₁₁ + 0.66959513⋅Fo₁₄ + 0.66959513⋅Fo₁₅      \n",
       "                                                                              \n",
       "                                              1.0⋅Fc₁₄                        \n",
       "                                                                              \n",
       "                                               1.0⋅Fc₁                        \n",
       "                                                                              \n",
       "                                              1.0⋅Fc₁₁                        \n",
       "                                                                              \n",
       "                                               1.0⋅Fc₈                        \n",
       "                                                                              \n",
       "                                              1.0⋅Fc₁₀                        \n",
       "                                                                              \n",
       "                                              1.0⋅Fc₁₅                        \n",
       "                                                                              \n",
       "                                               1.0⋅Fc₂                        \n",
       "                                                                              \n",
       "                                               1.0⋅l4y                        \n",
       "\n",
       "                                                                              \n",
       "                                                                              \n",
       "                                                                              \n",
       "                                                                              \n",
       "7⋅m₆ - 0.07227⋅m₇                                                             \n",
       "                                                                              \n",
       "7⋅m₆ + 0.07227⋅m₇                                                             \n",
       "                                                                              \n",
       "45⋅m₆ - 0.020045⋅m₇                                                           \n",
       "                                                                              \n",
       "45⋅m₆ + 0.020045⋅m₇                                                           \n",
       "                                                                              \n",
       ".0⋅l9y                                                                        \n",
       "                                                                              \n",
       ".0⋅l8y                                                                        \n",
       "                                                                              \n",
       "                                                                              \n",
       "                                                                              \n",
       "                                                                              \n",
       "                                                                              \n",
       "20045⋅l7y + 0.00575813⋅m₄ + 0.00499481⋅m₅ + 0.00575813⋅m₆ + 0.00575813⋅m₇     \n",
       "                                                                              \n",
       "                                                                              \n",
       "                                                                              \n",
       "                                                                              \n",
       "                                                                              \n",
       "0.03328⋅l5z + 0.07136⋅l6z + 0.07136⋅l7z                                       \n",
       "                                                                              \n",
       " 0.020045⋅l5z - 0.020045⋅l6z - 0.020045⋅l7z                                   \n",
       "                                                                              \n",
       "4272⋅l6y + 0.04009⋅l7x + 0.14272⋅l7y + 0.04152056⋅m₄ + 0.04550525⋅m₅ + 0.04152\n",
       "                                                                              \n",
       "                                                                              \n",
       "                                                                              \n",
       "                                                                              \n",
       "                                                                              \n",
       "                                                                              \n",
       "                                                                              \n",
       "                                                                              \n",
       "                                                                              \n",
       "                                                                              \n",
       "                                                                              \n",
       "                                                                              \n",
       "                                                                              \n",
       "                                                                              \n",
       "                                                                              \n",
       "4272⋅l7y - 0.04152056⋅m₄ - 0.04550525⋅m₅ - 0.04152056⋅m₆ - 0.04152056⋅m₇      \n",
       "                                                                              \n",
       "                                                                              \n",
       "                                                                              \n",
       "                                                                              \n",
       "                                                                              \n",
       "                                                                              \n",
       "                                                                              \n",
       "                                                                              \n",
       "                                                                              \n",
       "l7y - 0.04152056⋅m₄ - 0.04550525⋅m₅ - 0.04152056⋅m₆ - 0.04152056⋅m₇           \n",
       "                                                                              \n",
       "                                                                              \n",
       "                                                                              \n",
       "                                                                              \n",
       "                                                                              \n",
       "                                                                              \n",
       "                                                                              \n",
       "                                                                              \n",
       "                                                                              \n",
       "                                                                              \n",
       "                                                                              \n",
       "                                                                              \n",
       "                                                                              \n",
       "                                                                              \n",
       "                                                                              \n",
       "                                                                              \n",
       "                                                                              \n",
       "                                                                              \n",
       "                                                                              \n",
       "                                                                              \n",
       "                                                                              \n",
       "                                                                              \n",
       "                                                                              \n",
       "                                                                              \n",
       "                                                                              \n",
       "                                                                              \n",
       "                                                                              \n",
       "                                                                              \n",
       "                                                                              \n",
       "                                                                              \n",
       "                                                                              \n",
       "                                                                              \n",
       "                                                                              \n",
       "                                                                              \n",
       "                                                                              \n",
       "                                                                              \n",
       "                                                                              \n",
       "                                                                              \n",
       "                                                                              \n",
       "                                                                              \n",
       "\n",
       "                          0.361831129307206  ⎤\n",
       "                                             ⎥\n",
       "                          0.352025357792815  ⎥\n",
       "                                             ⎥\n",
       "                         0.0442204623912926  ⎥\n",
       "                                             ⎥\n",
       "                         -0.148764818875726  ⎥\n",
       "                                             ⎥\n",
       "                         0.0162921429951351  ⎥\n",
       "                                             ⎥\n",
       "                         -0.0162213960300417 ⎥\n",
       "                                             ⎥\n",
       "                         0.0556365965695385  ⎥\n",
       "                                             ⎥\n",
       "                         0.0529224276731459  ⎥\n",
       "                                             ⎥\n",
       "                          -4.38878988393519  ⎥\n",
       "                                             ⎥\n",
       "                         0.00358541133037597 ⎥\n",
       "                                             ⎥\n",
       "                         -0.0854114338772057 ⎥\n",
       "                                             ⎥\n",
       "                         0.00236309365933381 ⎥\n",
       "                                             ⎥\n",
       "                         0.00224169432339541 ⎥\n",
       "                                             ⎥\n",
       "                         -0.0405683451489511 ⎥\n",
       "                                             ⎥\n",
       "                         0.00136769668149045 ⎥\n",
       "                                             ⎥\n",
       "056⋅m₆ + 0.04152056⋅m₇   -0.124226664048225  ⎥\n",
       "                                             ⎥\n",
       "                        -3.33418241754702e-6 ⎥\n",
       "                                             ⎥\n",
       "                        -0.000630494148297911⎥\n",
       "                                             ⎥\n",
       "                          1.11040170286212   ⎥\n",
       "                                             ⎥\n",
       "                          0.223540691913833  ⎥\n",
       "                                             ⎥\n",
       "                        -0.000372101516712409⎥\n",
       "                                             ⎥\n",
       "                         0.00111133265134256 ⎥\n",
       "                                             ⎥\n",
       "                        -0.000299912894226928⎥\n",
       "                                             ⎥\n",
       "                          0.234915390966571  ⎥\n",
       "                                             ⎥\n",
       "                        -0.00359391449073765 ⎥\n",
       "                                             ⎥\n",
       "                         0.0968224652802253  ⎥\n",
       "                                             ⎥\n",
       "                         0.00187260397828617 ⎥\n",
       "                                             ⎥\n",
       "                          0.012247619103383  ⎥\n",
       "                                             ⎥\n",
       "                          0.107824959165855  ⎥\n",
       "                                             ⎥\n",
       "                         -0.016465149915015  ⎥\n",
       "                                             ⎥\n",
       "                         0.00735690588123912 ⎥\n",
       "                                             ⎥\n",
       "                         0.00613133358637314 ⎥\n",
       "                                             ⎥\n",
       "                          0.779531594999022  ⎥\n",
       "                                             ⎥\n",
       "                         -0.0048902770235304 ⎥\n",
       "                                             ⎥\n",
       "                         0.0772562622832713  ⎥\n",
       "                                             ⎥\n",
       "                        -3.66782016164996e-5 ⎥\n",
       "                                             ⎥\n",
       "                          -1.12488425172431  ⎥\n",
       "                                             ⎥\n",
       "                         -0.0701489573921375 ⎥\n",
       "                                             ⎥\n",
       "                        0.000452892358335064 ⎥\n",
       "                                             ⎥\n",
       "                         0.00211512282288593 ⎥\n",
       "                                             ⎥\n",
       "                         0.0103490409017249  ⎥\n",
       "                                             ⎥\n",
       "                         0.00636243443558651 ⎥\n",
       "                                             ⎥\n",
       "                          0.045197829103129  ⎥\n",
       "                                             ⎥\n",
       "                         0.00696522602374489 ⎥\n",
       "                                             ⎥\n",
       "                           0.4587730384782   ⎥\n",
       "                                             ⎥\n",
       "                         0.00246503906777273 ⎥\n",
       "                                             ⎥\n",
       "                         0.00614266861074333 ⎥\n",
       "                                             ⎥\n",
       "                         0.0610340698496714  ⎥\n",
       "                                             ⎥\n",
       "                          5.11097815255056   ⎦"
      ]
     },
     "execution_count": 26,
     "metadata": {},
     "output_type": "execute_result"
    }
   ],
   "source": [
    "#np.set_printoptions(precision=2)\n",
    "sympy.Matrix.hstack(sympy.Matrix(robot_model.base_param), sympy.Matrix(xb_wls))"
   ]
  },
  {
   "cell_type": "code",
   "execution_count": 27,
   "metadata": {},
   "outputs": [],
   "source": [
    "tau_p_wls_train = np.zeros(tau_f_train.shape)\n",
    "tau_ps_wls_train = W_b_train.dot(xb_wls)\n",
    "for i in range(dof):\n",
    "    tau_p_wls_train[:, i] = tau_ps_wls_train[i::dof]"
   ]
  },
  {
   "cell_type": "code",
   "execution_count": 28,
   "metadata": {},
   "outputs": [],
   "source": [
    "plot_meas_pred_tau(t_cut_train[:plot_data_num], tau_f_train[:plot_data_num, :],\n",
    "                   tau_p_wls_train[:plot_data_num, :],\n",
    "                   robot_def.coordinates_joint_type, \n",
    "                   robot_model.coordinates)"
   ]
  },
  {
   "cell_type": "code",
   "execution_count": 29,
   "metadata": {},
   "outputs": [
    {
     "data": {
      "text/plain": [
       "array([0.06594949, 0.1555572 , 0.1772842 , 0.13607351, 0.21066478,\n",
       "       0.20960394, 0.25561636])"
      ]
     },
     "execution_count": 29,
     "metadata": {},
     "output_type": "execute_result"
    }
   ],
   "source": [
    "np.linalg.norm(tau_f_train[:plot_data_num, :] - tau_p_wls_train[:plot_data_num, :], axis=0)\\\n",
    "    / np.linalg.norm(tau_f_train[:plot_data_num, :], axis=0)"
   ]
  },
  {
   "cell_type": "markdown",
   "metadata": {},
   "source": [
    "### Test data set"
   ]
  },
  {
   "cell_type": "code",
   "execution_count": 30,
   "metadata": {},
   "outputs": [],
   "source": [
    "weight = np.max(tau_f_test, axis=0) - np.min(tau_f_test, axis=0)\n",
    "\n",
    "# repeat the weight to generate a large vecoter for all the data\n",
    "weights = 1.0/np.tile(weight, W_b_test.shape[0]/weight.shape[0])\n",
    "\n",
    "W_b_wls_test = np.multiply(W_b_test, np.asmatrix(weights).transpose())\n",
    "tau_s_wls_test = np.multiply(tau_s_test, weights)\n",
    "\n",
    "tau_p_wls_test = np.zeros(tau_f_test.shape)\n",
    "tau_ps_wls_test = W_b_test.dot(xb_wls)\n",
    "for i in range(dof):\n",
    "    tau_p_wls_test[:, i] = tau_ps_wls_test[i::dof]\n",
    "\n",
    "plot_meas_pred_tau(t_cut_test[:plot_data_num], tau_f_test[:plot_data_num, :],\n",
    "                   tau_p_wls_test[:plot_data_num, :],\n",
    "                   robot_def.coordinates_joint_type,\n",
    "                   robot_model.coordinates)"
   ]
  },
  {
   "cell_type": "code",
   "execution_count": 31,
   "metadata": {},
   "outputs": [
    {
     "data": {
      "text/plain": [
       "array([0.10278154, 0.18279762, 0.19762928, 0.13442613, 0.23987205,\n",
       "       0.21112205, 0.26619204])"
      ]
     },
     "execution_count": 31,
     "metadata": {},
     "output_type": "execute_result"
    }
   ],
   "source": [
    "np.linalg.norm(tau_f_test[:plot_data_num, :] - tau_p_wls_test[:plot_data_num, :], axis=0)\\\n",
    "/ np.linalg.norm(tau_f_test[:plot_data_num, :], axis=0)"
   ]
  },
  {
   "cell_type": "markdown",
   "metadata": {},
   "source": [
    "## Convex optimization"
   ]
  },
  {
   "cell_type": "markdown",
   "metadata": {},
   "source": [
    "### Generate regressor matrix for barycentric parameters"
   ]
  },
  {
   "cell_type": "code",
   "execution_count": 32,
   "metadata": {},
   "outputs": [],
   "source": [
    "from identification import SDPOpt\n",
    "\n",
    "bary_param_num = len(robot_model.bary_param)\n",
    "H_func = robot_model.H_func\n",
    "W_train, tau_s_train = gen_regressor(bary_param_num, H_func,\n",
    "                                     q_f_train, dq_f_train, ddq_f_train, tau_f_train)"
   ]
  },
  {
   "cell_type": "code",
   "execution_count": 33,
   "metadata": {},
   "outputs": [],
   "source": [
    "W_w_train = np.multiply(W_train, np.asmatrix(weights).transpose())\n",
    "tau_w_s_train = np.multiply(tau_s_train, weights)"
   ]
  },
  {
   "cell_type": "markdown",
   "metadata": {},
   "source": [
    "| min mass | max mass | min $r_x$ | max $r_x$ | min $r_y$ | max $r_y$ | min $r_z$ | max $r_z$ | max $F_c$ | max $F_v$ | max $F_o$ |\n",
    "|----------|----------|-----------|-----------|-----------|-----------|-----------|-----------|-----------|--------------|-----------|"
   ]
  },
  {
   "cell_type": "code",
   "execution_count": 34,
   "metadata": {},
   "outputs": [],
   "source": [
    "sdp_constraints = []\n",
    "spring_constraints = []\n",
    "\n",
    "if model_name == 'psm':\n",
    "    sdp_constraints = [(0.3, 10, -0.1, 0.1, -0.1, 0.1, -0.1, 0.1, 1, 1, 0.2), #yaw_link\n",
    "                      (0.3, 10, -0.1, 0.1, -0.2, 0.1, -0.05, 0.05, 1, 1, 0.2),    #Pitch Back\n",
    "                      (0, 0, 0, 0, 0, 0, 0, 0, 0, 0, 0), #Intermediate\n",
    "                      (0.1, 5, 0.1, 0.4, -0.06, 0.02, -0.03, 0.03, 1, 1, 0.2), #Pitch Bottom\n",
    "                      (0.02, 2, 0.1, 0.4, -0.03, 0.03, -0.03, 0.03, 1, 1, 0.2), #Pitch Top\n",
    "                      (0.1, 5, 0.0, 0.05, -0.40, 0.05, -0.03, 0.03, 1, 1, 0.2), #Pitch End\n",
    "                      (0.01, 0.5, -0.05, 0.0, -0.14, 0.0, 0.02, 0.08, 1, 1, 0.2),  #Pitch Front\n",
    "                      (0.1, 2, -0.02, 0.02, -0.02, 0.02, -0.1, 0.15, 1, 1, 1), #Main Insertion\n",
    "                      (0.1, 2, -0.05, 0.05, -0.03, 0.03, -0.1, 0.1, 1, 1, 1), #Counterweight\n",
    "                      (0, 0, 0, 0, 0, 0, 0, 0, 1, 1, 1), # Wrist Roll\n",
    "                      (0, 0, 0, 0, 0, 0, 0, 0, 1, 1, 1), # Wrist Pitch\n",
    "                      (0, 0, 0, 0, 0, 0, 0, 0, 1, 1, 1), # Wrist Yaw1\n",
    "                      (0, 0, 0, 0, 0, 0, 0, 0, 1, 1, 1), # Wrist Yaw2\n",
    "                      (0, 0, 0, 0, 0, 0, 0, 0, 1, 1, 1), # M6\n",
    "                      (0, 0, 0, 0, 0, 0, 0, 0, 1, 1, 1), # M7\n",
    "                      (0, 0, 0, 0, 0, 0, 0, 0, 1, 1, 1)] # F67\n",
    "                       \n",
    "    spring_constraints = [(0.0001, 1)]\n",
    "    pass\n",
    "else:\n",
    "    raise Exception(\"No robot name matches \" + model_name)"
   ]
  },
  {
   "cell_type": "code",
   "execution_count": 35,
   "metadata": {
    "scrolled": true
   },
   "outputs": [
    {
     "name": "stdout",
     "output_type": "stream",
     "text": [
      "Regressor shape: (39193, 115)\n",
      "Regressand shape: (39193,)\n",
      "Creating variables...\n",
      "Creating optimization objective...\n",
      "Creating constraints...\n",
      "Solving problem...\n",
      "----------------------------------------------------------------------------\n",
      "\tSCS v1.2.6 - Splitting Conic Solver\n",
      "\t(c) Brendan O'Donoghue, Stanford University, 2012-2016\n",
      "----------------------------------------------------------------------------\n",
      "Lin-sys: sparse-indirect, nnz in A = 901736, CG tol ~ 1/iter^(2.00)\n",
      "eps = 1.00e-03, alpha = 1.50, max_iters = 5000, normalize = 1, scale = 1.00\n",
      "Variables n = 116, constraints m = 39494\n",
      "Cones:\tlinear vars: 131\n",
      "\tsoc vars: 39195, soc blks: 1\n",
      "\tsd vars: 168, sd blks: 8\n",
      "Setup time: 3.25e-02s\n",
      "----------------------------------------------------------------------------\n",
      " Iter | pri res | dua res | rel gap | pri obj | dua obj | kap/tau | time (s)\n",
      "----------------------------------------------------------------------------\n",
      "     0|      inf       inf      -nan      -inf      -inf       inf  8.45e-02 \n",
      "   100| 1.69e-01  2.00e-02  2.62e-02  3.34e+00  3.54e+00  8.40e-14  1.68e+00 \n",
      "   200| 1.67e-01  1.35e-02  2.38e-02  6.73e+00  7.08e+00  2.91e-14  3.17e+00 \n",
      "   300| 1.68e-01  8.86e-03  2.22e-02  1.01e+01  1.06e+01  3.11e-14  4.94e+00 \n",
      "   400| 1.69e-01  1.41e-02  2.03e-02  1.37e+01  1.42e+01  3.39e-14  7.75e+00 \n",
      "   500| 1.72e-01  9.22e-03  1.92e-02  1.73e+01  1.80e+01  3.75e-14  1.09e+01 \n",
      "   600| 1.75e-01  8.13e-03  1.75e-02  2.11e+01  2.18e+01  4.21e-14  1.46e+01 \n",
      "   700| 1.80e-01  7.99e-03  1.57e-02  2.50e+01  2.58e+01  4.77e-14  1.86e+01 \n",
      "   800| 1.85e-01  8.53e-03  1.40e-02  2.92e+01  3.01e+01  5.44e-14  2.24e+01 \n",
      "   900| 1.91e-01  8.46e-03  1.26e-02  3.37e+01  3.45e+01  3.12e-14  2.60e+01 \n",
      "  1000| 1.98e-01  7.54e-03  1.13e-02  3.84e+01  3.93e+01  3.59e-14  2.99e+01 \n",
      "  1100| 2.05e-01  1.00e-02  1.00e-02  4.34e+01  4.43e+01  4.14e-14  3.39e+01 \n",
      "  1200| 2.12e-01  6.90e-03  8.90e-03  4.88e+01  4.97e+01  4.77e-14  3.72e+01 \n",
      "  1300| 2.20e-01  1.00e-02  7.93e-03  5.46e+01  5.55e+01  5.50e-14  4.06e+01 \n",
      "  1400| 2.29e-01  6.57e-03  7.09e-03  6.08e+01  6.17e+01  3.17e-14  4.43e+01 \n",
      "  1500| 2.38e-01  1.10e-02  6.32e-03  6.74e+01  6.83e+01  3.64e-14  4.79e+01 \n",
      "  1600| 2.47e-01  6.42e-03  5.63e-03  7.45e+01  7.53e+01  4.17e-14  5.16e+01 \n",
      "  1700| 2.56e-01  1.22e-02  5.02e-03  8.21e+01  8.29e+01  4.78e-14  5.53e+01 \n",
      "  1800| 2.66e-01  7.45e-03  4.50e-03  9.03e+01  9.11e+01  5.45e-14  5.93e+01 \n",
      "  1900| 2.76e-01  1.40e-02  4.07e-03  9.90e+01  9.98e+01  3.11e-14  6.36e+01 \n",
      "  2000| 2.87e-01  7.71e-03  3.62e-03  1.08e+02  1.09e+02  3.53e-14  6.87e+01 \n",
      "  2100| 2.98e-01  1.50e-02  3.24e-03  1.18e+02  1.19e+02  4.00e-14  7.42e+01 \n",
      "  2200| 3.09e-01  8.02e-03  2.92e-03  1.29e+02  1.30e+02  4.52e-14  7.92e+01 \n",
      "  2300| 3.20e-01  1.61e-02  2.64e-03  1.41e+02  1.42e+02  5.11e-14  8.37e+01 \n",
      "  2400| 3.33e-01  9.45e-03  2.37e-03  1.53e+02  1.54e+02  2.87e-14  8.80e+01 \n",
      "  2500| 3.45e-01  1.61e-02  2.14e-03  1.66e+02  1.67e+02  3.23e-14  9.30e+01 \n",
      "  2600| 3.58e-01  9.57e-03  1.94e-03  1.81e+02  1.81e+02  3.62e-14  9.78e+01 \n",
      "  2700| 3.70e-01  1.81e-02  1.75e-03  1.96e+02  1.97e+02  4.05e-14  1.02e+02 \n",
      "  2800| 3.84e-01  1.15e-02  1.57e-03  2.12e+02  2.13e+02  4.52e-14  1.06e+02 \n",
      "  2900| 3.96e-01  3.37e-02  1.18e-03  2.29e+02  2.30e+02  5.04e-14  1.10e+02 \n",
      "  3000| 4.11e-01  3.09e-02  1.10e-03  2.48e+02  2.49e+02  5.61e-14  1.14e+02 \n",
      "  3100| 4.25e-01  3.41e-02  9.97e-04  2.68e+02  2.69e+02  3.11e-14  1.17e+02 \n",
      "  3200| 4.41e-01  3.02e-02  8.98e-04  2.90e+02  2.90e+02  3.45e-14  1.21e+02 \n",
      "  3300| 4.57e-01  3.31e-02  8.16e-04  3.13e+02  3.13e+02  3.82e-14  1.24e+02 \n",
      "  3400| 4.73e-01  2.95e-02  7.60e-04  3.37e+02  3.38e+02  4.23e-14  1.27e+02 \n",
      "  3500| 4.90e-01  3.27e-02  6.93e-04  3.64e+02  3.64e+02  4.66e-14  1.30e+02 \n",
      "  3600| 5.07e-01  2.91e-02  6.22e-04  3.92e+02  3.92e+02  5.14e-14  1.33e+02 \n",
      "  3700| 5.25e-01  3.19e-02  5.68e-04  4.22e+02  4.23e+02  5.66e-14  1.37e+02 \n",
      "  3800| 5.44e-01  2.74e-02  5.23e-04  4.54e+02  4.55e+02  3.11e-14  1.40e+02 \n",
      "  3900| 5.62e-01  3.11e-02  4.71e-04  4.89e+02  4.90e+02  3.42e-14  1.43e+02 \n",
      "  4000| 5.82e-01  2.70e-02  4.35e-04  5.26e+02  5.27e+02  3.76e-14  1.46e+02 \n",
      "  4100| 6.02e-01  3.02e-02  4.00e-04  5.66e+02  5.66e+02  4.12e-14  1.49e+02 \n",
      "  4200| 6.24e-01  2.56e-02  3.58e-04  6.08e+02  6.09e+02  4.51e-14  1.53e+02 \n",
      "  4300| 6.45e-01  3.14e-02  3.21e-04  6.54e+02  6.54e+02  4.93e-14  1.57e+02 \n",
      "  4400| 6.68e-01  2.50e-02  3.13e-04  7.02e+02  7.03e+02  5.39e-14  1.61e+02 \n",
      "  4500| 6.91e-01  2.86e-02  2.88e-04  7.54e+02  7.55e+02  2.94e-14  1.65e+02 \n",
      "  4600| 7.15e-01  2.50e-02  2.56e-04  8.10e+02  8.10e+02  3.21e-14  1.69e+02 \n",
      "  4700| 7.39e-01  2.94e-02  2.30e-04  8.69e+02  8.70e+02  3.50e-14  1.72e+02 \n",
      "  4800| 7.65e-01  2.41e-02  2.22e-04  9.33e+02  9.34e+02  3.82e-14  1.76e+02 \n",
      "  4900| 7.91e-01  2.66e-02  2.02e-04  1.00e+03  1.00e+03  4.15e-14  1.79e+02 \n",
      "  5000| 8.17e-01  2.50e-02  1.81e-04  1.07e+03  1.07e+03  4.52e-14  1.82e+02 \n",
      "----------------------------------------------------------------------------\n",
      "Status: Solved/Inaccurate\n",
      "Hit max_iters, solution may be inaccurate\n",
      "Timing: Solve time: 1.82e+02s\n",
      "\tLin-sys: avg # CG iterations: 31.89, avg solve time: 3.58e-02s\n",
      "\tCones: avg projection time: 1.32e-04s\n",
      "----------------------------------------------------------------------------\n",
      "Error metrics:\n",
      "dist(s, K) = 8.4891e-08, dist(y, K*) = 2.4647e-09, s'y/|s||y| = 1.2915e-14\n",
      "|Ax + s - b|_2 / (1 + |b|_2) = 8.1744e-01\n",
      "|A'y + c|_2 / (1 + |c|_2) = 2.4980e-02\n",
      "|c'x + b'y| / (1 + |c'x| + |b'y|) = 1.8086e-04\n",
      "----------------------------------------------------------------------------\n",
      "c'x = 1073.0130, -b'y = 1073.4014\n",
      "============================================================================\n",
      "CPU times: user 22min 52s, sys: 9.38 s, total: 23min 1s\n",
      "Wall time: 3min 2s\n"
     ]
    }
   ],
   "source": [
    "\n",
    "\n",
    "sdp_opt_std = SDPOpt(W_w_train, tau_w_s_train, robot_model,\n",
    "                     sdp_constraints, spring_constraints)\n",
    "# sdp_opt_std = SDPOpt(W, tau_s, robot_model, sdp_constraints)\n",
    "%time sdp_opt_std.solve()"
   ]
  },
  {
   "cell_type": "markdown",
   "metadata": {},
   "source": [
    "## Compare measured torque and predicted torque on training set"
   ]
  },
  {
   "cell_type": "markdown",
   "metadata": {},
   "source": [
    "### Generate predicted torque"
   ]
  },
  {
   "cell_type": "code",
   "execution_count": 36,
   "metadata": {},
   "outputs": [],
   "source": [
    "tau_p_sdp_train = np.zeros(tau_f_train.shape)\n",
    "tau_ps_sdp_train = W_train.dot(sdp_opt_std.x_result)\n",
    "for i in range(dof):\n",
    "    tau_p_sdp_train[:, i] = tau_ps_sdp_train[i::dof]"
   ]
  },
  {
   "cell_type": "code",
   "execution_count": 37,
   "metadata": {},
   "outputs": [
    {
     "data": {
      "text/plain": [
       "array([0.06786206, 0.16447732, 0.19700815, 0.13761261, 0.24543462,\n",
       "       0.25986301, 0.33322864])"
      ]
     },
     "execution_count": 37,
     "metadata": {},
     "output_type": "execute_result"
    }
   ],
   "source": [
    "np.linalg.norm(tau_f_train[:plot_data_num, :] - tau_p_sdp_train[:plot_data_num, :], axis=0)\\\n",
    "    / np.linalg.norm(tau_f_train[:plot_data_num, :], axis=0)"
   ]
  },
  {
   "cell_type": "markdown",
   "metadata": {},
   "source": [
    "### Plot measured torque and predicted torque"
   ]
  },
  {
   "cell_type": "code",
   "execution_count": 38,
   "metadata": {},
   "outputs": [],
   "source": [
    "plot_data_num = int(1 / base_freq * trajectory_sampling_rate)\n",
    "plot_meas_pred_tau(t_cut_train[:plot_data_num] - t_cut_train[0],\n",
    "                   tau_f_train[:plot_data_num, :],\n",
    "                   tau_p_sdp_train[:plot_data_num, :],\n",
    "                   robot_def.coordinates_joint_type,\n",
    "                   robot_model.coordinates)"
   ]
  },
  {
   "cell_type": "markdown",
   "metadata": {},
   "source": [
    "## Compare measured torque and predicted torque on test set"
   ]
  },
  {
   "cell_type": "code",
   "execution_count": 39,
   "metadata": {},
   "outputs": [],
   "source": [
    "bary_param_num = len(robot_model.bary_param)\n",
    "H_func = robot_model.H_func\n",
    "W_test, tau_s_test = gen_regressor(bary_param_num, H_func,\n",
    "                                   q_f_test, dq_f_test, ddq_f_test, tau_f_test)"
   ]
  },
  {
   "cell_type": "code",
   "execution_count": 40,
   "metadata": {},
   "outputs": [],
   "source": [
    "tau_p_sdp_test = np.zeros(tau_f_test.shape)\n",
    "tau_ps_sdp_test = W_test.dot(sdp_opt_std.x_result)\n",
    "for i in range(dof):\n",
    "    tau_p_sdp_test[:, i] = tau_ps_sdp_test[i::dof]\n",
    "plot_data_num = int(1 / base_freq * trajectory_sampling_rate)\n",
    "plot_meas_pred_tau(t_cut_test[:plot_data_num] - t_cut_test[0],\n",
    "                   tau_f_test[:plot_data_num, :],\n",
    "                   tau_p_sdp_test[:plot_data_num, :],\n",
    "                   robot_def.coordinates_joint_type,\n",
    "                   robot_model.coordinates)"
   ]
  },
  {
   "cell_type": "code",
   "execution_count": 41,
   "metadata": {},
   "outputs": [
    {
     "data": {
      "text/plain": [
       "array([0.08621849, 0.18300482, 0.23296347, 0.13830204, 0.26484361,\n",
       "       0.27076217, 0.3239463 ])"
      ]
     },
     "execution_count": 41,
     "metadata": {},
     "output_type": "execute_result"
    }
   ],
   "source": [
    "np.linalg.norm(tau_f_test[:plot_data_num, :] - tau_p_sdp_test[:plot_data_num, :], axis=0)\\\n",
    "/ np.linalg.norm(tau_f_test[:plot_data_num, :], axis=0)"
   ]
  },
  {
   "cell_type": "code",
   "execution_count": 42,
   "metadata": {},
   "outputs": [],
   "source": [
    "from identification import barycentric2standard_params"
   ]
  },
  {
   "cell_type": "code",
   "execution_count": 43,
   "metadata": {
    "scrolled": true
   },
   "outputs": [],
   "source": [
    "x_std = barycentric2standard_params(sdp_opt_std.x_result, robot_model)"
   ]
  },
  {
   "cell_type": "code",
   "execution_count": 44,
   "metadata": {},
   "outputs": [
    {
     "data": {
      "text/latex": [
       "$$\\left[\\begin{matrix}I1xx & 0.91308965227905\\\\I1xy & -0.108885223675171\\\\I1xz & -8.06318145871405 \\cdot 10^{-19}\\\\I1yy & 0.475670648763773\\\\I1yz & -2.88647284740408 \\cdot 10^{-18}\\\\I1zz & -3.99548386865404 \\cdot 10^{-5}\\\\r1x & 0.0482260904818403\\\\r1y & 0.0239133398041076\\\\r1z & -2.31920500604339 \\cdot 10^{-19}\\\\m_{1} & 2.17492989598746\\\\Fc_{1} & 0.045657316866694\\\\Fv_{1} & 0.104298860287206\\\\Fo_{1} & -0.200020065891904\\\\I2xx & 0.0212876088918246\\\\I2xy & -0.0148745442239366\\\\I2xz & 0.00570635442575497\\\\I2yy & 0.0197756606369968\\\\I2yz & -0.00436683320239526\\\\I2zz & 0.000350888707031691\\\\r2x & -0.0149397548774418\\\\r2y & -0.0731622947488795\\\\r2z & -0.0124906365353352\\\\m_{2} & 10.0027838290159\\\\Fc_{2} & 0.0613865842077596\\\\Fv_{2} & 0.223051667428329\\\\Fo_{2} & 0.0899111216896553\\\\I4xx & -3.81619644185075 \\cdot 10^{-5}\\\\I4xy & -0.00457675286956355\\\\I4xz & -0.00323460786469755\\\\I4yy & 12.7873169874967\\\\I4yz & 0.664770799377564\\\\I4zz & 11.9713863171498\\\\r4x & 0.355451532086598\\\\r4y & 0.0198524003266987\\\\r4z & -0.0168999745630816\\\\m_{4} & 1.11322126488938\\\\I5xx & -3.88468966220582 \\cdot 10^{-5}\\\\I5xy & -0.00158138482360678\\\\I5xz & 0.00223547881146595\\\\I5yy & 7.60863676281453\\\\I5yz & 1.33629794147864\\\\I5zz & 5.54355880161664\\\\r5x & 0.342626939124284\\\\r5y & 0.0299235275611048\\\\r5z & 0.0190616043839014\\\\m_{5} & 1.99902225173681\\\\I6xx & 0.000172595274916065\\\\I6xy & 0.00050126813342799\\\\I6xz & -0.0002390679222702\\\\I6yy & 0.00110683101663857\\\\I6yz & 6.42301666719414 \\cdot 10^{-5}\\\\I6zz & -0.00107690695424336\\\\r6x & 0.0503704695555942\\\\r6y & 0.0542632614427195\\\\r6z & 0.0302265887635776\\\\m_{6} & 0.100002689900968\\\\I7xx & 0.000586045812426548\\\\I7xy & 0.0011556047288667\\\\I7xz & 0.000312284001968093\\\\I7yy & 0.00205230494631248\\\\I7yz & 3.11999621731831 \\cdot 10^{-5}\\\\I7zz & -0.00110612141611497\\\\r7x & -0.0501079323396278\\\\r7y & -0.140297013075417\\\\r7z & 0.0616175253664401\\\\m_{7} & 0.500137747248022\\\\I8xx & 0.000311239158346417\\\\I8xy & 0.000264576986022535\\\\I8xz & 0.000719629126814643\\\\I8yy & -0.00108128841439969\\\\I8yz & -2.72777689856823 \\cdot 10^{-5}\\\\I8zz & 0.00140120512763827\\\\r8x & 0.0205501441011686\\\\r8y & 0.0203817328832807\\\\r8z & -0.0837554038024333\\\\m_{8} & 0.376778448599811\\\\Fc_{8} & 0.445472171708338\\\\Fv_{8} & 1.0001529407499\\\\Fo_{8} & 0.694021314341334\\\\I9xx & 0.00016516805865446\\\\I9xy & -0.000242516283139304\\\\I9xz & 0.00046362760532852\\\\I9yy & -0.00108392937432546\\\\I9yz & 6.73841763556401 \\cdot 10^{-5}\\\\I9zz & 0.000968175034883426\\\\r9x & 0.0235536365846594\\\\r9y & -0.0308896267622367\\\\r9z & -0.0837454865479246\\\\m_{9} & 0.281651374373082\\\\Fc_{10} & 0.00246237473360356\\\\Fv_{10} & 0.00111530115922562\\\\Fo_{10} & -0.00489302137275806\\\\Ia_{10} & 1.41630518002123 \\cdot 10^{-5}\\\\Fc_{11} & 0.00703504182183617\\\\Fv_{11} & 0.0119365002204026\\\\Fo_{11} & 0.112150914384908\\\\Ia_{11} & 0.000126280643815197\\\\Fc_{12} & 0.00184894321341702\\\\Fv_{12} & 0.0010667360612514\\\\Fo_{12} & 0.053148188321379\\\\Fc_{13} & 0.00199884053273688\\\\Fv_{13} & 0.00227483947128729\\\\Fo_{13} & 0.0552730497890125\\\\Fc_{14} & 0.00607458029802109\\\\Fv_{14} & 0.00649000527655171\\\\Fo_{14} & -0.126650948784295\\\\Ia_{14} & 0.000161505918217167\\\\Fc_{15} & 0.00638346731215419\\\\Fv_{15} & 0.0073264101695502\\\\Fo_{15} & -0.0254096519224286\\\\Ia_{15} & 0.000227171451066788\\\\Fc_{16} & 0.000611855876434689\\\\Fv_{16} & 0.00300597480570924\\\\Fo_{16} & -0.0380057865910741\\\\K_{0} & 0.00190746804011193\\end{matrix}\\right]$$"
      ],
      "text/plain": [
       "⎡I1xx    0.91308965227905   ⎤\n",
       "⎢                           ⎥\n",
       "⎢I1xy   -0.108885223675171  ⎥\n",
       "⎢                           ⎥\n",
       "⎢I1xz  -8.06318145871405e-19⎥\n",
       "⎢                           ⎥\n",
       "⎢I1yy    0.475670648763773  ⎥\n",
       "⎢                           ⎥\n",
       "⎢I1yz  -2.88647284740408e-18⎥\n",
       "⎢                           ⎥\n",
       "⎢I1zz  -3.99548386865404e-5 ⎥\n",
       "⎢                           ⎥\n",
       "⎢r1x    0.0482260904818403  ⎥\n",
       "⎢                           ⎥\n",
       "⎢r1y    0.0239133398041076  ⎥\n",
       "⎢                           ⎥\n",
       "⎢r1z   -2.31920500604339e-19⎥\n",
       "⎢                           ⎥\n",
       "⎢ m₁     2.17492989598746   ⎥\n",
       "⎢                           ⎥\n",
       "⎢Fc₁     0.045657316866694  ⎥\n",
       "⎢                           ⎥\n",
       "⎢Fv₁     0.104298860287206  ⎥\n",
       "⎢                           ⎥\n",
       "⎢Fo₁    -0.200020065891904  ⎥\n",
       "⎢                           ⎥\n",
       "⎢I2xx   0.0212876088918246  ⎥\n",
       "⎢                           ⎥\n",
       "⎢I2xy   -0.0148745442239366 ⎥\n",
       "⎢                           ⎥\n",
       "⎢I2xz   0.00570635442575497 ⎥\n",
       "⎢                           ⎥\n",
       "⎢I2yy   0.0197756606369968  ⎥\n",
       "⎢                           ⎥\n",
       "⎢I2yz  -0.00436683320239526 ⎥\n",
       "⎢                           ⎥\n",
       "⎢I2zz  0.000350888707031691 ⎥\n",
       "⎢                           ⎥\n",
       "⎢r2x    -0.0149397548774418 ⎥\n",
       "⎢                           ⎥\n",
       "⎢r2y    -0.0731622947488795 ⎥\n",
       "⎢                           ⎥\n",
       "⎢r2z    -0.0124906365353352 ⎥\n",
       "⎢                           ⎥\n",
       "⎢ m₂     10.0027838290159   ⎥\n",
       "⎢                           ⎥\n",
       "⎢Fc₂    0.0613865842077596  ⎥\n",
       "⎢                           ⎥\n",
       "⎢Fv₂     0.223051667428329  ⎥\n",
       "⎢                           ⎥\n",
       "⎢Fo₂    0.0899111216896553  ⎥\n",
       "⎢                           ⎥\n",
       "⎢I4xx  -3.81619644185075e-5 ⎥\n",
       "⎢                           ⎥\n",
       "⎢I4xy  -0.00457675286956355 ⎥\n",
       "⎢                           ⎥\n",
       "⎢I4xz  -0.00323460786469755 ⎥\n",
       "⎢                           ⎥\n",
       "⎢I4yy    12.7873169874967   ⎥\n",
       "⎢                           ⎥\n",
       "⎢I4yz    0.664770799377564  ⎥\n",
       "⎢                           ⎥\n",
       "⎢I4zz    11.9713863171498   ⎥\n",
       "⎢                           ⎥\n",
       "⎢r4x     0.355451532086598  ⎥\n",
       "⎢                           ⎥\n",
       "⎢r4y    0.0198524003266987  ⎥\n",
       "⎢                           ⎥\n",
       "⎢r4z    -0.0168999745630816 ⎥\n",
       "⎢                           ⎥\n",
       "⎢ m₄     1.11322126488938   ⎥\n",
       "⎢                           ⎥\n",
       "⎢I5xx  -3.88468966220582e-5 ⎥\n",
       "⎢                           ⎥\n",
       "⎢I5xy  -0.00158138482360678 ⎥\n",
       "⎢                           ⎥\n",
       "⎢I5xz   0.00223547881146595 ⎥\n",
       "⎢                           ⎥\n",
       "⎢I5yy    7.60863676281453   ⎥\n",
       "⎢                           ⎥\n",
       "⎢I5yz    1.33629794147864   ⎥\n",
       "⎢                           ⎥\n",
       "⎢I5zz    5.54355880161664   ⎥\n",
       "⎢                           ⎥\n",
       "⎢r5x     0.342626939124284  ⎥\n",
       "⎢                           ⎥\n",
       "⎢r5y    0.0299235275611048  ⎥\n",
       "⎢                           ⎥\n",
       "⎢r5z    0.0190616043839014  ⎥\n",
       "⎢                           ⎥\n",
       "⎢ m₅     1.99902225173681   ⎥\n",
       "⎢                           ⎥\n",
       "⎢I6xx  0.000172595274916065 ⎥\n",
       "⎢                           ⎥\n",
       "⎢I6xy   0.00050126813342799 ⎥\n",
       "⎢                           ⎥\n",
       "⎢I6xz   -0.0002390679222702 ⎥\n",
       "⎢                           ⎥\n",
       "⎢I6yy   0.00110683101663857 ⎥\n",
       "⎢                           ⎥\n",
       "⎢I6yz   6.42301666719414e-5 ⎥\n",
       "⎢                           ⎥\n",
       "⎢I6zz  -0.00107690695424336 ⎥\n",
       "⎢                           ⎥\n",
       "⎢r6x    0.0503704695555942  ⎥\n",
       "⎢                           ⎥\n",
       "⎢r6y    0.0542632614427195  ⎥\n",
       "⎢                           ⎥\n",
       "⎢r6z    0.0302265887635776  ⎥\n",
       "⎢                           ⎥\n",
       "⎢ m₆     0.100002689900968  ⎥\n",
       "⎢                           ⎥\n",
       "⎢I7xx  0.000586045812426548 ⎥\n",
       "⎢                           ⎥\n",
       "⎢I7xy   0.0011556047288667  ⎥\n",
       "⎢                           ⎥\n",
       "⎢I7xz  0.000312284001968093 ⎥\n",
       "⎢                           ⎥\n",
       "⎢I7yy   0.00205230494631248 ⎥\n",
       "⎢                           ⎥\n",
       "⎢I7yz   3.11999621731831e-5 ⎥\n",
       "⎢                           ⎥\n",
       "⎢I7zz  -0.00110612141611497 ⎥\n",
       "⎢                           ⎥\n",
       "⎢r7x    -0.0501079323396278 ⎥\n",
       "⎢                           ⎥\n",
       "⎢r7y    -0.140297013075417  ⎥\n",
       "⎢                           ⎥\n",
       "⎢r7z    0.0616175253664401  ⎥\n",
       "⎢                           ⎥\n",
       "⎢ m₇     0.500137747248022  ⎥\n",
       "⎢                           ⎥\n",
       "⎢I8xx  0.000311239158346417 ⎥\n",
       "⎢                           ⎥\n",
       "⎢I8xy  0.000264576986022535 ⎥\n",
       "⎢                           ⎥\n",
       "⎢I8xz  0.000719629126814643 ⎥\n",
       "⎢                           ⎥\n",
       "⎢I8yy  -0.00108128841439969 ⎥\n",
       "⎢                           ⎥\n",
       "⎢I8yz  -2.72777689856823e-5 ⎥\n",
       "⎢                           ⎥\n",
       "⎢I8zz   0.00140120512763827 ⎥\n",
       "⎢                           ⎥\n",
       "⎢r8x    0.0205501441011686  ⎥\n",
       "⎢                           ⎥\n",
       "⎢r8y    0.0203817328832807  ⎥\n",
       "⎢                           ⎥\n",
       "⎢r8z    -0.0837554038024333 ⎥\n",
       "⎢                           ⎥\n",
       "⎢ m₈     0.376778448599811  ⎥\n",
       "⎢                           ⎥\n",
       "⎢Fc₈     0.445472171708338  ⎥\n",
       "⎢                           ⎥\n",
       "⎢Fv₈      1.0001529407499   ⎥\n",
       "⎢                           ⎥\n",
       "⎢Fo₈     0.694021314341334  ⎥\n",
       "⎢                           ⎥\n",
       "⎢I9xx   0.00016516805865446 ⎥\n",
       "⎢                           ⎥\n",
       "⎢I9xy  -0.000242516283139304⎥\n",
       "⎢                           ⎥\n",
       "⎢I9xz   0.00046362760532852 ⎥\n",
       "⎢                           ⎥\n",
       "⎢I9yy  -0.00108392937432546 ⎥\n",
       "⎢                           ⎥\n",
       "⎢I9yz   6.73841763556401e-5 ⎥\n",
       "⎢                           ⎥\n",
       "⎢I9zz  0.000968175034883426 ⎥\n",
       "⎢                           ⎥\n",
       "⎢r9x    0.0235536365846594  ⎥\n",
       "⎢                           ⎥\n",
       "⎢r9y    -0.0308896267622367 ⎥\n",
       "⎢                           ⎥\n",
       "⎢r9z    -0.0837454865479246 ⎥\n",
       "⎢                           ⎥\n",
       "⎢ m₉     0.281651374373082  ⎥\n",
       "⎢                           ⎥\n",
       "⎢Fc₁₀   0.00246237473360356 ⎥\n",
       "⎢                           ⎥\n",
       "⎢Fv₁₀   0.00111530115922562 ⎥\n",
       "⎢                           ⎥\n",
       "⎢Fo₁₀  -0.00489302137275806 ⎥\n",
       "⎢                           ⎥\n",
       "⎢Ia₁₀   1.41630518002123e-5 ⎥\n",
       "⎢                           ⎥\n",
       "⎢Fc₁₁   0.00703504182183617 ⎥\n",
       "⎢                           ⎥\n",
       "⎢Fv₁₁   0.0119365002204026  ⎥\n",
       "⎢                           ⎥\n",
       "⎢Fo₁₁    0.112150914384908  ⎥\n",
       "⎢                           ⎥\n",
       "⎢Ia₁₁  0.000126280643815197 ⎥\n",
       "⎢                           ⎥\n",
       "⎢Fc₁₂   0.00184894321341702 ⎥\n",
       "⎢                           ⎥\n",
       "⎢Fv₁₂   0.0010667360612514  ⎥\n",
       "⎢                           ⎥\n",
       "⎢Fo₁₂    0.053148188321379  ⎥\n",
       "⎢                           ⎥\n",
       "⎢Fc₁₃   0.00199884053273688 ⎥\n",
       "⎢                           ⎥\n",
       "⎢Fv₁₃   0.00227483947128729 ⎥\n",
       "⎢                           ⎥\n",
       "⎢Fo₁₃   0.0552730497890125  ⎥\n",
       "⎢                           ⎥\n",
       "⎢Fc₁₄   0.00607458029802109 ⎥\n",
       "⎢                           ⎥\n",
       "⎢Fv₁₄   0.00649000527655171 ⎥\n",
       "⎢                           ⎥\n",
       "⎢Fo₁₄   -0.126650948784295  ⎥\n",
       "⎢                           ⎥\n",
       "⎢Ia₁₄  0.000161505918217167 ⎥\n",
       "⎢                           ⎥\n",
       "⎢Fc₁₅   0.00638346731215419 ⎥\n",
       "⎢                           ⎥\n",
       "⎢Fv₁₅   0.0073264101695502  ⎥\n",
       "⎢                           ⎥\n",
       "⎢Fo₁₅   -0.0254096519224286 ⎥\n",
       "⎢                           ⎥\n",
       "⎢Ia₁₅  0.000227171451066788 ⎥\n",
       "⎢                           ⎥\n",
       "⎢Fc₁₆  0.000611855876434689 ⎥\n",
       "⎢                           ⎥\n",
       "⎢Fv₁₆   0.00300597480570924 ⎥\n",
       "⎢                           ⎥\n",
       "⎢Fo₁₆   -0.0380057865910741 ⎥\n",
       "⎢                           ⎥\n",
       "⎣ K₀    0.00190746804011193 ⎦"
      ]
     },
     "execution_count": 44,
     "metadata": {},
     "output_type": "execute_result"
    }
   ],
   "source": [
    "sympy.Matrix.hstack(sympy.Matrix(robot_model.std_param), sympy.Matrix(x_std))"
   ]
  }
 ],
 "metadata": {
  "kernelspec": {
   "display_name": "Python 2",
   "language": "python",
   "name": "python2"
  },
  "language_info": {
   "codemirror_mode": {
    "name": "ipython",
    "version": 2
   },
   "file_extension": ".py",
   "mimetype": "text/x-python",
   "name": "python",
   "nbconvert_exporter": "python",
   "pygments_lexer": "ipython2",
   "version": "2.7.15"
  }
 },
 "nbformat": 4,
 "nbformat_minor": 1
}
