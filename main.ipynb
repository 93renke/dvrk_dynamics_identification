{
 "cells": [
  {
   "cell_type": "markdown",
   "metadata": {
    "collapsed": true
   },
   "source": [
    "# Import libraries"
   ]
  },
  {
   "cell_type": "code",
   "execution_count": 12,
   "metadata": {},
   "outputs": [],
   "source": [
    "from dh_def import *\n",
    "from kinematics import *\n",
    "from dynamics import *"
   ]
  },
  {
   "cell_type": "heading",
   "metadata": {},
   "level": 1,
   "source": [
    "Create joint variables and define their relations"
   ]
  },
  {
   "cell_type": "code",
   "execution_count": 13,
   "metadata": {},
   "outputs": [],
   "source": [
    "q0, q1, q2, q3, q4, q5, q6, q7, q8, q9 = new_sym('q:10')\n",
    "q3 = -q2 + q8\n",
    "q9 = -q8 + q2"
   ]
  },
  {
   "cell_type": "heading",
   "metadata": {},
   "level": 1,
   "source": [
    "DH definition in the order of joint_type, a, alpha, d, theta, dh_type, prev, succ"
   ]
  },
  {
   "cell_type": "code",
   "execution_count": 14,
   "metadata": {},
   "outputs": [
    {
     "name": "stdout",
     "output_type": "stream",
     "text": [
      "Creating frame: 0\nRevolute joint\nUsing modified DH\nCreating frame: 1\nRevolute joint\nUsing modified DH\n('coodirnates: ', [q1])\nCreating frame: 2\nRevolute joint\nUsing modified DH\n('coodirnates: ', [q2, q1])\nCreating frame: 3\nRevolute joint\nUsing modified DH\n('coodirnates: ', [q8, q2, q1])\nCreating frame: 4\nRevolute joint\nUsing modified DH\n('coodirnates: ', [q4, q8, q2, q1])\nCreating frame: 5\nRevolute joint\nUsing modified DH\n('coodirnates: ', [q5, q4, q8, q2, q1])\nCreating frame: 6\nRevolute joint\nUsing modified DH\n('coodirnates: ', [q6, q5, q4, q8, q2, q1])\nCreating frame: 7\nRevolute joint\nUsing modified DH\n('coodirnates: ', [q7, q6, q5, q4, q8, q2, q1])\nCreating frame: 8\nRevolute joint\nUsing modified DH\n('coodirnates: ', [q8, q1])\nCreating frame: 9\nRevolute joint\nUsing modified DH\n('coodirnates: ', [q8, q2, q1])\n"
     ]
    }
   ],
   "source": [
    "dh0 = DHDef(0, 'R', 0, 0, 0, 0, 'mdh', None, [])\n",
    "dh1 = DHDef(1, 'R', 0, 0, -0.21537, q1, 'mdh', dh0, [])\n",
    "dh2 = DHDef(2, 'R', 0, -sympy.pi/2, 0, q2+sympy.pi/2, 'mdh', dh1, [])\n",
    "dh3 = DHDef(3, 'R', 0.279, 0, 0, q3+sympy.pi/2, 'mdh', dh2, [])\n",
    "dh4 = DHDef(4, 'R', 0.365, -sympy.pi/2, 0.151, q4, 'mdh', dh3, [])\n",
    "dh5 = DHDef(5, 'R', 0, sympy.pi/2, 0, q5, 'mdh', dh4, [])\n",
    "dh6 = DHDef(6, 'R', 0, -sympy.pi/2, 0, q6+sympy.pi/2, 'mdh', dh5, [])\n",
    "dh7 = DHDef(7, 'R', 0, -sympy.pi/2, 0, q7, 'mdh', dh6, [])\n",
    "\n",
    "dh8 = DHDef(8, 'R', 0, -sympy.pi/2, 0, q8+sympy.pi, 'mdh', dh1, [])\n",
    "dh9 = DHDef(9, 'R', 0.1, 0, 0, q9-sympy.pi/2, 'mdh', dh8, [])\n",
    "\n",
    "dh0.set_succ([dh1])\n",
    "dh1.set_succ([dh2, dh8])\n",
    "dh2.set_succ([dh3])\n",
    "dh3.set_succ([dh4])\n",
    "dh4.set_succ([dh5])\n",
    "dh5.set_succ([dh6])\n",
    "dh6.set_succ([dh7])\n",
    "dh8.set_succ([dh9])"
   ]
  },
  {
   "cell_type": "heading",
   "metadata": {},
   "level": 1,
   "source": [
    "Create kinematics chain"
   ]
  },
  {
   "cell_type": "code",
   "execution_count": 17,
   "metadata": {},
   "outputs": [
    {
     "name": "stdout",
     "output_type": "stream",
     "text": [
      "pos_c\n('v_cw: ', Matrix([\n[-dq1*r1x*sin(q1) - dq1*r1y*cos(q1)],\n[ dq1*r1x*cos(q1) - dq1*r1y*sin(q1)],\n[                                 0]]))\ndR_t\nsubs dq\nsubs q\nw_b\nnode: 1\npos_c\n('v_cw: ', Matrix([\n[ dq1*r2x*sin(q1)*sin(q2) + dq1*r2y*sin(q1)*cos(q2) - dq1*r2z*cos(q1) - dq2*r2x*cos(q1)*cos(q2) + dq2*r2y*sin(q2)*cos(q1)],\n[-dq1*r2x*sin(q2)*cos(q1) - dq1*r2y*cos(q1)*cos(q2) - dq1*r2z*sin(q1) - dq2*r2x*sin(q1)*cos(q2) + dq2*r2y*sin(q1)*sin(q2)],\n[                                                                                       dq2*r2x*sin(q2) + dq2*r2y*cos(q2)]]))\ndR_t\nsubs dq\nsubs q\nw_b\nnode: 2\n"
     ]
    },
    {
     "name": "stdout",
     "output_type": "stream",
     "text": [
      "pos_c\n('v_cw: ', Matrix([\n[ dq1*r3x*sin(q1)*cos(q8) - dq1*r3y*sin(q1)*sin(q8) - dq1*r3z*cos(q1) + 0.279*dq1*sin(q1)*sin(q2) - 0.279*dq2*cos(q1)*cos(q2) + dq8*r3x*sin(q8)*cos(q1) + dq8*r3y*cos(q1)*cos(q8)],\n[-dq1*r3x*cos(q1)*cos(q8) + dq1*r3y*sin(q8)*cos(q1) - dq1*r3z*sin(q1) - 0.279*dq1*sin(q2)*cos(q1) - 0.279*dq2*sin(q1)*cos(q2) + dq8*r3x*sin(q1)*sin(q8) + dq8*r3y*sin(q1)*cos(q8)],\n[                                                                                                                           0.279*dq2*sin(q2) + dq8*r3x*cos(q8) - dq8*r3y*sin(q8)]]))\ndR_t\nsubs dq\nsubs q\nw_b\nnode: 3\n"
     ]
    },
    {
     "name": "stdout",
     "output_type": "stream",
     "text": [
      "pos_c\n('v_cw: ', Matrix([\n[-dq1*r4z*sin(q1)*sin(q8) - dq1*(-0.279*sin(q2) + 0.151*sin(q8) - 0.365*cos(q8))*sin(q1) + dq8*r4z*cos(q1)*cos(q8) + r4x*(dq1*sin(q1)*cos(q4)*cos(q8) + dq1*sin(q4)*cos(q1) + dq4*sin(q1)*cos(q4) + dq4*sin(q4)*cos(q1)*cos(q8) + dq8*sin(q8)*cos(q1)*cos(q4)) + r4y*(-dq1*sin(q1)*sin(q4)*cos(q8) + dq1*cos(q1)*cos(q4) - dq4*sin(q1)*sin(q4) + dq4*cos(q1)*cos(q4)*cos(q8) - dq8*sin(q4)*sin(q8)*cos(q1)) + (-0.279*dq2*cos(q2) + 0.365*dq8*sin(q8) + 0.151*dq8*cos(q8))*cos(q1)],\n[  dq1*r4z*sin(q8)*cos(q1) + dq1*(-0.279*sin(q2) + 0.151*sin(q8) - 0.365*cos(q8))*cos(q1) + dq8*r4z*sin(q1)*cos(q8) + r4x*(dq1*sin(q1)*sin(q4) - dq1*cos(q1)*cos(q4)*cos(q8) + dq4*sin(q1)*sin(q4)*cos(q8) - dq4*cos(q1)*cos(q4) + dq8*sin(q1)*sin(q8)*cos(q4)) + r4y*(dq1*sin(q1)*cos(q4) + dq1*sin(q4)*cos(q1)*cos(q8) + dq4*sin(q1)*cos(q4)*cos(q8) + dq4*sin(q4)*cos(q1) - dq8*sin(q1)*sin(q4)*sin(q8)) + (-0.279*dq2*cos(q2) + 0.365*dq8*sin(q8) + 0.151*dq8*cos(q8))*sin(q1)],\n[                                                                                                                                                                                                                                                                                              0.279*dq2*sin(q2) - dq4*r4x*sin(q4)*sin(q8) - dq4*r4y*sin(q8)*cos(q4) + dq8*r4x*cos(q4)*cos(q8) - dq8*r4y*sin(q4)*cos(q8) - dq8*r4z*sin(q8) - 0.151*dq8*sin(q8) + 0.365*dq8*cos(q8)]]))\ndR_t\nsubs dq\nsubs q\nw_b\nnode: 4\n"
     ]
    },
    {
     "name": "stdout",
     "output_type": "stream",
     "text": [
      "pos_c\n"
     ]
    },
    {
     "name": "stdout",
     "output_type": "stream",
     "text": [
      "('v_cw: ', Matrix([\n[-dq1*(-0.279*sin(q2) + 0.151*sin(q8) - 0.365*cos(q8))*sin(q1) + r5x*(-dq1*sin(q1)*sin(q5)*sin(q8) - dq5*(sin(q1)*sin(q4) - cos(q1)*cos(q4)*cos(q8))*sin(q5) + dq5*sin(q8)*cos(q1)*cos(q5) + dq8*sin(q5)*cos(q1)*cos(q8) + (dq1*sin(q1)*cos(q4)*cos(q8) + dq1*sin(q4)*cos(q1) + dq4*sin(q1)*cos(q4) + dq4*sin(q4)*cos(q1)*cos(q8) + dq8*sin(q8)*cos(q1)*cos(q4))*cos(q5)) + r5y*(-dq1*sin(q1)*sin(q8)*cos(q5) - dq5*(sin(q1)*sin(q4) - cos(q1)*cos(q4)*cos(q8))*cos(q5) - dq5*sin(q5)*sin(q8)*cos(q1) + dq8*cos(q1)*cos(q5)*cos(q8) - (dq1*sin(q1)*cos(q4)*cos(q8) + dq1*sin(q4)*cos(q1) + dq4*sin(q1)*cos(q4) + dq4*sin(q4)*cos(q1)*cos(q8) + dq8*sin(q8)*cos(q1)*cos(q4))*sin(q5)) + r5z*(dq1*sin(q1)*sin(q4)*cos(q8) - dq1*cos(q1)*cos(q4) + dq4*sin(q1)*sin(q4) - dq4*cos(q1)*cos(q4)*cos(q8) + dq8*sin(q4)*sin(q8)*cos(q1)) + (-0.279*dq2*cos(q2) + 0.365*dq8*sin(q8) + 0.151*dq8*cos(q8))*cos(q1)],\n[dq1*(-0.279*sin(q2) + 0.151*sin(q8) - 0.365*cos(q8))*cos(q1) + r5x*(dq1*sin(q5)*sin(q8)*cos(q1) + dq5*(sin(q1)*cos(q4)*cos(q8) + sin(q4)*cos(q1))*sin(q5) + dq5*sin(q1)*sin(q8)*cos(q5) + dq8*sin(q1)*sin(q5)*cos(q8) - (-dq1*sin(q1)*sin(q4) + dq1*cos(q1)*cos(q4)*cos(q8) - dq4*sin(q1)*sin(q4)*cos(q8) + dq4*cos(q1)*cos(q4) - dq8*sin(q1)*sin(q8)*cos(q4))*cos(q5)) + r5y*(dq1*sin(q8)*cos(q1)*cos(q5) + dq5*(sin(q1)*cos(q4)*cos(q8) + sin(q4)*cos(q1))*cos(q5) - dq5*sin(q1)*sin(q5)*sin(q8) + dq8*sin(q1)*cos(q5)*cos(q8) + (-dq1*sin(q1)*sin(q4) + dq1*cos(q1)*cos(q4)*cos(q8) - dq4*sin(q1)*sin(q4)*cos(q8) + dq4*cos(q1)*cos(q4) - dq8*sin(q1)*sin(q8)*cos(q4))*sin(q5)) + r5z*(-dq1*sin(q1)*cos(q4) - dq1*sin(q4)*cos(q1)*cos(q8) - dq4*sin(q1)*cos(q4)*cos(q8) - dq4*sin(q4)*cos(q1) + dq8*sin(q1)*sin(q4)*sin(q8)) + (-0.279*dq2*cos(q2) + 0.365*dq8*sin(q8) + 0.151*dq8*cos(q8))*sin(q1)],\n[                                                                                                                                                                                                                                                                                                                                                                                                                                                                                                0.279*dq2*sin(q2) + dq4*r5z*sin(q8)*cos(q4) + dq8*r5z*sin(q4)*cos(q8) - 0.151*dq8*sin(q8) + 0.365*dq8*cos(q8) + r5x*(-dq4*sin(q4)*sin(q8)*cos(q5) - dq5*sin(q5)*sin(q8)*cos(q4) + dq5*cos(q5)*cos(q8) - dq8*sin(q5)*sin(q8) + dq8*cos(q4)*cos(q5)*cos(q8)) + r5y*(dq4*sin(q4)*sin(q5)*sin(q8) - dq5*sin(q5)*cos(q8) - dq5*sin(q8)*cos(q4)*cos(q5) - dq8*sin(q5)*cos(q4)*cos(q8) - dq8*sin(q8)*cos(q5))]]))\ndR_t\nsubs dq\nsubs q\nw_b\nnode: 5\n"
     ]
    },
    {
     "name": "stdout",
     "output_type": "stream",
     "text": [
      "pos_c\n"
     ]
    },
    {
     "name": "stdout",
     "output_type": "stream",
     "text": [
      "('v_cw: ', Matrix([\n[-dq1*(-0.279*sin(q2) + 0.151*sin(q8) - 0.365*cos(q8))*sin(q1) + r6x*(-dq6*((sin(q1)*sin(q4) - cos(q1)*cos(q4)*cos(q8))*cos(q5) + sin(q5)*sin(q8)*cos(q1))*cos(q6) - dq6*(sin(q1)*cos(q4) + sin(q4)*cos(q1)*cos(q8))*sin(q6) + (-dq1*sin(q1)*sin(q4)*cos(q8) + dq1*cos(q1)*cos(q4) - dq4*sin(q1)*sin(q4) + dq4*cos(q1)*cos(q4)*cos(q8) - dq8*sin(q4)*sin(q8)*cos(q1))*cos(q6) - (-dq1*sin(q1)*sin(q5)*sin(q8) - dq5*(sin(q1)*sin(q4) - cos(q1)*cos(q4)*cos(q8))*sin(q5) + dq5*sin(q8)*cos(q1)*cos(q5) + dq8*sin(q5)*cos(q1)*cos(q8) + (dq1*sin(q1)*cos(q4)*cos(q8) + dq1*sin(q4)*cos(q1) + dq4*sin(q1)*cos(q4) + dq4*sin(q4)*cos(q1)*cos(q8) + dq8*sin(q8)*cos(q1)*cos(q4))*cos(q5))*sin(q6)) + r6y*(dq6*((sin(q1)*sin(q4) - cos(q1)*cos(q4)*cos(q8))*cos(q5) + sin(q5)*sin(q8)*cos(q1))*sin(q6) - dq6*(sin(q1)*cos(q4) + sin(q4)*cos(q1)*cos(q8))*cos(q6) - (-dq1*sin(q1)*sin(q4)*cos(q8) + dq1*cos(q1)*cos(q4) - dq4*sin(q1)*sin(q4) + dq4*cos(q1)*cos(q4)*cos(q8) - dq8*sin(q4)*sin(q8)*cos(q1))*sin(q6) - (-dq1*sin(q1)*sin(q5)*sin(q8) - dq5*(sin(q1)*sin(q4) - cos(q1)*cos(q4)*cos(q8))*sin(q5) + dq5*sin(q8)*cos(q1)*cos(q5) + dq8*sin(q5)*cos(q1)*cos(q8) + (dq1*sin(q1)*cos(q4)*cos(q8) + dq1*sin(q4)*cos(q1) + dq4*sin(q1)*cos(q4) + dq4*sin(q4)*cos(q1)*cos(q8) + dq8*sin(q8)*cos(q1)*cos(q4))*cos(q5))*cos(q6)) + r6z*(-dq1*sin(q1)*sin(q8)*cos(q5) - dq5*(sin(q1)*sin(q4) - cos(q1)*cos(q4)*cos(q8))*cos(q5) - dq5*sin(q5)*sin(q8)*cos(q1) + dq8*cos(q1)*cos(q5)*cos(q8) - (dq1*sin(q1)*cos(q4)*cos(q8) + dq1*sin(q4)*cos(q1) + dq4*sin(q1)*cos(q4) + dq4*sin(q4)*cos(q1)*cos(q8) + dq8*sin(q8)*cos(q1)*cos(q4))*sin(q5)) + (-0.279*dq2*cos(q2) + 0.365*dq8*sin(q8) + 0.151*dq8*cos(q8))*cos(q1)],\n[ dq1*(-0.279*sin(q2) + 0.151*sin(q8) - 0.365*cos(q8))*cos(q1) + r6x*(dq6*((sin(q1)*cos(q4)*cos(q8) + sin(q4)*cos(q1))*cos(q5) - sin(q1)*sin(q5)*sin(q8))*cos(q6) - dq6*(sin(q1)*sin(q4)*cos(q8) - cos(q1)*cos(q4))*sin(q6) + (dq1*sin(q1)*cos(q4) + dq1*sin(q4)*cos(q1)*cos(q8) + dq4*sin(q1)*cos(q4)*cos(q8) + dq4*sin(q4)*cos(q1) - dq8*sin(q1)*sin(q4)*sin(q8))*cos(q6) + (-dq1*sin(q5)*sin(q8)*cos(q1) - dq5*(sin(q1)*cos(q4)*cos(q8) + sin(q4)*cos(q1))*sin(q5) - dq5*sin(q1)*sin(q8)*cos(q5) - dq8*sin(q1)*sin(q5)*cos(q8) + (-dq1*sin(q1)*sin(q4) + dq1*cos(q1)*cos(q4)*cos(q8) - dq4*sin(q1)*sin(q4)*cos(q8) + dq4*cos(q1)*cos(q4) - dq8*sin(q1)*sin(q8)*cos(q4))*cos(q5))*sin(q6)) + r6y*(-dq6*((sin(q1)*cos(q4)*cos(q8) + sin(q4)*cos(q1))*cos(q5) - sin(q1)*sin(q5)*sin(q8))*sin(q6) - dq6*(sin(q1)*sin(q4)*cos(q8) - cos(q1)*cos(q4))*cos(q6) - (dq1*sin(q1)*cos(q4) + dq1*sin(q4)*cos(q1)*cos(q8) + dq4*sin(q1)*cos(q4)*cos(q8) + dq4*sin(q4)*cos(q1) - dq8*sin(q1)*sin(q4)*sin(q8))*sin(q6) + (-dq1*sin(q5)*sin(q8)*cos(q1) - dq5*(sin(q1)*cos(q4)*cos(q8) + sin(q4)*cos(q1))*sin(q5) - dq5*sin(q1)*sin(q8)*cos(q5) - dq8*sin(q1)*sin(q5)*cos(q8) + (-dq1*sin(q1)*sin(q4) + dq1*cos(q1)*cos(q4)*cos(q8) - dq4*sin(q1)*sin(q4)*cos(q8) + dq4*cos(q1)*cos(q4) - dq8*sin(q1)*sin(q8)*cos(q4))*cos(q5))*cos(q6)) + r6z*(dq1*sin(q8)*cos(q1)*cos(q5) + dq5*(sin(q1)*cos(q4)*cos(q8) + sin(q4)*cos(q1))*cos(q5) - dq5*sin(q1)*sin(q5)*sin(q8) + dq8*sin(q1)*cos(q5)*cos(q8) + (-dq1*sin(q1)*sin(q4) + dq1*cos(q1)*cos(q4)*cos(q8) - dq4*sin(q1)*sin(q4)*cos(q8) + dq4*cos(q1)*cos(q4) - dq8*sin(q1)*sin(q8)*cos(q4))*sin(q5)) + (-0.279*dq2*cos(q2) + 0.365*dq8*sin(q8) + 0.151*dq8*cos(q8))*sin(q1)],\n[                                                                                                                                                                                                                                                                                                                                                                                                                                                                                                                                                                                                                                                                                                                                                                                                                                                                                0.279*dq2*sin(q2) - 0.151*dq8*sin(q8) + 0.365*dq8*cos(q8) + r6x*(-dq4*sin(q8)*cos(q4)*cos(q6) - dq6*(sin(q5)*cos(q8) + sin(q8)*cos(q4)*cos(q5))*cos(q6) + dq6*sin(q4)*sin(q6)*sin(q8) - dq8*sin(q4)*cos(q6)*cos(q8) - (-dq4*sin(q4)*sin(q8)*cos(q5) - dq5*sin(q5)*sin(q8)*cos(q4) + dq5*cos(q5)*cos(q8) - dq8*sin(q5)*sin(q8) + dq8*cos(q4)*cos(q5)*cos(q8))*sin(q6)) + r6y*(dq4*sin(q6)*sin(q8)*cos(q4) + dq6*(sin(q5)*cos(q8) + sin(q8)*cos(q4)*cos(q5))*sin(q6) + dq6*sin(q4)*sin(q8)*cos(q6) + dq8*sin(q4)*sin(q6)*cos(q8) - (-dq4*sin(q4)*sin(q8)*cos(q5) - dq5*sin(q5)*sin(q8)*cos(q4) + dq5*cos(q5)*cos(q8) - dq8*sin(q5)*sin(q8) + dq8*cos(q4)*cos(q5)*cos(q8))*cos(q6)) + r6z*(dq4*sin(q4)*sin(q5)*sin(q8) - dq5*sin(q5)*cos(q8) - dq5*sin(q8)*cos(q4)*cos(q5) - dq8*sin(q5)*cos(q4)*cos(q8) - dq8*sin(q8)*cos(q5))]]))\ndR_t\nsubs dq\nsubs q\n"
     ]
    },
    {
     "name": "stdout",
     "output_type": "stream",
     "text": [
      "w_b\nnode: 6\n"
     ]
    }
   ],
   "source": [
    "kin = Kinematics(dh0)\n",
    "kin.cal_transfmats()"
   ]
  },
  {
   "cell_type": "code",
   "execution_count": null,
   "metadata": {},
   "outputs": [
    {
     "name": "stdout",
     "output_type": "stream",
     "text": [
      "('frame: ', 0)\n('frame: ', 1)\n('link: ', 0, 'to', 1)\n('frame: ', 8)\n('link: ', 1, 'to', 8)\n('frame: ', 9)\n('link: ', 8, 'to', 9)\n('frame: ', 2)\n('link: ', 1, 'to', 2)\n('frame: ', 3)\n('link: ', 2, 'to', 3)\n('frame: ', 4)\n('link: ', 3, 'to', 4)\n('frame: ', 5)\n('link: ', 4, 'to', 5)\n('frame: ', 6)\n('link: ', 5, 'to', 6)\n('frame: ', 7)\n('link: ', 6, 'to', 7)\n"
     ]
    },
    {
     "data": {
      "image/png": "[encoded data removed]",
      "text/plain": [
       "<Figure size 432x288 with 1 Axes>"
      ]
     },
     "metadata": {},
     "output_type": "display_data"
    }
   ],
   "source": [
    "kin.draw_frames()"
   ]
  },
  {
   "cell_type": "code",
   "execution_count": 8,
   "metadata": {},
   "outputs": [],
   "source": [
    "dyn = Dynamics(kin)\n"
   ]
  },
  {
   "cell_type": "code",
   "execution_count": 9,
   "metadata": {},
   "outputs": [],
   "source": [
    "dyn._ml2r(dh1._m, dh1._l)"
   ]
  },
  {
   "cell_type": "code",
   "execution_count": 10,
   "metadata": {
    "collapsed": true
   },
   "outputs": [
    {
     "data": {
      "text/plain": [
       "Matrix([\n[L1xx - m1*r1y**2 - m1*r1z**2,            L1xy + m1*r1x*r1y,            L1xz + m1*r1x*r1z],\n[           L1xy + m1*r1x*r1y, L1yy - m1*r1x**2 - m1*r1z**2,            L1yz + m1*r1y*r1z],\n[           L1xz + m1*r1x*r1z,            L1yz + m1*r1y*r1z, L1zz - m1*r1x**2 - m1*r1y**2]])"
      ]
     },
     "execution_count": 10,
     "metadata": {},
     "output_type": "execute_result"
    }
   ],
   "source": [
    "dyn._Lmr2I(dh1._L_mat, dh1._m, dh1._r)"
   ]
  },
  {
   "cell_type": "code",
   "execution_count": 11,
   "metadata": {},
   "outputs": [
    {
     "name": "stdout",
     "output_type": "stream",
     "text": [
      "Calculating dynamics\nFrame number: 0\nFrame number: 1\n"
     ]
    },
    {
     "ename": "AttributeError",
     "evalue": "DHDef instance has no attribute 'w_cb'",
     "traceback": [
      "\u001b[0;31m\u001b[0m",
      "\u001b[0;31mAttributeError\u001b[0mTraceback (most recent call last)",
      "\u001b[0;32m<ipython-input-11-beaff8e0e6fb>\u001b[0m in \u001b[0;36m<module>\u001b[0;34m()\u001b[0m\n\u001b[0;32m----> 1\u001b[0;31m \u001b[0mdyn\u001b[0m\u001b[0;34m.\u001b[0m\u001b[0mcal_dynamics\u001b[0m\u001b[0;34m(\u001b[0m\u001b[0;34m)\u001b[0m\u001b[0;34m\u001b[0m\u001b[0m\n\u001b[0m",
      "\u001b[0;32m/home/yan/code/dyn_ident_py/dynamics.pyc\u001b[0m in \u001b[0;36mcal_dynamics\u001b[0;34m(self)\u001b[0m\n\u001b[1;32m     28\u001b[0m                 \u001b[0mr\u001b[0m \u001b[0;34m=\u001b[0m \u001b[0mself\u001b[0m\u001b[0;34m.\u001b[0m\u001b[0m_ml2r\u001b[0m\u001b[0;34m(\u001b[0m\u001b[0mnode\u001b[0m\u001b[0;34m.\u001b[0m\u001b[0m_m\u001b[0m\u001b[0;34m,\u001b[0m \u001b[0mnode\u001b[0m\u001b[0;34m.\u001b[0m\u001b[0m_l\u001b[0m\u001b[0;34m)\u001b[0m\u001b[0;34m\u001b[0m\u001b[0m\n\u001b[1;32m     29\u001b[0m                 k_e += sympy.simplify(node._m * node.v_cw.dot(node.v_cw) / 2 +\n\u001b[0;32m---> 30\u001b[0;31m                                       node.w_cb.transpose() * self._Lmr2I(node._L_mat, node._m, r) / 2)\n\u001b[0m\u001b[1;32m     31\u001b[0m                 \u001b[0mp_e\u001b[0m \u001b[0;34m+=\u001b[0m \u001b[0;34m-\u001b[0m\u001b[0mnode\u001b[0m\u001b[0;34m.\u001b[0m\u001b[0m_m\u001b[0m \u001b[0;34m*\u001b[0m \u001b[0mnode\u001b[0m\u001b[0;34m.\u001b[0m\u001b[0mpos_c\u001b[0m\u001b[0;34m.\u001b[0m\u001b[0mdot\u001b[0m\u001b[0;34m(\u001b[0m\u001b[0mself\u001b[0m\u001b[0;34m.\u001b[0m\u001b[0m_g\u001b[0m\u001b[0;34m)\u001b[0m\u001b[0;34m\u001b[0m\u001b[0m\n\u001b[1;32m     32\u001b[0m \u001b[0;34m\u001b[0m\u001b[0m\n",
      "\u001b[0;31mAttributeError\u001b[0m: DHDef instance has no attribute 'w_cb'"
     ],
     "output_type": "error"
    }
   ],
   "source": [
    "dyn.cal_dynamics()"
   ]
  },
  {
   "cell_type": "code",
   "execution_count": null,
   "metadata": {},
   "outputs": [],
   "source": []
  }
 ],
 "metadata": {
  "kernelspec": {
   "display_name": "Python 2",
   "language": "python",
   "name": "python2"
  },
  "language_info": {
   "codemirror_mode": {
    "name": "ipython",
    "version": 2
   },
   "file_extension": ".py",
   "mimetype": "text/x-python",
   "name": "python",
   "nbconvert_exporter": "python",
   "pygments_lexer": "ipython2",
   "version": "2.7.15"
  }
 },
 "nbformat": 4,
 "nbformat_minor": 1
}
