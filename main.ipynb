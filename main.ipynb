{
 "cells": [
  {
   "cell_type": "heading",
   "metadata": {
    "collapsed": true
   },
   "level": 1,
   "source": [
    "Import libraries"
   ]
  },
  {
   "cell_type": "code",
   "execution_count": 1,
   "metadata": {},
   "outputs": [],
   "source": [
    "from dh_def import *\n",
    "from kinematics import *"
   ]
  },
  {
   "cell_type": "heading",
   "metadata": {},
   "level": 1,
   "source": [
    "Create joint variables and define their relations"
   ]
  },
  {
   "cell_type": "code",
   "execution_count": 2,
   "metadata": {},
   "outputs": [],
   "source": [
    "q0, q1, q2, q3, q4, q5, q6, q7, q8, q9 = new_sym('q:10')\n",
    "q3 = -q2 + q8\n",
    "q9 = -q8 + q2"
   ]
  },
  {
   "cell_type": "heading",
   "metadata": {},
   "level": 1,
   "source": [
    "DH definition in the order of joint_type, a, alpha, d, theta, dh_type, prev, succ"
   ]
  },
  {
   "cell_type": "code",
   "execution_count": 4,
   "metadata": {},
   "outputs": [
    {
     "name": "stdout",
     "output_type": "stream",
     "text": [
      "Creating frame 0\nlink0using modified DH\nCreating frame 1\nlink1using modified DH\n('link num: ', 1, 'coodirnates: ', [q1])\nCreating frame 2\nlink2using modified DH\n('link num: ', 2, 'coodirnates: ', [q2, q1])\nCreating frame 3\nlink3using modified DH\n('link num: ', 3, 'coodirnates: ', [q8, q2, q1])\nCreating frame 4\nlink4using modified DH\n('link num: ', 4, 'coodirnates: ', [q4, q8, q2, q1])\nCreating frame 5\nlink5using modified DH\n('link num: ', 5, 'coodirnates: ', [q5, q4, q8, q2, q1])\nCreating frame 6\nlink6using modified DH\n('link num: ', 6, 'coodirnates: ', [q6, q5, q4, q8, q2, q1])\nCreating frame 7\nlink7using modified DH\n('link num: ', 7, 'coodirnates: ', [q7, q6, q5, q4, q8, q2, q1])\nCreating frame 8\nlink8using modified DH\n('link num: ', 8, 'coodirnates: ', [q8, q1])\nCreating frame 9\nlink9using modified DH\n('link num: ', 9, 'coodirnates: ', [q8, q2, q1])\n"
     ]
    }
   ],
   "source": [
    "dh0 = DHDef(0, 'R', 0, 0, 0, 0, 'mdh', None, [])\n",
    "dh1 = DHDef(1, 'R', 0, 0, -0.21537, q1, 'mdh', dh0, [])\n",
    "dh2 = DHDef(2, 'R', 0, -sympy.pi/2, 0, q2+sympy.pi/2, 'mdh', dh1, [])\n",
    "dh3 = DHDef(3, 'R', 0.279, 0, 0, q3+sympy.pi/2, 'mdh', dh2, [])\n",
    "dh4 = DHDef(4, 'R', 0.365, -sympy.pi/2, 0.151, q4, 'mdh', dh3, [])\n",
    "dh5 = DHDef(5, 'R', 0, sympy.pi/2, 0, q5, 'mdh', dh4, [])\n",
    "dh6 = DHDef(6, 'R', 0, -sympy.pi/2, 0, q6+sympy.pi/2, 'mdh', dh5, [])\n",
    "dh7 = DHDef(7, 'R', 0, -sympy.pi/2, 0, q7, 'mdh', dh6, [])\n",
    "\n",
    "dh8 = DHDef(8, 'R', 0, -sympy.pi/2, 0, q8+sympy.pi, 'mdh', dh1, [])\n",
    "dh9 = DHDef(9, 'R', 0.1, 0, 0, q9-sympy.pi/2, 'mdh', dh8, [])\n",
    "\n",
    "dh0.set_succ([dh1])\n",
    "dh1.set_succ([dh2, dh8])\n",
    "dh2.set_succ([dh3])\n",
    "dh3.set_succ([dh4])\n",
    "dh4.set_succ([dh5])\n",
    "dh5.set_succ([dh6])\n",
    "dh6.set_succ([dh7])\n",
    "dh8.set_succ([dh9])"
   ]
  },
  {
   "cell_type": "heading",
   "metadata": {},
   "level": 1,
   "source": [
    "Create kinematics chain"
   ]
  },
  {
   "cell_type": "code",
   "execution_count": 5,
   "metadata": {},
   "outputs": [
    {
     "name": "stdout",
     "output_type": "stream",
     "text": [
      "('pos_c: ', Matrix([\n[r1x*sin(q1) - r1y*cos(q1)],\n[           -r1z + 0.21537],\n[r1x*cos(q1) + r1y*sin(q1)]]))\n('v_cb: ', Matrix([\n[ dq1*r1x*cos(q1) + dq1*r1y*sin(q1)],\n[                                 0],\n[-dq1*r1x*sin(q1) + dq1*r1y*cos(q1)]]))\ndR_t\nsubs dq\nsubs q\nw_b\nMatrix([[0], [0], [-dq1*sin(q1)**2 - dq1*cos(q1)**2]])\nnode: 1, T: Matrix([[sin(q1), -cos(q1), 0, 0], [0, 0, -1, 0.215370000000000], [cos(q1), sin(q1), 0, 0], [0, 0, 0, 1]])\n('pos_c: ', Matrix([\n[r2x*sin(q1 - q2) + r2y*cos(q1 - q2)],\n[                      r2z + 0.21537],\n[r2x*cos(q1 - q2) - r2y*sin(q1 - q2)]]))\n"
     ]
    },
    {
     "name": "stdout",
     "output_type": "stream",
     "text": [
      "('v_cb: ', Matrix([\n[ r2x*(dq1 - dq2)*cos(q1 - q2) - r2y*(dq1 - dq2)*sin(q1 - q2)],\n[                                                           0],\n[-r2x*(dq1 - dq2)*sin(q1 - q2) - r2y*(dq1 - dq2)*cos(q1 - q2)]]))\ndR_t\nsubs dq\nsubs q\nw_b\nMatrix([[0], [0], [(dq1 - dq2)*sin(q1 - q2)**2 + (dq1 - dq2)*cos(q1 - q2)**2]])\nnode: 2, T: Matrix([[sin(q1 - q2), cos(q1 - q2), 0, 0], [0, 0, 1, 0.215370000000000], [cos(q1 - q2), -sin(q1 - q2), 0, 0], [0, 0, 0, 1]])\n"
     ]
    },
    {
     "name": "stdout",
     "output_type": "stream",
     "text": [
      "('pos_c: ', Matrix([\n[r3x*sin(q1 - q2)*cos(q2 - q8) - r3y*sin(q1 - q2)*sin(q2 - q8) - r3z*cos(q1 - q2) + 0.279*sin(q1 - q2)],\n[                                                        r3x*sin(q2 - q8) + r3y*cos(q2 - q8) + 0.21537],\n[r3x*cos(q1 - q2)*cos(q2 - q8) - r3y*sin(q2 - q8)*cos(q1 - q2) + r3z*sin(q1 - q2) + 0.279*cos(q1 - q2)]]))\n('v_cb: ', Matrix([\n[ r3x*(dq1 - dq2)*cos(q1 - q2)*cos(q2 - q8) - r3x*(dq2 - dq8)*sin(q1 - q2)*sin(q2 - q8) - r3y*(dq1 - dq2)*sin(q2 - q8)*cos(q1 - q2) - r3y*(dq2 - dq8)*sin(q1 - q2)*cos(q2 - q8) + r3z*(dq1 - dq2)*sin(q1 - q2) + 0.279*(dq1 - dq2)*cos(q1 - q2)],\n[                                                                                                                                                                                   r3x*(dq2 - dq8)*cos(q2 - q8) - r3y*(dq2 - dq8)*sin(q2 - q8)],\n[-r3x*(dq1 - dq2)*sin(q1 - q2)*cos(q2 - q8) - r3x*(dq2 - dq8)*sin(q2 - q8)*cos(q1 - q2) + r3y*(dq1 - dq2)*sin(q1 - q2)*sin(q2 - q8) - r3y*(dq2 - dq8)*cos(q1 - q2)*cos(q2 - q8) + r3z*(dq1 - dq2)*cos(q1 - q2) - 0.279*(dq1 - dq2)*sin(q1 - q2)]]))\ndR_t\nsubs dq\nsubs q\nw_b\nMatrix([[((dq1 - dq2)*sin(q1 - q2)*sin(q2 - q8) - (dq2 - dq8)*cos(q1 - q2)*cos(q2 - q8))*sin(q1 - q2) - (-(dq1 - dq2)*sin(q2 - q8)*cos(q1 - q2) - (dq2 - dq8)*sin(q1 - q2)*cos(q2 - q8))*cos(q1 - q2)], [(dq1 - dq2)*sin(q1 - q2)**2*cos(q2 - q8) + (dq1 - dq2)*cos(q1 - q2)**2*cos(q2 - q8)], [(dq2 - dq8)*cos(q2 - q8)**2 - (-(dq1 - dq2)*sin(q1 - q2)*cos(q2 - q8) - (dq2 - dq8)*sin(q2 - q8)*cos(q1 - q2))*sin(q2 - q8)*cos(q1 - q2) - ((dq1 - dq2)*cos(q1 - q2)*cos(q2 - q8) - (dq2 - dq8)*sin(q1 - q2)*sin(q2 - q8))*sin(q1 - q2)*sin(q2 - q8)]])\nnode: 3, T: Matrix([[sin(q1 - q2)*cos(q2 - q8), -sin(q1 - q2)*sin(q2 - q8), -cos(q1 - q2), 0.279*sin(q1 - q2)], [sin(q2 - q8), cos(q2 - q8), 0, 0.215370000000000], [cos(q1 - q2)*cos(q2 - q8), -sin(q2 - q8)*cos(q1 - q2), sin(q1 - q2), 0.279*cos(q1 - q2)], [0, 0, 0, 1]])\n"
     ]
    },
    {
     "name": "stdout",
     "output_type": "stream",
     "text": [
      "('pos_c: ', Matrix([\n[r4x*sin(q1 - q2)*sin(q2 + q4 - q8) - r4y*sin(q1 - q2)*cos(q2 + q4 - q8) + r4z*cos(q1 - q2) + 0.365*sin(q1 - q2)*cos(q2 - q8) + 0.279*sin(q1 - q2) + 0.151*cos(q1 - q2)],\n[                                                                                         -r4x*cos(q2 + q4 - q8) - r4y*sin(q2 + q4 - q8) + 0.365*sin(q2 - q8) + 0.21537],\n[r4x*sin(q2 + q4 - q8)*cos(q1 - q2) - r4y*cos(q1 - q2)*cos(q2 + q4 - q8) - r4z*sin(q1 - q2) - 0.151*sin(q1 - q2) + 0.365*cos(q1 - q2)*cos(q2 - q8) + 0.279*cos(q1 - q2)]]))\n('v_cb: ', Matrix([\n[ r4x*(dq1 - dq2)*sin(q2 + q4 - q8)*cos(q1 - q2) + r4x*(dq2 + dq4 - dq8)*sin(q1 - q2)*cos(q2 + q4 - q8) - r4y*(dq1 - dq2)*cos(q1 - q2)*cos(q2 + q4 - q8) + r4y*(dq2 + dq4 - dq8)*sin(q1 - q2)*sin(q2 + q4 - q8) - r4z*(dq1 - dq2)*sin(q1 - q2) - 0.151*(dq1 - dq2)*sin(q1 - q2) + 0.365*(dq1 - dq2)*cos(q1 - q2)*cos(q2 - q8) + 0.279*(dq1 - dq2)*cos(q1 - q2) - 0.365*(dq2 - dq8)*sin(q1 - q2)*sin(q2 - q8)],\n[                                                                                                                                                                                                                                                                                         r4x*(dq2 + dq4 - dq8)*sin(q2 + q4 - q8) - r4y*(dq2 + dq4 - dq8)*cos(q2 + q4 - q8) + 0.365*(dq2 - dq8)*cos(q2 - q8)],\n[-r4x*(dq1 - dq2)*sin(q1 - q2)*sin(q2 + q4 - q8) + r4x*(dq2 + dq4 - dq8)*cos(q1 - q2)*cos(q2 + q4 - q8) + r4y*(dq1 - dq2)*sin(q1 - q2)*cos(q2 + q4 - q8) + r4y*(dq2 + dq4 - dq8)*sin(q2 + q4 - q8)*cos(q1 - q2) - r4z*(dq1 - dq2)*cos(q1 - q2) - 0.365*(dq1 - dq2)*sin(q1 - q2)*cos(q2 - q8) - 0.279*(dq1 - dq2)*sin(q1 - q2) - 0.151*(dq1 - dq2)*cos(q1 - q2) - 0.365*(dq2 - dq8)*sin(q2 - q8)*cos(q1 - q2)]]))\ndR_t\nsubs dq\nsubs q\nw_b\nMatrix([[-((dq1 - dq2)*sin(q1 - q2)*cos(q2 + q4 - q8) + (dq2 + dq4 - dq8)*sin(q2 + q4 - q8)*cos(q1 - q2))*sin(q1 - q2) + (-(dq1 - dq2)*cos(q1 - q2)*cos(q2 + q4 - q8) + (dq2 + dq4 - dq8)*sin(q1 - q2)*sin(q2 + q4 - q8))*cos(q1 - q2)], [-(dq1 - dq2)*sin(q1 - q2)**2*sin(q2 + q4 - q8) - (dq1 - dq2)*sin(q2 + q4 - q8)*cos(q1 - q2)**2], [-(-(dq1 - dq2)*sin(q1 - q2)*sin(q2 + q4 - q8) + (dq2 + dq4 - dq8)*cos(q1 - q2)*cos(q2 + q4 - q8))*cos(q1 - q2)*cos(q2 + q4 - q8) - ((dq1 - dq2)*sin(q2 + q4 - q8)*cos(q1 - q2) + (dq2 + dq4 - dq8)*sin(q1 - q2)*cos(q2 + q4 - q8))*sin(q1 - q2)*cos(q2 + q4 - q8) - (dq2 + dq4 - dq8)*sin(q2 + q4 - q8)**2]])\nnode: 4, T: Matrix([[sin(q1 - q2)*sin(q2 + q4 - q8), -sin(q1 - q2)*cos(q2 + q4 - q8), cos(q1 - q2), 0.365*sin(q1 - q2)*cos(q2 - q8) + 0.279*sin(q1 - q2) + 0.151*cos(q1 - q2)], [-cos(q2 + q4 - q8), -sin(q2 + q4 - q8), 0, 0.365*sin(q2 - q8) + 0.21537], [sin(q2 + q4 - q8)*cos(q1 - q2), -cos(q1 - q2)*cos(q2 + q4 - q8), -sin(q1 - q2), -0.151*sin(q1 - q2) + 0.365*cos(q1 - q2)*cos(q2 - q8) + 0.279*cos(q1 - q2)], [0, 0, 0, 1]])\n"
     ]
    },
    {
     "name": "stdout",
     "output_type": "stream",
     "text": [
      "('pos_c: ', Matrix([\n[-r5x*sin(q1 - q2)*cos(q2 + q4 + q5 - q8) - r5y*sin(q1 - q2)*sin(q2 + q4 + q5 - q8) + r5z*cos(q1 - q2) + 0.365*sin(q1 - q2)*cos(q2 - q8) + 0.279*sin(q1 - q2) + 0.151*cos(q1 - q2)],\n[                                                                                          -r5x*sin(q2 + q4 + q5 - q8) + r5y*cos(q2 + q4 + q5 - q8) + 0.365*sin(q2 - q8) + 0.21537],\n[-r5x*cos(q1 - q2)*cos(q2 + q4 + q5 - q8) - r5y*sin(q2 + q4 + q5 - q8)*cos(q1 - q2) - r5z*sin(q1 - q2) - 0.151*sin(q1 - q2) + 0.365*cos(q1 - q2)*cos(q2 - q8) + 0.279*cos(q1 - q2)]]))\n"
     ]
    },
    {
     "name": "stdout",
     "output_type": "stream",
     "text": [
      "('v_cb: ', Matrix([\n[-r5x*(dq1 - dq2)*cos(q1 - q2)*cos(q2 + q4 + q5 - q8) + r5x*(dq2 + dq4 + dq5 - dq8)*sin(q1 - q2)*sin(q2 + q4 + q5 - q8) - r5y*(dq1 - dq2)*sin(q2 + q4 + q5 - q8)*cos(q1 - q2) - r5y*(dq2 + dq4 + dq5 - dq8)*sin(q1 - q2)*cos(q2 + q4 + q5 - q8) - r5z*(dq1 - dq2)*sin(q1 - q2) - 0.151*(dq1 - dq2)*sin(q1 - q2) + 0.365*(dq1 - dq2)*cos(q1 - q2)*cos(q2 - q8) + 0.279*(dq1 - dq2)*cos(q1 - q2) - 0.365*(dq2 - dq8)*sin(q1 - q2)*sin(q2 - q8)],\n[                                                                                                                                                                                                                                                                                                  -r5x*(dq2 + dq4 + dq5 - dq8)*cos(q2 + q4 + q5 - q8) - r5y*(dq2 + dq4 + dq5 - dq8)*sin(q2 + q4 + q5 - q8) + 0.365*(dq2 - dq8)*cos(q2 - q8)],\n[ r5x*(dq1 - dq2)*sin(q1 - q2)*cos(q2 + q4 + q5 - q8) + r5x*(dq2 + dq4 + dq5 - dq8)*sin(q2 + q4 + q5 - q8)*cos(q1 - q2) + r5y*(dq1 - dq2)*sin(q1 - q2)*sin(q2 + q4 + q5 - q8) - r5y*(dq2 + dq4 + dq5 - dq8)*cos(q1 - q2)*cos(q2 + q4 + q5 - q8) - r5z*(dq1 - dq2)*cos(q1 - q2) - 0.365*(dq1 - dq2)*sin(q1 - q2)*cos(q2 - q8) - 0.279*(dq1 - dq2)*sin(q1 - q2) - 0.151*(dq1 - dq2)*cos(q1 - q2) - 0.365*(dq2 - dq8)*sin(q2 - q8)*cos(q1 - q2)]]))\ndR_t\nsubs dq\nsubs q\nw_b\nMatrix([[-((dq1 - dq2)*sin(q1 - q2)*sin(q2 + q4 + q5 - q8) - (dq2 + dq4 + dq5 - dq8)*cos(q1 - q2)*cos(q2 + q4 + q5 - q8))*sin(q1 - q2) + (-(dq1 - dq2)*sin(q2 + q4 + q5 - q8)*cos(q1 - q2) - (dq2 + dq4 + dq5 - dq8)*sin(q1 - q2)*cos(q2 + q4 + q5 - q8))*cos(q1 - q2)], [(dq1 - dq2)*sin(q1 - q2)**2*cos(q2 + q4 + q5 - q8) + (dq1 - dq2)*cos(q1 - q2)**2*cos(q2 + q4 + q5 - q8)], [-((dq1 - dq2)*sin(q1 - q2)*cos(q2 + q4 + q5 - q8) + (dq2 + dq4 + dq5 - dq8)*sin(q2 + q4 + q5 - q8)*cos(q1 - q2))*sin(q2 + q4 + q5 - q8)*cos(q1 - q2) - (-(dq1 - dq2)*cos(q1 - q2)*cos(q2 + q4 + q5 - q8) + (dq2 + dq4 + dq5 - dq8)*sin(q1 - q2)*sin(q2 + q4 + q5 - q8))*sin(q1 - q2)*sin(q2 + q4 + q5 - q8) - (dq2 + dq4 + dq5 - dq8)*cos(q2 + q4 + q5 - q8)**2]])\nnode: 5, T: Matrix([[-sin(q1 - q2)*cos(q2 + q4 + q5 - q8), -sin(q1 - q2)*sin(q2 + q4 + q5 - q8), cos(q1 - q2), 0.365*sin(q1 - q2)*cos(q2 - q8) + 0.279*sin(q1 - q2) + 0.151*cos(q1 - q2)], [-sin(q2 + q4 + q5 - q8), cos(q2 + q4 + q5 - q8), 0, 0.365*sin(q2 - q8) + 0.21537], [-cos(q1 - q2)*cos(q2 + q4 + q5 - q8), -sin(q2 + q4 + q5 - q8)*cos(q1 - q2), -sin(q1 - q2), -0.151*sin(q1 - q2) + 0.365*cos(q1 - q2)*cos(q2 - q8) + 0.279*cos(q1 - q2)], [0, 0, 0, 1]])\n"
     ]
    },
    {
     "name": "stdout",
     "output_type": "stream",
     "text": [
      "('pos_c: ', Matrix([\n[-r6x*sin(q1 - q2)*cos(q2 + q4 + q5 - q6 - q8) + r6y*sin(q1 - q2)*sin(q2 + q4 + q5 - q6 - q8) - r6z*cos(q1 - q2) + 0.365*sin(q1 - q2)*cos(q2 - q8) + 0.279*sin(q1 - q2) + 0.151*cos(q1 - q2)],\n[                                                                                          -r6x*sin(q2 + q4 + q5 - q6 - q8) - r6y*cos(q2 + q4 + q5 - q6 - q8) + 0.365*sin(q2 - q8) + 0.21537],\n[-r6x*cos(q1 - q2)*cos(q2 + q4 + q5 - q6 - q8) + r6y*sin(q2 + q4 + q5 - q6 - q8)*cos(q1 - q2) + r6z*sin(q1 - q2) - 0.151*sin(q1 - q2) + 0.365*cos(q1 - q2)*cos(q2 - q8) + 0.279*cos(q1 - q2)]]))\n('v_cb: ', Matrix([\n[-r6x*(dq1 - dq2)*cos(q1 - q2)*cos(q2 + q4 + q5 - q6 - q8) + r6x*(dq2 + dq4 + dq5 - dq6 - dq8)*sin(q1 - q2)*sin(q2 + q4 + q5 - q6 - q8) + r6y*(dq1 - dq2)*sin(q2 + q4 + q5 - q6 - q8)*cos(q1 - q2) + r6y*(dq2 + dq4 + dq5 - dq6 - dq8)*sin(q1 - q2)*cos(q2 + q4 + q5 - q6 - q8) + r6z*(dq1 - dq2)*sin(q1 - q2) - 0.151*(dq1 - dq2)*sin(q1 - q2) + 0.365*(dq1 - dq2)*cos(q1 - q2)*cos(q2 - q8) + 0.279*(dq1 - dq2)*cos(q1 - q2) - 0.365*(dq2 - dq8)*sin(q1 - q2)*sin(q2 - q8)],\n[                                                                                                                                                                                                                                                                                                            -r6x*(dq2 + dq4 + dq5 - dq6 - dq8)*cos(q2 + q4 + q5 - q6 - q8) + r6y*(dq2 + dq4 + dq5 - dq6 - dq8)*sin(q2 + q4 + q5 - q6 - q8) + 0.365*(dq2 - dq8)*cos(q2 - q8)],\n[ r6x*(dq1 - dq2)*sin(q1 - q2)*cos(q2 + q4 + q5 - q6 - q8) + r6x*(dq2 + dq4 + dq5 - dq6 - dq8)*sin(q2 + q4 + q5 - q6 - q8)*cos(q1 - q2) - r6y*(dq1 - dq2)*sin(q1 - q2)*sin(q2 + q4 + q5 - q6 - q8) + r6y*(dq2 + dq4 + dq5 - dq6 - dq8)*cos(q1 - q2)*cos(q2 + q4 + q5 - q6 - q8) + r6z*(dq1 - dq2)*cos(q1 - q2) - 0.365*(dq1 - dq2)*sin(q1 - q2)*cos(q2 - q8) - 0.279*(dq1 - dq2)*sin(q1 - q2) - 0.151*(dq1 - dq2)*cos(q1 - q2) - 0.365*(dq2 - dq8)*sin(q2 - q8)*cos(q1 - q2)]]))\ndR_t\nsubs dq\nsubs q\nw_b\nMatrix([[(-(dq1 - dq2)*sin(q1 - q2)*sin(q2 + q4 + q5 - q6 - q8) + (dq2 + dq4 + dq5 - dq6 - dq8)*cos(q1 - q2)*cos(q2 + q4 + q5 - q6 - q8))*sin(q1 - q2) - ((dq1 - dq2)*sin(q2 + q4 + q5 - q6 - q8)*cos(q1 - q2) + (dq2 + dq4 + dq5 - dq6 - dq8)*sin(q1 - q2)*cos(q2 + q4 + q5 - q6 - q8))*cos(q1 - q2)], [-(dq1 - dq2)*sin(q1 - q2)**2*cos(q2 + q4 + q5 - q6 - q8) - (dq1 - dq2)*cos(q1 - q2)**2*cos(q2 + q4 + q5 - q6 - q8)], [((dq1 - dq2)*sin(q1 - q2)*cos(q2 + q4 + q5 - q6 - q8) + (dq2 + dq4 + dq5 - dq6 - dq8)*sin(q2 + q4 + q5 - q6 - q8)*cos(q1 - q2))*sin(q2 + q4 + q5 - q6 - q8)*cos(q1 - q2) + (-(dq1 - dq2)*cos(q1 - q2)*cos(q2 + q4 + q5 - q6 - q8) + (dq2 + dq4 + dq5 - dq6 - dq8)*sin(q1 - q2)*sin(q2 + q4 + q5 - q6 - q8))*sin(q1 - q2)*sin(q2 + q4 + q5 - q6 - q8) + (dq2 + dq4 + dq5 - dq6 - dq8)*cos(q2 + q4 + q5 - q6 - q8)**2]])\nnode: 6, T: Matrix([[-sin(q1 - q2)*cos(q2 + q4 + q5 - q6 - q8), sin(q1 - q2)*sin(q2 + q4 + q5 - q6 - q8), -cos(q1 - q2), 0.365*sin(q1 - q2)*cos(q2 - q8) + 0.279*sin(q1 - q2) + 0.151*cos(q1 - q2)], [-sin(q2 + q4 + q5 - q6 - q8), -cos(q2 + q4 + q5 - q6 - q8), 0, 0.365*sin(q2 - q8) + 0.21537], [-cos(q1 - q2)*cos(q2 + q4 + q5 - q6 - q8), sin(q2 + q4 + q5 - q6 - q8)*cos(q1 - q2), sin(q1 - q2), -0.151*sin(q1 - q2) + 0.365*cos(q1 - q2)*cos(q2 - q8) + 0.279*cos(q1 - q2)], [0, 0, 0, 1]])\n"
     ]
    },
    {
     "name": "stdout",
     "output_type": "stream",
     "text": [
      "('pos_c: ', Matrix([\n[-r7x*sin(q1 - q2)*sin(q2 + q4 + q5 - q6 + q7 - q8) + r7y*sin(q1 - q2)*cos(q2 + q4 + q5 - q6 + q7 - q8) + r7z*cos(q1 - q2) + 0.365*sin(q1 - q2)*cos(q2 - q8) + 0.279*sin(q1 - q2) + 0.151*cos(q1 - q2)],\n[                                                                                           r7x*cos(q2 + q4 + q5 - q6 + q7 - q8) + r7y*sin(q2 + q4 + q5 - q6 + q7 - q8) + 0.365*sin(q2 - q8) + 0.21537],\n[-r7x*sin(q2 + q4 + q5 - q6 + q7 - q8)*cos(q1 - q2) + r7y*cos(q1 - q2)*cos(q2 + q4 + q5 - q6 + q7 - q8) - r7z*sin(q1 - q2) - 0.151*sin(q1 - q2) + 0.365*cos(q1 - q2)*cos(q2 - q8) + 0.279*cos(q1 - q2)]]))\n"
     ]
    },
    {
     "name": "stdout",
     "output_type": "stream",
     "text": [
      "('v_cb: ', Matrix([\n[-r7x*(dq1 - dq2)*sin(q2 + q4 + q5 - q6 + q7 - q8)*cos(q1 - q2) - r7x*(dq2 + dq4 + dq5 - dq6 + dq7 - dq8)*sin(q1 - q2)*cos(q2 + q4 + q5 - q6 + q7 - q8) + r7y*(dq1 - dq2)*cos(q1 - q2)*cos(q2 + q4 + q5 - q6 + q7 - q8) - r7y*(dq2 + dq4 + dq5 - dq6 + dq7 - dq8)*sin(q1 - q2)*sin(q2 + q4 + q5 - q6 + q7 - q8) - r7z*(dq1 - dq2)*sin(q1 - q2) - 0.151*(dq1 - dq2)*sin(q1 - q2) + 0.365*(dq1 - dq2)*cos(q1 - q2)*cos(q2 - q8) + 0.279*(dq1 - dq2)*cos(q1 - q2) - 0.365*(dq2 - dq8)*sin(q1 - q2)*sin(q2 - q8)],\n[                                                                                                                                                                                                                                                                                                                      -r7x*(dq2 + dq4 + dq5 - dq6 + dq7 - dq8)*sin(q2 + q4 + q5 - q6 + q7 - q8) + r7y*(dq2 + dq4 + dq5 - dq6 + dq7 - dq8)*cos(q2 + q4 + q5 - q6 + q7 - q8) + 0.365*(dq2 - dq8)*cos(q2 - q8)],\n[ r7x*(dq1 - dq2)*sin(q1 - q2)*sin(q2 + q4 + q5 - q6 + q7 - q8) - r7x*(dq2 + dq4 + dq5 - dq6 + dq7 - dq8)*cos(q1 - q2)*cos(q2 + q4 + q5 - q6 + q7 - q8) - r7y*(dq1 - dq2)*sin(q1 - q2)*cos(q2 + q4 + q5 - q6 + q7 - q8) - r7y*(dq2 + dq4 + dq5 - dq6 + dq7 - dq8)*sin(q2 + q4 + q5 - q6 + q7 - q8)*cos(q1 - q2) - r7z*(dq1 - dq2)*cos(q1 - q2) - 0.365*(dq1 - dq2)*sin(q1 - q2)*cos(q2 - q8) - 0.279*(dq1 - dq2)*sin(q1 - q2) - 0.151*(dq1 - dq2)*cos(q1 - q2) - 0.365*(dq2 - dq8)*sin(q2 - q8)*cos(q1 - q2)]]))\ndR_t\nsubs dq\nsubs q\nw_b\nMatrix([[-(-(dq1 - dq2)*sin(q1 - q2)*cos(q2 + q4 + q5 - q6 + q7 - q8) - (dq2 + dq4 + dq5 - dq6 + dq7 - dq8)*sin(q2 + q4 + q5 - q6 + q7 - q8)*cos(q1 - q2))*sin(q1 - q2) + ((dq1 - dq2)*cos(q1 - q2)*cos(q2 + q4 + q5 - q6 + q7 - q8) - (dq2 + dq4 + dq5 - dq6 + dq7 - dq8)*sin(q1 - q2)*sin(q2 + q4 + q5 - q6 + q7 - q8))*cos(q1 - q2)], [(dq1 - dq2)*sin(q1 - q2)**2*sin(q2 + q4 + q5 - q6 + q7 - q8) + (dq1 - dq2)*sin(q2 + q4 + q5 - q6 + q7 - q8)*cos(q1 - q2)**2], [((dq1 - dq2)*sin(q1 - q2)*sin(q2 + q4 + q5 - q6 + q7 - q8) - (dq2 + dq4 + dq5 - dq6 + dq7 - dq8)*cos(q1 - q2)*cos(q2 + q4 + q5 - q6 + q7 - q8))*cos(q1 - q2)*cos(q2 + q4 + q5 - q6 + q7 - q8) + (-(dq1 - dq2)*sin(q2 + q4 + q5 - q6 + q7 - q8)*cos(q1 - q2) - (dq2 + dq4 + dq5 - dq6 + dq7 - dq8)*sin(q1 - q2)*cos(q2 + q4 + q5 - q6 + q7 - q8))*sin(q1 - q2)*cos(q2 + q4 + q5 - q6 + q7 - q8) - (dq2 + dq4 + dq5 - dq6 + dq7 - dq8)*sin(q2 + q4 + q5 - q6 + q7 - q8)**2]])\nnode: 7, T: Matrix([[-sin(q1 - q2)*sin(q2 + q4 + q5 - q6 + q7 - q8), sin(q1 - q2)*cos(q2 + q4 + q5 - q6 + q7 - q8), cos(q1 - q2), 0.365*sin(q1 - q2)*cos(q2 - q8) + 0.279*sin(q1 - q2) + 0.151*cos(q1 - q2)], [cos(q2 + q4 + q5 - q6 + q7 - q8), sin(q2 + q4 + q5 - q6 + q7 - q8), 0, 0.365*sin(q2 - q8) + 0.21537], [-sin(q2 + q4 + q5 - q6 + q7 - q8)*cos(q1 - q2), cos(q1 - q2)*cos(q2 + q4 + q5 - q6 + q7 - q8), -sin(q1 - q2), -0.151*sin(q1 - q2) + 0.365*cos(q1 - q2)*cos(q2 - q8) + 0.279*cos(q1 - q2)], [0, 0, 0, 1]])\n"
     ]
    },
    {
     "name": "stdout",
     "output_type": "stream",
     "text": [
      "('pos_c: ', Matrix([\n[-r8x*cos(q1 - q8) + r8y*sin(q1 - q8)],\n[                       r8z + 0.21537],\n[ r8x*sin(q1 - q8) + r8y*cos(q1 - q8)]]))\n('v_cb: ', Matrix([\n[r8x*(dq1 - dq8)*sin(q1 - q8) + r8y*(dq1 - dq8)*cos(q1 - q8)],\n[                                                          0],\n[r8x*(dq1 - dq8)*cos(q1 - q8) - r8y*(dq1 - dq8)*sin(q1 - q8)]]))\ndR_t\nsubs dq\nsubs q\nw_b\nMatrix([[0], [0], [(dq1 - dq8)*sin(q1 - q8)**2 + (dq1 - dq8)*cos(q1 - q8)**2]])\nnode: 8, T: Matrix([[-cos(q1 - q8), sin(q1 - q8), 0, 0], [0, 0, 1, 0.215370000000000], [sin(q1 - q8), cos(q1 - q8), 0, 0], [0, 0, 0, 1]])\n"
     ]
    },
    {
     "name": "stdout",
     "output_type": "stream",
     "text": [
      "('pos_c: ', Matrix([\n[ r9x*cos(q1 - q8)*cos(q2 - q8) + r9y*sin(q2 - q8)*cos(q1 - q8) - r9z*sin(q1 - q8) - 0.1*cos(q1 - q8)],\n[                                                       r9x*sin(q2 - q8) - r9y*cos(q2 - q8) + 0.21537],\n[-r9x*sin(q1 - q8)*cos(q2 - q8) - r9y*sin(q1 - q8)*sin(q2 - q8) - r9z*cos(q1 - q8) + 0.1*sin(q1 - q8)]]))\n('v_cb: ', Matrix([\n[-r9x*(dq1 - dq8)*sin(q1 - q8)*cos(q2 - q8) - r9x*(dq2 - dq8)*sin(q2 - q8)*cos(q1 - q8) - r9y*(dq1 - dq8)*sin(q1 - q8)*sin(q2 - q8) + r9y*(dq2 - dq8)*cos(q1 - q8)*cos(q2 - q8) - r9z*(dq1 - dq8)*cos(q1 - q8) + 0.1*(dq1 - dq8)*sin(q1 - q8)],\n[                                                                                                                                                                                 r9x*(dq2 - dq8)*cos(q2 - q8) + r9y*(dq2 - dq8)*sin(q2 - q8)],\n[-r9x*(dq1 - dq8)*cos(q1 - q8)*cos(q2 - q8) + r9x*(dq2 - dq8)*sin(q1 - q8)*sin(q2 - q8) - r9y*(dq1 - dq8)*sin(q2 - q8)*cos(q1 - q8) - r9y*(dq2 - dq8)*sin(q1 - q8)*cos(q2 - q8) + r9z*(dq1 - dq8)*sin(q1 - q8) + 0.1*(dq1 - dq8)*cos(q1 - q8)]]))\ndR_t\nsubs dq\nsubs q\nw_b\nMatrix([[-(-(dq1 - dq8)*sin(q1 - q8)*sin(q2 - q8) + (dq2 - dq8)*cos(q1 - q8)*cos(q2 - q8))*sin(q1 - q8) - (-(dq1 - dq8)*sin(q2 - q8)*cos(q1 - q8) - (dq2 - dq8)*sin(q1 - q8)*cos(q2 - q8))*cos(q1 - q8)], [-(dq1 - dq8)*sin(q1 - q8)**2*cos(q2 - q8) - (dq1 - dq8)*cos(q1 - q8)**2*cos(q2 - q8)], [-(dq2 - dq8)*cos(q2 - q8)**2 + (-(dq1 - dq8)*sin(q1 - q8)*cos(q2 - q8) - (dq2 - dq8)*sin(q2 - q8)*cos(q1 - q8))*sin(q2 - q8)*cos(q1 - q8) - (-(dq1 - dq8)*cos(q1 - q8)*cos(q2 - q8) + (dq2 - dq8)*sin(q1 - q8)*sin(q2 - q8))*sin(q1 - q8)*sin(q2 - q8)]])\nnode: 9, T: Matrix([[cos(q1 - q8)*cos(q2 - q8), sin(q2 - q8)*cos(q1 - q8), -sin(q1 - q8), -0.1*cos(q1 - q8)], [sin(q2 - q8), -cos(q2 - q8), 0, 0.215370000000000], [-sin(q1 - q8)*cos(q2 - q8), -sin(q1 - q8)*sin(q2 - q8), -cos(q1 - q8), 0.1*sin(q1 - q8)], [0, 0, 0, 1]])\n"
     ]
    }
   ],
   "source": [
    "kin = Kinematics(dh0)\n",
    "kin.cal_transfmats()"
   ]
  },
  {
   "cell_type": "code",
   "execution_count": 6,
   "metadata": {},
   "outputs": [
    {
     "data": {
      "text/plain": [
       "Matrix([\n[           sin(theta),           -cos(theta),           0,             a],\n[sin(alpha)*cos(theta), sin(alpha)*sin(theta), -cos(alpha), -d*cos(alpha)],\n[cos(alpha)*cos(theta), sin(theta)*cos(alpha),  sin(alpha),  d*sin(alpha)],\n[                    0,                     0,           0,             1]])"
      ]
     },
     "execution_count": 6,
     "metadata": {},
     "output_type": "execute_result"
    }
   ],
   "source": [
    "dh0._dh_transfmat"
   ]
  },
  {
   "cell_type": "code",
   "execution_count": 7,
   "metadata": {},
   "outputs": [
    {
     "data": {
      "text/plain": [
       "Matrix([\n[sin(q1), -cos(q1),  0,       0],\n[      0,        0, -1, 0.21537],\n[cos(q1),  sin(q1),  0,       0],\n[      0,        0,  0,       1]])"
      ]
     },
     "execution_count": 7,
     "metadata": {},
     "output_type": "execute_result"
    }
   ],
   "source": [
    "dh1.dh_T"
   ]
  },
  {
   "cell_type": "code",
   "execution_count": 12,
   "metadata": {},
   "outputs": [
    {
     "data": {
      "text/plain": [
       "Matrix([\n[   0],\n[   0],\n[-dq1]])"
      ]
     },
     "execution_count": 12,
     "metadata": {},
     "output_type": "execute_result"
    }
   ],
   "source": [
    "sympy.trigsimp(dh1.w_b)"
   ]
  },
  {
   "cell_type": "code",
   "execution_count": null,
   "metadata": {
    "collapsed": true
   },
   "outputs": [
    {
     "ename": "AttributeError",
     "evalue": "FrameDrawer instance has no attribute 'show'",
     "traceback": [
      "\u001b[0;31m\u001b[0m",
      "\u001b[0;31mAttributeError\u001b[0mTraceback (most recent call last)",
      "\u001b[0;32m<ipython-input-22-f57408bebc89>\u001b[0m in \u001b[0;36m<module>\u001b[0;34m()\u001b[0m\n\u001b[1;32m      8\u001b[0m \u001b[0mframe_drawer\u001b[0m\u001b[0;34m.\u001b[0m\u001b[0mdrawSegment\u001b[0m\u001b[0;34m(\u001b[0m\u001b[0mT0\u001b[0m\u001b[0;34m,\u001b[0m \u001b[0mT1\u001b[0m\u001b[0;34m)\u001b[0m\u001b[0;34m\u001b[0m\u001b[0m\n\u001b[1;32m      9\u001b[0m \u001b[0mframe_drawer\u001b[0m\u001b[0;34m.\u001b[0m\u001b[0mdraw_frame\u001b[0m\u001b[0;34m(\u001b[0m\u001b[0mT1\u001b[0m\u001b[0;34m)\u001b[0m\u001b[0;34m\u001b[0m\u001b[0m\n\u001b[0;32m---> 10\u001b[0;31m \u001b[0mframe_drawer\u001b[0m\u001b[0;34m.\u001b[0m\u001b[0mshow\u001b[0m\u001b[0;34m(\u001b[0m\u001b[0;34m)\u001b[0m\u001b[0;34m\u001b[0m\u001b[0m\n\u001b[0m",
      "\u001b[0;31mAttributeError\u001b[0m: FrameDrawer instance has no attribute 'show'"
     ],
     "output_type": "error"
    },
    {
     "data": {
      "image/png": "[encoded data removed]",
      "text/plain": [
       "<Figure size 432x288 with 1 Axes>"
      ]
     },
     "metadata": {},
     "output_type": "display_data"
    }
   ],
   "source": [
    "import frame_drawer\n",
    "import numpy as np\n",
    "frame_drawer = frame_drawer.FrameDrawer()\n",
    "T0 = np.eye(4)\n",
    "T1 = np.copy(T0)\n",
    "T1[1,3] = 0.2\n",
    "T1[2,3] = 0.2\n",
    "frame_drawer.draw_frame(T0)\n",
    "frame_drawer.drawSegment(T0, T1)\n",
    "frame_drawer.draw_frame(T1)\n",
    "frame_drawer.show()"
   ]
  },
  {
   "cell_type": "code",
   "execution_count": null,
   "metadata": {},
   "outputs": [],
   "source": [
    ""
   ]
  }
 ],
 "metadata": {
  "kernelspec": {
   "display_name": "Python 2",
   "language": "python",
   "name": "python2"
  },
  "language_info": {
   "codemirror_mode": {
    "name": "ipython",
    "version": 2
   },
   "file_extension": ".py",
   "mimetype": "text/x-python",
   "name": "python",
   "nbconvert_exporter": "python",
   "pygments_lexer": "ipython2",
   "version": "2.7.6"
  }
 },
 "nbformat": 4,
 "nbformat_minor": 0
}
