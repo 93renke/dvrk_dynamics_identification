{
 "cells": [
  {
   "cell_type": "markdown",
   "metadata": {
    "collapsed": true
   },
   "source": [
    "Robot Dynamic Model Identification\n",
    "=======\n",
    "---"
   ]
  },
  {
   "cell_type": "markdown",
   "metadata": {},
   "source": [
    "# 1 - Praparing work"
   ]
  },
  {
   "cell_type": "markdown",
   "metadata": {},
   "source": [
    "## Import libraries"
   ]
  },
  {
   "cell_type": "code",
   "execution_count": 1,
   "metadata": {},
   "outputs": [],
   "source": [
    "# enable auto-reload modules\n",
    "%load_ext autoreload\n",
    "%autoreload 2\n",
    "%matplotlib inline\n",
    "\n",
    "from sympy import init_printing\n",
    "init_printing()\n",
    "    \n",
    "import matplotlib.pyplot as plt\n",
    "plt.rcParams['figure.figsize'] = [12, 8]\n",
    "\n",
    "import numpy as np\n",
    "import sympy\n",
    "import pickle\n",
    "import os.path\n",
    "from robot_def import RobotDef\n",
    "from kinematics import Geometry\n",
    "from dynamics import Dynamics\n",
    "from trajectory_optimization import TrajOptimizer\n",
    "from trajectory_optimization import TrajPlotter\n",
    "from utils import new_sym\n",
    "import time"
   ]
  },
  {
   "cell_type": "markdown",
   "metadata": {},
   "source": [
    "## Folder dir for saving and loading files"
   ]
  },
  {
   "cell_type": "code",
   "execution_count": 2,
   "metadata": {},
   "outputs": [],
   "source": [
    "model_folder = 'data/model/'\n",
    "trajectory_folder = 'data/trajectory/'\n",
    "optimal_trajectory_folder = 'data/optimal_trajectory/'"
   ]
  },
  {
   "cell_type": "markdown",
   "metadata": {},
   "source": [
    "---\n",
    "# 2 - Robot modelling"
   ]
  },
  {
   "cell_type": "markdown",
   "metadata": {},
   "source": [
    "## Create joint variables and define their relations"
   ]
  },
  {
   "cell_type": "code",
   "execution_count": 3,
   "metadata": {},
   "outputs": [],
   "source": [
    "q0, q1, q2, q3, q4, q5, q6, q7, q8, q9 = new_sym('q:10')\n",
    "# define paralelogram coordinate relation\n",
    "# q3 = -q2 + q4\n",
    "# q5 = -q4 + q2"
   ]
  },
  {
   "cell_type": "markdown",
   "metadata": {},
   "source": [
    "## Robot geometry definition in following order"
   ]
  },
  {
   "cell_type": "markdown",
   "metadata": {},
   "source": [
    "| Joint number | prev link | succ links | $a$ | $\\alpha$ | $d$ | $\\theta$ | link inertia | motor inertia | friction |\n",
    "|--------------|-----------|------------|-----|----------|-----|----------|--------------|---------------|---------|"
   ]
  },
  {
   "cell_type": "code",
   "execution_count": 4,
   "metadata": {},
   "outputs": [],
   "source": [
    "# robot_def = RobotDef([(0,   -1, [1],    0, 0, 0, 0),\n",
    "#                       (1,   0,  [2, 4], 0, 0, -0.21537, q1),\n",
    "#                       (2,   1,  [3],    0, -sympy.pi/2, 0, q2+sympy.pi/2),\n",
    "#                       (3,   2,  [],    0.279, 0, 0, q3+sympy.pi/2),\n",
    "#                       (4,   1,  [5],    0, -sympy.pi/2, 0, q4+sympy.pi),\n",
    "#                       (5,   4,  [],     0.1, 0, 0, q5-sympy.pi/2)],\n",
    "#                      dh_convention='mdh',\n",
    "#                      friction_type=['Coulomb', 'viscous', 'offset'])\n",
    "\n",
    "name = 'mtm'\n",
    "\n",
    "if (name == 'mtm'):\n",
    "    robot_def = RobotDef([(0,   -1, [1],    0,      0,              0,          0,                  False, False, False),\n",
    "                          (1,   0,  [2],    0,      0,              -0.21537,   q1,                 True,  False, True),\n",
    "                          (2,   1,  [3],    0,      -sympy.pi/2,    0,          q2+sympy.pi/2,      True,  False, True),\n",
    "                          (3,   2,  [4],    0.279,  0,              0,          q3 + sympy.pi / 2,  True,  True,  True)],\n",
    "                         dh_convention='mdh',\n",
    "                         friction_type=['Coulomb', 'viscous', 'offset'])\n",
    "\n",
    "elif (name == 'psm'):\n",
    "    robot_def = RobotDef([(0,   -1, [1],    0,      0,     0,          0,                     False, False, False),\n",
    "                      (1,   0,  [2],   0,  sympy.pi/2,   0.5,   q1+sympy.pi/2,       True,  False, True),\n",
    "                      (2,   1,  [3], 0.1, -sympy.pi/2,     0,   q2-sympy.pi/5,      True,  False, True),\n",
    "                      (3,   2,  [4], 0.5,           0,     0,   -q2+sympy.pi/5+sympy.pi/2,    True,  False, True),\n",
    "                      (4,   3,  [5],   1,           0,     0,    q2,                               True,  False, True),\n",
    "                      (5,   4,  [6], 0.2, -sympy.pi/2,0.5+q3,    sympy.pi/2,        True,  False, True)],\n",
    "                         dh_convention='mdh',\n",
    "                         friction_type=['Coulomb', 'viscous', 'offset'])\n",
    "    \n",
    "elif( name == 'psm_long'):\n",
    "    robot_def = RobotDef([(0,   -1, [1],    0,      0,     0,          0,                     False, False, False),\n",
    "                      (1,   0,  [2],   0,  sympy.pi/2,   0.5,   q1+sympy.pi/2,       True,  False, True),\n",
    "                      (2,   1,  [3], 0.1, -sympy.pi/2,     0,   q2-sympy.pi/5,      True,  False, True),\n",
    "                      (3,   2,  [4], 0.5,           0,     0,   -q2+sympy.pi/5+sympy.pi/2,    True,  False, True),\n",
    "                      (4,   3,  [5],   1,           0,     0,    q2,                               True,  False, True),\n",
    "                      (5,   4,  [6], 0.2, -sympy.pi/2,0.5+q3,    sympy.pi/2,        True,  False, True),\n",
    "                      (6,   5,  [7],   0,           0,   0.2,    -sympy.pi/2+q4,                True,  False, True),\n",
    "                      (7,   6,[8,9], 0.5, -sympy.pi/2,     0,   -sympy.pi/2+q5,    False,  True, True),\n",
    "                      (8,   7, [15], 0.3, -sympy.pi/2,     0,    -sympy.pi/2+q6-q7, False,  True, True),\n",
    "                      (9,   7, [15], 0.3, -sympy.pi/2,     0,    -sympy.pi/2+q6+q7, False,  True, True),\n",
    "                      (10,  2, [11],   0,           0,   0.5,    sympy.pi/5+sympy.pi/2,        False,  False, False),\n",
    "                      (11, 10, [15],-0.5, +sympy.pi/2, 0.13*q3,    0, True,  False, True)],\n",
    "                     dh_convention='mdh',\n",
    "                     friction_type=['Coulomb', 'viscous', 'offset'])\n"
   ]
  },
  {
   "cell_type": "code",
   "execution_count": 5,
   "metadata": {},
   "outputs": [
    {
     "data": {
      "image/png": "[encoded data removed]",
      "text/latex": [
       "$$\\left [ 0, \\quad 1, \\quad 2, \\quad Ia_{3}\\right ]$$"
      ],
      "text/plain": [
       "[0, 1, 2, Ia₃]"
      ]
     },
     "execution_count": 5,
     "metadata": {},
     "output_type": "execute_result"
    }
   ],
   "source": [
    "robot_def.Ia"
   ]
  },
  {
   "cell_type": "code",
   "execution_count": 6,
   "metadata": {},
   "outputs": [
    {
     "data": {
      "image/png": "[encoded data removed]",
      "text/latex": [
       "$$\\left [ I1xx, \\quad I1xy, \\quad I1xz, \\quad I1yy, \\quad I1yz, \\quad I1zz, \\quad r1x, \\quad r1y, \\quad r1z, \\quad m_{1}, \\quad Fc_{1}, \\quad Fv_{1}, \\quad Fo_{1}, \\quad I2xx, \\quad I2xy, \\quad I2xz, \\quad I2yy, \\quad I2yz, \\quad I2zz, \\quad r2x, \\quad r2y, \\quad r2z, \\quad m_{2}, \\quad Fc_{2}, \\quad Fv_{2}, \\quad Fo_{2}, \\quad I3xx, \\quad I3xy, \\quad I3xz, \\quad I3yy, \\quad I3yz, \\quad I3zz, \\quad r3x, \\quad r3y, \\quad r3z, \\quad m_{3}, \\quad Fc_{3}, \\quad Fv_{3}, \\quad Fo_{3}, \\quad Ia_{3}\\right ]$$"
      ],
      "text/plain": [
       "[I1xx, I1xy, I1xz, I1yy, I1yz, I1zz, r1x, r1y, r1z, m₁, Fc₁, Fv₁, Fo₁, I2xx, I\n",
       "2xy, I2xz, I2yy, I2yz, I2zz, r2x, r2y, r2z, m₂, Fc₂, Fv₂, Fo₂, I3xx, I3xy, I3x\n",
       "z, I3yy, I3yz, I3zz, r3x, r3y, r3z, m₃, Fc₃, Fv₃, Fo₃, Ia₃]"
      ]
     },
     "execution_count": 6,
     "metadata": {},
     "output_type": "execute_result"
    }
   ],
   "source": [
    "robot_def.std_params"
   ]
  },
  {
   "cell_type": "code",
   "execution_count": 7,
   "metadata": {},
   "outputs": [
    {
     "data": {
      "image/png": "[encoded data removed]",
      "text/latex": [
       "$$\\left [ L1xx, \\quad L1xy, \\quad L1xz, \\quad L1yy, \\quad L1yz, \\quad L1zz, \\quad l1x, \\quad l1y, \\quad l1z, \\quad m_{1}, \\quad Fc_{1}, \\quad Fv_{1}, \\quad Fo_{1}, \\quad L2xx, \\quad L2xy, \\quad L2xz, \\quad L2yy, \\quad L2yz, \\quad L2zz, \\quad l2x, \\quad l2y, \\quad l2z, \\quad m_{2}, \\quad Fc_{2}, \\quad Fv_{2}, \\quad Fo_{2}, \\quad L3xx, \\quad L3xy, \\quad L3xz, \\quad L3yy, \\quad L3yz, \\quad L3zz, \\quad l3x, \\quad l3y, \\quad l3z, \\quad m_{3}, \\quad Fc_{3}, \\quad Fv_{3}, \\quad Fo_{3}, \\quad Ia_{3}\\right ]$$"
      ],
      "text/plain": [
       "[L1xx, L1xy, L1xz, L1yy, L1yz, L1zz, l1x, l1y, l1z, m₁, Fc₁, Fv₁, Fo₁, L2xx, L\n",
       "2xy, L2xz, L2yy, L2yz, L2zz, l2x, l2y, l2z, m₂, Fc₂, Fv₂, Fo₂, L3xx, L3xy, L3x\n",
       "z, L3yy, L3yz, L3zz, l3x, l3y, l3z, m₃, Fc₃, Fv₃, Fo₃, Ia₃]"
      ]
     },
     "execution_count": 7,
     "metadata": {},
     "output_type": "execute_result"
    }
   ],
   "source": [
    "robot_def.bary_params"
   ]
  },
  {
   "cell_type": "markdown",
   "metadata": {},
   "source": [
    "## Create kinematics chain"
   ]
  },
  {
   "cell_type": "code",
   "execution_count": 8,
   "metadata": {},
   "outputs": [],
   "source": [
    "geom = Geometry(robot_def)"
   ]
  },
  {
   "cell_type": "code",
   "execution_count": 9,
   "metadata": {},
   "outputs": [
    {
     "data": {
      "image/png": "[encoded data removed]",
      "text/plain": [
       "<Figure size 432x288 with 1 Axes>"
      ]
     },
     "metadata": {},
     "output_type": "display_data"
    }
   ],
   "source": [
    "geom.draw_geom()"
   ]
  },
  {
   "cell_type": "code",
   "execution_count": 10,
   "metadata": {},
   "outputs": [
    {
     "data": {
      "text/latex": [
       "$$\\left[\\begin{matrix}\\cos{\\left (q_{1} \\right )} & - \\sin{\\left (q_{1} \\right )} & 0 & \\frac{l1x \\cos{\\left (q_{1} \\right )}}{m_{1}} - \\frac{l1y \\sin{\\left (q_{1} \\right )}}{m_{1}}\\\\\\sin{\\left (q_{1} \\right )} & \\cos{\\left (q_{1} \\right )} & 0 & \\frac{l1x \\sin{\\left (q_{1} \\right )}}{m_{1}} + \\frac{l1y \\cos{\\left (q_{1} \\right )}}{m_{1}}\\\\0 & 0 & 1 & \\frac{l1z}{m_{1}} - 0.21537\\\\0 & 0 & 0 & 1\\end{matrix}\\right]$$"
      ],
      "text/plain": [
       "⎡                      l1x⋅cos(q₁)   l1y⋅sin(q₁)⎤\n",
       "⎢cos(q₁)  -sin(q₁)  0  ─────────── - ───────────⎥\n",
       "⎢                           m₁            m₁    ⎥\n",
       "⎢                                               ⎥\n",
       "⎢                      l1x⋅sin(q₁)   l1y⋅cos(q₁)⎥\n",
       "⎢sin(q₁)  cos(q₁)   0  ─────────── + ───────────⎥\n",
       "⎢                           m₁            m₁    ⎥\n",
       "⎢                                               ⎥\n",
       "⎢                            l1z                ⎥\n",
       "⎢   0        0      1        ─── - 0.21537      ⎥\n",
       "⎢                             m₁                ⎥\n",
       "⎢                                               ⎥\n",
       "⎣   0        0      0              1            ⎦"
      ]
     },
     "execution_count": 10,
     "metadata": {},
     "output_type": "execute_result"
    }
   ],
   "source": [
    "geom.T_0nc[1]"
   ]
  },
  {
   "cell_type": "markdown",
   "metadata": {},
   "source": [
    "## Create dynamics"
   ]
  },
  {
   "cell_type": "code",
   "execution_count": 11,
   "metadata": {},
   "outputs": [
    {
     "name": "stdout",
     "output_type": "stream",
     "text": [
      "Calculating Lagrangian...\n",
      "Calculating joint torques...\n",
      "Adding frictions and motor rotor inertia...\n",
      "Calculating gregressor...\n",
      "('input_vars', (q1, q2, q3, dq1, dq2, dq3, ddq1, ddq2, ddq3))\n",
      "Calculating M, C and G...\n",
      "Calculating base parameter...\n",
      "base parameter number: 25\n",
      "Creating H_b function...\n",
      "Finished creating robot dynamics\n",
      "CPU times: user 1min 21s, sys: 324 ms, total: 1min 21s\n",
      "Wall time: 1min 20s\n"
     ]
    }
   ],
   "source": [
    "%time dyn = Dynamics(robot_def, geom)"
   ]
  },
  {
   "cell_type": "code",
   "execution_count": 12,
   "metadata": {
    "scrolled": true
   },
   "outputs": [
    {
     "data": {
      "text/latex": [
       "$$\\left[\\begin{matrix}1.0 l3y\\\\1.0 l3x\\\\1.0 L3xy\\\\1.0 L3yz\\\\1.0 l2x + 0.279 m_{3}\\\\1.0 L3xz\\\\1.0 l2y\\\\1.0 L2xy\\\\1.0 L2yz\\\\1.0 L3xx - 1.0 L3yy\\\\1.0 L3zz\\\\1.0 L2xz - 0.279 l3z\\\\- 1.0 L2xx + 1.0 L2yy + 0.077841 m_{3}\\\\1.0 Fv_{2}\\\\1.0 Fv_{1}\\\\1.0 Fv_{3}\\\\1.0 L1zz + 1.0 L2xx + 1.0 L3yy\\\\1.0 Ia_{3}\\\\1.0 L2zz + 0.077841 m_{3}\\\\1.0 Fo_{1}\\\\1.0 Fo_{2}\\\\1.0 Fo_{3}\\\\1.0 Fc_{3}\\\\1.0 Fc_{1}\\\\1.0 Fc_{2}\\end{matrix}\\right]$$"
      ],
      "text/plain": [
       "⎡             1.0⋅l3y              ⎤\n",
       "⎢                                  ⎥\n",
       "⎢             1.0⋅l3x              ⎥\n",
       "⎢                                  ⎥\n",
       "⎢             1.0⋅L3xy             ⎥\n",
       "⎢                                  ⎥\n",
       "⎢             1.0⋅L3yz             ⎥\n",
       "⎢                                  ⎥\n",
       "⎢        1.0⋅l2x + 0.279⋅m₃        ⎥\n",
       "⎢                                  ⎥\n",
       "⎢             1.0⋅L3xz             ⎥\n",
       "⎢                                  ⎥\n",
       "⎢             1.0⋅l2y              ⎥\n",
       "⎢                                  ⎥\n",
       "⎢             1.0⋅L2xy             ⎥\n",
       "⎢                                  ⎥\n",
       "⎢             1.0⋅L2yz             ⎥\n",
       "⎢                                  ⎥\n",
       "⎢       1.0⋅L3xx - 1.0⋅L3yy        ⎥\n",
       "⎢                                  ⎥\n",
       "⎢             1.0⋅L3zz             ⎥\n",
       "⎢                                  ⎥\n",
       "⎢       1.0⋅L2xz - 0.279⋅l3z       ⎥\n",
       "⎢                                  ⎥\n",
       "⎢-1.0⋅L2xx + 1.0⋅L2yy + 0.077841⋅m₃⎥\n",
       "⎢                                  ⎥\n",
       "⎢             1.0⋅Fv₂              ⎥\n",
       "⎢                                  ⎥\n",
       "⎢             1.0⋅Fv₁              ⎥\n",
       "⎢                                  ⎥\n",
       "⎢             1.0⋅Fv₃              ⎥\n",
       "⎢                                  ⎥\n",
       "⎢  1.0⋅L1zz + 1.0⋅L2xx + 1.0⋅L3yy  ⎥\n",
       "⎢                                  ⎥\n",
       "⎢             1.0⋅Ia₃              ⎥\n",
       "⎢                                  ⎥\n",
       "⎢      1.0⋅L2zz + 0.077841⋅m₃      ⎥\n",
       "⎢                                  ⎥\n",
       "⎢             1.0⋅Fo₁              ⎥\n",
       "⎢                                  ⎥\n",
       "⎢             1.0⋅Fo₂              ⎥\n",
       "⎢                                  ⎥\n",
       "⎢             1.0⋅Fo₃              ⎥\n",
       "⎢                                  ⎥\n",
       "⎢             1.0⋅Fc₃              ⎥\n",
       "⎢                                  ⎥\n",
       "⎢             1.0⋅Fc₁              ⎥\n",
       "⎢                                  ⎥\n",
       "⎣             1.0⋅Fc₂              ⎦"
      ]
     },
     "execution_count": 12,
     "metadata": {},
     "output_type": "execute_result"
    }
   ],
   "source": [
    "sympy.Matrix(dyn.base_param)"
   ]
  },
  {
   "cell_type": "markdown",
   "metadata": {},
   "source": [
    "---\n",
    "# 3 - Excitation trajectory optimization"
   ]
  },
  {
   "cell_type": "markdown",
   "metadata": {},
   "source": [
    "## Create trajectory optimizer object, with H matrix, foourier order, base frequency, joint constraints and cartisian constraints as input"
   ]
  },
  {
   "cell_type": "code",
   "execution_count": 13,
   "metadata": {},
   "outputs": [
    {
     "name": "stdout",
     "output_type": "stream",
     "text": [
      "joint constraint number: 2\n",
      "cartisian constraint number: 0\n",
      "constraint number: 8\n",
      "Condition number: 21.5061501942\n",
      "x: [-0.10376917  0.18002202 -0.064517    0.78555847 -0.18646206 -0.24036959\n",
      " -0.75116471  0.01182429  0.4325722   0.25480168  0.99390275  0.17205593\n",
      "  0.46865201 -0.56690925  0.11844182 -0.27843882  0.56598103 -0.10230176\n",
      " -0.68949366  0.83439167  0.72542667 -0.89976647  0.72611754 -0.33425828\n",
      " -0.59640718  0.57484658  0.99529038  0.8962132   0.94879495 -0.63294856\n",
      "  0.09783644  0.59471627 -0.7921001  -0.76779179 -0.93391113  0.49238566\n",
      "  0.82769768  0.54659638 -0.76136576]\n",
      "\n",
      "SLSQP Solution to Optimial Excitation Trajectory\n",
      "================================================================================\n",
      "\n",
      "        Objective Function: _obj_func\n",
      "\n",
      "    Solution: \n",
      "--------------------------------------------------------------------------------\n",
      "    Total Time:                   10.1685\n",
      "    Total Function Evaluations:          \n",
      "    Sensitivities:        FD\n",
      "\n",
      "    Objectives:\n",
      "        Name        Value        Optimum\n",
      "\t     f         21.5062             0\n",
      "\n",
      "\tVariables (c - continuous, i - integer, d - discrete):\n",
      "        Name    Type       Value       Lower Bound  Upper Bound\n",
      "\t     x1       c\t     -0.103769      -3.14e+00     3.14e+00 \n",
      "\t     x2       c\t      0.180022      -1.00e+00     1.00e+00 \n",
      "\t     x3       c\t     -0.064517      -1.00e+00     1.00e+00 \n",
      "\t     x4       c\t      0.785558      -1.00e+00     1.00e+00 \n",
      "\t     x5       c\t     -0.186462      -1.00e+00     1.00e+00 \n",
      "\t     x6       c\t     -0.240370      -1.00e+00     1.00e+00 \n",
      "\t     x7       c\t     -0.751165      -1.00e+00     1.00e+00 \n",
      "\t     x8       c\t      0.011824      -1.00e+00     1.00e+00 \n",
      "\t     x9       c\t      0.432572      -1.00e+00     1.00e+00 \n",
      "\t    x10       c\t      0.254802      -1.00e+00     1.00e+00 \n",
      "\t    x11       c\t      0.993903      -1.00e+00     1.00e+00 \n",
      "\t    x12       c\t      0.172056      -1.00e+00     1.00e+00 \n",
      "\t    x13       c\t      0.468652      -1.00e+00     1.00e+00 \n",
      "\t    x14       c\t     -0.566909      -3.14e+00     3.14e+00 \n",
      "\t    x15       c\t      0.118442      -1.00e+00     1.00e+00 \n",
      "\t    x16       c\t     -0.278439      -1.00e+00     1.00e+00 \n",
      "\t    x17       c\t      0.565981      -1.00e+00     1.00e+00 \n",
      "\t    x18       c\t     -0.102302      -1.00e+00     1.00e+00 \n",
      "\t    x19       c\t     -0.689494      -1.00e+00     1.00e+00 \n",
      "\t    x20       c\t      0.834392      -1.00e+00     1.00e+00 \n",
      "\t    x21       c\t      0.725427      -1.00e+00     1.00e+00 \n",
      "\t    x22       c\t     -0.899766      -1.00e+00     1.00e+00 \n",
      "\t    x23       c\t      0.726118      -1.00e+00     1.00e+00 \n",
      "\t    x24       c\t     -0.334258      -1.00e+00     1.00e+00 \n",
      "\t    x25       c\t     -0.596407      -1.00e+00     1.00e+00 \n",
      "\t    x26       c\t      0.574847      -1.00e+00     1.00e+00 \n",
      "\t    x27       c\t      0.995290      -3.14e+00     3.14e+00 \n",
      "\t    x28       c\t      0.896213      -1.00e+00     1.00e+00 \n",
      "\t    x29       c\t      0.948795      -1.00e+00     1.00e+00 \n",
      "\t    x30       c\t     -0.632949      -1.00e+00     1.00e+00 \n",
      "\t    x31       c\t      0.097836      -1.00e+00     1.00e+00 \n",
      "\t    x32       c\t      0.594716      -1.00e+00     1.00e+00 \n",
      "\t    x33       c\t     -0.792100      -1.00e+00     1.00e+00 \n",
      "\t    x34       c\t     -0.767792      -1.00e+00     1.00e+00 \n",
      "\t    x35       c\t     -0.933911      -1.00e+00     1.00e+00 \n",
      "\t    x36       c\t      0.492386      -1.00e+00     1.00e+00 \n",
      "\t    x37       c\t      0.827698      -1.00e+00     1.00e+00 \n",
      "\t    x38       c\t      0.546596      -1.00e+00     1.00e+00 \n",
      "\t    x39       c\t     -0.761366      -1.00e+00     1.00e+00 \n",
      "\n",
      "\tConstraints (i - inequality, e - equality):\n",
      "        Name    Type                    Bounds\n",
      "\t    g_0   \t  i       -1.00e+21 <= -2.747333 <= 0.00e+00\n",
      "\t    g_1   \t  i       -1.00e+21 <= -0.394259 <= 0.00e+00\n",
      "\t    g_2   \t  i       -1.00e+21 <= -3.949376 <= 0.00e+00\n",
      "\t    g_3   \t  i       -1.00e+21 <= -8.616994 <= 0.00e+00\n",
      "\t    g_4   \t  i       -1.00e+21 <= -2.725208 <= 0.00e+00\n",
      "\t    g_5   \t  i       -1.00e+21 <= -0.416385 <= 0.00e+00\n",
      "\t    g_6   \t  i       -1.00e+21 <= -4.436659 <= 0.00e+00\n",
      "\t    g_7   \t  i       -1.00e+21 <= -8.129711 <= 0.00e+00\n",
      "\t    g_8   \t  i       -1.00e+21 <= -2.572226 <= 0.00e+00\n",
      "\t    g_9   \t  i       -1.00e+21 <= -0.569366 <= 0.00e+00\n",
      "\t    g_10  \t  i       -1.00e+21 <= -5.090639 <= 0.00e+00\n",
      "\t    g_11  \t  i       -1.00e+21 <= -7.475731 <= 0.00e+00\n",
      "\t    g_12  \t  i       -1.00e+21 <= -2.292581 <= 0.00e+00\n",
      "\t    g_13  \t  i       -1.00e+21 <= -0.849012 <= 0.00e+00\n",
      "\t    g_14  \t  i       -1.00e+21 <= -5.750507 <= 0.00e+00\n",
      "\t    g_15  \t  i       -1.00e+21 <= -6.815863 <= 0.00e+00\n",
      "\t    g_16  \t  i       -1.00e+21 <= -1.915599 <= 0.00e+00\n",
      "\t    g_17  \t  i       -1.00e+21 <= -1.225994 <= 0.00e+00\n",
      "\t    g_18  \t  i       -1.00e+21 <= -6.275378 <= 0.00e+00\n",
      "\t    g_19  \t  i       -1.00e+21 <= -6.290992 <= 0.00e+00\n",
      "\t    g_20  \t  i       -1.00e+21 <= -1.491188 <= 0.00e+00\n",
      "\t    g_21  \t  i       -1.00e+21 <= -1.650404 <= 0.00e+00\n",
      "\t    g_22  \t  i       -1.00e+21 <= -6.576272 <= 0.00e+00\n",
      "\t    g_23  \t  i       -1.00e+21 <= -5.990098 <= 0.00e+00\n",
      "\t    g_24  \t  i       -1.00e+21 <= -1.080465 <= 0.00e+00\n",
      "\t    g_25  \t  i       -1.00e+21 <= -2.061128 <= 0.00e+00\n",
      "\t    g_26  \t  i       -1.00e+21 <= -6.633237 <= 0.00e+00\n",
      "\t    g_27  \t  i       -1.00e+21 <= -5.933134 <= 0.00e+00\n",
      "\t    g_28  \t  i       -1.00e+21 <= -0.743657 <= 0.00e+00\n",
      "\t    g_29  \t  i       -1.00e+21 <= -2.397936 <= 0.00e+00\n",
      "\t    g_30  \t  i       -1.00e+21 <= -6.493939 <= 0.00e+00\n",
      "\t    g_31  \t  i       -1.00e+21 <= -6.072431 <= 0.00e+00\n",
      "\t    g_32  \t  i       -1.00e+21 <= -0.528059 <= 0.00e+00\n",
      "\t    g_33  \t  i       -1.00e+21 <= -2.613533 <= 0.00e+00\n",
      "\t    g_34  \t  i       -1.00e+21 <= -6.254924 <= 0.00e+00\n",
      "\t    g_35  \t  i       -1.00e+21 <= -6.311447 <= 0.00e+00\n",
      "\t    g_36  \t  i       -1.00e+21 <= -0.458803 <= 0.00e+00\n",
      "\t    g_37  \t  i       -1.00e+21 <= -2.682790 <= 0.00e+00\n",
      "\t    g_38  \t  i       -1.00e+21 <= -6.031178 <= 0.00e+00\n",
      "\t    g_39  \t  i       -1.00e+21 <= -6.535193 <= 0.00e+00\n",
      "\t    g_40  \t  i       -1.00e+21 <= -0.534507 <= 0.00e+00\n",
      "\t    g_41  \t  i       -1.00e+21 <= -2.607086 <= 0.00e+00\n",
      "\t    g_42  \t  i       -1.00e+21 <= -5.922526 <= 0.00e+00\n",
      "\t    g_43  \t  i       -1.00e+21 <= -6.643844 <= 0.00e+00\n",
      "\t    g_44  \t  i       -1.00e+21 <= -0.728694 <= 0.00e+00\n",
      "\t    g_45  \t  i       -1.00e+21 <= -2.412899 <= 0.00e+00\n",
      "\t    g_46  \t  i       -1.00e+21 <= -5.985935 <= 0.00e+00\n",
      "\t    g_47  \t  i       -1.00e+21 <= -6.580436 <= 0.00e+00\n",
      "\t    g_48  \t  i       -1.00e+21 <= -0.996472 <= 0.00e+00\n",
      "\t    g_49  \t  i       -1.00e+21 <= -2.145121 <= 0.00e+00\n",
      "\t    g_50  \t  i       -1.00e+21 <= -6.220955 <= 0.00e+00\n",
      "\t    g_51  \t  i       -1.00e+21 <= -6.345416 <= 0.00e+00\n",
      "\t    g_52  \t  i       -1.00e+21 <= -1.284732 <= 0.00e+00\n",
      "\t    g_53  \t  i       -1.00e+21 <= -1.856861 <= 0.00e+00\n",
      "\t    g_54  \t  i       -1.00e+21 <= -6.571812 <= 0.00e+00\n",
      "\t    g_55  \t  i       -1.00e+21 <= -5.994558 <= 0.00e+00\n",
      "\t    g_56  \t  i       -1.00e+21 <= -1.543353 <= 0.00e+00\n",
      "\t    g_57  \t  i       -1.00e+21 <= -1.598239 <= 0.00e+00\n",
      "\t    g_58  \t  i       -1.00e+21 <= -6.945061 <= 0.00e+00\n",
      "\t    g_59  \t  i       -1.00e+21 <= -5.621309 <= 0.00e+00\n",
      "\t    g_60  \t  i       -1.00e+21 <= -1.734783 <= 0.00e+00\n",
      "\t    g_61  \t  i       -1.00e+21 <= -1.406810 <= 0.00e+00\n",
      "\t    g_62  \t  i       -1.00e+21 <= -7.237511 <= 0.00e+00\n",
      "\t    g_63  \t  i       -1.00e+21 <= -5.328859 <= 0.00e+00\n",
      "\t    g_64  \t  i       -1.00e+21 <= -1.839879 <= 0.00e+00\n",
      "\t    g_65  \t  i       -1.00e+21 <= -1.301714 <= 0.00e+00\n",
      "\t    g_66  \t  i       -1.00e+21 <= -7.366439 <= 0.00e+00\n",
      "\t    g_67  \t  i       -1.00e+21 <= -5.199932 <= 0.00e+00\n",
      "\t    g_68  \t  i       -1.00e+21 <= -1.858956 <= 0.00e+00\n",
      "\t    g_69  \t  i       -1.00e+21 <= -1.282637 <= 0.00e+00\n",
      "\t    g_70  \t  i       -1.00e+21 <= -7.293605 <= 0.00e+00\n",
      "\t    g_71  \t  i       -1.00e+21 <= -5.272765 <= 0.00e+00\n",
      "\t    g_72  \t  i       -1.00e+21 <= -1.808233 <= 0.00e+00\n",
      "\t    g_73  \t  i       -1.00e+21 <= -1.333360 <= 0.00e+00\n",
      "\t    g_74  \t  i       -1.00e+21 <= -7.036413 <= 0.00e+00\n",
      "\t    g_75  \t  i       -1.00e+21 <= -5.529958 <= 0.00e+00\n",
      "\t    g_76  \t  i       -1.00e+21 <= -1.713023 <= 0.00e+00\n",
      "\t    g_77  \t  i       -1.00e+21 <= -1.428570 <= 0.00e+00\n",
      "\t    g_78  \t  i       -1.00e+21 <= -6.663175 <= 0.00e+00\n",
      "\t    g_79  \t  i       -1.00e+21 <= -5.903195 <= 0.00e+00\n",
      "\t    g_80  \t  i       -1.00e+21 <= -1.599754 <= 0.00e+00\n",
      "\t    g_81  \t  i       -1.00e+21 <= -1.541838 <= 0.00e+00\n",
      "\t    g_82  \t  i       -1.00e+21 <= -6.273872 <= 0.00e+00\n",
      "\t    g_83  \t  i       -1.00e+21 <= -6.292498 <= 0.00e+00\n",
      "\t    g_84  \t  i       -1.00e+21 <= -1.489064 <= 0.00e+00\n",
      "\t    g_85  \t  i       -1.00e+21 <= -1.652528 <= 0.00e+00\n",
      "\t    g_86  \t  i       -1.00e+21 <= -5.971790 <= 0.00e+00\n",
      "\t    g_87  \t  i       -1.00e+21 <= -6.594581 <= 0.00e+00\n",
      "\t    g_88  \t  i       -1.00e+21 <= -1.391752 <= 0.00e+00\n",
      "\t    g_89  \t  i       -1.00e+21 <= -1.749841 <= 0.00e+00\n",
      "\t    g_90  \t  i       -1.00e+21 <= -5.833966 <= 0.00e+00\n",
      "\t    g_91  \t  i       -1.00e+21 <= -6.732405 <= 0.00e+00\n",
      "\t    g_92  \t  i       -1.00e+21 <= -1.308457 <= 0.00e+00\n",
      "\t    g_93  \t  i       -1.00e+21 <= -1.833136 <= 0.00e+00\n",
      "\t    g_94  \t  i       -1.00e+21 <= -5.888696 <= 0.00e+00\n",
      "\t    g_95  \t  i       -1.00e+21 <= -6.677675 <= 0.00e+00\n",
      "\t    g_96  \t  i       -1.00e+21 <= -1.232816 <= 0.00e+00\n",
      "\t    g_97  \t  i       -1.00e+21 <= -1.908777 <= 0.00e+00\n",
      "\t    g_98  \t  i       -1.00e+21 <= -6.106447 <= 0.00e+00\n",
      "\t    g_99  \t  i       -1.00e+21 <= -6.459924 <= 0.00e+00\n",
      "\t   g_100  \t  i       -1.00e+21 <= -1.156841 <= 0.00e+00\n",
      "\t   g_101  \t  i       -1.00e+21 <= -1.984752 <= 0.00e+00\n",
      "\t   g_102  \t  i       -1.00e+21 <= -6.406875 <= 0.00e+00\n",
      "\t   g_103  \t  i       -1.00e+21 <= -6.159496 <= 0.00e+00\n",
      "\t   g_104  \t  i       -1.00e+21 <= -1.076652 <= 0.00e+00\n",
      "\t   g_105  \t  i       -1.00e+21 <= -2.064941 <= 0.00e+00\n",
      "\t   g_106  \t  i       -1.00e+21 <= -6.680234 <= 0.00e+00\n",
      "\t   g_107  \t  i       -1.00e+21 <= -5.886137 <= 0.00e+00\n",
      "\t   g_108  \t  i       -1.00e+21 <= -0.996633 <= 0.00e+00\n",
      "\t   g_109  \t  i       -1.00e+21 <= -2.144960 <= 0.00e+00\n",
      "\t   g_110  \t  i       -1.00e+21 <= -6.817527 <= 0.00e+00\n",
      "\t   g_111  \t  i       -1.00e+21 <= -5.748843 <= 0.00e+00\n",
      "\t   g_112  \t  i       -1.00e+21 <= -0.930576 <= 0.00e+00\n",
      "\t   g_113  \t  i       -1.00e+21 <= -2.211017 <= 0.00e+00\n",
      "\t   g_114  \t  i       -1.00e+21 <= -6.741313 <= 0.00e+00\n",
      "\t   g_115  \t  i       -1.00e+21 <= -5.825058 <= 0.00e+00\n",
      "\t   g_116  \t  i       -1.00e+21 <= -0.899301 <= 0.00e+00\n",
      "\t   g_117  \t  i       -1.00e+21 <= -2.242292 <= 0.00e+00\n",
      "\t   g_118  \t  i       -1.00e+21 <= -6.428815 <= 0.00e+00\n",
      "\t   g_119  \t  i       -1.00e+21 <= -6.137556 <= 0.00e+00\n",
      "\t   g_120  \t  i       -1.00e+21 <= -0.925302 <= 0.00e+00\n",
      "\t   g_121  \t  i       -1.00e+21 <= -2.216291 <= 0.00e+00\n",
      "\t   g_122  \t  i       -1.00e+21 <= -5.920999 <= 0.00e+00\n",
      "\t   g_123  \t  i       -1.00e+21 <= -6.645372 <= 0.00e+00\n",
      "\t   g_124  \t  i       -1.00e+21 <= -1.025891 <= 0.00e+00\n",
      "\t   g_125  \t  i       -1.00e+21 <= -2.115701 <= 0.00e+00\n",
      "\t   g_126  \t  i       -1.00e+21 <= -5.314957 <= 0.00e+00\n",
      "\t   g_127  \t  i       -1.00e+21 <= -7.251414 <= 0.00e+00\n",
      "\t   g_128  \t  i       -1.00e+21 <= -1.206829 <= 0.00e+00\n",
      "\t   g_129  \t  i       -1.00e+21 <= -1.934764 <= 0.00e+00\n",
      "\t   g_130  \t  i       -1.00e+21 <= -4.741393 <= 0.00e+00\n",
      "\t   g_131  \t  i       -1.00e+21 <= -7.824978 <= 0.00e+00\n",
      "\t   g_132  \t  i       -1.00e+21 <= -1.458359 <= 0.00e+00\n",
      "\t   g_133  \t  i       -1.00e+21 <= -1.683234 <= 0.00e+00\n",
      "\t   g_134  \t  i       -1.00e+21 <= -4.332948 <= 0.00e+00\n",
      "\t   g_135  \t  i       -1.00e+21 <= -8.233422 <= 0.00e+00\n",
      "\t   g_136  \t  i       -1.00e+21 <= -1.755007 <= 0.00e+00\n",
      "\t   g_137  \t  i       -1.00e+21 <= -1.386585 <= 0.00e+00\n",
      "\t   g_138  \t  i       -1.00e+21 <= -4.191550 <= 0.00e+00\n",
      "\t   g_139  \t  i       -1.00e+21 <= -8.374820 <= 0.00e+00\n",
      "\t   g_140  \t  i       -1.00e+21 <= -2.059468 <= 0.00e+00\n",
      "\t   g_141  \t  i       -1.00e+21 <= -1.082125 <= 0.00e+00\n",
      "\t   g_142  \t  i       -1.00e+21 <= -4.363209 <= 0.00e+00\n",
      "\t   g_143  \t  i       -1.00e+21 <= -8.203161 <= 0.00e+00\n",
      "\t   g_144  \t  i       -1.00e+21 <= -2.329808 <= 0.00e+00\n",
      "\t   g_145  \t  i       -1.00e+21 <= -0.811785 <= 0.00e+00\n",
      "\t   g_146  \t  i       -1.00e+21 <= -4.826740 <= 0.00e+00\n",
      "\t   g_147  \t  i       -1.00e+21 <= -7.739630 <= 0.00e+00\n",
      "\t   g_148  \t  i       -1.00e+21 <= -2.528299 <= 0.00e+00\n",
      "\t   g_149  \t  i       -1.00e+21 <= -0.613294 <= 0.00e+00\n",
      "\t   g_150  \t  i       -1.00e+21 <= -5.499174 <= 0.00e+00\n",
      "\t   g_151  \t  i       -1.00e+21 <= -7.067197 <= 0.00e+00\n",
      "\t   g_152  \t  i       -1.00e+21 <= -2.629654 <= 0.00e+00\n",
      "\t   g_153  \t  i       -1.00e+21 <= -0.511938 <= 0.00e+00\n",
      "\t   g_154  \t  i       -1.00e+21 <= -6.256261 <= 0.00e+00\n",
      "\t   g_155  \t  i       -1.00e+21 <= -6.310110 <= 0.00e+00\n",
      "\t   g_156  \t  i       -1.00e+21 <= -2.626584 <= 0.00e+00\n",
      "\t   g_157  \t  i       -1.00e+21 <= -0.515009 <= 0.00e+00\n",
      "\t   g_158  \t  i       -1.00e+21 <= -6.962532 <= 0.00e+00\n",
      "\t   g_159  \t  i       -1.00e+21 <= -5.603839 <= 0.00e+00\n",
      "\t   g_160  \t  i       -1.00e+21 <= -2.531198 <= 0.00e+00\n",
      "\t   g_161  \t  i       -1.00e+21 <= -0.610395 <= 0.00e+00\n",
      "\t   g_162  \t  i       -1.00e+21 <= -7.502982 <= 0.00e+00\n",
      "\t   g_163  \t  i       -1.00e+21 <= -5.063389 <= 0.00e+00\n",
      "\t   g_164  \t  i       -1.00e+21 <= -2.371855 <= 0.00e+00\n",
      "\t   g_165  \t  i       -1.00e+21 <= -0.769737 <= 0.00e+00\n",
      "\t   g_166  \t  i       -1.00e+21 <= -7.808171 <= 0.00e+00\n",
      "\t   g_167  \t  i       -1.00e+21 <= -4.758200 <= 0.00e+00\n",
      "\t   g_168  \t  i       -1.00e+21 <= -2.186235 <= 0.00e+00\n",
      "\t   g_169  \t  i       -1.00e+21 <= -0.955358 <= 0.00e+00\n",
      "\t   g_170  \t  i       -1.00e+21 <= -7.866477 <= 0.00e+00\n",
      "\t   g_171  \t  i       -1.00e+21 <= -4.699894 <= 0.00e+00\n",
      "\t   g_172  \t  i       -1.00e+21 <= -2.012356 <= 0.00e+00\n",
      "\t   g_173  \t  i       -1.00e+21 <= -1.129236 <= 0.00e+00\n",
      "\t   g_174  \t  i       -1.00e+21 <= -7.720810 <= 0.00e+00\n",
      "\t   g_175  \t  i       -1.00e+21 <= -4.845561 <= 0.00e+00\n",
      "\t   g_176  \t  i       -1.00e+21 <= -1.879840 <= 0.00e+00\n",
      "\t   g_177  \t  i       -1.00e+21 <= -1.261753 <= 0.00e+00\n",
      "\t   g_178  \t  i       -1.00e+21 <= -7.451360 <= 0.00e+00\n",
      "\t   g_179  \t  i       -1.00e+21 <= -5.115011 <= 0.00e+00\n",
      "\t   g_180  \t  i       -1.00e+21 <= -1.803582 <= 0.00e+00\n",
      "\t   g_181  \t  i       -1.00e+21 <= -1.338011 <= 0.00e+00\n",
      "\t   g_182  \t  i       -1.00e+21 <= -7.149703 <= 0.00e+00\n",
      "\t   g_183  \t  i       -1.00e+21 <= -5.416668 <= 0.00e+00\n",
      "\t   g_184  \t  i       -1.00e+21 <= -1.781421 <= 0.00e+00\n",
      "\t   g_185  \t  i       -1.00e+21 <= -1.360172 <= 0.00e+00\n",
      "\t   g_186  \t  i       -1.00e+21 <= -6.891820 <= 0.00e+00\n",
      "\t   g_187  \t  i       -1.00e+21 <= -5.674551 <= 0.00e+00\n",
      "\t   g_188  \t  i       -1.00e+21 <= -1.796265 <= 0.00e+00\n",
      "\t   g_189  \t  i       -1.00e+21 <= -1.345328 <= 0.00e+00\n",
      "\t   g_190  \t  i       -1.00e+21 <= -6.717727 <= 0.00e+00\n",
      "\t   g_191  \t  i       -1.00e+21 <= -5.848643 <= 0.00e+00\n",
      "\t   g_192  \t  i       -1.00e+21 <= -1.822018 <= 0.00e+00\n",
      "\t   g_193  \t  i       -1.00e+21 <= -1.319574 <= 0.00e+00\n",
      "\t   g_194  \t  i       -1.00e+21 <= -6.623371 <= 0.00e+00\n",
      "\t   g_195  \t  i       -1.00e+21 <= -5.942999 <= 0.00e+00\n",
      "\t   g_196  \t  i       -1.00e+21 <= -1.831625 <= 0.00e+00\n",
      "\t   g_197  \t  i       -1.00e+21 <= -1.309967 <= 0.00e+00\n",
      "\t   g_198  \t  i       -1.00e+21 <= -6.566864 <= 0.00e+00\n",
      "\t   g_199  \t  i       -1.00e+21 <= -5.999507 <= 0.00e+00\n",
      "\t   g_200  \t  i       -1.00e+21 <= -1.805034 <= 0.00e+00\n",
      "\t   g_201  \t  i       -1.00e+21 <= -1.336559 <= 0.00e+00\n",
      "\t   g_202  \t  i       -1.00e+21 <= -6.486956 <= 0.00e+00\n",
      "\t   g_203  \t  i       -1.00e+21 <= -6.079415 <= 0.00e+00\n",
      "\t   g_204  \t  i       -1.00e+21 <= -1.734929 <= 0.00e+00\n",
      "\t   g_205  \t  i       -1.00e+21 <= -1.406663 <= 0.00e+00\n",
      "\t   g_206  \t  i       -1.00e+21 <= -6.328078 <= 0.00e+00\n",
      "\t   g_207  \t  i       -1.00e+21 <= -6.238292 <= 0.00e+00\n",
      "\t   g_208  \t  i       -1.00e+21 <= -1.628737 <= 0.00e+00\n",
      "\t   g_209  \t  i       -1.00e+21 <= -1.512856 <= 0.00e+00\n",
      "\t   g_210  \t  i       -1.00e+21 <= -6.064283 <= 0.00e+00\n",
      "\t   g_211  \t  i       -1.00e+21 <= -6.502088 <= 0.00e+00\n",
      "\t   g_212  \t  i       -1.00e+21 <= -1.506415 <= 0.00e+00\n",
      "\t   g_213  \t  i       -1.00e+21 <= -1.635178 <= 0.00e+00\n",
      "\t   g_214  \t  i       -1.00e+21 <= -5.714593 <= 0.00e+00\n",
      "\t   g_215  \t  i       -1.00e+21 <= -6.851778 <= 0.00e+00\n",
      "\t   g_216  \t  i       -1.00e+21 <= -1.394733 <= 0.00e+00\n",
      "\t   g_217  \t  i       -1.00e+21 <= -1.746859 <= 0.00e+00\n",
      "\t   g_218  \t  i       -1.00e+21 <= -5.344601 <= 0.00e+00\n",
      "\t   g_219  \t  i       -1.00e+21 <= -7.221770 <= 0.00e+00\n",
      "\t   g_220  \t  i       -1.00e+21 <= -1.319680 <= 0.00e+00\n",
      "\t   g_221  \t  i       -1.00e+21 <= -1.821913 <= 0.00e+00\n",
      "\t   g_222  \t  i       -1.00e+21 <= -5.052975 <= 0.00e+00\n",
      "\t   g_223  \t  i       -1.00e+21 <= -7.513395 <= 0.00e+00\n",
      "\t   g_224  \t  i       -1.00e+21 <= -1.299147 <= 0.00e+00\n",
      "\t   g_225  \t  i       -1.00e+21 <= -1.842446 <= 0.00e+00\n",
      "\t   g_226  \t  i       -1.00e+21 <= -4.945896 <= 0.00e+00\n",
      "\t   g_227  \t  i       -1.00e+21 <= -7.620474 <= 0.00e+00\n",
      "\t   g_228  \t  i       -1.00e+21 <= -1.337960 <= 0.00e+00\n",
      "\t   g_229  \t  i       -1.00e+21 <= -1.803632 <= 0.00e+00\n",
      "\t   g_230  \t  i       -1.00e+21 <= -5.106030 <= 0.00e+00\n",
      "\t   g_231  \t  i       -1.00e+21 <= -7.460340 <= 0.00e+00\n",
      "\t   g_232  \t  i       -1.00e+21 <= -1.426653 <= 0.00e+00\n",
      "\t   g_233  \t  i       -1.00e+21 <= -1.714939 <= 0.00e+00\n",
      "\t   g_234  \t  i       -1.00e+21 <= -5.564575 <= 0.00e+00\n",
      "\t   g_235  \t  i       -1.00e+21 <= -7.001796 <= 0.00e+00\n",
      "\t   g_236  \t  i       -1.00e+21 <= -1.544332 <= 0.00e+00\n",
      "\t   g_237  \t  i       -1.00e+21 <= -1.597261 <= 0.00e+00\n",
      "\t   g_238  \t  i       -1.00e+21 <= -6.284477 <= 0.00e+00\n",
      "\t   g_239  \t  i       -1.00e+21 <= -6.281894 <= 0.00e+00\n",
      "\t   g_240  \t  i       -1.00e+21 <= -1.664828 <= 0.00e+00\n",
      "\t   g_241  \t  i       -1.00e+21 <= -1.476764 <= 0.00e+00\n",
      "\t   g_242  \t  i       -1.00e+21 <= -7.160310 <= 0.00e+00\n",
      "\t   g_243  \t  i       -1.00e+21 <= -5.406061 <= 0.00e+00\n",
      "\t   g_244  \t  i       -1.00e+21 <= -1.764400 <= 0.00e+00\n",
      "\t   g_245  \t  i       -1.00e+21 <= -1.377193 <= 0.00e+00\n",
      "\t   g_246  \t  i       -1.00e+21 <= -8.036034 <= 0.00e+00\n",
      "\t   g_247  \t  i       -1.00e+21 <= -4.530337 <= 0.00e+00\n",
      "\t   g_248  \t  i       -1.00e+21 <= -1.828762 <= 0.00e+00\n",
      "\t   g_249  \t  i       -1.00e+21 <= -1.312831 <= 0.00e+00\n",
      "\t   g_250  \t  i       -1.00e+21 <= -8.737171 <= 0.00e+00\n",
      "\t   g_251  \t  i       -1.00e+21 <= -3.829200 <= 0.00e+00\n",
      "\t   g_252  \t  i       -1.00e+21 <= -1.857398 <= 0.00e+00\n",
      "\t   g_253  \t  i       -1.00e+21 <= -1.284194 <= 0.00e+00\n",
      "\t   g_254  \t  i       -1.00e+21 <= -9.109944 <= 0.00e+00\n",
      "\t   g_255  \t  i       -1.00e+21 <= -3.456426 <= 0.00e+00\n",
      "\t   g_256  \t  i       -1.00e+21 <= -1.863811 <= 0.00e+00\n",
      "\t   g_257  \t  i       -1.00e+21 <= -1.277782 <= 0.00e+00\n",
      "\t   g_258  \t  i       -1.00e+21 <= -9.057839 <= 0.00e+00\n",
      "\t   g_259  \t  i       -1.00e+21 <= -3.508531 <= 0.00e+00\n",
      "\t   g_260  \t  i       -1.00e+21 <= -1.871483 <= 0.00e+00\n",
      "\t   g_261  \t  i       -1.00e+21 <= -1.270110 <= 0.00e+00\n",
      "\t   g_262  \t  i       -1.00e+21 <= -8.566337 <= 0.00e+00\n",
      "\t   g_263  \t  i       -1.00e+21 <= -4.000034 <= 0.00e+00\n",
      "\t   g_264  \t  i       -1.00e+21 <= -1.906543 <= 0.00e+00\n",
      "\t   g_265  \t  i       -1.00e+21 <= -1.235050 <= 0.00e+00\n",
      "\t   g_266  \t  i       -1.00e+21 <= -7.709298 <= 0.00e+00\n",
      "\t   g_267  \t  i       -1.00e+21 <= -4.857073 <= 0.00e+00\n",
      "\t   g_268  \t  i       -1.00e+21 <= -1.989074 <= 0.00e+00\n",
      "\t   g_269  \t  i       -1.00e+21 <= -1.152519 <= 0.00e+00\n",
      "\t   g_270  \t  i       -1.00e+21 <= -6.634948 <= 0.00e+00\n",
      "\t   g_271  \t  i       -1.00e+21 <= -5.931422 <= 0.00e+00\n",
      "\t   g_272  \t  i       -1.00e+21 <= -2.125476 <= 0.00e+00\n",
      "\t   g_273  \t  i       -1.00e+21 <= -1.016117 <= 0.00e+00\n",
      "\t   g_274  \t  i       -1.00e+21 <= -5.534457 <= 0.00e+00\n",
      "\t   g_275  \t  i       -1.00e+21 <= -7.031914 <= 0.00e+00\n",
      "\t   g_276  \t  i       -1.00e+21 <= -2.304109 <= 0.00e+00\n",
      "\t   g_277  \t  i       -1.00e+21 <= -0.837484 <= 0.00e+00\n",
      "\t   g_278  \t  i       -1.00e+21 <= -4.600474 <= 0.00e+00\n",
      "\t   g_279  \t  i       -1.00e+21 <= -7.965896 <= 0.00e+00\n",
      "\t   g_280  \t  i       -1.00e+21 <= -2.495647 <= 0.00e+00\n",
      "\t   g_281  \t  i       -1.00e+21 <= -0.645946 <= 0.00e+00\n",
      "\t   g_282  \t  i       -1.00e+21 <= -3.985553 <= 0.00e+00\n",
      "\t   g_283  \t  i       -1.00e+21 <= -8.580818 <= 0.00e+00\n",
      "\t   g_284  \t  i       -1.00e+21 <= -2.658373 <= 0.00e+00\n",
      "\t   g_285  \t  i       -1.00e+21 <= -0.483219 <= 0.00e+00\n",
      "\t   g_286  \t  i       -1.00e+21 <= -3.770386 <= 0.00e+00\n",
      "\t   g_287  \t  i       -1.00e+21 <= -8.795984 <= 0.00e+00\n",
      "\t   g_288  \t  i       -1.00e+21 <= -2.747333 <= 0.00e+00\n",
      "\t   g_289  \t  i       -1.00e+21 <= -0.394259 <= 0.00e+00\n",
      "\t   g_290  \t  i       -1.00e+21 <= -3.949376 <= 0.00e+00\n",
      "\t   g_291  \t  i       -1.00e+21 <= -8.616994 <= 0.00e+00\n",
      "\t   g_292  \t  i       -1.00e+21 <= -2.791107 <= 0.00e+00\n",
      "\t   g_293  \t  i       -1.00e+21 <= -0.350485 <= 0.00e+00\n",
      "\t   g_294  \t  i       -1.00e+21 <= -6.087226 <= 0.00e+00\n",
      "\t   g_295  \t  i       -1.00e+21 <= -6.479144 <= 0.00e+00\n",
      "\t   g_296  \t  i       -1.00e+21 <= -2.730188 <= 0.00e+00\n",
      "\t   g_297  \t  i       -1.00e+21 <= -0.411405 <= 0.00e+00\n",
      "\t   g_298  \t  i       -1.00e+21 <= -5.902764 <= 0.00e+00\n",
      "\t   g_299  \t  i       -1.00e+21 <= -6.663607 <= 0.00e+00\n",
      "\t   g_300  \t  i       -1.00e+21 <= -2.683358 <= 0.00e+00\n",
      "\t   g_301  \t  i       -1.00e+21 <= -0.458235 <= 0.00e+00\n",
      "\t   g_302  \t  i       -1.00e+21 <= -5.800454 <= 0.00e+00\n",
      "\t   g_303  \t  i       -1.00e+21 <= -6.765916 <= 0.00e+00\n",
      "\t   g_304  \t  i       -1.00e+21 <= -2.665187 <= 0.00e+00\n",
      "\t   g_305  \t  i       -1.00e+21 <= -0.476406 <= 0.00e+00\n",
      "\t   g_306  \t  i       -1.00e+21 <= -5.798305 <= 0.00e+00\n",
      "\t   g_307  \t  i       -1.00e+21 <= -6.768066 <= 0.00e+00\n",
      "\t   g_308  \t  i       -1.00e+21 <= -2.682837 <= 0.00e+00\n",
      "\t   g_309  \t  i       -1.00e+21 <= -0.458755 <= 0.00e+00\n",
      "\t   g_310  \t  i       -1.00e+21 <= -5.875087 <= 0.00e+00\n",
      "\t   g_311  \t  i       -1.00e+21 <= -6.691284 <= 0.00e+00\n",
      "\t   g_312  \t  i       -1.00e+21 <= -2.732715 <= 0.00e+00\n",
      "\t   g_313  \t  i       -1.00e+21 <= -0.408877 <= 0.00e+00\n",
      "\t   g_314  \t  i       -1.00e+21 <= -5.978751 <= 0.00e+00\n",
      "\t   g_315  \t  i       -1.00e+21 <= -6.587619 <= 0.00e+00\n",
      "\t   g_316  \t  i       -1.00e+21 <= -2.800357 <= 0.00e+00\n",
      "\t   g_317  \t  i       -1.00e+21 <= -0.341236 <= 0.00e+00\n",
      "\t   g_318  \t  i       -1.00e+21 <= -6.045320 <= 0.00e+00\n",
      "\t   g_319  \t  i       -1.00e+21 <= -6.521050 <= 0.00e+00\n",
      "\t   g_320  \t  i       -1.00e+21 <= -2.863831 <= 0.00e+00\n",
      "\t   g_321  \t  i       -1.00e+21 <= -0.277762 <= 0.00e+00\n",
      "\t   g_322  \t  i       -1.00e+21 <= -6.022322 <= 0.00e+00\n",
      "\t   g_323  \t  i       -1.00e+21 <= -6.544048 <= 0.00e+00\n",
      "\t   g_324  \t  i       -1.00e+21 <= -2.899869 <= 0.00e+00\n",
      "\t   g_325  \t  i       -1.00e+21 <= -0.241724 <= 0.00e+00\n",
      "\t   g_326  \t  i       -1.00e+21 <= -5.889356 <= 0.00e+00\n",
      "\t   g_327  \t  i       -1.00e+21 <= -6.677014 <= 0.00e+00\n",
      "\t   g_328  \t  i       -1.00e+21 <= -2.891045 <= 0.00e+00\n",
      "\t   g_329  \t  i       -1.00e+21 <= -0.250547 <= 0.00e+00\n",
      "\t   g_330  \t  i       -1.00e+21 <= -5.669017 <= 0.00e+00\n",
      "\t   g_331  \t  i       -1.00e+21 <= -6.897354 <= 0.00e+00\n",
      "\t   g_332  \t  i       -1.00e+21 <= -2.831903 <= 0.00e+00\n",
      "\t   g_333  \t  i       -1.00e+21 <= -0.309690 <= 0.00e+00\n",
      "\t   g_334  \t  i       -1.00e+21 <= -5.424166 <= 0.00e+00\n",
      "\t   g_335  \t  i       -1.00e+21 <= -7.142204 <= 0.00e+00\n",
      "\t   g_336  \t  i       -1.00e+21 <= -2.732065 <= 0.00e+00\n",
      "\t   g_337  \t  i       -1.00e+21 <= -0.409528 <= 0.00e+00\n",
      "\t   g_338  \t  i       -1.00e+21 <= -5.241533 <= 0.00e+00\n",
      "\t   g_339  \t  i       -1.00e+21 <= -7.324838 <= 0.00e+00\n",
      "\t   g_340  \t  i       -1.00e+21 <= -2.615149 <= 0.00e+00\n",
      "\t   g_341  \t  i       -1.00e+21 <= -0.526444 <= 0.00e+00\n",
      "\t   g_342  \t  i       -1.00e+21 <= -5.205781 <= 0.00e+00\n",
      "\t   g_343  \t  i       -1.00e+21 <= -7.360590 <= 0.00e+00\n",
      "\t   g_344  \t  i       -1.00e+21 <= -2.513401 <= 0.00e+00\n",
      "\t   g_345  \t  i       -1.00e+21 <= -0.628191 <= 0.00e+00\n",
      "\t   g_346  \t  i       -1.00e+21 <= -5.371314 <= 0.00e+00\n",
      "\t   g_347  \t  i       -1.00e+21 <= -7.195056 <= 0.00e+00\n",
      "\t   g_348  \t  i       -1.00e+21 <= -2.459208 <= 0.00e+00\n",
      "\t   g_349  \t  i       -1.00e+21 <= -0.682385 <= 0.00e+00\n",
      "\t   g_350  \t  i       -1.00e+21 <= -5.740204 <= 0.00e+00\n",
      "\t   g_351  \t  i       -1.00e+21 <= -6.826167 <= 0.00e+00\n",
      "\t   g_352  \t  i       -1.00e+21 <= -2.475593 <= 0.00e+00\n",
      "\t   g_353  \t  i       -1.00e+21 <= -0.666000 <= 0.00e+00\n",
      "\t   g_354  \t  i       -1.00e+21 <= -6.253356 <= 0.00e+00\n",
      "\t   g_355  \t  i       -1.00e+21 <= -6.313014 <= 0.00e+00\n",
      "\t   g_356  \t  i       -1.00e+21 <= -2.568271 <= 0.00e+00\n",
      "\t   g_357  \t  i       -1.00e+21 <= -0.573321 <= 0.00e+00\n",
      "\t   g_358  \t  i       -1.00e+21 <= -6.798704 <= 0.00e+00\n",
      "\t   g_359  \t  i       -1.00e+21 <= -5.767667 <= 0.00e+00\n",
      "\t   g_360  \t  i       -1.00e+21 <= -2.721544 <= 0.00e+00\n",
      "\t   g_361  \t  i       -1.00e+21 <= -0.420049 <= 0.00e+00\n",
      "\t   g_362  \t  i       -1.00e+21 <= -7.235544 <= 0.00e+00\n",
      "\t   g_363  \t  i       -1.00e+21 <= -5.330827 <= 0.00e+00\n",
      "\t   g_364  \t  i       -1.00e+21 <= -2.899466 <= 0.00e+00\n",
      "\t   g_365  \t  i       -1.00e+21 <= -0.242127 <= 0.00e+00\n",
      "\t   g_366  \t  i       -1.00e+21 <= -7.429557 <= 0.00e+00\n",
      "\t   g_367  \t  i       -1.00e+21 <= -5.136814 <= 0.00e+00\n",
      "\t   g_368  \t  i       -1.00e+21 <= -3.052378 <= 0.00e+00\n",
      "\t   g_369  \t  i       -1.00e+21 <= -0.089215 <= 0.00e+00\n",
      "\t   g_370  \t  i       -1.00e+21 <= -7.289692 <= 0.00e+00\n",
      "\t   g_371  \t  i       -1.00e+21 <= -5.276678 <= 0.00e+00\n",
      "\t   g_372  \t  i       -1.00e+21 <= -3.127489 <= 0.00e+00\n",
      "\t   g_373  \t  i       -1.00e+21 <= -0.014104 <= 0.00e+00\n",
      "\t   g_374  \t  i       -1.00e+21 <= -6.797038 <= 0.00e+00\n",
      "\t   g_375  \t  i       -1.00e+21 <= -5.769333 <= 0.00e+00\n",
      "\t   g_376  \t  i       -1.00e+21 <= -3.081066 <= 0.00e+00\n",
      "\t   g_377  \t  i       -1.00e+21 <= -0.060527 <= 0.00e+00\n",
      "\t   g_378  \t  i       -1.00e+21 <= -6.017346 <= 0.00e+00\n",
      "\t   g_379  \t  i       -1.00e+21 <= -6.549025 <= 0.00e+00\n",
      "\t   g_380  \t  i       -1.00e+21 <= -2.889255 <= 0.00e+00\n",
      "\t   g_381  \t  i       -1.00e+21 <= -0.252338 <= 0.00e+00\n",
      "\t   g_382  \t  i       -1.00e+21 <= -5.092809 <= 0.00e+00\n",
      "\t   g_383  \t  i       -1.00e+21 <= -7.473561 <= 0.00e+00\n",
      "\t   g_384  \t  i       -1.00e+21 <= -2.554763 <= 0.00e+00\n",
      "\t   g_385  \t  i       -1.00e+21 <= -0.586829 <= 0.00e+00\n",
      "\t   g_386  \t  i       -1.00e+21 <= -4.213918 <= 0.00e+00\n",
      "\t   g_387  \t  i       -1.00e+21 <= -8.352453 <= 0.00e+00\n",
      "\t   g_388  \t  i       -1.00e+21 <= -2.107597 <= 0.00e+00\n",
      "\t   g_389  \t  i       -1.00e+21 <= -1.033996 <= 0.00e+00\n",
      "\t   g_390  \t  i       -1.00e+21 <= -3.577487 <= 0.00e+00\n",
      "\t   g_391  \t  i       -1.00e+21 <= -8.988884 <= 0.00e+00\n",
      "\t   g_392  \t  i       -1.00e+21 <= -1.599466 <= 0.00e+00\n",
      "\t   g_393  \t  i       -1.00e+21 <= -1.542126 <= 0.00e+00\n",
      "\t   g_394  \t  i       -1.00e+21 <= -3.340827 <= 0.00e+00\n",
      "\t   g_395  \t  i       -1.00e+21 <= -9.225543 <= 0.00e+00\n",
      "\t   g_396  \t  i       -1.00e+21 <= -1.093068 <= 0.00e+00\n",
      "\t   g_397  \t  i       -1.00e+21 <= -2.048524 <= 0.00e+00\n",
      "\t   g_398  \t  i       -1.00e+21 <= -3.583403 <= 0.00e+00\n",
      "\t   g_399  \t  i       -1.00e+21 <= -8.982967 <= 0.00e+00\n",
      "\t   g_400  \t  i       -1.00e+21 <= -0.648756 <= 0.00e+00\n",
      "\t   g_401  \t  i       -1.00e+21 <= -2.492837 <= 0.00e+00\n",
      "\t   g_402  \t  i       -1.00e+21 <= -4.285826 <= 0.00e+00\n",
      "\t   g_403  \t  i       -1.00e+21 <= -8.280545 <= 0.00e+00\n",
      "\t   g_404  \t  i       -1.00e+21 <= -0.311808 <= 0.00e+00\n",
      "\t   g_405  \t  i       -1.00e+21 <= -2.829784 <= 0.00e+00\n",
      "\t   g_406  \t  i       -1.00e+21 <= -5.331931 <= 0.00e+00\n",
      "\t   g_407  \t  i       -1.00e+21 <= -7.234439 <= 0.00e+00\n",
      "\t   g_408  \t  i       -1.00e+21 <= -0.103404 <= 0.00e+00\n",
      "\t   g_409  \t  i       -1.00e+21 <= -3.038188 <= 0.00e+00\n",
      "\t   g_410  \t  i       -1.00e+21 <= -6.533999 <= 0.00e+00\n",
      "\t   g_411  \t  i       -1.00e+21 <= -6.032371 <= 0.00e+00\n",
      "\t   g_412  \t  i       -1.00e+21 <= -0.017516 <= 0.00e+00\n",
      "\t   g_413  \t  i       -1.00e+21 <= -3.124076 <= 0.00e+00\n",
      "\t   g_414  \t  i       -1.00e+21 <= -7.675342 <= 0.00e+00\n",
      "\t   g_415  \t  i       -1.00e+21 <= -4.891029 <= 0.00e+00\n",
      "\t   g_416  \t  i       -1.00e+21 <= -0.024459 <= 0.00e+00\n",
      "\t   g_417  \t  i       -1.00e+21 <= -3.117133 <= 0.00e+00\n",
      "\t   g_418  \t  i       -1.00e+21 <= -8.560011 <= 0.00e+00\n",
      "\t   g_419  \t  i       -1.00e+21 <= -4.006360 <= 0.00e+00\n",
      "\t   g_420  \t  i       -1.00e+21 <= -0.080170 <= 0.00e+00\n",
      "\t   g_421  \t  i       -1.00e+21 <= -3.061423 <= 0.00e+00\n",
      "\t   g_422  \t  i       -1.00e+21 <= -9.057450 <= 0.00e+00\n",
      "\t   g_423  \t  i       -1.00e+21 <= -3.508921 <= 0.00e+00\n",
      "\t   g_424  \t  i       -1.00e+21 <= -0.138835 <= 0.00e+00\n",
      "\t   g_425  \t  i       -1.00e+21 <= -3.002758 <= 0.00e+00\n",
      "\t   g_426  \t  i       -1.00e+21 <= -9.131037 <= 0.00e+00\n",
      "\t   g_427  \t  i       -1.00e+21 <= -3.435334 <= 0.00e+00\n",
      "\t   g_428  \t  i       -1.00e+21 <= -0.165633 <= 0.00e+00\n",
      "\t   g_429  \t  i       -1.00e+21 <= -2.975960 <= 0.00e+00\n",
      "\t   g_430  \t  i       -1.00e+21 <= -8.843441 <= 0.00e+00\n",
      "\t   g_431  \t  i       -1.00e+21 <= -3.722930 <= 0.00e+00\n",
      "\t   g_432  \t  i       -1.00e+21 <= -0.146332 <= 0.00e+00\n",
      "\t   g_433  \t  i       -1.00e+21 <= -2.995261 <= 0.00e+00\n",
      "\t   g_434  \t  i       -1.00e+21 <= -8.337503 <= 0.00e+00\n",
      "\t   g_435  \t  i       -1.00e+21 <= -4.228867 <= 0.00e+00\n",
      "\t   g_436  \t  i       -1.00e+21 <= -0.091252 <= 0.00e+00\n",
      "\t   g_437  \t  i       -1.00e+21 <= -3.050340 <= 0.00e+00\n",
      "\t   g_438  \t  i       -1.00e+21 <= -7.797501 <= 0.00e+00\n",
      "\t   g_439  \t  i       -1.00e+21 <= -4.768870 <= 0.00e+00\n",
      "\t   g_440  \t  i       -1.00e+21 <= -0.032578 <= 0.00e+00\n",
      "\t   g_441  \t  i       -1.00e+21 <= -3.109015 <= 0.00e+00\n",
      "\t   g_442  \t  i       -1.00e+21 <= -7.400625 <= 0.00e+00\n",
      "\t   g_443  \t  i       -1.00e+21 <= -5.165746 <= 0.00e+00\n",
      "\t   g_444  \t  i       -1.00e+21 <= -0.015652 <= 0.00e+00\n",
      "\t   g_445  \t  i       -1.00e+21 <= -3.125940 <= 0.00e+00\n",
      "\t   g_446  \t  i       -1.00e+21 <= -7.270962 <= 0.00e+00\n",
      "\t   g_447  \t  i       -1.00e+21 <= -5.295409 <= 0.00e+00\n",
      "\t   g_448  \t  i       -1.00e+21 <= -0.086477 <= 0.00e+00\n",
      "\t   g_449  \t  i       -1.00e+21 <= -3.055115 <= 0.00e+00\n",
      "\t   g_450  \t  i       -1.00e+21 <= -7.447612 <= 0.00e+00\n",
      "\t   g_451  \t  i       -1.00e+21 <= -5.118758 <= 0.00e+00\n",
      "\t   g_452  \t  i       -1.00e+21 <= -0.278578 <= 0.00e+00\n",
      "\t   g_453  \t  i       -1.00e+21 <= -2.863015 <= 0.00e+00\n",
      "\t   g_454  \t  i       -1.00e+21 <= -7.874980 <= 0.00e+00\n",
      "\t   g_455  \t  i       -1.00e+21 <= -4.691391 <= 0.00e+00\n",
      "\t   g_456  \t  i       -1.00e+21 <= -0.602606 <= 0.00e+00\n",
      "\t   g_457  \t  i       -1.00e+21 <= -2.538987 <= 0.00e+00\n",
      "\t   g_458  \t  i       -1.00e+21 <= -8.417610 <= 0.00e+00\n",
      "\t   g_459  \t  i       -1.00e+21 <= -4.148761 <= 0.00e+00\n",
      "\t   g_460  \t  i       -1.00e+21 <= -1.041355 <= 0.00e+00\n",
      "\t   g_461  \t  i       -1.00e+21 <= -2.100238 <= 0.00e+00\n",
      "\t   g_462  \t  i       -1.00e+21 <= -8.895714 <= 0.00e+00\n",
      "\t   g_463  \t  i       -1.00e+21 <= -3.670657 <= 0.00e+00\n",
      "\t   g_464  \t  i       -1.00e+21 <= -1.551537 <= 0.00e+00\n",
      "\t   g_465  \t  i       -1.00e+21 <= -1.590056 <= 0.00e+00\n",
      "\t   g_466  \t  i       -1.00e+21 <= -9.132277 <= 0.00e+00\n",
      "\t   g_467  \t  i       -1.00e+21 <= -3.434094 <= 0.00e+00\n",
      "\t   g_468  \t  i       -1.00e+21 <= -2.071958 <= 0.00e+00\n",
      "\t   g_469  \t  i       -1.00e+21 <= -1.069634 <= 0.00e+00\n",
      "\t   g_470  \t  i       -1.00e+21 <= -8.999751 <= 0.00e+00\n",
      "\t   g_471  \t  i       -1.00e+21 <= -3.566620 <= 0.00e+00\n",
      "\t   g_472  \t  i       -1.00e+21 <= -2.536168 <= 0.00e+00\n",
      "\t   g_473  \t  i       -1.00e+21 <= -0.605425 <= 0.00e+00\n",
      "\t   g_474  \t  i       -1.00e+21 <= -8.454498 <= 0.00e+00\n",
      "\t   g_475  \t  i       -1.00e+21 <= -4.111872 <= 0.00e+00\n",
      "\t   g_476  \t  i       -1.00e+21 <= -2.886539 <= 0.00e+00\n",
      "\t   g_477  \t  i       -1.00e+21 <= -0.255054 <= 0.00e+00\n",
      "\t   g_478  \t  i       -1.00e+21 <= -7.550320 <= 0.00e+00\n",
      "\t   g_479  \t  i       -1.00e+21 <= -5.016051 <= 0.00e+00\n",
      "\t   g_480  \t  i       -1.00e+21 <= -3.086423 <= 0.00e+00\n",
      "\t   g_481  \t  i       -1.00e+21 <= -0.055170 <= 0.00e+00\n",
      "\t   g_482  \t  i       -1.00e+21 <= -6.427753 <= 0.00e+00\n",
      "\t   g_483  \t  i       -1.00e+21 <= -6.138617 <= 0.00e+00\n",
      "\t   g_484  \t  i       -1.00e+21 <= -3.127513 <= 0.00e+00\n",
      "\t   g_485  \t  i       -1.00e+21 <= -0.014080 <= 0.00e+00\n",
      "\t   g_486  \t  i       -1.00e+21 <= -5.281950 <= 0.00e+00\n",
      "\t   g_487  \t  i       -1.00e+21 <= -7.284420 <= 0.00e+00\n",
      "\t   g_488  \t  i       -1.00e+21 <= -3.030764 <= 0.00e+00\n",
      "\t   g_489  \t  i       -1.00e+21 <= -0.110829 <= 0.00e+00\n",
      "\t   g_490  \t  i       -1.00e+21 <= -4.317295 <= 0.00e+00\n",
      "\t   g_491  \t  i       -1.00e+21 <= -8.249076 <= 0.00e+00\n",
      "\t   g_492  \t  i       -1.00e+21 <= -2.840815 <= 0.00e+00\n",
      "\t   g_493  \t  i       -1.00e+21 <= -0.300778 <= 0.00e+00\n",
      "\t   g_494  \t  i       -1.00e+21 <= -3.700135 <= 0.00e+00\n",
      "\t   g_495  \t  i       -1.00e+21 <= -8.866236 <= 0.00e+00\n",
      "\t   g_496  \t  i       -1.00e+21 <= -2.615403 <= 0.00e+00\n",
      "\t   g_497  \t  i       -1.00e+21 <= -0.526190 <= 0.00e+00\n",
      "\t   g_498  \t  i       -1.00e+21 <= -3.521295 <= 0.00e+00\n",
      "\t   g_499  \t  i       -1.00e+21 <= -9.045076 <= 0.00e+00\n",
      "\t   g_500  \t  i       -1.00e+21 <= -2.412438 <= 0.00e+00\n",
      "\t   g_501  \t  i       -1.00e+21 <= -0.729154 <= 0.00e+00\n",
      "\t   g_502  \t  i       -1.00e+21 <= -3.777357 <= 0.00e+00\n",
      "\t   g_503  \t  i       -1.00e+21 <= -8.789014 <= 0.00e+00\n",
      "\t   g_504  \t  i       -1.00e+21 <= -2.277853 <= 0.00e+00\n",
      "\t   g_505  \t  i       -1.00e+21 <= -0.863740 <= 0.00e+00\n",
      "\t   g_506  \t  i       -1.00e+21 <= -4.374827 <= 0.00e+00\n",
      "\t   g_507  \t  i       -1.00e+21 <= -8.191544 <= 0.00e+00\n",
      "\t   g_508  \t  i       -1.00e+21 <= -2.237008 <= 0.00e+00\n",
      "\t   g_509  \t  i       -1.00e+21 <= -0.904585 <= 0.00e+00\n",
      "\t   g_510  \t  i       -1.00e+21 <= -5.155491 <= 0.00e+00\n",
      "\t   g_511  \t  i       -1.00e+21 <= -7.410880 <= 0.00e+00\n",
      "\t   g_512  \t  i       -1.00e+21 <= -2.291460 <= 0.00e+00\n",
      "\t   g_513  \t  i       -1.00e+21 <= -0.850132 <= 0.00e+00\n",
      "\t   g_514  \t  i       -1.00e+21 <= -5.936017 <= 0.00e+00\n",
      "\t   g_515  \t  i       -1.00e+21 <= -6.630353 <= 0.00e+00\n",
      "\t   g_516  \t  i       -1.00e+21 <= -2.421454 <= 0.00e+00\n",
      "\t   g_517  \t  i       -1.00e+21 <= -0.720139 <= 0.00e+00\n",
      "\t   g_518  \t  i       -1.00e+21 <= -6.551547 <= 0.00e+00\n",
      "\t   g_519  \t  i       -1.00e+21 <= -6.014824 <= 0.00e+00\n",
      "\t   g_520  \t  i       -1.00e+21 <= -2.593103 <= 0.00e+00\n",
      "\t   g_521  \t  i       -1.00e+21 <= -0.548490 <= 0.00e+00\n",
      "\t   g_522  \t  i       -1.00e+21 <= -6.892378 <= 0.00e+00\n",
      "\t   g_523  \t  i       -1.00e+21 <= -5.673992 <= 0.00e+00\n",
      "\t   g_524  \t  i       -1.00e+21 <= -2.768118 <= 0.00e+00\n",
      "\t   g_525  \t  i       -1.00e+21 <= -0.373475 <= 0.00e+00\n",
      "\t   g_526  \t  i       -1.00e+21 <= -6.925029 <= 0.00e+00\n",
      "\t   g_527  \t  i       -1.00e+21 <= -5.641342 <= 0.00e+00\n",
      "\t   g_528  \t  i       -1.00e+21 <= -2.913461 <= 0.00e+00\n",
      "\t   g_529  \t  i       -1.00e+21 <= -0.228131 <= 0.00e+00\n",
      "\t   g_530  \t  i       -1.00e+21 <= -6.693279 <= 0.00e+00\n",
      "\t   g_531  \t  i       -1.00e+21 <= -5.873092 <= 0.00e+00\n",
      "\t   g_532  \t  i       -1.00e+21 <= -3.008512 <= 0.00e+00\n",
      "\t   g_533  \t  i       -1.00e+21 <= -0.133080 <= 0.00e+00\n",
      "\t   g_534  \t  i       -1.00e+21 <= -6.300088 <= 0.00e+00\n",
      "\t   g_535  \t  i       -1.00e+21 <= -6.266283 <= 0.00e+00\n",
      "\t   g_536  \t  i       -1.00e+21 <= -3.048172 <= 0.00e+00\n",
      "\t   g_537  \t  i       -1.00e+21 <= -0.093420 <= 0.00e+00\n",
      "\t   g_538  \t  i       -1.00e+21 <= -5.876121 <= 0.00e+00\n",
      "\t   g_539  \t  i       -1.00e+21 <= -6.690250 <= 0.00e+00\n",
      "\t   g_540  \t  i       -1.00e+21 <= -3.041520 <= 0.00e+00\n",
      "\t   g_541  \t  i       -1.00e+21 <= -0.100073 <= 0.00e+00\n",
      "\t   g_542  \t  i       -1.00e+21 <= -5.543787 <= 0.00e+00\n",
      "\t   g_543  \t  i       -1.00e+21 <= -7.022583 <= 0.00e+00\n",
      "\t   g_544  \t  i       -1.00e+21 <= -3.006842 <= 0.00e+00\n",
      "\t   g_545  \t  i       -1.00e+21 <= -0.134751 <= 0.00e+00\n",
      "\t   g_546  \t  i       -1.00e+21 <= -5.386367 <= 0.00e+00\n",
      "\t   g_547  \t  i       -1.00e+21 <= -7.180003 <= 0.00e+00\n",
      "\t   g_548  \t  i       -1.00e+21 <= -2.964791 <= 0.00e+00\n",
      "\t   g_549  \t  i       -1.00e+21 <= -0.176802 <= 0.00e+00\n",
      "\t   g_550  \t  i       -1.00e+21 <= -5.429967 <= 0.00e+00\n",
      "\t   g_551  \t  i       -1.00e+21 <= -7.136404 <= 0.00e+00\n",
      "\t   g_552  \t  i       -1.00e+21 <= -2.931800 <= 0.00e+00\n",
      "\t   g_553  \t  i       -1.00e+21 <= -0.209793 <= 0.00e+00\n",
      "\t   g_554  \t  i       -1.00e+21 <= -5.642196 <= 0.00e+00\n",
      "\t   g_555  \t  i       -1.00e+21 <= -6.924175 <= 0.00e+00\n",
      "\t   g_556  \t  i       -1.00e+21 <= -2.915634 <= 0.00e+00\n",
      "\t   g_557  \t  i       -1.00e+21 <= -0.225958 <= 0.00e+00\n",
      "\t   g_558  \t  i       -1.00e+21 <= -5.946768 <= 0.00e+00\n",
      "\t   g_559  \t  i       -1.00e+21 <= -6.619602 <= 0.00e+00\n",
      "\t   g_560  \t  i       -1.00e+21 <= -2.914232 <= 0.00e+00\n",
      "\t   g_561  \t  i       -1.00e+21 <= -0.227361 <= 0.00e+00\n",
      "\t   g_562  \t  i       -1.00e+21 <= -6.248957 <= 0.00e+00\n",
      "\t   g_563  \t  i       -1.00e+21 <= -6.317413 <= 0.00e+00\n",
      "\t   g_564  \t  i       -1.00e+21 <= -2.917906 <= 0.00e+00\n",
      "\t   g_565  \t  i       -1.00e+21 <= -0.223687 <= 0.00e+00\n",
      "\t   g_566  \t  i       -1.00e+21 <= -6.464136 <= 0.00e+00\n",
      "\t   g_567  \t  i       -1.00e+21 <= -6.102235 <= 0.00e+00\n",
      "\t   g_568  \t  i       -1.00e+21 <= -2.913993 <= 0.00e+00\n",
      "\t   g_569  \t  i       -1.00e+21 <= -0.227600 <= 0.00e+00\n",
      "\t   g_570  \t  i       -1.00e+21 <= -6.541186 <= 0.00e+00\n",
      "\t   g_571  \t  i       -1.00e+21 <= -6.025184 <= 0.00e+00\n",
      "\t   g_572  \t  i       -1.00e+21 <= -2.892295 <= 0.00e+00\n",
      "\t   g_573  \t  i       -1.00e+21 <= -0.249298 <= 0.00e+00\n",
      "\t   g_574  \t  i       -1.00e+21 <= -6.474433 <= 0.00e+00\n",
      "\t   g_575  \t  i       -1.00e+21 <= -6.091938 <= 0.00e+00\n",
      "\t   g_576  \t  i       -1.00e+21 <= -2.849501 <= 0.00e+00\n",
      "\t   g_577  \t  i       -1.00e+21 <= -0.292092 <= 0.00e+00\n",
      "\t   g_578  \t  i       -1.00e+21 <= -6.301310 <= 0.00e+00\n",
      "\t   g_579  \t  i       -1.00e+21 <= -6.265060 <= 0.00e+00\n",
      "\t   g_580  \t  i       -1.00e+21 <= -2.791107 <= 0.00e+00\n",
      "\t   g_581  \t  i       -1.00e+21 <= -0.350485 <= 0.00e+00\n",
      "\t   g_582  \t  i       -1.00e+21 <= -6.087226 <= 0.00e+00\n",
      "\t   g_583  \t  i       -1.00e+21 <= -6.479144 <= 0.00e+00\n",
      "\n",
      "--------------------------------------------------------------------------------\n",
      "\n"
     ]
    }
   ],
   "source": [
    "base_freq = 0.1\n",
    "fourier_order = 6\n",
    "\n",
    "traj_optimizer = TrajOptimizer(dyn, fourier_order, base_freq,\n",
    "                               joint_constraints=[(q1, -np.pi/2, np.pi/2, -2*np.pi, 2*np.pi),\n",
    "                                                  (q2, -np.pi/2, np.pi/2, -2*np.pi, 2*np.pi)])\n",
    "traj_optimizer.optimize()"
   ]
  },
  {
   "cell_type": "markdown",
   "metadata": {},
   "source": [
    "## Plot optimal excitation trajectory"
   ]
  },
  {
   "cell_type": "code",
   "execution_count": 14,
   "metadata": {},
   "outputs": [
    {
     "name": "stdout",
     "output_type": "stream",
     "text": [
      "('traj:', 0)\n",
      "('traj:', 1)\n",
      "('traj:', 2)\n"
     ]
    },
    {
     "data": {
      "image/png": "[encoded data removed]",
      "text/plain": [
       "<Figure size 432x288 with 3 Axes>"
      ]
     },
     "metadata": {},
     "output_type": "display_data"
    }
   ],
   "source": [
    "traj_plotter = TrajPlotter(traj_optimizer.fourier_traj)\n",
    "traj_plotter.plot_desired_traj(traj_optimizer.x_result)"
   ]
  },
  {
   "cell_type": "markdown",
   "metadata": {},
   "source": [
    "## Save trajectory for later use"
   ]
  },
  {
   "cell_type": "code",
   "execution_count": 15,
   "metadata": {},
   "outputs": [],
   "source": [
    "dof_order_bf_x = (traj_optimizer.fourier_traj.dof, fourier_order, base_freq, traj_optimizer.x_result)\n"
   ]
  },
  {
   "cell_type": "code",
   "execution_count": 16,
   "metadata": {},
   "outputs": [],
   "source": [
    "dof_order_bf_x_file_name = 'optimal_traj1.pkl'\n",
    "dof_order_bf_x_dir = optimal_trajectory_folder + dof_order_bf_x_file_name\n",
    "\n",
    "#if not os.path.exists(dof_order_bf_x_dir):\n",
    "with open(dof_order_bf_x_dir, 'wr') as f:\n",
    "    pickle.dump(dyn.H_b, f)"
   ]
  },
  {
   "cell_type": "markdown",
   "metadata": {},
   "source": [
    "---\n",
    "# Data processing"
   ]
  },
  {
   "cell_type": "code",
   "execution_count": 17,
   "metadata": {},
   "outputs": [],
   "source": [
    "from identification import load_trajectory_data, diff_and_filt_data, plot_trajectory_data, plot_meas_pred_tau, gen_regressor"
   ]
  },
  {
   "cell_type": "markdown",
   "metadata": {},
   "source": [
    "## Load data"
   ]
  },
  {
   "cell_type": "code",
   "execution_count": 18,
   "metadata": {},
   "outputs": [
    {
     "name": "stdout",
     "output_type": "stream",
     "text": [
      "(<type 'numpy.ndarray'>, (6000, 6))\n"
     ]
    }
   ],
   "source": [
    "trajectory_data_file = trajectory_folder + 'test.csv'\n",
    "trajectory_sampling_rate = 200\n",
    "t, q_raw, tau_raw = load_trajectory_data(trajectory_data_file, trajectory_sampling_rate)\n",
    "dof = q_raw.shape[1]"
   ]
  },
  {
   "cell_type": "markdown",
   "metadata": {},
   "source": [
    "## Calculate filter cut-off frequency"
   ]
  },
  {
   "cell_type": "code",
   "execution_count": 19,
   "metadata": {},
   "outputs": [
    {
     "name": "stdout",
     "output_type": "stream",
     "text": [
      "cut frequency is 5.0\n"
     ]
    }
   ],
   "source": [
    "fc_mult = 10.0\n",
    "wf = 0.1\n",
    "order = 5\n",
    "fc = wf * order * fc_mult\n",
    "print(\"cut frequency is {}\".format(fc))"
   ]
  },
  {
   "cell_type": "markdown",
   "metadata": {},
   "source": [
    "## Get velocity and acceleration data and filter raw data"
   ]
  },
  {
   "cell_type": "code",
   "execution_count": 20,
   "metadata": {},
   "outputs": [
    {
     "name": "stdout",
     "output_type": "stream",
     "text": [
      "q_raw shape: (6000, 3)\n",
      "0\n",
      "1\n",
      "2\n",
      "plot shape: 430\n"
     ]
    },
    {
     "data": {
      "image/png": "[encoded data removed]",
      "text/plain": [
       "<Figure size 432x288 with 12 Axes>"
      ]
     },
     "metadata": {},
     "output_type": "display_data"
    }
   ],
   "source": [
    "t_cut, q_f, dq_f, ddq_f, tau_f, q_raw_cut, tau_raw_cut = diff_and_filt_data(dof, 1.0/trajectory_sampling_rate, t,\n",
    "                                                                        q_raw, tau_raw, fc, fc, fc, fc)\n",
    "plot_trajectory_data(t_cut, q_raw_cut, q_f, dq_f, ddq_f, tau_raw_cut, tau_f)"
   ]
  },
  {
   "cell_type": "code",
   "execution_count": 21,
   "metadata": {},
   "outputs": [
    {
     "data": {
      "text/plain": [
       "array([-0.10376917,  0.18002202, -0.064517  ,  0.78555847, -0.18646206,\n",
       "       -0.24036959, -0.75116471,  0.01182429,  0.4325722 ,  0.25480168,\n",
       "        0.99390275,  0.17205593,  0.46865201, -0.56690925,  0.11844182,\n",
       "       -0.27843882,  0.56598103, -0.10230176, -0.68949366,  0.83439167,\n",
       "        0.72542667, -0.89976647,  0.72611754, -0.33425828, -0.59640718,\n",
       "        0.57484658,  0.99529038,  0.8962132 ,  0.94879495, -0.63294856,\n",
       "        0.09783644,  0.59471627, -0.7921001 , -0.76779179, -0.93391113,\n",
       "        0.49238566,  0.82769768,  0.54659638, -0.76136576])"
      ]
     },
     "execution_count": 21,
     "metadata": {},
     "output_type": "execute_result"
    }
   ],
   "source": [
    "traj_optimizer.x_result"
   ]
  },
  {
   "cell_type": "markdown",
   "metadata": {},
   "source": [
    "---\n",
    "# Regression"
   ]
  },
  {
   "cell_type": "markdown",
   "metadata": {},
   "source": [
    "## Ordinary Least Square (OLS)"
   ]
  },
  {
   "cell_type": "markdown",
   "metadata": {},
   "source": [
    "### Generate regressor matrix for base parameters"
   ]
  },
  {
   "cell_type": "code",
   "execution_count": 22,
   "metadata": {},
   "outputs": [],
   "source": [
    "base_param_num = dyn.base_num\n",
    "H_b_func = dyn.H_b_func\n",
    "W_b, tau_s = gen_regressor(base_param_num, H_b_func, q_f, dq_f, ddq_f, tau_f)"
   ]
  },
  {
   "cell_type": "code",
   "execution_count": 23,
   "metadata": {},
   "outputs": [
    {
     "name": "stdout",
     "output_type": "stream",
     "text": [
      "((17970, 25), (17970,))\n"
     ]
    }
   ],
   "source": [
    "print(W_b.shape, tau_s.shape)"
   ]
  },
  {
   "cell_type": "code",
   "execution_count": 24,
   "metadata": {},
   "outputs": [
    {
     "name": "stderr",
     "output_type": "stream",
     "text": [
      "/home/yan/anaconda2/lib/python2.7/site-packages/ipykernel_launcher.py:1: FutureWarning: `rcond` parameter will change to the default of machine precision times ``max(M, N)`` where M and N are the input matrix dimensions.\n",
      "To use the future default and silence this warning we advise to pass `rcond=None`, to keep using the old, explicitly pass `rcond=-1`.\n",
      "  \"\"\"Entry point for launching an IPython kernel.\n"
     ]
    }
   ],
   "source": [
    "xb_ols = np.linalg.lstsq(W_b, tau_s)[0]"
   ]
  },
  {
   "cell_type": "code",
   "execution_count": 25,
   "metadata": {},
   "outputs": [
    {
     "data": {
      "text/latex": [
       "$$\\left[\\begin{matrix}1.0 l3y & 0.0853484882631888\\\\1.0 l3x & 0.440700340176831\\\\1.0 L3xy & -0.0199560806744156\\\\1.0 L3yz & 0.00177751777570856\\\\1.0 l2x + 0.279 m_{3} & 0.834550933086789\\\\1.0 L3xz & -0.000261415414369975\\\\1.0 l2y & -0.0154761436352752\\\\1.0 L2xy & 0.000387150655001711\\\\1.0 L2yz & 0.00103658460953278\\\\1.0 L3xx - 1.0 L3yy & -0.104730374712921\\\\1.0 L3zz & 0.133154581687002\\\\1.0 L2xz - 0.279 l3z & 0.000479767513796047\\\\- 1.0 L2xx + 1.0 L2yy + 0.077841 m_{3} & 0.265938269062295\\\\1.0 Fv_{2} & 0.0152707142689707\\\\1.0 Fv_{1} & -0.00325692055798447\\\\1.0 Fv_{3} & 0.0193611836516218\\\\1.0 L1zz + 1.0 L2xx + 1.0 L3yy & 0.154521129421811\\\\1.0 Ia_{3} & -0.0120470780309079\\\\1.0 L2zz + 0.077841 m_{3} & 0.179061393561825\\\\1.0 Fo_{1} & 0.00634395821986012\\\\1.0 Fo_{2} & 0.382328063651498\\\\1.0 Fo_{3} & 0.113753320785017\\\\1.0 Fc_{3} & -0.020590893509847\\\\1.0 Fc_{1} & 0.00950641494231778\\\\1.0 Fc_{2} & 0.000450907819928559\\end{matrix}\\right]$$"
      ],
      "text/plain": [
       "⎡             1.0⋅l3y                 0.0853484882631888  ⎤\n",
       "⎢                                                         ⎥\n",
       "⎢             1.0⋅l3x                  0.440700340176831  ⎥\n",
       "⎢                                                         ⎥\n",
       "⎢             1.0⋅L3xy                -0.0199560806744156 ⎥\n",
       "⎢                                                         ⎥\n",
       "⎢             1.0⋅L3yz                0.00177751777570856 ⎥\n",
       "⎢                                                         ⎥\n",
       "⎢        1.0⋅l2x + 0.279⋅m₃            0.834550933086789  ⎥\n",
       "⎢                                                         ⎥\n",
       "⎢             1.0⋅L3xz               -0.000261415414369975⎥\n",
       "⎢                                                         ⎥\n",
       "⎢             1.0⋅l2y                 -0.0154761436352752 ⎥\n",
       "⎢                                                         ⎥\n",
       "⎢             1.0⋅L2xy               0.000387150655001711 ⎥\n",
       "⎢                                                         ⎥\n",
       "⎢             1.0⋅L2yz                0.00103658460953278 ⎥\n",
       "⎢                                                         ⎥\n",
       "⎢       1.0⋅L3xx - 1.0⋅L3yy           -0.104730374712921  ⎥\n",
       "⎢                                                         ⎥\n",
       "⎢             1.0⋅L3zz                 0.133154581687002  ⎥\n",
       "⎢                                                         ⎥\n",
       "⎢       1.0⋅L2xz - 0.279⋅l3z         0.000479767513796047 ⎥\n",
       "⎢                                                         ⎥\n",
       "⎢-1.0⋅L2xx + 1.0⋅L2yy + 0.077841⋅m₃    0.265938269062295  ⎥\n",
       "⎢                                                         ⎥\n",
       "⎢             1.0⋅Fv₂                 0.0152707142689707  ⎥\n",
       "⎢                                                         ⎥\n",
       "⎢             1.0⋅Fv₁                -0.00325692055798447 ⎥\n",
       "⎢                                                         ⎥\n",
       "⎢             1.0⋅Fv₃                 0.0193611836516218  ⎥\n",
       "⎢                                                         ⎥\n",
       "⎢  1.0⋅L1zz + 1.0⋅L2xx + 1.0⋅L3yy      0.154521129421811  ⎥\n",
       "⎢                                                         ⎥\n",
       "⎢             1.0⋅Ia₃                 -0.0120470780309079 ⎥\n",
       "⎢                                                         ⎥\n",
       "⎢      1.0⋅L2zz + 0.077841⋅m₃          0.179061393561825  ⎥\n",
       "⎢                                                         ⎥\n",
       "⎢             1.0⋅Fo₁                 0.00634395821986012 ⎥\n",
       "⎢                                                         ⎥\n",
       "⎢             1.0⋅Fo₂                  0.382328063651498  ⎥\n",
       "⎢                                                         ⎥\n",
       "⎢             1.0⋅Fo₃                  0.113753320785017  ⎥\n",
       "⎢                                                         ⎥\n",
       "⎢             1.0⋅Fc₃                 -0.020590893509847  ⎥\n",
       "⎢                                                         ⎥\n",
       "⎢             1.0⋅Fc₁                 0.00950641494231778 ⎥\n",
       "⎢                                                         ⎥\n",
       "⎣             1.0⋅Fc₂                0.000450907819928559 ⎦"
      ]
     },
     "execution_count": 25,
     "metadata": {},
     "output_type": "execute_result"
    }
   ],
   "source": [
    "sympy.Matrix.hstack(sympy.Matrix(dyn.base_param), sympy.Matrix(xb_ols))"
   ]
  },
  {
   "cell_type": "markdown",
   "metadata": {},
   "source": [
    "## Compare measured torque and predicted torque"
   ]
  },
  {
   "cell_type": "markdown",
   "metadata": {},
   "source": [
    "### Generate predicted torque"
   ]
  },
  {
   "cell_type": "code",
   "execution_count": 26,
   "metadata": {},
   "outputs": [],
   "source": [
    "tau_p = np.zeros(tau_f.shape)\n",
    "tau_ps = W_b.dot(xb_ols)\n",
    "for i in range(dof):\n",
    "    tau_p[:, i] = tau_ps[i::dof]"
   ]
  },
  {
   "cell_type": "markdown",
   "metadata": {},
   "source": [
    "### Evaluate regression"
   ]
  },
  {
   "cell_type": "code",
   "execution_count": 27,
   "metadata": {},
   "outputs": [
    {
     "name": "stdout",
     "output_type": "stream",
     "text": [
      "variance of regression error using OLS:\n",
      "0.002262231119234351\n",
      "standard deviation of xb using OLS:\n",
      "[2.75635478e-04 3.67191305e-04 7.66934020e-05 1.84915678e-04\n",
      " 8.13867056e-04 9.35639086e-05 1.88995652e-03 1.82613200e-04\n",
      " 2.59991381e-04 1.80714236e-04 1.39036811e-04 1.97510244e-04\n",
      " 4.68303114e-04 1.68869485e-03 7.35977160e-04 1.15824303e-03\n",
      " 1.13811065e-04 1.65652930e-04 4.86625300e-04 6.14692331e-04\n",
      " 1.83817954e-02 3.19810392e-03 1.40211505e-03 1.55279813e-03\n",
      " 1.35852300e-03]\n",
      "percentage of standard deviation of xb using OLS: \n",
      "[3.22952971e-03 8.33199504e-04 3.84310944e-03 1.04030284e-01\n",
      " 9.75215560e-04 3.57912745e-01 1.22120637e-01 4.71685113e-01\n",
      " 2.50815397e-01 1.72551885e-03 1.04417594e-03 4.11679070e-01\n",
      " 1.76094669e-03 1.10583881e-01 2.25973323e-01 5.98229453e-02\n",
      " 7.36540471e-04 1.37504654e-02 2.71764499e-03 9.68941329e-02\n",
      " 4.80785930e-02 2.81143785e-02 6.80939392e-02 1.63342137e-01\n",
      " 3.01286191e+00]\n"
     ]
    }
   ],
   "source": [
    "var_regression_error_ols = np.linalg.norm(tau_ps - tau_s) / (tau_ps.size - base_param_num)\n",
    "print(\"variance of regression error using OLS:\")\n",
    "print(var_regression_error_ols)\n",
    "\n",
    "std_dev_xb_ols = np.sqrt(np.diag(var_regression_error_ols * np.linalg.inv(W_b.transpose().dot(W_b))))\n",
    "print(\"standard deviation of xb using OLS:\")\n",
    "print(std_dev_xb_ols)\n",
    "\n",
    "pct_std_dev_xb_ols = std_dev_xb_ols / np.abs(xb_ols)\n",
    "print(\"percentage of standard deviation of xb using OLS: \")\n",
    "print(pct_std_dev_xb_ols)"
   ]
  },
  {
   "cell_type": "markdown",
   "metadata": {},
   "source": [
    "### Plot measured torque and predicted torque"
   ]
  },
  {
   "cell_type": "code",
   "execution_count": 28,
   "metadata": {},
   "outputs": [
    {
     "data": {
      "image/png": "[encoded data removed]",
      "text/plain": [
       "<Figure size 432x288 with 3 Axes>"
      ]
     },
     "metadata": {},
     "output_type": "display_data"
    }
   ],
   "source": [
    "plot_meas_pred_tau(t_cut, tau_f, tau_p)"
   ]
  },
  {
   "cell_type": "markdown",
   "metadata": {},
   "source": [
    "## Weighted Least Square (WLS)"
   ]
  },
  {
   "cell_type": "code",
   "execution_count": null,
   "metadata": {},
   "outputs": [],
   "source": []
  },
  {
   "cell_type": "code",
   "execution_count": null,
   "metadata": {},
   "outputs": [],
   "source": []
  },
  {
   "cell_type": "markdown",
   "metadata": {},
   "source": [
    "## Convex optimization"
   ]
  },
  {
   "cell_type": "code",
   "execution_count": 29,
   "metadata": {},
   "outputs": [],
   "source": [
    "# #from identification import SDPOpt\n",
    "# import cvxpy as cp\n",
    "\n",
    "# # sdp_opt = SDPOpt(W_b, tau_s, None)\n",
    "# # sdp_opt.solve()\n",
    "# m, n = W_b.shape\n",
    "# sdp_x = cp.Variable(n)\n",
    "# sdp_obj = cp.Minimize(cp.sum_squares(W_b*sdp_x - tau_s))\n",
    "# sdp_constraints = []\n",
    "# sdp_prob = cp.Problem(sdp_obj, sdp_constraints)\n",
    "\n",
    "# result = sdp_prob.solve(solver=cp.OSQP)\n",
    "\n",
    "# print(sdp_x.value)"
   ]
  },
  {
   "cell_type": "code",
   "execution_count": 30,
   "metadata": {},
   "outputs": [],
   "source": [
    "# xb_ols"
   ]
  },
  {
   "cell_type": "markdown",
   "metadata": {},
   "source": [
    "### Generate regressor matrix for barycentric parameters"
   ]
  },
  {
   "cell_type": "code",
   "execution_count": 31,
   "metadata": {},
   "outputs": [],
   "source": [
    "from identification import SDPOpt\n",
    "\n",
    "bary_param_num = len(robot_def.bary_params)\n",
    "H_func = dyn.H_func\n",
    "W, tau_s = gen_regressor(bary_param_num, H_func, q_f, dq_f, ddq_f, tau_f)"
   ]
  },
  {
   "cell_type": "code",
   "execution_count": 32,
   "metadata": {},
   "outputs": [
    {
     "data": {
      "image/png": "[encoded data removed]",
      "text/latex": [
       "$$40$$"
      ],
      "text/plain": [
       "40"
      ]
     },
     "execution_count": 32,
     "metadata": {},
     "output_type": "execute_result"
    }
   ],
   "source": [
    "len(robot_def.std_params)"
   ]
  },
  {
   "cell_type": "markdown",
   "metadata": {},
   "source": [
    "| min mass | max mass | min $r_x$ | max $r_x$ | min $r_y$ | max $r_y$ | min $r_z$ | max $r_z$ | max $F_c$ | max $F_v$ | max $F_o$ |\n",
    "|----------|----------|-----------|-----------|-----------|-----------|-----------|-----------|-----------|--------------|-----------|"
   ]
  },
  {
   "cell_type": "code",
   "execution_count": 33,
   "metadata": {},
   "outputs": [],
   "source": [
    "# constraint order: (min_m, max_m, min_x, max_x, min_y, max_y, min_z, max_z)\n",
    "# sdp_constraints = [(1, 10, -0.05, 0.05, 0, 0.1, 0, 0.2),\n",
    "#                   (0.5, 3, -0.1, 0.1, -0.1, 0.1, -0.05, 0.05),\n",
    "#                   (0.5, 5, 0, 0.3, 0, 0.1, -0.05, 0.05),\n",
    "#                   (0.5, 5, -0.1, 0.1, 0, 0.1, -0.1, 0.1),\n",
    "#                   (0.1, 1, -0.1, 0.1, -0.1, 0.1, -0.1, 0.1),]\n",
    "sdp_constraints = [(1, 10, -0.05, 0.05, 0, 0.1, 0, 0.2),\n",
    "                  (0.5, 10, -0.2, 0.2, -0.2, 0.2, -0.05, 0.05),\n",
    "                  (0.5, 10, 0, 0.3, 0, 0.1, -0.05, 0.05)]\n",
    "\n",
    "sdp_constraints = [(0.1, 3, -0.5, 0.5, -0.5, 0.5, -0.5, 0.5, 0.01, 0.01, 0.01),\n",
    "                  (0.1, 2, -0.5, 0.5, -0.5, 0.5, -0.5, 0.5, 0.01, 0.01, 0.01),\n",
    "                  (0.1, 3, -0.5, 0.5, -0.5, 0.5, -0.5, 0.5, 0.01, 0.01, 0.01)]"
   ]
  },
  {
   "cell_type": "code",
   "execution_count": 34,
   "metadata": {},
   "outputs": [
    {
     "name": "stdout",
     "output_type": "stream",
     "text": [
      "Regressor shape: (17970, 40)\n",
      "Regressand shape: (17970,)\n",
      "Creating variables...\n",
      "Creating optimization objective...\n",
      "Creating constraints...\n",
      "Ia3 param40\n",
      "Solving problem...\n",
      "[ 5.05157530e-06  0.00000000e+00  0.00000000e+00  5.05157530e-06\n",
      "  0.00000000e+00  1.02108036e-05  0.00000000e+00  0.00000000e+00\n",
      "  0.00000000e+00  1.02071477e+00  1.15895093e-03  6.21840659e-03\n",
      "  6.26570024e-03  1.67755578e-02  1.27925954e-03  1.00170093e-03\n",
      "  1.49382530e-01  5.05202474e-04  1.25564813e-01  3.99821648e-01\n",
      "  1.34143500e-03 -7.32894362e-03  2.99833904e+00  6.44719777e-03\n",
      "  5.86822387e-03  9.35162312e-03  3.26099717e-02 -2.06679592e-02\n",
      " -1.12187160e-03  1.36212925e-01  1.26943427e-03  1.24637033e-01\n",
      "  4.52904765e-01  7.95053301e-02  2.86738199e-03  1.69236069e+00\n",
      "  1.27773209e-02  2.59187699e-03 -2.03872023e-03  7.51053726e-04]\n"
     ]
    }
   ],
   "source": [
    "sdp_opt_std = SDPOpt(W, tau_s, robot_def, sdp_constraints)\n",
    "sdp_opt_std.solve()"
   ]
  },
  {
   "cell_type": "code",
   "execution_count": 35,
   "metadata": {},
   "outputs": [
    {
     "data": {
      "image/png": "[encoded data removed]",
      "text/latex": [
       "$$46$$"
      ],
      "text/plain": [
       "46"
      ]
     },
     "execution_count": 35,
     "metadata": {},
     "output_type": "execute_result"
    }
   ],
   "source": [
    "len(sdp_opt_std._constraints)"
   ]
  },
  {
   "cell_type": "markdown",
   "metadata": {},
   "source": [
    "## Compare measured torque and predicted torque"
   ]
  },
  {
   "cell_type": "markdown",
   "metadata": {},
   "source": [
    "### Generate predicted torque"
   ]
  },
  {
   "cell_type": "code",
   "execution_count": 36,
   "metadata": {},
   "outputs": [],
   "source": [
    "tau_sdp_p = np.zeros(tau_f.shape)\n",
    "tau_sdp_ps = W.dot(sdp_opt_std.x_result)\n",
    "for i in range(dof):\n",
    "    tau_sdp_p[:, i] = tau_sdp_ps[i::dof]"
   ]
  },
  {
   "cell_type": "markdown",
   "metadata": {},
   "source": [
    "### Plot measured torque and predicted torque"
   ]
  },
  {
   "cell_type": "code",
   "execution_count": 37,
   "metadata": {},
   "outputs": [
    {
     "data": {
      "image/png": "[encoded data removed]",
      "text/plain": [
       "<Figure size 432x288 with 3 Axes>"
      ]
     },
     "metadata": {},
     "output_type": "display_data"
    }
   ],
   "source": [
    "plot_meas_pred_tau(t_cut, tau_f, tau_sdp_p)"
   ]
  },
  {
   "cell_type": "code",
   "execution_count": 38,
   "metadata": {},
   "outputs": [
    {
     "data": {
      "text/latex": [
       "$$\\left[\\begin{matrix}L1xx & 5.0515752953477 \\cdot 10^{-6}\\\\L1xy & 0.0\\\\L1xz & 0.0\\\\L1yy & 5.0515752953477 \\cdot 10^{-6}\\\\L1yz & 0.0\\\\L1zz & 1.02108036407696 \\cdot 10^{-5}\\\\l1x & 0.0\\\\l1y & 0.0\\\\l1z & 0.0\\\\m_{1} & 1.02071477395933\\\\Fc_{1} & 0.00115895092672477\\\\Fv_{1} & 0.00621840659410154\\\\Fo_{1} & 0.00626570024366565\\\\L2xx & 0.0167755578155568\\\\L2xy & 0.00127925953695484\\\\L2xz & 0.00100170093195651\\\\L2yy & 0.149382530242033\\\\L2yz & 0.000505202474116527\\\\L2zz & 0.125564812587049\\\\l2x & 0.399821648462179\\\\l2y & 0.00134143500426943\\\\l2z & -0.00732894362157841\\\\m_{2} & 2.998339040843\\\\Fc_{2} & 0.00644719777369738\\\\Fv_{2} & 0.00586822386689938\\\\Fo_{2} & 0.00935162311904648\\\\L3xx & 0.0326099716624511\\\\L3xy & -0.0206679591556298\\\\L3xz & -0.001121871595083\\\\L3yy & 0.13621292519509\\\\L3yz & 0.00126943427054162\\\\L3zz & 0.124637033390524\\\\l3x & 0.452904764614979\\\\l3y & 0.0795053301339008\\\\l3z & 0.00286738198629405\\\\m_{3} & 1.69236069303981\\\\Fc_{3} & 0.0127773209135291\\\\Fv_{3} & 0.00259187698799634\\\\Fo_{3} & -0.00203872022514969\\\\Ia_{3} & 0.000751053725765744\\end{matrix}\\right]$$"
      ],
      "text/plain": [
       "⎡L1xx   5.0515752953477e-6 ⎤\n",
       "⎢                          ⎥\n",
       "⎢L1xy          0.0         ⎥\n",
       "⎢                          ⎥\n",
       "⎢L1xz          0.0         ⎥\n",
       "⎢                          ⎥\n",
       "⎢L1yy   5.0515752953477e-6 ⎥\n",
       "⎢                          ⎥\n",
       "⎢L1yz          0.0         ⎥\n",
       "⎢                          ⎥\n",
       "⎢L1zz  1.02108036407696e-5 ⎥\n",
       "⎢                          ⎥\n",
       "⎢l1x           0.0         ⎥\n",
       "⎢                          ⎥\n",
       "⎢l1y           0.0         ⎥\n",
       "⎢                          ⎥\n",
       "⎢l1z           0.0         ⎥\n",
       "⎢                          ⎥\n",
       "⎢ m₁     1.02071477395933  ⎥\n",
       "⎢                          ⎥\n",
       "⎢Fc₁   0.00115895092672477 ⎥\n",
       "⎢                          ⎥\n",
       "⎢Fv₁   0.00621840659410154 ⎥\n",
       "⎢                          ⎥\n",
       "⎢Fo₁   0.00626570024366565 ⎥\n",
       "⎢                          ⎥\n",
       "⎢L2xx   0.0167755578155568 ⎥\n",
       "⎢                          ⎥\n",
       "⎢L2xy  0.00127925953695484 ⎥\n",
       "⎢                          ⎥\n",
       "⎢L2xz  0.00100170093195651 ⎥\n",
       "⎢                          ⎥\n",
       "⎢L2yy   0.149382530242033  ⎥\n",
       "⎢                          ⎥\n",
       "⎢L2yz  0.000505202474116527⎥\n",
       "⎢                          ⎥\n",
       "⎢L2zz   0.125564812587049  ⎥\n",
       "⎢                          ⎥\n",
       "⎢l2x    0.399821648462179  ⎥\n",
       "⎢                          ⎥\n",
       "⎢l2y   0.00134143500426943 ⎥\n",
       "⎢                          ⎥\n",
       "⎢l2z   -0.00732894362157841⎥\n",
       "⎢                          ⎥\n",
       "⎢ m₂      2.998339040843   ⎥\n",
       "⎢                          ⎥\n",
       "⎢Fc₂   0.00644719777369738 ⎥\n",
       "⎢                          ⎥\n",
       "⎢Fv₂   0.00586822386689938 ⎥\n",
       "⎢                          ⎥\n",
       "⎢Fo₂   0.00935162311904648 ⎥\n",
       "⎢                          ⎥\n",
       "⎢L3xx   0.0326099716624511 ⎥\n",
       "⎢                          ⎥\n",
       "⎢L3xy  -0.0206679591556298 ⎥\n",
       "⎢                          ⎥\n",
       "⎢L3xz   -0.001121871595083 ⎥\n",
       "⎢                          ⎥\n",
       "⎢L3yy    0.13621292519509  ⎥\n",
       "⎢                          ⎥\n",
       "⎢L3yz  0.00126943427054162 ⎥\n",
       "⎢                          ⎥\n",
       "⎢L3zz   0.124637033390524  ⎥\n",
       "⎢                          ⎥\n",
       "⎢l3x    0.452904764614979  ⎥\n",
       "⎢                          ⎥\n",
       "⎢l3y    0.0795053301339008 ⎥\n",
       "⎢                          ⎥\n",
       "⎢l3z   0.00286738198629405 ⎥\n",
       "⎢                          ⎥\n",
       "⎢ m₃     1.69236069303981  ⎥\n",
       "⎢                          ⎥\n",
       "⎢Fc₃    0.0127773209135291 ⎥\n",
       "⎢                          ⎥\n",
       "⎢Fv₃   0.00259187698799634 ⎥\n",
       "⎢                          ⎥\n",
       "⎢Fo₃   -0.00203872022514969⎥\n",
       "⎢                          ⎥\n",
       "⎣Ia₃   0.000751053725765744⎦"
      ]
     },
     "execution_count": 38,
     "metadata": {},
     "output_type": "execute_result"
    }
   ],
   "source": [
    "sympy.Matrix.hstack(sympy.Matrix(robot_def.bary_params), sympy.Matrix(sdp_opt_std.x_result))"
   ]
  },
  {
   "cell_type": "code",
   "execution_count": 39,
   "metadata": {},
   "outputs": [],
   "source": [
    "from identification import barycentric2standard_params"
   ]
  },
  {
   "cell_type": "code",
   "execution_count": 40,
   "metadata": {},
   "outputs": [
    {
     "data": {
      "text/plain": [
       "array([ 5.05157530e-06,  0.00000000e+00,  0.00000000e+00,  5.05157530e-06,\n",
       "        0.00000000e+00,  1.02108036e-05,  0.00000000e+00,  0.00000000e+00,\n",
       "        0.00000000e+00,  1.02071477e+00,  1.15895093e-03,  6.21840659e-03,\n",
       "        6.26570024e-03,  1.67755578e-02,  1.27925954e-03,  1.00170093e-03,\n",
       "        1.49382530e-01,  5.05202474e-04,  1.25564813e-01,  3.99821648e-01,\n",
       "        1.34143500e-03, -7.32894362e-03,  2.99833904e+00,  6.44719777e-03,\n",
       "        5.86822387e-03,  9.35162312e-03,  3.26099717e-02, -2.06679592e-02,\n",
       "       -1.12187160e-03,  1.36212925e-01,  1.26943427e-03,  1.24637033e-01,\n",
       "        4.52904765e-01,  7.95053301e-02,  2.86738199e-03,  1.69236069e+00,\n",
       "        1.27773209e-02,  2.59187699e-03, -2.03872023e-03,  7.51053726e-04])"
      ]
     },
     "execution_count": 40,
     "metadata": {},
     "output_type": "execute_result"
    }
   ],
   "source": [
    "sdp_opt_std.x_result"
   ]
  },
  {
   "cell_type": "code",
   "execution_count": 43,
   "metadata": {
    "scrolled": true
   },
   "outputs": [],
   "source": [
    "x_std = barycentric2standard_params(sdp_opt_std.x_result, robot_def)"
   ]
  },
  {
   "cell_type": "code",
   "execution_count": 44,
   "metadata": {},
   "outputs": [
    {
     "data": {
      "text/latex": [
       "$$\\left[\\begin{matrix}I1xx & 5.0515752953477 \\cdot 10^{-6}\\\\I1xy & 0\\\\I1xz & 0\\\\I1yy & 5.0515752953477 \\cdot 10^{-6}\\\\I1yz & 0\\\\I1zz & 1.02108036407696 \\cdot 10^{-5}\\\\r1x & 0.0\\\\r1y & 0.0\\\\r1z & 0.0\\\\m_{1} & 1.02071477395933\\\\Fc_{1} & 0.00115895092672477\\\\Fv_{1} & 0.00621840659410154\\\\Fo_{1} & 0.00626570024366565\\\\I2xx & 0.0167570432774333\\\\I2xy & 0.0014581368244817\\\\I2xz & 2.44030745927895 \\cdot 10^{-5}\\\\I2yy & 0.0960493141462764\\\\I2yz & 0.000501923558228637\\\\I2zz & 0.0722489107329541\\\\r2x & 0.133347711188048\\\\r2y & 0.000447392701758065\\\\r2z & -0.00244433452046098\\\\m_{2} & 2.998339040843\\\\Fc_{2} & 0.00644719777369738\\\\Fv_{2} & 0.00586822386689938\\\\Fo_{2} & 0.00935162311904648\\\\I3xx & 0.0288700364198125\\\\I3xy & 0.000609031605277331\\\\I3xz & -0.000354510967466969\\\\I3yy & 0.0150029795055875\\\\I3yz & 0.0014041408684778\\\\I3zz & -0.000303131079293764\\\\r3x & 0.267617161328341\\\\r3y & 0.0469789510361964\\\\r3z & 0.00169430901939921\\\\m_{3} & 1.69236069303981\\\\Fc_{3} & 0.0127773209135291\\\\Fv_{3} & 0.00259187698799634\\\\Fo_{3} & -0.00203872022514969\\\\Ia_{3} & 0.000751053725765744\\end{matrix}\\right]$$"
      ],
      "text/plain": [
       "⎡I1xx   5.0515752953477e-6  ⎤\n",
       "⎢                           ⎥\n",
       "⎢I1xy            0          ⎥\n",
       "⎢                           ⎥\n",
       "⎢I1xz            0          ⎥\n",
       "⎢                           ⎥\n",
       "⎢I1yy   5.0515752953477e-6  ⎥\n",
       "⎢                           ⎥\n",
       "⎢I1yz            0          ⎥\n",
       "⎢                           ⎥\n",
       "⎢I1zz   1.02108036407696e-5 ⎥\n",
       "⎢                           ⎥\n",
       "⎢r1x            0.0         ⎥\n",
       "⎢                           ⎥\n",
       "⎢r1y            0.0         ⎥\n",
       "⎢                           ⎥\n",
       "⎢r1z            0.0         ⎥\n",
       "⎢                           ⎥\n",
       "⎢ m₁     1.02071477395933   ⎥\n",
       "⎢                           ⎥\n",
       "⎢Fc₁    0.00115895092672477 ⎥\n",
       "⎢                           ⎥\n",
       "⎢Fv₁    0.00621840659410154 ⎥\n",
       "⎢                           ⎥\n",
       "⎢Fo₁    0.00626570024366565 ⎥\n",
       "⎢                           ⎥\n",
       "⎢I2xx   0.0167570432774333  ⎥\n",
       "⎢                           ⎥\n",
       "⎢I2xy   0.0014581368244817  ⎥\n",
       "⎢                           ⎥\n",
       "⎢I2xz   2.44030745927895e-5 ⎥\n",
       "⎢                           ⎥\n",
       "⎢I2yy   0.0960493141462764  ⎥\n",
       "⎢                           ⎥\n",
       "⎢I2yz  0.000501923558228637 ⎥\n",
       "⎢                           ⎥\n",
       "⎢I2zz   0.0722489107329541  ⎥\n",
       "⎢                           ⎥\n",
       "⎢r2x     0.133347711188048  ⎥\n",
       "⎢                           ⎥\n",
       "⎢r2y   0.000447392701758065 ⎥\n",
       "⎢                           ⎥\n",
       "⎢r2z   -0.00244433452046098 ⎥\n",
       "⎢                           ⎥\n",
       "⎢ m₂      2.998339040843    ⎥\n",
       "⎢                           ⎥\n",
       "⎢Fc₂    0.00644719777369738 ⎥\n",
       "⎢                           ⎥\n",
       "⎢Fv₂    0.00586822386689938 ⎥\n",
       "⎢                           ⎥\n",
       "⎢Fo₂    0.00935162311904648 ⎥\n",
       "⎢                           ⎥\n",
       "⎢I3xx   0.0288700364198125  ⎥\n",
       "⎢                           ⎥\n",
       "⎢I3xy  0.000609031605277331 ⎥\n",
       "⎢                           ⎥\n",
       "⎢I3xz  -0.000354510967466969⎥\n",
       "⎢                           ⎥\n",
       "⎢I3yy   0.0150029795055875  ⎥\n",
       "⎢                           ⎥\n",
       "⎢I3yz   0.0014041408684778  ⎥\n",
       "⎢                           ⎥\n",
       "⎢I3zz  -0.000303131079293764⎥\n",
       "⎢                           ⎥\n",
       "⎢r3x     0.267617161328341  ⎥\n",
       "⎢                           ⎥\n",
       "⎢r3y    0.0469789510361964  ⎥\n",
       "⎢                           ⎥\n",
       "⎢r3z    0.00169430901939921 ⎥\n",
       "⎢                           ⎥\n",
       "⎢ m₃     1.69236069303981   ⎥\n",
       "⎢                           ⎥\n",
       "⎢Fc₃    0.0127773209135291  ⎥\n",
       "⎢                           ⎥\n",
       "⎢Fv₃    0.00259187698799634 ⎥\n",
       "⎢                           ⎥\n",
       "⎢Fo₃   -0.00203872022514969 ⎥\n",
       "⎢                           ⎥\n",
       "⎣Ia₃   0.000751053725765744 ⎦"
      ]
     },
     "execution_count": 44,
     "metadata": {},
     "output_type": "execute_result"
    }
   ],
   "source": [
    "sympy.Matrix.hstack(sympy.Matrix(robot_def.std_params), sympy.Matrix(x_std))"
   ]
  },
  {
   "cell_type": "code",
   "execution_count": null,
   "metadata": {},
   "outputs": [],
   "source": []
  }
 ],
 "metadata": {
  "kernelspec": {
   "display_name": "Python 2",
   "language": "python",
   "name": "python2"
  },
  "language_info": {
   "codemirror_mode": {
    "name": "ipython",
    "version": 2
   },
   "file_extension": ".py",
   "mimetype": "text/x-python",
   "name": "python",
   "nbconvert_exporter": "python",
   "pygments_lexer": "ipython2",
   "version": "2.7.15"
  }
 },
 "nbformat": 4,
 "nbformat_minor": 1
}
